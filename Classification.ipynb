{
 "cells": [
  {
   "cell_type": "code",
   "execution_count": 111,
   "metadata": {},
   "outputs": [],
   "source": [
    "# Data wrangling\n",
    "import pandas as pd\n",
    "import numpy as np\n",
    "import missingno\n",
    "from collections import Counter\n",
    "import random as rnd\n",
    "from numpy import arange\n",
    "import itertools\n",
    "\n",
    "# visualization\n",
    "import seaborn as sns\n",
    "import matplotlib.pyplot as plt\n",
    "%matplotlib inline\n",
    "\n",
    "# machine learning\n",
    "from sklearn.linear_model import LogisticRegression\n",
    "from sklearn.svm import SVC, LinearSVC\n",
    "from sklearn.ensemble import RandomForestClassifier\n",
    "from sklearn.neighbors import KNeighborsClassifier\n",
    "from sklearn.naive_bayes import GaussianNB\n",
    "from sklearn.linear_model import Perceptron\n",
    "from sklearn.linear_model import SGDClassifier\n",
    "from sklearn.tree import DecisionTreeClassifier\n",
    "from sklearn.ensemble import AdaBoostClassifier\n",
    "from sklearn.metrics import confusion_matrix\n",
    "\n",
    "import pandas as pd\n",
    "import xgboost as xgb\n",
    "from sklearn.datasets import load_boston\n",
    "from sklearn.model_selection import train_test_split\n",
    "from sklearn.metrics import mean_squared_error\n",
    "\n",
    "\n",
    "from scipy import stats\n",
    "from scipy.stats import norm\n",
    "import seaborn as sns\n",
    "\n",
    "\n",
    "\n",
    "\n",
    "sns.color_palette(\"Paired\")\n",
    "plt.style.use('ggplot')\n",
    "\n",
    "import warnings\n",
    "warnings.filterwarnings(\"ignore\")"
   ]
  },
  {
   "cell_type": "markdown",
   "metadata": {},
   "source": [
    "## Reading in all the data"
   ]
  },
  {
   "cell_type": "code",
   "execution_count": 9,
   "metadata": {},
   "outputs": [],
   "source": [
    "df_passengers = pd.read_csv('data/train.csv')\n",
    "\n"
   ]
  },
  {
   "cell_type": "code",
   "execution_count": 10,
   "metadata": {},
   "outputs": [],
   "source": [
    "df_predict = pd.read_csv('data/test.csv')\n"
   ]
  },
  {
   "cell_type": "markdown",
   "metadata": {},
   "source": [
    "### Quick look at the data"
   ]
  },
  {
   "cell_type": "code",
   "execution_count": 11,
   "metadata": {},
   "outputs": [
    {
     "name": "stdout",
     "output_type": "stream",
     "text": [
      "<class 'pandas.core.frame.DataFrame'>\n",
      "RangeIndex: 891 entries, 0 to 890\n",
      "Data columns (total 12 columns):\n",
      " #   Column       Non-Null Count  Dtype  \n",
      "---  ------       --------------  -----  \n",
      " 0   PassengerId  891 non-null    int64  \n",
      " 1   Survived     891 non-null    int64  \n",
      " 2   Pclass       891 non-null    int64  \n",
      " 3   Name         891 non-null    object \n",
      " 4   Sex          891 non-null    object \n",
      " 5   Age          714 non-null    float64\n",
      " 6   SibSp        891 non-null    int64  \n",
      " 7   Parch        891 non-null    int64  \n",
      " 8   Ticket       891 non-null    object \n",
      " 9   Fare         891 non-null    float64\n",
      " 10  Cabin        204 non-null    object \n",
      " 11  Embarked     889 non-null    object \n",
      "dtypes: float64(2), int64(5), object(5)\n",
      "memory usage: 83.7+ KB\n"
     ]
    }
   ],
   "source": [
    "df_passengers.info()"
   ]
  },
  {
   "cell_type": "code",
   "execution_count": null,
   "metadata": {},
   "outputs": [],
   "source": []
  },
  {
   "cell_type": "code",
   "execution_count": 12,
   "metadata": {},
   "outputs": [
    {
     "data": {
      "text/html": [
       "<div>\n",
       "<style scoped>\n",
       "    .dataframe tbody tr th:only-of-type {\n",
       "        vertical-align: middle;\n",
       "    }\n",
       "\n",
       "    .dataframe tbody tr th {\n",
       "        vertical-align: top;\n",
       "    }\n",
       "\n",
       "    .dataframe thead th {\n",
       "        text-align: right;\n",
       "    }\n",
       "</style>\n",
       "<table border=\"1\" class=\"dataframe\">\n",
       "  <thead>\n",
       "    <tr style=\"text-align: right;\">\n",
       "      <th></th>\n",
       "      <th>PassengerId</th>\n",
       "      <th>Survived</th>\n",
       "      <th>Pclass</th>\n",
       "      <th>Age</th>\n",
       "      <th>SibSp</th>\n",
       "      <th>Parch</th>\n",
       "      <th>Fare</th>\n",
       "    </tr>\n",
       "  </thead>\n",
       "  <tbody>\n",
       "    <tr>\n",
       "      <th>count</th>\n",
       "      <td>891.000000</td>\n",
       "      <td>891.000000</td>\n",
       "      <td>891.000000</td>\n",
       "      <td>714.000000</td>\n",
       "      <td>891.000000</td>\n",
       "      <td>891.000000</td>\n",
       "      <td>891.000000</td>\n",
       "    </tr>\n",
       "    <tr>\n",
       "      <th>mean</th>\n",
       "      <td>446.000000</td>\n",
       "      <td>0.383838</td>\n",
       "      <td>2.308642</td>\n",
       "      <td>29.699118</td>\n",
       "      <td>0.523008</td>\n",
       "      <td>0.381594</td>\n",
       "      <td>32.204208</td>\n",
       "    </tr>\n",
       "    <tr>\n",
       "      <th>std</th>\n",
       "      <td>257.353842</td>\n",
       "      <td>0.486592</td>\n",
       "      <td>0.836071</td>\n",
       "      <td>14.526497</td>\n",
       "      <td>1.102743</td>\n",
       "      <td>0.806057</td>\n",
       "      <td>49.693429</td>\n",
       "    </tr>\n",
       "    <tr>\n",
       "      <th>min</th>\n",
       "      <td>1.000000</td>\n",
       "      <td>0.000000</td>\n",
       "      <td>1.000000</td>\n",
       "      <td>0.420000</td>\n",
       "      <td>0.000000</td>\n",
       "      <td>0.000000</td>\n",
       "      <td>0.000000</td>\n",
       "    </tr>\n",
       "    <tr>\n",
       "      <th>25%</th>\n",
       "      <td>223.500000</td>\n",
       "      <td>0.000000</td>\n",
       "      <td>2.000000</td>\n",
       "      <td>20.125000</td>\n",
       "      <td>0.000000</td>\n",
       "      <td>0.000000</td>\n",
       "      <td>7.910400</td>\n",
       "    </tr>\n",
       "    <tr>\n",
       "      <th>50%</th>\n",
       "      <td>446.000000</td>\n",
       "      <td>0.000000</td>\n",
       "      <td>3.000000</td>\n",
       "      <td>28.000000</td>\n",
       "      <td>0.000000</td>\n",
       "      <td>0.000000</td>\n",
       "      <td>14.454200</td>\n",
       "    </tr>\n",
       "    <tr>\n",
       "      <th>75%</th>\n",
       "      <td>668.500000</td>\n",
       "      <td>1.000000</td>\n",
       "      <td>3.000000</td>\n",
       "      <td>38.000000</td>\n",
       "      <td>1.000000</td>\n",
       "      <td>0.000000</td>\n",
       "      <td>31.000000</td>\n",
       "    </tr>\n",
       "    <tr>\n",
       "      <th>max</th>\n",
       "      <td>891.000000</td>\n",
       "      <td>1.000000</td>\n",
       "      <td>3.000000</td>\n",
       "      <td>80.000000</td>\n",
       "      <td>8.000000</td>\n",
       "      <td>6.000000</td>\n",
       "      <td>512.329200</td>\n",
       "    </tr>\n",
       "  </tbody>\n",
       "</table>\n",
       "</div>"
      ],
      "text/plain": [
       "       PassengerId    Survived      Pclass         Age       SibSp  \\\n",
       "count   891.000000  891.000000  891.000000  714.000000  891.000000   \n",
       "mean    446.000000    0.383838    2.308642   29.699118    0.523008   \n",
       "std     257.353842    0.486592    0.836071   14.526497    1.102743   \n",
       "min       1.000000    0.000000    1.000000    0.420000    0.000000   \n",
       "25%     223.500000    0.000000    2.000000   20.125000    0.000000   \n",
       "50%     446.000000    0.000000    3.000000   28.000000    0.000000   \n",
       "75%     668.500000    1.000000    3.000000   38.000000    1.000000   \n",
       "max     891.000000    1.000000    3.000000   80.000000    8.000000   \n",
       "\n",
       "            Parch        Fare  \n",
       "count  891.000000  891.000000  \n",
       "mean     0.381594   32.204208  \n",
       "std      0.806057   49.693429  \n",
       "min      0.000000    0.000000  \n",
       "25%      0.000000    7.910400  \n",
       "50%      0.000000   14.454200  \n",
       "75%      0.000000   31.000000  \n",
       "max      6.000000  512.329200  "
      ]
     },
     "execution_count": 12,
     "metadata": {},
     "output_type": "execute_result"
    }
   ],
   "source": [
    "df_passengers.describe()"
   ]
  },
  {
   "cell_type": "markdown",
   "metadata": {},
   "source": [
    "## Some notes on data\n",
    "\n",
    "- PassengerId: A unique index for passenger rows. It starts from 1 for first row and increments by 1 for every new row.\n",
    "\n",
    "- Survived: refers to whether passenger survived. 1 = survived 0 = not survived.\n",
    "\n",
    "- Pclass: Ticket class. 1 = First class ticket. 2 = Second class ticket. 3 = Third class \n",
    "\n",
    "- Name: Passenger's name. Name also contain title. \"Mr\" for man. \"Mrs\" for woman. \"Miss\" for girl. \"Master\" for boy.\n",
    "\n",
    "- Sex: Passenger's gender. Male or Female.\n",
    "\n",
    "- Age: Passenger's age. \n",
    "\n",
    "- SibSp: Number of siblings or spouses travelling with each passenger.\n",
    "\n",
    "- Parch: Number of parents of children travelling with each passenger.\n",
    "\n",
    "- Ticket: Ticket number\n",
    "\n",
    "- Fare: price paid by passenger\n",
    "\n",
    "- Cabin: Cabin number of the passenger. \n",
    "\n",
    "- Embarked: refers to where the passenger boarded: Cherbourg (C) --> Southhanpton (S) --> Queenstown (Q)\n",
    "![image](img/route.jpeg)"
   ]
  },
  {
   "cell_type": "code",
   "execution_count": 13,
   "metadata": {},
   "outputs": [
    {
     "data": {
      "text/plain": [
       "(891, 12)"
      ]
     },
     "execution_count": 13,
     "metadata": {},
     "output_type": "execute_result"
    }
   ],
   "source": [
    "df_passengers.shape"
   ]
  },
  {
   "cell_type": "markdown",
   "metadata": {},
   "source": [
    "# EDA of Data"
   ]
  },
  {
   "cell_type": "markdown",
   "metadata": {},
   "source": [
    "### Check for null / na values in data"
   ]
  },
  {
   "cell_type": "code",
   "execution_count": 14,
   "metadata": {},
   "outputs": [
    {
     "data": {
      "text/plain": [
       "PassengerId      0\n",
       "Survived         0\n",
       "Pclass           0\n",
       "Name             0\n",
       "Sex              0\n",
       "Age            177\n",
       "SibSp            0\n",
       "Parch            0\n",
       "Ticket           0\n",
       "Fare             0\n",
       "Cabin          687\n",
       "Embarked         2\n",
       "dtype: int64"
      ]
     },
     "execution_count": 14,
     "metadata": {},
     "output_type": "execute_result"
    }
   ],
   "source": [
    "df_passengers.isna().sum()"
   ]
  },
  {
   "cell_type": "markdown",
   "metadata": {},
   "source": [
    "## Visualize where the missing / null values are\n"
   ]
  },
  {
   "cell_type": "code",
   "execution_count": 15,
   "metadata": {},
   "outputs": [
    {
     "data": {
      "text/plain": [
       "<AxesSubplot:>"
      ]
     },
     "execution_count": 15,
     "metadata": {},
     "output_type": "execute_result"
    },
    {
     "data": {
      "image/png": "[encoded data removed]",
      "text/plain": [
       "<Figure size 1800x720 with 2 Axes>"
      ]
     },
     "metadata": {},
     "output_type": "display_data"
    }
   ],
   "source": [
    "missingno.matrix(df_passengers)"
   ]
  },
  {
   "cell_type": "markdown",
   "metadata": {},
   "source": [
    "## fill in missing age with dataset average age."
   ]
  },
  {
   "cell_type": "code",
   "execution_count": 16,
   "metadata": {},
   "outputs": [
    {
     "name": "stdout",
     "output_type": "stream",
     "text": [
      "Updated Dataframe:\n"
     ]
    },
    {
     "data": {
      "text/plain": [
       "<AxesSubplot:>"
      ]
     },
     "execution_count": 16,
     "metadata": {},
     "output_type": "execute_result"
    },
    {
     "data": {
      "image/png": "[encoded data removed]",
      "text/plain": [
       "<Figure size 1800x720 with 2 Axes>"
      ]
     },
     "metadata": {},
     "output_type": "display_data"
    }
   ],
   "source": [
    "\n",
    "mean_value=df_passengers['Age'].mean()\n",
    "  \n",
    "# Replace NaNs in Age column with the\n",
    "# mean of values in the same column\n",
    "df_passengers['Age'].fillna(value=mean_value, inplace=True)\n",
    "print('Updated Dataframe:')\n",
    "missingno.matrix(df_passengers)"
   ]
  },
  {
   "cell_type": "markdown",
   "metadata": {},
   "source": [
    "## Drop Cabin from data for now"
   ]
  },
  {
   "cell_type": "code",
   "execution_count": 17,
   "metadata": {},
   "outputs": [],
   "source": [
    "df_passengers = df_passengers.drop('Cabin', 1)"
   ]
  },
  {
   "cell_type": "code",
   "execution_count": 18,
   "metadata": {},
   "outputs": [
    {
     "data": {
      "text/plain": [
       "<AxesSubplot:>"
      ]
     },
     "execution_count": 18,
     "metadata": {},
     "output_type": "execute_result"
    },
    {
     "data": {
      "image/png": "[encoded data removed]",
      "text/plain": [
       "<Figure size 1800x720 with 2 Axes>"
      ]
     },
     "metadata": {},
     "output_type": "display_data"
    }
   ],
   "source": [
    "missingno.matrix(df_passengers)"
   ]
  },
  {
   "cell_type": "markdown",
   "metadata": {},
   "source": [
    "## Identify missing values for embarked"
   ]
  },
  {
   "cell_type": "code",
   "execution_count": 19,
   "metadata": {},
   "outputs": [
    {
     "data": {
      "text/html": [
       "<div>\n",
       "<style scoped>\n",
       "    .dataframe tbody tr th:only-of-type {\n",
       "        vertical-align: middle;\n",
       "    }\n",
       "\n",
       "    .dataframe tbody tr th {\n",
       "        vertical-align: top;\n",
       "    }\n",
       "\n",
       "    .dataframe thead th {\n",
       "        text-align: right;\n",
       "    }\n",
       "</style>\n",
       "<table border=\"1\" class=\"dataframe\">\n",
       "  <thead>\n",
       "    <tr style=\"text-align: right;\">\n",
       "      <th></th>\n",
       "      <th>PassengerId</th>\n",
       "      <th>Survived</th>\n",
       "      <th>Pclass</th>\n",
       "      <th>Name</th>\n",
       "      <th>Sex</th>\n",
       "      <th>Age</th>\n",
       "      <th>SibSp</th>\n",
       "      <th>Parch</th>\n",
       "      <th>Ticket</th>\n",
       "      <th>Fare</th>\n",
       "      <th>Embarked</th>\n",
       "    </tr>\n",
       "  </thead>\n",
       "  <tbody>\n",
       "    <tr>\n",
       "      <th>61</th>\n",
       "      <td>62</td>\n",
       "      <td>1</td>\n",
       "      <td>1</td>\n",
       "      <td>Icard, Miss. Amelie</td>\n",
       "      <td>female</td>\n",
       "      <td>38.0</td>\n",
       "      <td>0</td>\n",
       "      <td>0</td>\n",
       "      <td>113572</td>\n",
       "      <td>80.0</td>\n",
       "      <td>NaN</td>\n",
       "    </tr>\n",
       "    <tr>\n",
       "      <th>829</th>\n",
       "      <td>830</td>\n",
       "      <td>1</td>\n",
       "      <td>1</td>\n",
       "      <td>Stone, Mrs. George Nelson (Martha Evelyn)</td>\n",
       "      <td>female</td>\n",
       "      <td>62.0</td>\n",
       "      <td>0</td>\n",
       "      <td>0</td>\n",
       "      <td>113572</td>\n",
       "      <td>80.0</td>\n",
       "      <td>NaN</td>\n",
       "    </tr>\n",
       "  </tbody>\n",
       "</table>\n",
       "</div>"
      ],
      "text/plain": [
       "     PassengerId  Survived  Pclass                                       Name  \\\n",
       "61            62         1       1                        Icard, Miss. Amelie   \n",
       "829          830         1       1  Stone, Mrs. George Nelson (Martha Evelyn)   \n",
       "\n",
       "        Sex   Age  SibSp  Parch  Ticket  Fare Embarked  \n",
       "61   female  38.0      0      0  113572  80.0      NaN  \n",
       "829  female  62.0      0      0  113572  80.0      NaN  "
      ]
     },
     "execution_count": 19,
     "metadata": {},
     "output_type": "execute_result"
    }
   ],
   "source": [
    "df_passengers[df_passengers.Embarked.isna()]"
   ]
  },
  {
   "cell_type": "markdown",
   "metadata": {},
   "source": [
    "### Identify the mode of Embarked in data"
   ]
  },
  {
   "cell_type": "code",
   "execution_count": 20,
   "metadata": {},
   "outputs": [
    {
     "data": {
      "text/plain": [
       "'S'"
      ]
     },
     "execution_count": 20,
     "metadata": {},
     "output_type": "execute_result"
    }
   ],
   "source": [
    "embarked_mode = df_passengers['Embarked'].dropna().mode()[0]\n",
    "embarked_mode"
   ]
  },
  {
   "cell_type": "markdown",
   "metadata": {},
   "source": [
    "### Fill missing value in Embarked with embarked_mode"
   ]
  },
  {
   "cell_type": "code",
   "execution_count": 21,
   "metadata": {},
   "outputs": [],
   "source": [
    "df_passengers['Embarked'].fillna(embarked_mode, inplace = True)"
   ]
  },
  {
   "cell_type": "markdown",
   "metadata": {},
   "source": [
    "### Check for any remaining Null values"
   ]
  },
  {
   "cell_type": "code",
   "execution_count": 22,
   "metadata": {},
   "outputs": [
    {
     "data": {
      "text/plain": [
       "PassengerId    0\n",
       "Survived       0\n",
       "Pclass         0\n",
       "Name           0\n",
       "Sex            0\n",
       "Age            0\n",
       "SibSp          0\n",
       "Parch          0\n",
       "Ticket         0\n",
       "Fare           0\n",
       "Embarked       0\n",
       "dtype: int64"
      ]
     },
     "execution_count": 22,
     "metadata": {},
     "output_type": "execute_result"
    }
   ],
   "source": [
    "df_passengers.isna().sum()"
   ]
  },
  {
   "cell_type": "markdown",
   "metadata": {},
   "source": [
    "## simplify Age to 4 groups: Child (0-12), Teen (13-18), Adult (19-65), Senior (66+)"
   ]
  },
  {
   "cell_type": "code",
   "execution_count": 23,
   "metadata": {},
   "outputs": [],
   "source": [
    "\n",
    "def encodeAge(age):\n",
    "    conditions = [age < 13,\n",
    "                  age < 18,\n",
    "                  age < 65,\n",
    "                  age < 100 ]\n",
    "\n",
    "    values = ['Child','Teen','Adult','Senior']\n",
    "    return np.select(conditions, values, default='Adult') \n",
    "\n",
    "df_passengers['AgeGroup'] = df_passengers.Age.apply(encodeAge)\n",
    "\n"
   ]
  },
  {
   "cell_type": "code",
   "execution_count": 24,
   "metadata": {},
   "outputs": [
    {
     "data": {
      "text/html": [
       "<div>\n",
       "<style scoped>\n",
       "    .dataframe tbody tr th:only-of-type {\n",
       "        vertical-align: middle;\n",
       "    }\n",
       "\n",
       "    .dataframe tbody tr th {\n",
       "        vertical-align: top;\n",
       "    }\n",
       "\n",
       "    .dataframe thead th {\n",
       "        text-align: right;\n",
       "    }\n",
       "</style>\n",
       "<table border=\"1\" class=\"dataframe\">\n",
       "  <thead>\n",
       "    <tr style=\"text-align: right;\">\n",
       "      <th></th>\n",
       "      <th>PassengerId</th>\n",
       "      <th>Survived</th>\n",
       "      <th>Pclass</th>\n",
       "      <th>Name</th>\n",
       "      <th>Sex</th>\n",
       "      <th>Age</th>\n",
       "      <th>SibSp</th>\n",
       "      <th>Parch</th>\n",
       "      <th>Ticket</th>\n",
       "      <th>Fare</th>\n",
       "      <th>Embarked</th>\n",
       "      <th>AgeGroup</th>\n",
       "    </tr>\n",
       "  </thead>\n",
       "  <tbody>\n",
       "    <tr>\n",
       "      <th>0</th>\n",
       "      <td>1</td>\n",
       "      <td>0</td>\n",
       "      <td>3</td>\n",
       "      <td>Braund, Mr. Owen Harris</td>\n",
       "      <td>male</td>\n",
       "      <td>22.000000</td>\n",
       "      <td>1</td>\n",
       "      <td>0</td>\n",
       "      <td>A/5 21171</td>\n",
       "      <td>7.2500</td>\n",
       "      <td>S</td>\n",
       "      <td>Adult</td>\n",
       "    </tr>\n",
       "    <tr>\n",
       "      <th>1</th>\n",
       "      <td>2</td>\n",
       "      <td>1</td>\n",
       "      <td>1</td>\n",
       "      <td>Cumings, Mrs. John Bradley (Florence Briggs Th...</td>\n",
       "      <td>female</td>\n",
       "      <td>38.000000</td>\n",
       "      <td>1</td>\n",
       "      <td>0</td>\n",
       "      <td>PC 17599</td>\n",
       "      <td>71.2833</td>\n",
       "      <td>C</td>\n",
       "      <td>Adult</td>\n",
       "    </tr>\n",
       "    <tr>\n",
       "      <th>2</th>\n",
       "      <td>3</td>\n",
       "      <td>1</td>\n",
       "      <td>3</td>\n",
       "      <td>Heikkinen, Miss. Laina</td>\n",
       "      <td>female</td>\n",
       "      <td>26.000000</td>\n",
       "      <td>0</td>\n",
       "      <td>0</td>\n",
       "      <td>STON/O2. 3101282</td>\n",
       "      <td>7.9250</td>\n",
       "      <td>S</td>\n",
       "      <td>Adult</td>\n",
       "    </tr>\n",
       "    <tr>\n",
       "      <th>3</th>\n",
       "      <td>4</td>\n",
       "      <td>1</td>\n",
       "      <td>1</td>\n",
       "      <td>Futrelle, Mrs. Jacques Heath (Lily May Peel)</td>\n",
       "      <td>female</td>\n",
       "      <td>35.000000</td>\n",
       "      <td>1</td>\n",
       "      <td>0</td>\n",
       "      <td>113803</td>\n",
       "      <td>53.1000</td>\n",
       "      <td>S</td>\n",
       "      <td>Adult</td>\n",
       "    </tr>\n",
       "    <tr>\n",
       "      <th>4</th>\n",
       "      <td>5</td>\n",
       "      <td>0</td>\n",
       "      <td>3</td>\n",
       "      <td>Allen, Mr. William Henry</td>\n",
       "      <td>male</td>\n",
       "      <td>35.000000</td>\n",
       "      <td>0</td>\n",
       "      <td>0</td>\n",
       "      <td>373450</td>\n",
       "      <td>8.0500</td>\n",
       "      <td>S</td>\n",
       "      <td>Adult</td>\n",
       "    </tr>\n",
       "    <tr>\n",
       "      <th>...</th>\n",
       "      <td>...</td>\n",
       "      <td>...</td>\n",
       "      <td>...</td>\n",
       "      <td>...</td>\n",
       "      <td>...</td>\n",
       "      <td>...</td>\n",
       "      <td>...</td>\n",
       "      <td>...</td>\n",
       "      <td>...</td>\n",
       "      <td>...</td>\n",
       "      <td>...</td>\n",
       "      <td>...</td>\n",
       "    </tr>\n",
       "    <tr>\n",
       "      <th>886</th>\n",
       "      <td>887</td>\n",
       "      <td>0</td>\n",
       "      <td>2</td>\n",
       "      <td>Montvila, Rev. Juozas</td>\n",
       "      <td>male</td>\n",
       "      <td>27.000000</td>\n",
       "      <td>0</td>\n",
       "      <td>0</td>\n",
       "      <td>211536</td>\n",
       "      <td>13.0000</td>\n",
       "      <td>S</td>\n",
       "      <td>Adult</td>\n",
       "    </tr>\n",
       "    <tr>\n",
       "      <th>887</th>\n",
       "      <td>888</td>\n",
       "      <td>1</td>\n",
       "      <td>1</td>\n",
       "      <td>Graham, Miss. Margaret Edith</td>\n",
       "      <td>female</td>\n",
       "      <td>19.000000</td>\n",
       "      <td>0</td>\n",
       "      <td>0</td>\n",
       "      <td>112053</td>\n",
       "      <td>30.0000</td>\n",
       "      <td>S</td>\n",
       "      <td>Adult</td>\n",
       "    </tr>\n",
       "    <tr>\n",
       "      <th>888</th>\n",
       "      <td>889</td>\n",
       "      <td>0</td>\n",
       "      <td>3</td>\n",
       "      <td>Johnston, Miss. Catherine Helen \"Carrie\"</td>\n",
       "      <td>female</td>\n",
       "      <td>29.699118</td>\n",
       "      <td>1</td>\n",
       "      <td>2</td>\n",
       "      <td>W./C. 6607</td>\n",
       "      <td>23.4500</td>\n",
       "      <td>S</td>\n",
       "      <td>Adult</td>\n",
       "    </tr>\n",
       "    <tr>\n",
       "      <th>889</th>\n",
       "      <td>890</td>\n",
       "      <td>1</td>\n",
       "      <td>1</td>\n",
       "      <td>Behr, Mr. Karl Howell</td>\n",
       "      <td>male</td>\n",
       "      <td>26.000000</td>\n",
       "      <td>0</td>\n",
       "      <td>0</td>\n",
       "      <td>111369</td>\n",
       "      <td>30.0000</td>\n",
       "      <td>C</td>\n",
       "      <td>Adult</td>\n",
       "    </tr>\n",
       "    <tr>\n",
       "      <th>890</th>\n",
       "      <td>891</td>\n",
       "      <td>0</td>\n",
       "      <td>3</td>\n",
       "      <td>Dooley, Mr. Patrick</td>\n",
       "      <td>male</td>\n",
       "      <td>32.000000</td>\n",
       "      <td>0</td>\n",
       "      <td>0</td>\n",
       "      <td>370376</td>\n",
       "      <td>7.7500</td>\n",
       "      <td>Q</td>\n",
       "      <td>Adult</td>\n",
       "    </tr>\n",
       "  </tbody>\n",
       "</table>\n",
       "<p>891 rows × 12 columns</p>\n",
       "</div>"
      ],
      "text/plain": [
       "     PassengerId  Survived  Pclass  \\\n",
       "0              1         0       3   \n",
       "1              2         1       1   \n",
       "2              3         1       3   \n",
       "3              4         1       1   \n",
       "4              5         0       3   \n",
       "..           ...       ...     ...   \n",
       "886          887         0       2   \n",
       "887          888         1       1   \n",
       "888          889         0       3   \n",
       "889          890         1       1   \n",
       "890          891         0       3   \n",
       "\n",
       "                                                  Name     Sex        Age  \\\n",
       "0                              Braund, Mr. Owen Harris    male  22.000000   \n",
       "1    Cumings, Mrs. John Bradley (Florence Briggs Th...  female  38.000000   \n",
       "2                               Heikkinen, Miss. Laina  female  26.000000   \n",
       "3         Futrelle, Mrs. Jacques Heath (Lily May Peel)  female  35.000000   \n",
       "4                             Allen, Mr. William Henry    male  35.000000   \n",
       "..                                                 ...     ...        ...   \n",
       "886                              Montvila, Rev. Juozas    male  27.000000   \n",
       "887                       Graham, Miss. Margaret Edith  female  19.000000   \n",
       "888           Johnston, Miss. Catherine Helen \"Carrie\"  female  29.699118   \n",
       "889                              Behr, Mr. Karl Howell    male  26.000000   \n",
       "890                                Dooley, Mr. Patrick    male  32.000000   \n",
       "\n",
       "     SibSp  Parch            Ticket     Fare Embarked AgeGroup  \n",
       "0        1      0         A/5 21171   7.2500        S    Adult  \n",
       "1        1      0          PC 17599  71.2833        C    Adult  \n",
       "2        0      0  STON/O2. 3101282   7.9250        S    Adult  \n",
       "3        1      0            113803  53.1000        S    Adult  \n",
       "4        0      0            373450   8.0500        S    Adult  \n",
       "..     ...    ...               ...      ...      ...      ...  \n",
       "886      0      0            211536  13.0000        S    Adult  \n",
       "887      0      0            112053  30.0000        S    Adult  \n",
       "888      1      2        W./C. 6607  23.4500        S    Adult  \n",
       "889      0      0            111369  30.0000        C    Adult  \n",
       "890      0      0            370376   7.7500        Q    Adult  \n",
       "\n",
       "[891 rows x 12 columns]"
      ]
     },
     "execution_count": 24,
     "metadata": {},
     "output_type": "execute_result"
    }
   ],
   "source": [
    "df_passengers"
   ]
  },
  {
   "cell_type": "markdown",
   "metadata": {},
   "source": [
    "### Look at survival rate by Sex, Age and Pclass"
   ]
  },
  {
   "cell_type": "code",
   "execution_count": 26,
   "metadata": {},
   "outputs": [
    {
     "data": {
      "text/html": [
       "<div>\n",
       "<style scoped>\n",
       "    .dataframe tbody tr th:only-of-type {\n",
       "        vertical-align: middle;\n",
       "    }\n",
       "\n",
       "    .dataframe tbody tr th {\n",
       "        vertical-align: top;\n",
       "    }\n",
       "\n",
       "    .dataframe thead th {\n",
       "        text-align: right;\n",
       "    }\n",
       "</style>\n",
       "<table border=\"1\" class=\"dataframe\">\n",
       "  <thead>\n",
       "    <tr style=\"text-align: right;\">\n",
       "      <th></th>\n",
       "      <th>Pclass</th>\n",
       "      <th>1</th>\n",
       "      <th>2</th>\n",
       "      <th>3</th>\n",
       "    </tr>\n",
       "    <tr>\n",
       "      <th>Sex</th>\n",
       "      <th>Age</th>\n",
       "      <th></th>\n",
       "      <th></th>\n",
       "      <th></th>\n",
       "    </tr>\n",
       "  </thead>\n",
       "  <tbody>\n",
       "    <tr>\n",
       "      <th rowspan=\"3\" valign=\"top\">female</th>\n",
       "      <th>(0, 12]</th>\n",
       "      <td>0.000000</td>\n",
       "      <td>1.000000</td>\n",
       "      <td>0.478261</td>\n",
       "    </tr>\n",
       "    <tr>\n",
       "      <th>(12, 17]</th>\n",
       "      <td>1.000000</td>\n",
       "      <td>1.000000</td>\n",
       "      <td>0.666667</td>\n",
       "    </tr>\n",
       "    <tr>\n",
       "      <th>(17, 64]</th>\n",
       "      <td>0.976744</td>\n",
       "      <td>0.906250</td>\n",
       "      <td>0.486239</td>\n",
       "    </tr>\n",
       "    <tr>\n",
       "      <th rowspan=\"4\" valign=\"top\">male</th>\n",
       "      <th>(0, 12]</th>\n",
       "      <td>1.000000</td>\n",
       "      <td>1.000000</td>\n",
       "      <td>0.360000</td>\n",
       "    </tr>\n",
       "    <tr>\n",
       "      <th>(12, 17]</th>\n",
       "      <td>1.000000</td>\n",
       "      <td>0.000000</td>\n",
       "      <td>0.055556</td>\n",
       "    </tr>\n",
       "    <tr>\n",
       "      <th>(17, 64]</th>\n",
       "      <td>0.357143</td>\n",
       "      <td>0.084211</td>\n",
       "      <td>0.122924</td>\n",
       "    </tr>\n",
       "    <tr>\n",
       "      <th>(64, 80]</th>\n",
       "      <td>0.166667</td>\n",
       "      <td>0.000000</td>\n",
       "      <td>0.000000</td>\n",
       "    </tr>\n",
       "  </tbody>\n",
       "</table>\n",
       "</div>"
      ],
      "text/plain": [
       "Pclass                  1         2         3\n",
       "Sex    Age                                   \n",
       "female (0, 12]   0.000000  1.000000  0.478261\n",
       "       (12, 17]  1.000000  1.000000  0.666667\n",
       "       (17, 64]  0.976744  0.906250  0.486239\n",
       "male   (0, 12]   1.000000  1.000000  0.360000\n",
       "       (12, 17]  1.000000  0.000000  0.055556\n",
       "       (17, 64]  0.357143  0.084211  0.122924\n",
       "       (64, 80]  0.166667  0.000000  0.000000"
      ]
     },
     "execution_count": 26,
     "metadata": {},
     "output_type": "execute_result"
    }
   ],
   "source": [
    "\n",
    "age = pd.cut(df_passengers['Age'], [0, 12, 17, 64, 80])\n",
    "df_passengers.pivot_table('Survived', ['Sex', age], 'Pclass')"
   ]
  },
  {
   "cell_type": "markdown",
   "metadata": {},
   "source": [
    "### Look at survival rate by Sex, Age and Embarked"
   ]
  },
  {
   "cell_type": "code",
   "execution_count": 27,
   "metadata": {},
   "outputs": [
    {
     "data": {
      "text/html": [
       "<div>\n",
       "<style scoped>\n",
       "    .dataframe tbody tr th:only-of-type {\n",
       "        vertical-align: middle;\n",
       "    }\n",
       "\n",
       "    .dataframe tbody tr th {\n",
       "        vertical-align: top;\n",
       "    }\n",
       "\n",
       "    .dataframe thead th {\n",
       "        text-align: right;\n",
       "    }\n",
       "</style>\n",
       "<table border=\"1\" class=\"dataframe\">\n",
       "  <thead>\n",
       "    <tr style=\"text-align: right;\">\n",
       "      <th></th>\n",
       "      <th>Embarked</th>\n",
       "      <th>C</th>\n",
       "      <th>Q</th>\n",
       "      <th>S</th>\n",
       "    </tr>\n",
       "    <tr>\n",
       "      <th>Sex</th>\n",
       "      <th>Age</th>\n",
       "      <th></th>\n",
       "      <th></th>\n",
       "      <th></th>\n",
       "    </tr>\n",
       "  </thead>\n",
       "  <tbody>\n",
       "    <tr>\n",
       "      <th rowspan=\"3\" valign=\"top\">female</th>\n",
       "      <th>(0, 12]</th>\n",
       "      <td>0.857143</td>\n",
       "      <td>NaN</td>\n",
       "      <td>0.520000</td>\n",
       "    </tr>\n",
       "    <tr>\n",
       "      <th>(12, 17]</th>\n",
       "      <td>0.800000</td>\n",
       "      <td>1.000000</td>\n",
       "      <td>0.800000</td>\n",
       "    </tr>\n",
       "    <tr>\n",
       "      <th>(17, 64]</th>\n",
       "      <td>0.892857</td>\n",
       "      <td>0.727273</td>\n",
       "      <td>0.711765</td>\n",
       "    </tr>\n",
       "    <tr>\n",
       "      <th rowspan=\"4\" valign=\"top\">male</th>\n",
       "      <th>(0, 12]</th>\n",
       "      <td>0.750000</td>\n",
       "      <td>0.000000</td>\n",
       "      <td>0.620690</td>\n",
       "    </tr>\n",
       "    <tr>\n",
       "      <th>(12, 17]</th>\n",
       "      <td>0.333333</td>\n",
       "      <td>NaN</td>\n",
       "      <td>0.055556</td>\n",
       "    </tr>\n",
       "    <tr>\n",
       "      <th>(17, 64]</th>\n",
       "      <td>0.294118</td>\n",
       "      <td>0.085714</td>\n",
       "      <td>0.146907</td>\n",
       "    </tr>\n",
       "    <tr>\n",
       "      <th>(64, 80]</th>\n",
       "      <td>0.000000</td>\n",
       "      <td>0.000000</td>\n",
       "      <td>0.166667</td>\n",
       "    </tr>\n",
       "  </tbody>\n",
       "</table>\n",
       "</div>"
      ],
      "text/plain": [
       "Embarked                C         Q         S\n",
       "Sex    Age                                   \n",
       "female (0, 12]   0.857143       NaN  0.520000\n",
       "       (12, 17]  0.800000  1.000000  0.800000\n",
       "       (17, 64]  0.892857  0.727273  0.711765\n",
       "male   (0, 12]   0.750000  0.000000  0.620690\n",
       "       (12, 17]  0.333333       NaN  0.055556\n",
       "       (17, 64]  0.294118  0.085714  0.146907\n",
       "       (64, 80]  0.000000  0.000000  0.166667"
      ]
     },
     "execution_count": 27,
     "metadata": {},
     "output_type": "execute_result"
    }
   ],
   "source": [
    "df_passengers.pivot_table('Survived', ['Sex', age], 'Embarked')"
   ]
  },
  {
   "cell_type": "markdown",
   "metadata": {},
   "source": [
    "## Start Visualizing the Data"
   ]
  },
  {
   "cell_type": "code",
   "execution_count": 28,
   "metadata": {},
   "outputs": [
    {
     "data": {
      "image/png": "[encoded data removed]",
      "text/plain": [
       "<Figure size 691.2x460.8 with 6 Axes>"
      ]
     },
     "metadata": {},
     "output_type": "display_data"
    }
   ],
   "source": [
    "\n",
    "cols = ['AgeGroup', 'Sex', 'Pclass', 'SibSp', 'Parch', 'Embarked']\n",
    "\n",
    "n_rows = 2\n",
    "n_cols = 3\n",
    "\n",
    "# The subplot grid and the figure size of each graph\n",
    "# This returns a Figure (fig) and an Axes Object (axs)\n",
    "fig, axs = plt.subplots(n_rows, n_cols, figsize=(n_cols*3.2,n_rows*3.2))\n",
    "\n",
    "for r in range(0,n_rows):\n",
    "    for c in range(0,n_cols):  \n",
    "        \n",
    "        i = r*n_cols+ c # index to go through the number of columns       \n",
    "        ax = axs[r][c]  # Show where to position each subplot\n",
    "        sns.countplot(df_passengers[cols[i]], hue=df_passengers[\"Survived\"], ax=ax)\n",
    "        ax.set_title(f'Survival by {cols[i]}' )\n",
    "        ax.legend(title=\"Survived\", loc='upper right') \n",
    "        \n",
    "plt.tight_layout()   "
   ]
  },
  {
   "cell_type": "markdown",
   "metadata": {},
   "source": [
    "### Plot the survival rate of each class."
   ]
  },
  {
   "cell_type": "code",
   "execution_count": 29,
   "metadata": {},
   "outputs": [
    {
     "data": {
      "text/plain": [
       "<AxesSubplot:xlabel='Pclass', ylabel='Survived'>"
      ]
     },
     "execution_count": 29,
     "metadata": {},
     "output_type": "execute_result"
    },
    {
     "data": {
      "image/png": "[encoded data removed]",
      "text/plain": [
       "<Figure size 432x288 with 1 Axes>"
      ]
     },
     "metadata": {},
     "output_type": "display_data"
    }
   ],
   "source": [
    "\n",
    "sns.barplot(x='Pclass', y='Survived', data=df_passengers)"
   ]
  },
  {
   "cell_type": "code",
   "execution_count": 30,
   "metadata": {},
   "outputs": [
    {
     "data": {
      "text/plain": [
       "<AxesSubplot:xlabel='Sex', ylabel='Survived'>"
      ]
     },
     "execution_count": 30,
     "metadata": {},
     "output_type": "execute_result"
    },
    {
     "data": {
      "image/png": "[encoded data removed]",
      "text/plain": [
       "<Figure size 432x288 with 1 Axes>"
      ]
     },
     "metadata": {},
     "output_type": "display_data"
    }
   ],
   "source": [
    "#Plot the survival rate of each Sex.\n",
    "sns.barplot(x='Sex', y='Survived', data=df_passengers)"
   ]
  },
  {
   "cell_type": "markdown",
   "metadata": {},
   "source": [
    "### Look at suvival probablity by AgeGroup and Sex"
   ]
  },
  {
   "cell_type": "code",
   "execution_count": 31,
   "metadata": {},
   "outputs": [
    {
     "data": {
      "text/plain": [
       "Text(0.5, 1.0, 'Survival Probability by AgeGroup')"
      ]
     },
     "execution_count": 31,
     "metadata": {},
     "output_type": "execute_result"
    },
    {
     "data": {
      "image/png": "[encoded data removed]",
      "text/plain": [
       "<Figure size 432x288 with 1 Axes>"
      ]
     },
     "metadata": {},
     "output_type": "display_data"
    }
   ],
   "source": [
    "sns.barplot(x = 'AgeGroup', y ='Survived', hue='Sex', data = df_passengers)\n",
    "plt.ylabel('Survival Probability')\n",
    "plt.title('Survival Probability by AgeGroup')"
   ]
  },
  {
   "cell_type": "markdown",
   "metadata": {},
   "source": [
    "### Look at suvival probablity by AgeGroup and Embarked"
   ]
  },
  {
   "cell_type": "code",
   "execution_count": 32,
   "metadata": {},
   "outputs": [
    {
     "data": {
      "text/plain": [
       "Text(0.5, 1.0, 'Survival Probability by Embarked')"
      ]
     },
     "execution_count": 32,
     "metadata": {},
     "output_type": "execute_result"
    },
    {
     "data": {
      "image/png": "[encoded data removed]",
      "text/plain": [
       "<Figure size 432x288 with 1 Axes>"
      ]
     },
     "metadata": {},
     "output_type": "display_data"
    }
   ],
   "source": [
    "sns.barplot(x = 'Embarked', y ='Survived', hue='Sex', data = df_passengers)\n",
    "plt.ylabel('Survival Probability')\n",
    "plt.title('Survival Probability by Embarked')"
   ]
  },
  {
   "cell_type": "markdown",
   "metadata": {},
   "source": [
    "### View distribution of Passengers"
   ]
  },
  {
   "cell_type": "code",
   "execution_count": 35,
   "metadata": {},
   "outputs": [
    {
     "data": {
      "text/plain": [
       "<seaborn.axisgrid.FacetGrid at 0x7fbce7c33070>"
      ]
     },
     "execution_count": 35,
     "metadata": {},
     "output_type": "execute_result"
    },
    {
     "data": {
      "image/png": "[encoded data removed]",
      "text/plain": [
       "<Figure size 402.375x360 with 1 Axes>"
      ]
     },
     "metadata": {},
     "output_type": "display_data"
    },
    {
     "data": {
      "image/png": "[encoded data removed]",
      "text/plain": [
       "<Figure size 430.5x360 with 1 Axes>"
      ]
     },
     "metadata": {},
     "output_type": "display_data"
    },
    {
     "data": {
      "image/png": "[encoded data removed]",
      "text/plain": [
       "<Figure size 360x360 with 1 Axes>"
      ]
     },
     "metadata": {},
     "output_type": "display_data"
    },
    {
     "data": {
      "image/png": "[encoded data removed]",
      "text/plain": [
       "<Figure size 360x360 with 1 Axes>"
      ]
     },
     "metadata": {},
     "output_type": "display_data"
    }
   ],
   "source": [
    "\n",
    "sns.factorplot(y = 'Age', x = 'Sex', hue = 'Pclass', kind = 'box', data = df_passengers).set(title='Distribution by Age, Sex and Pclass')\n",
    "sns.factorplot(y = 'Age', x = 'Parch', hue='Sex', kind = 'box', data = df_passengers).set(title='Distribution by Age and Parch')\n",
    "sns.factorplot(y = 'Age', x = 'SibSp', kind = 'box', data = df_passengers).set(title='Distribution by Age and SibSp')\n",
    "sns.factorplot(y = 'Age', x = 'Embarked', kind = 'box', data = df_passengers).set(title='Distribution by Age and Embarked')\n"
   ]
  },
  {
   "cell_type": "code",
   "execution_count": null,
   "metadata": {},
   "outputs": [],
   "source": [
    "##\n"
   ]
  },
  {
   "cell_type": "markdown",
   "metadata": {},
   "source": [
    "## Begin Modeling"
   ]
  },
  {
   "cell_type": "code",
   "execution_count": 37,
   "metadata": {},
   "outputs": [],
   "source": [
    "# create a copy of the data for modelling\n",
    "df_modeling = df_passengers.copy()\n",
    "\n",
    "# create subset of the data that retains only features that will be used in model\n",
    "df_modeling = df_modeling[['Pclass', 'Sex', 'SibSp','Parch', 'Fare', 'Embarked', 'AgeGroup','Survived']]"
   ]
  },
  {
   "cell_type": "code",
   "execution_count": 39,
   "metadata": {},
   "outputs": [],
   "source": [
    "## Numerically encode categorical features\n",
    "\n",
    "def encode_categorical_features(df):\n",
    "    from sklearn.preprocessing import LabelEncoder\n",
    "    labelencoder = LabelEncoder()\n",
    "    \n",
    "    # Numerically encode Sex\n",
    "    df.Sex= labelencoder.fit_transform(df.Sex.values)\n",
    "    \n",
    "    \n",
    "    # Numerically encode Embarked\n",
    "    df.Embarked= labelencoder.fit_transform(df.Embarked.values)\n",
    "    \n",
    "    \n",
    "    # Numerically encode AgeGroup\n",
    "    df.AgeGroup= labelencoder.fit_transform(df.AgeGroup.values)\n"
   ]
  },
  {
   "cell_type": "markdown",
   "metadata": {},
   "source": [
    "### Encode catergorical features"
   ]
  },
  {
   "cell_type": "code",
   "execution_count": 40,
   "metadata": {},
   "outputs": [
    {
     "data": {
      "text/html": [
       "<div>\n",
       "<style scoped>\n",
       "    .dataframe tbody tr th:only-of-type {\n",
       "        vertical-align: middle;\n",
       "    }\n",
       "\n",
       "    .dataframe tbody tr th {\n",
       "        vertical-align: top;\n",
       "    }\n",
       "\n",
       "    .dataframe thead th {\n",
       "        text-align: right;\n",
       "    }\n",
       "</style>\n",
       "<table border=\"1\" class=\"dataframe\">\n",
       "  <thead>\n",
       "    <tr style=\"text-align: right;\">\n",
       "      <th></th>\n",
       "      <th>Pclass</th>\n",
       "      <th>Sex</th>\n",
       "      <th>SibSp</th>\n",
       "      <th>Parch</th>\n",
       "      <th>Fare</th>\n",
       "      <th>Embarked</th>\n",
       "      <th>AgeGroup</th>\n",
       "      <th>Survived</th>\n",
       "    </tr>\n",
       "  </thead>\n",
       "  <tbody>\n",
       "    <tr>\n",
       "      <th>0</th>\n",
       "      <td>3</td>\n",
       "      <td>1</td>\n",
       "      <td>1</td>\n",
       "      <td>0</td>\n",
       "      <td>7.2500</td>\n",
       "      <td>2</td>\n",
       "      <td>0</td>\n",
       "      <td>0</td>\n",
       "    </tr>\n",
       "    <tr>\n",
       "      <th>1</th>\n",
       "      <td>1</td>\n",
       "      <td>0</td>\n",
       "      <td>1</td>\n",
       "      <td>0</td>\n",
       "      <td>71.2833</td>\n",
       "      <td>0</td>\n",
       "      <td>0</td>\n",
       "      <td>1</td>\n",
       "    </tr>\n",
       "    <tr>\n",
       "      <th>2</th>\n",
       "      <td>3</td>\n",
       "      <td>0</td>\n",
       "      <td>0</td>\n",
       "      <td>0</td>\n",
       "      <td>7.9250</td>\n",
       "      <td>2</td>\n",
       "      <td>0</td>\n",
       "      <td>1</td>\n",
       "    </tr>\n",
       "    <tr>\n",
       "      <th>3</th>\n",
       "      <td>1</td>\n",
       "      <td>0</td>\n",
       "      <td>1</td>\n",
       "      <td>0</td>\n",
       "      <td>53.1000</td>\n",
       "      <td>2</td>\n",
       "      <td>0</td>\n",
       "      <td>1</td>\n",
       "    </tr>\n",
       "    <tr>\n",
       "      <th>4</th>\n",
       "      <td>3</td>\n",
       "      <td>1</td>\n",
       "      <td>0</td>\n",
       "      <td>0</td>\n",
       "      <td>8.0500</td>\n",
       "      <td>2</td>\n",
       "      <td>0</td>\n",
       "      <td>0</td>\n",
       "    </tr>\n",
       "    <tr>\n",
       "      <th>...</th>\n",
       "      <td>...</td>\n",
       "      <td>...</td>\n",
       "      <td>...</td>\n",
       "      <td>...</td>\n",
       "      <td>...</td>\n",
       "      <td>...</td>\n",
       "      <td>...</td>\n",
       "      <td>...</td>\n",
       "    </tr>\n",
       "    <tr>\n",
       "      <th>886</th>\n",
       "      <td>2</td>\n",
       "      <td>1</td>\n",
       "      <td>0</td>\n",
       "      <td>0</td>\n",
       "      <td>13.0000</td>\n",
       "      <td>2</td>\n",
       "      <td>0</td>\n",
       "      <td>0</td>\n",
       "    </tr>\n",
       "    <tr>\n",
       "      <th>887</th>\n",
       "      <td>1</td>\n",
       "      <td>0</td>\n",
       "      <td>0</td>\n",
       "      <td>0</td>\n",
       "      <td>30.0000</td>\n",
       "      <td>2</td>\n",
       "      <td>0</td>\n",
       "      <td>1</td>\n",
       "    </tr>\n",
       "    <tr>\n",
       "      <th>888</th>\n",
       "      <td>3</td>\n",
       "      <td>0</td>\n",
       "      <td>1</td>\n",
       "      <td>2</td>\n",
       "      <td>23.4500</td>\n",
       "      <td>2</td>\n",
       "      <td>0</td>\n",
       "      <td>0</td>\n",
       "    </tr>\n",
       "    <tr>\n",
       "      <th>889</th>\n",
       "      <td>1</td>\n",
       "      <td>1</td>\n",
       "      <td>0</td>\n",
       "      <td>0</td>\n",
       "      <td>30.0000</td>\n",
       "      <td>0</td>\n",
       "      <td>0</td>\n",
       "      <td>1</td>\n",
       "    </tr>\n",
       "    <tr>\n",
       "      <th>890</th>\n",
       "      <td>3</td>\n",
       "      <td>1</td>\n",
       "      <td>0</td>\n",
       "      <td>0</td>\n",
       "      <td>7.7500</td>\n",
       "      <td>1</td>\n",
       "      <td>0</td>\n",
       "      <td>0</td>\n",
       "    </tr>\n",
       "  </tbody>\n",
       "</table>\n",
       "<p>891 rows × 8 columns</p>\n",
       "</div>"
      ],
      "text/plain": [
       "     Pclass  Sex  SibSp  Parch     Fare  Embarked  AgeGroup  Survived\n",
       "0         3    1      1      0   7.2500         2         0         0\n",
       "1         1    0      1      0  71.2833         0         0         1\n",
       "2         3    0      0      0   7.9250         2         0         1\n",
       "3         1    0      1      0  53.1000         2         0         1\n",
       "4         3    1      0      0   8.0500         2         0         0\n",
       "..      ...  ...    ...    ...      ...       ...       ...       ...\n",
       "886       2    1      0      0  13.0000         2         0         0\n",
       "887       1    0      0      0  30.0000         2         0         1\n",
       "888       3    0      1      2  23.4500         2         0         0\n",
       "889       1    1      0      0  30.0000         0         0         1\n",
       "890       3    1      0      0   7.7500         1         0         0\n",
       "\n",
       "[891 rows x 8 columns]"
      ]
     },
     "execution_count": 40,
     "metadata": {},
     "output_type": "execute_result"
    }
   ],
   "source": [
    "encode_categorical_features(df_modeling)\n",
    "df_modeling"
   ]
  },
  {
   "cell_type": "markdown",
   "metadata": {},
   "source": [
    "### Split the data into train, validation and test sets"
   ]
  },
  {
   "cell_type": "code",
   "execution_count": 44,
   "metadata": {},
   "outputs": [],
   "source": [
    "from fast_ml.model_development import train_valid_test_split\n",
    "\n",
    "X_train, y_train, X_valid, y_valid, X_test, y_test = train_valid_test_split(df_modeling, \n",
    "                                                                            target = 'Survived',                                                                            \n",
    "                                                                            train_size=0.6,\n",
    "                                                                            valid_size=0.2,\n",
    "                                                                            test_size=0.2)"
   ]
  },
  {
   "cell_type": "code",
   "execution_count": 42,
   "metadata": {},
   "outputs": [
    {
     "data": {
      "text/plain": [
       "Index(['Pclass', 'Sex', 'SibSp', 'Parch', 'Fare', 'Embarked', 'AgeGroup',\n",
       "       'Survived'],\n",
       "      dtype='object')"
      ]
     },
     "execution_count": 42,
     "metadata": {},
     "output_type": "execute_result"
    }
   ],
   "source": [
    "df_modeling.columns"
   ]
  },
  {
   "cell_type": "code",
   "execution_count": 43,
   "metadata": {},
   "outputs": [],
   "source": [
    "'''\n",
    "#Split the data into independent 'X' and dependent 'Y' variables\n",
    "X = df_modeling[['Pclass', 'Sex', 'SibSp','Parch', 'Fare', 'Embarked', 'AgeGroup']].values\n",
    "Y = df_modeling.Survived.values\n",
    "'''"
   ]
  },
  {
   "cell_type": "code",
   "execution_count": 31,
   "metadata": {},
   "outputs": [],
   "source": [
    "'''\n",
    "# Split the dataset into 80% Training set and 20% Testing set\n",
    "from sklearn.model_selection import train_test_split\n",
    "X_train, X_test, Y_train, Y_test = train_test_split(X, Y, test_size = 0.2, random_state = 0)\n",
    "'''"
   ]
  },
  {
   "cell_type": "code",
   "execution_count": 45,
   "metadata": {},
   "outputs": [],
   "source": [
    "# Feature Scaling\n",
    "from sklearn.preprocessing import StandardScaler\n",
    "sc = StandardScaler()\n",
    "X_train = sc.fit_transform(X_train)\n",
    "X_test = sc.transform(X_test)"
   ]
  },
  {
   "cell_type": "code",
   "execution_count": 46,
   "metadata": {},
   "outputs": [],
   "source": [
    "## functionalize model prep\n",
    "\n",
    "def prep_data(df):\n",
    "    #Split the data into independent 'X' and dependent 'Y' variables\n",
    "    X = df[['Pclass', 'Sex', 'SibSp','Parch', 'Fare', 'Embarked', 'AgeGroup']].values\n",
    "    Y = df.Survived.values\n",
    "    \n",
    "    # Split the dataset into 80% Training set and 20% Testing set\n",
    "    from sklearn.model_selection import train_test_split\n",
    "    X_train, X_test, Y_train, Y_test = train_test_split(X, Y, test_size = 0.2, random_state = 0)\n",
    "    \n",
    "    # Feature Scaling\n",
    "    from sklearn.preprocessing import StandardScaler\n",
    "    sc = StandardScaler()\n",
    "    X_train = sc.fit_transform(X_train)\n",
    "    X_test = sc.transform(X_test)\n",
    "    \n",
    "    return  X_train, X_test, Y_train, Y_test\n",
    "    \n",
    "def prep_data2(df):\n",
    "    #Split the data into independent 'X' and dependent 'Y' variables\n",
    "    X = df[['Pclass', 'Sex', 'SibSp','Parch', 'Fare', 'Embarked', 'AgeGroup']].values\n",
    "    Y = df.Survived.values\n",
    "    \n",
    "    # Split the dataset into 80% Training set and 10% Validation and 10% Testing set\n",
    "    from fast_ml.model_development import train_valid_test_split\n",
    "    X_train, y_train, X_valid, y_valid, X_test, y_test = train_valid_test_split(df, \n",
    "                                                                            target = 'Survived',                                                                            \n",
    "                                                                            train_size=0.8,\n",
    "                                                                            valid_size=0.1,\n",
    "                                                                            test_size=0.1)\n",
    "    \n",
    "    # Feature Scaling\n",
    "    from sklearn.preprocessing import StandardScaler\n",
    "    sc = StandardScaler()\n",
    "    X_train = sc.fit_transform(X_train)\n",
    "    X_test = sc.transform(X_test)\n",
    "    \n",
    "    return  X_train, X_test, X_valid, y_train, y_valid, y_test\n",
    "        \n",
    "    \n",
    "    \n"
   ]
  },
  {
   "cell_type": "code",
   "execution_count": 47,
   "metadata": {},
   "outputs": [
    {
     "data": {
      "text/plain": [
       "(array([[ 0.81931825,  0.7243102 , -0.47188978, ..., -0.68622142,\n",
       "          0.60421038, -0.35580824],\n",
       "        [ 0.81931825,  0.7243102 , -0.47188978, ..., -0.51314467,\n",
       "          0.60421038, -0.35580824],\n",
       "        [ 0.81931825,  0.7243102 , -0.47188978, ..., -0.51314467,\n",
       "          0.60421038, -0.35580824],\n",
       "        ...,\n",
       "        [-1.55687153,  0.7243102 , -0.47188978, ...,  2.22992403,\n",
       "         -1.8681907 , -0.35580824],\n",
       "        [-1.55687153,  0.7243102 ,  0.45881804, ...,  1.60193923,\n",
       "         -1.8681907 , -0.35580824],\n",
       "        [-1.55687153,  0.7243102 ,  0.45881804, ...,  0.43178989,\n",
       "          0.60421038, -0.35580824]]),\n",
       " array([[ 0.81931825, -1.38062393,  2.32023369, -0.4704097 , -0.34544297,\n",
       "          0.60421038, -0.35580824],\n",
       "        [ 0.81931825,  0.7243102 , -0.47188978, -0.4704097 , -0.52506009,\n",
       "          0.60421038, -0.35580824],\n",
       "        [ 0.81931825,  0.7243102 , -0.47188978, -0.4704097 , -0.51314467,\n",
       "          0.60421038, -0.35580824],\n",
       "        [ 0.81931825,  0.7243102 , -0.47188978, -0.4704097 , -0.51646   ,\n",
       "          0.60421038, -0.35580824],\n",
       "        [-1.55687153,  0.7243102 ,  0.45881804, -0.4704097 ,  0.44370531,\n",
       "          0.60421038, -0.35580824],\n",
       "        [ 0.81931825, -1.38062393, -0.47188978,  5.97058468, -0.06002759,\n",
       "         -0.63199016, -0.35580824],\n",
       "        [-0.36877664,  0.7243102 ,  0.45881804, -0.4704097 , -0.12721577,\n",
       "          0.60421038, -0.35580824],\n",
       "        [ 0.81931825,  0.7243102 , -0.47188978, -0.4704097 , -0.53034484,\n",
       "          0.60421038, -0.35580824],\n",
       "        [ 0.81931825,  0.7243102 , -0.47188978, -0.4704097 , -0.53455459,\n",
       "          0.60421038, -0.35580824],\n",
       "        [ 0.81931825,  0.7243102 , -0.47188978, -0.4704097 , -0.51314467,\n",
       "          0.60421038, -0.35580824],\n",
       "        [ 0.81931825, -1.38062393,  1.38952586, -0.4704097 , -0.18634136,\n",
       "         -0.63199016, -0.35580824],\n",
       "        [ 0.81931825,  0.7243102 , -0.47188978, -0.4704097 , -0.51646   ,\n",
       "          0.60421038, -0.35580824],\n",
       "        [ 0.81931825, -1.38062393,  0.45881804, -0.4704097 , -0.34006792,\n",
       "          0.60421038, -0.35580824],\n",
       "        [-1.55687153,  0.7243102 , -0.47188978, -0.4704097 , 10.32896782,\n",
       "         -1.8681907 , -0.35580824],\n",
       "        [ 0.81931825,  0.7243102 , -0.47188978, -0.4704097 , -0.52452259,\n",
       "          0.60421038, -0.35580824],\n",
       "        [ 0.81931825, -1.38062393,  0.45881804,  2.10598805, -0.18204132,\n",
       "          0.60421038, -0.35580824],\n",
       "        [-1.55687153, -1.38062393,  0.45881804, -0.4704097 ,  1.24879815,\n",
       "          0.60421038, -0.35580824],\n",
       "        [ 0.81931825,  0.7243102 ,  3.25094151,  0.81778917,  0.16706846,\n",
       "          0.60421038,  3.82005107],\n",
       "        [ 0.81931825, -1.38062393, -0.47188978, -0.4704097 , -0.51314467,\n",
       "          0.60421038, -0.35580824],\n",
       "        [-1.55687153, -1.38062393, -0.47188978, -0.4704097 ,  0.37812965,\n",
       "         -1.8681907 , -0.35580824],\n",
       "        [-0.36877664, -1.38062393, -0.47188978, -0.4704097 , -0.40671859,\n",
       "          0.60421038, -0.35580824],\n",
       "        [-0.36877664, -1.38062393, -0.47188978, -0.4704097 , -0.46046914,\n",
       "          0.60421038,  3.82005107],\n",
       "        [ 0.81931825,  0.7243102 , -0.47188978, -0.4704097 , -0.53464489,\n",
       "          0.60421038, -0.35580824],\n",
       "        [ 0.81931825,  0.7243102 , -0.47188978, -0.4704097 , -0.51314467,\n",
       "          0.60421038, -0.35580824],\n",
       "        [-0.36877664, -1.38062393,  1.38952586,  0.81778917, -0.10571555,\n",
       "          0.60421038, -0.35580824],\n",
       "        [ 0.81931825, -1.38062393, -0.47188978, -0.4704097 , -0.51959474,\n",
       "         -0.63199016, -0.35580824],\n",
       "        [ 0.81931825,  0.7243102 ,  1.38952586, -0.4704097 , -0.18634136,\n",
       "         -0.63199016, -0.35580824],\n",
       "        [ 0.81931825, -1.38062393, -0.47188978, -0.4704097 , -0.51959474,\n",
       "         -0.63199016, -0.35580824],\n",
       "        [ 0.81931825,  0.7243102 , -0.47188978, -0.4704097 , -0.36156814,\n",
       "          0.60421038, -0.35580824],\n",
       "        [ 0.81931825,  0.7243102 , -0.47188978, -0.4704097 , -0.28228609,\n",
       "         -1.8681907 , -0.35580824],\n",
       "        [-0.36877664, -1.38062393,  0.45881804, -0.4704097 , -0.12721577,\n",
       "          0.60421038, -0.35580824],\n",
       "        [ 0.81931825,  0.7243102 , -0.47188978, -0.4704097 , -0.51314467,\n",
       "          0.60421038, -0.35580824],\n",
       "        [-1.55687153,  0.7243102 , -0.47188978, -0.4704097 , -0.68622142,\n",
       "          0.60421038, -0.35580824],\n",
       "        [-1.55687153,  0.7243102 ,  0.45881804, -0.4704097 ,  0.50578719,\n",
       "         -1.8681907 , -0.35580824],\n",
       "        [-0.36877664, -1.38062393,  0.45881804,  0.81778917,  0.15228706,\n",
       "          0.60421038, -0.35580824],\n",
       "        [ 0.81931825, -1.38062393,  3.25094151,  2.10598805, -0.01380212,\n",
       "          0.60421038,  1.03614487],\n",
       "        [-1.55687153, -1.38062393,  0.45881804, -0.4704097 ,  2.18728265,\n",
       "          0.60421038, -0.35580824],\n",
       "        [-1.55687153, -1.38062393, -0.47188978, -0.4704097 , 10.32896782,\n",
       "         -1.8681907 , -0.35580824],\n",
       "        [ 0.81931825,  0.7243102 , -0.47188978, -0.4704097 , -0.53464489,\n",
       "          0.60421038, -0.35580824],\n",
       "        [-1.55687153,  0.7243102 ,  0.45881804,  2.10598805,  2.57213654,\n",
       "          0.60421038,  1.03614487],\n",
       "        [-1.55687153, -1.38062393,  0.45881804,  2.10598805,  1.89380468,\n",
       "          0.60421038,  3.82005107],\n",
       "        [ 0.81931825, -1.38062393, -0.47188978,  0.81778917, -0.37545298,\n",
       "         -1.8681907 , -0.35580824],\n",
       "        [-0.36877664,  0.7243102 , -0.47188978, -0.4704097 , -0.40671859,\n",
       "          0.60421038, -0.35580824],\n",
       "        [ 0.81931825,  0.7243102 , -0.47188978, -0.4704097 , -0.52389478,\n",
       "          0.60421038, -0.35580824],\n",
       "        [ 0.81931825, -1.38062393, -0.47188978, -0.4704097 , -0.51959474,\n",
       "         -0.63199016, -0.35580824],\n",
       "        [ 0.81931825, -1.38062393, -0.47188978, -0.4704097 , -0.51959474,\n",
       "         -0.63199016, -0.35580824],\n",
       "        [-0.36877664, -1.38062393, -0.47188978, -0.4704097 , -0.34221794,\n",
       "          0.60421038, -0.35580824],\n",
       "        [ 0.81931825, -1.38062393, -0.47188978,  2.10598805, -0.34777145,\n",
       "         -1.8681907 ,  1.03614487],\n",
       "        [-1.55687153,  0.7243102 , -0.47188978, -0.4704097 , -0.0412149 ,\n",
       "         -1.8681907 , -0.35580824],\n",
       "        [ 0.81931825,  0.7243102 ,  0.45881804, -0.4704097 , -0.53455459,\n",
       "          0.60421038,  3.82005107],\n",
       "        [ 0.81931825,  0.7243102 ,  0.45881804, -0.4704097 , -0.16699117,\n",
       "         -0.63199016, -0.35580824],\n",
       "        [-1.55687153, -1.38062393,  0.45881804, -0.4704097 ,  0.42883361,\n",
       "          0.60421038, -0.35580824],\n",
       "        [-0.36877664, -1.38062393, -0.47188978, -0.4704097 , -0.40671859,\n",
       "          0.60421038, -0.35580824],\n",
       "        [ 0.81931825,  0.7243102 , -0.47188978, -0.4704097 , -0.5158322 ,\n",
       "          0.60421038, -0.35580824],\n",
       "        [ 0.81931825,  0.7243102 , -0.47188978, -0.4704097 , -0.51995379,\n",
       "         -0.63199016, -0.35580824],\n",
       "        [ 0.81931825,  0.7243102 , -0.47188978, -0.4704097 , -0.51314467,\n",
       "          0.60421038, -0.35580824],\n",
       "        [ 0.81931825,  0.7243102 , -0.47188978, -0.4704097 , -0.35296805,\n",
       "         -0.63199016, -0.35580824],\n",
       "        [-1.55687153,  0.7243102 , -0.47188978,  0.81778917,  0.97547664,\n",
       "          0.60421038, -0.35580824],\n",
       "        [-1.55687153, -1.38062393, -0.47188978, -0.4704097 , -0.09021819,\n",
       "         -1.8681907 , -0.35580824],\n",
       "        [-0.36877664,  0.7243102 ,  0.45881804,  0.81778917, -0.28309234,\n",
       "          0.60421038,  1.03614487],\n",
       "        [-0.36877664,  0.7243102 , -0.47188978, -0.4704097 , -0.46046914,\n",
       "          0.60421038, -0.35580824],\n",
       "        [ 0.81931825,  0.7243102 ,  0.45881804,  2.10598805, -0.24385445,\n",
       "          0.60421038,  1.03614487],\n",
       "        [-0.36877664,  0.7243102 , -0.47188978, -0.4704097 , -0.43896892,\n",
       "          0.60421038, -0.35580824],\n",
       "        [-0.36877664, -1.38062393, -0.47188978, -0.4704097 , -0.42069374,\n",
       "         -0.63199016, -0.35580824],\n",
       "        [ 0.81931825, -1.38062393, -0.47188978, -0.4704097 , -0.51789192,\n",
       "         -0.63199016, -0.35580824],\n",
       "        [ 0.81931825,  0.7243102 ,  0.45881804,  4.6823858 , -0.08636535,\n",
       "          0.60421038, -0.35580824],\n",
       "        [ 0.81931825,  0.7243102 , -0.47188978, -0.4704097 , -0.51646   ,\n",
       "          0.60421038, -0.35580824],\n",
       "        [ 0.81931825,  0.7243102 , -0.47188978, -0.4704097 , -0.51314467,\n",
       "          0.60421038, -0.35580824],\n",
       "        [ 0.81931825,  0.7243102 , -0.47188978, -0.4704097 , -0.48196936,\n",
       "          0.60421038, -0.35580824],\n",
       "        [-1.55687153, -1.38062393, -0.47188978,  0.81778917,  0.16088715,\n",
       "          0.60421038,  3.82005107],\n",
       "        [ 0.81931825,  0.7243102 , -0.47188978,  0.81778917, -0.50552929,\n",
       "          0.60421038, -0.35580824],\n",
       "        [ 0.81931825,  0.7243102 ,  0.45881804,  0.81778917, -0.25164828,\n",
       "          0.60421038, -0.35580824],\n",
       "        [ 0.81931825,  0.7243102 , -0.47188978, -0.4704097 , -0.53034484,\n",
       "          0.60421038, -0.35580824],\n",
       "        [-1.55687153,  0.7243102 ,  0.45881804, -0.4704097 ,  0.43178989,\n",
       "          0.60421038, -0.35580824],\n",
       "        [-1.55687153,  0.7243102 , -0.47188978, -0.4704097 , -0.11539065,\n",
       "          0.60421038, -0.35580824],\n",
       "        [ 0.81931825, -1.38062393, -0.47188978, -0.4704097 , -0.51646   ,\n",
       "          0.60421038, -0.35580824],\n",
       "        [ 0.81931825,  0.7243102 , -0.47188978, -0.4704097 , -0.50015424,\n",
       "          0.60421038, -0.35580824],\n",
       "        [-0.36877664, -1.38062393, -0.47188978, -0.4704097 , -0.40671859,\n",
       "          0.60421038, -0.35580824],\n",
       "        [ 0.81931825, -1.38062393, -0.47188978,  4.6823858 , -0.23310434,\n",
       "          0.60421038, -0.35580824],\n",
       "        [ 0.81931825,  0.7243102 , -0.47188978, -0.4704097 , -0.51905723,\n",
       "          0.60421038, -0.35580824],\n",
       "        [-0.36877664, -1.38062393,  0.45881804, -0.4704097 , -0.12721577,\n",
       "          0.60421038, -0.35580824],\n",
       "        [-0.36877664, -1.38062393, -0.47188978,  0.81778917, -0.12721577,\n",
       "          0.60421038, -0.35580824],\n",
       "        [ 0.81931825, -1.38062393,  0.45881804, -0.4704097 , -0.34006792,\n",
       "          0.60421038, -0.35580824],\n",
       "        [-0.36877664,  0.7243102 , -0.47188978, -0.4704097 , -0.46046914,\n",
       "          0.60421038, -0.35580824],\n",
       "        [ 0.81931825, -1.38062393, -0.47188978,  2.10598805, -0.25164828,\n",
       "          0.60421038, -0.35580824],\n",
       "        [ 0.81931825,  0.7243102 , -0.47188978, -0.4704097 , -0.54754502,\n",
       "          0.60421038, -0.35580824],\n",
       "        [-0.36877664,  0.7243102 , -0.47188978, -0.4704097 , -0.40671859,\n",
       "          0.60421038, -0.35580824],\n",
       "        [ 0.81931825,  0.7243102 , -0.47188978, -0.4704097 , -0.51905723,\n",
       "          0.60421038, -0.35580824],\n",
       "        [-1.55687153,  0.7243102 , -0.47188978, -0.4704097 , -0.57872033,\n",
       "          0.60421038, -0.35580824],\n",
       "        [ 0.81931825, -1.38062393, -0.47188978, -0.4704097 , -0.49952858,\n",
       "          0.60421038, -0.35580824]]),\n",
       "      Pclass  Sex  SibSp  Parch      Fare  Embarked  AgeGroup\n",
       " 446       2    0      0      1   19.5000         2         3\n",
       " 13        3    1      1      5   31.2750         2         0\n",
       " 357       2    0      0      0   13.0000         2         0\n",
       " 353       3    1      1      0   17.8000         2         0\n",
       " 269       1    0      0      0  135.6333         2         0\n",
       " ..      ...  ...    ...    ...       ...       ...       ...\n",
       " 606       3    1      0      0    7.8958         2         0\n",
       " 829       1    0      0      0   80.0000         2         0\n",
       " 364       3    1      1      0   15.5000         1         0\n",
       " 161       2    0      0      0   15.7500         2         0\n",
       " 417       2    0      0      2   13.0000         2         0\n",
       " \n",
       " [89 rows x 7 columns],\n",
       " 302    0\n",
       " 511    0\n",
       " 283    1\n",
       " 356    1\n",
       " 656    0\n",
       "       ..\n",
       " 331    0\n",
       " 313    0\n",
       " 373    0\n",
       " 544    0\n",
       " 712    1\n",
       " Name: Survived, Length: 712, dtype: int64,\n",
       " 446    1\n",
       " 13     0\n",
       " 357    0\n",
       " 353    0\n",
       " 269    1\n",
       "       ..\n",
       " 606    0\n",
       " 829    1\n",
       " 364    0\n",
       " 161    1\n",
       " 417    1\n",
       " Name: Survived, Length: 89, dtype: int64,\n",
       " 85     1\n",
       " 663    0\n",
       " 588    0\n",
       " 794    0\n",
       " 621    1\n",
       "       ..\n",
       " 818    0\n",
       " 864    0\n",
       " 675    0\n",
       " 872    0\n",
       " 797    1\n",
       " Name: Survived, Length: 90, dtype: int64)"
      ]
     },
     "execution_count": 47,
     "metadata": {},
     "output_type": "execute_result"
    }
   ],
   "source": [
    "## Perform data prep\n",
    "prep_data2(df_modeling)"
   ]
  },
  {
   "cell_type": "markdown",
   "metadata": {},
   "source": [
    "## Create functions to score models"
   ]
  },
  {
   "cell_type": "code",
   "execution_count": 48,
   "metadata": {},
   "outputs": [],
   "source": [
    "# Functions for scoring models\n",
    "def accuracy(actuals, preds):\n",
    "    return np.mean(actuals == preds)\n",
    "\n",
    "def precision(actuals, preds):\n",
    "    tp = np.sum((actuals == 1) & (preds == 1))\n",
    "    fp = np.sum((actuals == 0) & (preds == 1))\n",
    "    return tp / (tp + fp)\n",
    "\n",
    "def recall(actuals, preds):\n",
    "    tp = np.sum((actuals == 1) & (preds == 1))\n",
    "    fn = np.sum((actuals == 1) & (preds == 0))\n",
    "    return tp / (tp + fn)\n",
    "\n",
    "def F1(actuals, preds):\n",
    "    p, r = precision(actuals, preds), recall(actuals, preds)\n",
    "    return 2*p*r / (p + r)"
   ]
  },
  {
   "cell_type": "markdown",
   "metadata": {},
   "source": [
    "### Use several models on data"
   ]
  },
  {
   "cell_type": "code",
   "execution_count": 169,
   "metadata": {},
   "outputs": [],
   "source": [
    "#Create a function within many Machine Learning Models\n",
    "def models(X_train,y_train):\n",
    "  \n",
    "    #Using Logistic Regression Algorithm to the Training Set\n",
    "    from sklearn.linear_model import LogisticRegression\n",
    "    log = LogisticRegression(random_state = 0)\n",
    "    log.fit(X_train, y_train)\n",
    "    \n",
    "    #Using KNeighborsClassifier Method of neighbors class to use Nearest Neighbor algorithm\n",
    "    from sklearn.neighbors import KNeighborsClassifier\n",
    "    knn = KNeighborsClassifier(n_neighbors = 5, metric = 'minkowski', p = 2)\n",
    "    knn.fit(X_train, y_train)\n",
    "\n",
    "    #Using SVC method of svm class to use Support Vector Machine Algorithm\n",
    "    from sklearn.svm import SVC\n",
    "    svc_lin = SVC(kernel = 'linear', random_state = 0)\n",
    "    svc_lin.fit(X_train, y_train)\n",
    "\n",
    "    #Using SVC method of svm class to use Kernel SVM Algorithm\n",
    "    from sklearn.svm import SVC\n",
    "    svc_rbf = SVC(kernel = 'rbf', random_state = 0)\n",
    "    svc_rbf.fit(X_train, y_train)\n",
    "\n",
    "    #Using GaussianNB method of naïve_bayes class to use Naïve Bayes Algorithm\n",
    "    from sklearn.naive_bayes import GaussianNB\n",
    "    gauss = GaussianNB()\n",
    "    gauss.fit(X_train, y_train)\n",
    "\n",
    "    #Using DecisionTreeClassifier of tree class to use Decision Tree Algorithm\n",
    "    from sklearn.tree import DecisionTreeClassifier\n",
    "    tree = DecisionTreeClassifier(criterion = 'entropy', random_state = 0)\n",
    "    tree.fit(X_train, y_train)\n",
    "\n",
    "    #Using RandomForestClassifier method of ensemble class to use Random Forest Classification algorithm\n",
    "    from sklearn.ensemble import RandomForestClassifier\n",
    "    forest = RandomForestClassifier(n_estimators = 10, criterion = 'entropy', random_state = 0)\n",
    "    forest.fit(X_train, y_train)\n",
    "    \n",
    "    \n",
    "    #Using ADABOOST\n",
    "    from sklearn.ensemble import AdaBoostClassifier\n",
    "    adaBoost = AdaBoostClassifier(DecisionTreeClassifier(max_depth=1), n_estimators=200,Learn_Rate=1.8)\n",
    "    adaBoost.fit(X_train, y_train)\n",
    "    \n",
    "    #Using XGBoost\n",
    "    from sklearn.ensemble import AdaBoostClassifier\n",
    "    xgboost = xgb.XGBClassifier()\n",
    "    xgboost.fit(X_train, y_train)    \n",
    "\n",
    "\n",
    "    #print model accuracy on the training data.\n",
    "    #print('[0]Logistic Regression Training Accuracy:', log.score(X_train, y_train))\n",
    "    #print('[2]Support Vector Machine (Linear Classifier) Training Accuracy:', svc_lin.score(X_train, y_train))\n",
    "    #print('[3]Support Vector Machine (RBF Classifier) Training Accuracy:', svc_rbf.score(X_train, y_train))\n",
    "    #print('[4]Gaussian Naive Bayes Training Accuracy:', gauss.score(X_train, y_train))\n",
    "    #print('[5]Decision Tree Classifier Training Accuracy:', tree.score(X_train, y_train))\n",
    "    #print('[6]Random Forest Classifier Training Accuracy:', forest.score(X_train, y_train))\n",
    "    print(' ')    \n",
    "   \n",
    "    \n",
    "    #print('[1]K Nearest Neighbor Training Accuracy:', knn.score(X_train, Y_train))\n",
    "    print('[0]K Nearest Neighbor Training Metrics: \\n Model score: %.4f \\n Accuracy: %.4f \\n Precision: %.4f \\n Recall: %.4f \\n F1: %.4f' %\n",
    "    (knn.score(X_train, y_train),\n",
    "     accuracy(y_test, knn.predict(X_test)), \n",
    "     precision(y_test, knn.predict(X_test)), \n",
    "     recall(y_test, knn.predict(X_test)),\n",
    "     F1(y_test, knn.predict(X_test))\n",
    "           )\n",
    "       )       \n",
    "    print('---------------------')    \n",
    "    print('[1]AdaBoost Classifier Training Metrics: \\n Model score: %.4f \\n Accuracy: %.4f \\n Precision: %.4f \\n Recall: %.4f \\n F1: %.4f' %\n",
    "    (adaBoost.score(X_train, y_train),\n",
    "     accuracy(y_test, adaBoost.predict(X_test)), \n",
    "     precision(y_test, adaBoost.predict(X_test)), \n",
    "     recall(y_test, adaBoost.predict(X_test)),\n",
    "     F1(y_test, adaBoost.predict(X_test))\n",
    "           )\n",
    "       )       \n",
    "    print('---------------------')    \n",
    "    print('[2]RandomForestClassifier Training Metrics: \\n Model score: %.4f \\n Accuracy: %.4f \\n Precision: %.4f \\n Recall: %.4f \\n F1: %.4f' %\n",
    "    (forest.score(X_train, y_train),\n",
    "     accuracy(y_test, forest.predict(X_test)), \n",
    "     precision(y_test, forest.predict(X_test)), \n",
    "     recall(y_test, forest.predict(X_test)),\n",
    "     F1(y_test, forest.predict(X_test))\n",
    "           )\n",
    "       )   \n",
    "    print(' ')      \n",
    "    print('Other Models:\\n')\n",
    "    print('[3]Logistic Regression Training Accuracy:', log.score(X_train, y_train))\n",
    "    print('[4]Support Vector Machine (Linear Classifier) Training Accuracy:', svc_lin.score(X_train, y_train))\n",
    "    print('[5]Support Vector Machine (RBF Classifier) Training Accuracy:', svc_rbf.score(X_train, y_train))\n",
    "    print('[6]Gaussian Naive Bayes Training Accuracy:', gauss.score(X_train, y_train))\n",
    "    print('[7]Decision Tree Classifier Training Accuracy:', tree.score(X_train, y_train))\n",
    "    print('[8]Random Forest Classifier Training Accuracy:', forest.score(X_train, y_train))    \n",
    "    print('[9]XGBoost Classifier Training Accuracy:', xgboost.score(X_train, y_train)) \n",
    "    \n",
    "\n",
    "    return log, knn, svc_lin, svc_rbf, gauss, tree, forest, adaBoost, xgboost"
   ]
  },
  {
   "cell_type": "markdown",
   "metadata": {},
   "source": [
    "## Get and train all of the models"
   ]
  },
  {
   "cell_type": "code",
   "execution_count": 170,
   "metadata": {},
   "outputs": [
    {
     "ename": "TypeError",
     "evalue": "__init__() got an unexpected keyword argument 'Learn_Rate'",
     "output_type": "error",
     "traceback": [
      "\u001b[0;31m---------------------------------------------------------------------------\u001b[0m",
      "\u001b[0;31mTypeError\u001b[0m                                 Traceback (most recent call last)",
      "\u001b[0;32m<ipython-input-170-586ea129f378>\u001b[0m in \u001b[0;36m<module>\u001b[0;34m\u001b[0m\n\u001b[0;32m----> 1\u001b[0;31m \u001b[0mmodel\u001b[0m \u001b[0;34m=\u001b[0m \u001b[0mmodels\u001b[0m\u001b[0;34m(\u001b[0m\u001b[0mX_train\u001b[0m\u001b[0;34m,\u001b[0m\u001b[0my_train\u001b[0m\u001b[0;34m)\u001b[0m\u001b[0;34m\u001b[0m\u001b[0;34m\u001b[0m\u001b[0m\n\u001b[0m",
      "\u001b[0;32m<ipython-input-169-bf54cc2ad9fb>\u001b[0m in \u001b[0;36mmodels\u001b[0;34m(X_train, y_train)\u001b[0m\n\u001b[1;32m     40\u001b[0m     \u001b[0;31m#Using ADABOOST\u001b[0m\u001b[0;34m\u001b[0m\u001b[0;34m\u001b[0m\u001b[0;34m\u001b[0m\u001b[0m\n\u001b[1;32m     41\u001b[0m     \u001b[0;32mfrom\u001b[0m \u001b[0msklearn\u001b[0m\u001b[0;34m.\u001b[0m\u001b[0mensemble\u001b[0m \u001b[0;32mimport\u001b[0m \u001b[0mAdaBoostClassifier\u001b[0m\u001b[0;34m\u001b[0m\u001b[0;34m\u001b[0m\u001b[0m\n\u001b[0;32m---> 42\u001b[0;31m     \u001b[0madaBoost\u001b[0m \u001b[0;34m=\u001b[0m \u001b[0mAdaBoostClassifier\u001b[0m\u001b[0;34m(\u001b[0m\u001b[0mDecisionTreeClassifier\u001b[0m\u001b[0;34m(\u001b[0m\u001b[0mmax_depth\u001b[0m\u001b[0;34m=\u001b[0m\u001b[0;36m1\u001b[0m\u001b[0;34m)\u001b[0m\u001b[0;34m,\u001b[0m \u001b[0mn_estimators\u001b[0m\u001b[0;34m=\u001b[0m\u001b[0;36m200\u001b[0m\u001b[0;34m,\u001b[0m\u001b[0mLearn_Rate\u001b[0m\u001b[0;34m=\u001b[0m\u001b[0;36m1.8\u001b[0m\u001b[0;34m)\u001b[0m\u001b[0;34m\u001b[0m\u001b[0;34m\u001b[0m\u001b[0m\n\u001b[0m\u001b[1;32m     43\u001b[0m     \u001b[0madaBoost\u001b[0m\u001b[0;34m.\u001b[0m\u001b[0mfit\u001b[0m\u001b[0;34m(\u001b[0m\u001b[0mX_train\u001b[0m\u001b[0;34m,\u001b[0m \u001b[0my_train\u001b[0m\u001b[0;34m)\u001b[0m\u001b[0;34m\u001b[0m\u001b[0;34m\u001b[0m\u001b[0m\n\u001b[1;32m     44\u001b[0m \u001b[0;34m\u001b[0m\u001b[0m\n",
      "\u001b[0;32m~/opt/anaconda3/lib/python3.8/site-packages/sklearn/utils/validation.py\u001b[0m in \u001b[0;36minner_f\u001b[0;34m(*args, **kwargs)\u001b[0m\n\u001b[1;32m     61\u001b[0m             \u001b[0mextra_args\u001b[0m \u001b[0;34m=\u001b[0m \u001b[0mlen\u001b[0m\u001b[0;34m(\u001b[0m\u001b[0margs\u001b[0m\u001b[0;34m)\u001b[0m \u001b[0;34m-\u001b[0m \u001b[0mlen\u001b[0m\u001b[0;34m(\u001b[0m\u001b[0mall_args\u001b[0m\u001b[0;34m)\u001b[0m\u001b[0;34m\u001b[0m\u001b[0;34m\u001b[0m\u001b[0m\n\u001b[1;32m     62\u001b[0m             \u001b[0;32mif\u001b[0m \u001b[0mextra_args\u001b[0m \u001b[0;34m<=\u001b[0m \u001b[0;36m0\u001b[0m\u001b[0;34m:\u001b[0m\u001b[0;34m\u001b[0m\u001b[0;34m\u001b[0m\u001b[0m\n\u001b[0;32m---> 63\u001b[0;31m                 \u001b[0;32mreturn\u001b[0m \u001b[0mf\u001b[0m\u001b[0;34m(\u001b[0m\u001b[0;34m*\u001b[0m\u001b[0margs\u001b[0m\u001b[0;34m,\u001b[0m \u001b[0;34m**\u001b[0m\u001b[0mkwargs\u001b[0m\u001b[0;34m)\u001b[0m\u001b[0;34m\u001b[0m\u001b[0;34m\u001b[0m\u001b[0m\n\u001b[0m\u001b[1;32m     64\u001b[0m \u001b[0;34m\u001b[0m\u001b[0m\n\u001b[1;32m     65\u001b[0m             \u001b[0;31m# extra_args > 0\u001b[0m\u001b[0;34m\u001b[0m\u001b[0;34m\u001b[0m\u001b[0;34m\u001b[0m\u001b[0m\n",
      "\u001b[0;31mTypeError\u001b[0m: __init__() got an unexpected keyword argument 'Learn_Rate'"
     ]
    }
   ],
   "source": [
    "\n",
    "model = models(X_train,y_train)"
   ]
  },
  {
   "cell_type": "code",
   "execution_count": 71,
   "metadata": {},
   "outputs": [
    {
     "data": {
      "text/plain": [
       "9"
      ]
     },
     "execution_count": 71,
     "metadata": {},
     "output_type": "execute_result"
    }
   ],
   "source": [
    "len(model)"
   ]
  },
  {
   "cell_type": "markdown",
   "metadata": {},
   "source": [
    "### View Confusion Matrix for all Models"
   ]
  },
  {
   "cell_type": "code",
   "execution_count": 72,
   "metadata": {},
   "outputs": [
    {
     "name": "stdout",
     "output_type": "stream",
     "text": [
      "[[87 23]\n",
      " [22 47]]\n",
      "Model[0] Testing Accuracy = \"0.7486033519553073\"\n",
      "\n",
      "[[94 16]\n",
      " [22 47]]\n",
      "Model[1] Testing Accuracy = \"0.7877094972067039\"\n",
      "\n",
      "[[85 25]\n",
      " [23 46]]\n",
      "Model[2] Testing Accuracy = \"0.7318435754189944\"\n",
      "\n",
      "[[89 21]\n",
      " [19 50]]\n",
      "Model[3] Testing Accuracy = \"0.776536312849162\"\n",
      "\n",
      "[[86 24]\n",
      " [22 47]]\n",
      "Model[4] Testing Accuracy = \"0.7430167597765364\"\n",
      "\n",
      "[[94 16]\n",
      " [22 47]]\n",
      "Model[5] Testing Accuracy = \"0.7877094972067039\"\n",
      "\n",
      "[[93 17]\n",
      " [21 48]]\n",
      "Model[6] Testing Accuracy = \"0.7877094972067039\"\n",
      "\n",
      "[[88 22]\n",
      " [20 49]]\n",
      "Model[7] Testing Accuracy = \"0.7653631284916201\"\n",
      "\n",
      "[[97 13]\n",
      " [20 49]]\n",
      "Model[8] Testing Accuracy = \"0.8156424581005587\"\n",
      "\n"
     ]
    }
   ],
   "source": [
    "from sklearn.metrics import confusion_matrix \n",
    "for i in range(len(model)):\n",
    "    cm = confusion_matrix(y_test, model[i].predict(X_test)) \n",
    "    #extracting TN, FP, FN, TP\n",
    "    TN, FP, FN, TP = confusion_matrix(y_test, model[i].predict(X_test)).ravel()\n",
    "    print(cm)\n",
    "    print('Model[{}] Testing Accuracy = \"{}\"'.format(i,  (TP + TN) / (TP + TN + FN + FP)))\n",
    "\n",
    "\n",
    "    print()# Print a new line"
   ]
  },
  {
   "cell_type": "markdown",
   "metadata": {},
   "source": [
    "---------------------------"
   ]
  },
  {
   "cell_type": "markdown",
   "metadata": {},
   "source": [
    "## TUNING MODELS"
   ]
  },
  {
   "cell_type": "markdown",
   "metadata": {},
   "source": [
    "--------------------"
   ]
  },
  {
   "cell_type": "markdown",
   "metadata": {},
   "source": [
    "## Tuning kNN"
   ]
  },
  {
   "cell_type": "code",
   "execution_count": null,
   "metadata": {},
   "outputs": [],
   "source": []
  },
  {
   "cell_type": "code",
   "execution_count": null,
   "metadata": {},
   "outputs": [],
   "source": []
  },
  {
   "cell_type": "code",
   "execution_count": null,
   "metadata": {},
   "outputs": [],
   "source": []
  },
  {
   "cell_type": "code",
   "execution_count": 73,
   "metadata": {},
   "outputs": [],
   "source": [
    "def tune_knn(X_train,y_train):\n",
    "    #Using KNeighborsClassifier Method of neighbors class to use Nearest Neighbor algorithm\n",
    "    from sklearn.neighbors import KNeighborsClassifier    \n",
    "    scores_dict = {}\n",
    "    scores_df = pd.DataFrame()\n",
    "    k_lst = []\n",
    "    acc_lst = []\n",
    "    score_lst = []\n",
    "    precision_lst = []\n",
    "    recall_lst = []\n",
    "    f1_lst = []\n",
    "    for n in range(3,16,1):\n",
    " \n",
    "        knn = KNeighborsClassifier(n_neighbors = n, metric = 'minkowski', p = 2)\n",
    "        knn.fit(X_train, y_train)\n",
    "        \n",
    "        k_lst.append(n)\n",
    "        score_lst.append(knn.score(X_train, y_train))\n",
    "        acc_lst.append(accuracy(y_test, knn.predict(X_test)) )\n",
    "        precision_lst.append(precision(y_test, knn.predict(X_test)))\n",
    "        recall_lst.append(recall(y_test, knn.predict(X_test)))\n",
    "        f1_lst.append( F1(y_test, knn.predict(X_test))  )\n",
    "  \n",
    "        #scores_df.append(scores_dict,ignore_index=True)\n",
    "    # dictionary of lists \n",
    "    dict = {'K': k_lst, \n",
    "            'Score': score_lst,\n",
    "            'Accuracy': acc_lst,\n",
    "            'Precision':precision_lst,\n",
    "            'Recall': recall_lst,\n",
    "            'F1': f1_lst}  \n",
    "    df_knn = pd.DataFrame(dict) \n",
    "    df_knn.sort_values(by='Accuracy', ascending = False, inplace=True)\n",
    "    return df_knn"
   ]
  },
  {
   "cell_type": "code",
   "execution_count": 74,
   "metadata": {},
   "outputs": [],
   "source": [
    "knn_results = tune_knn(X_train,y_train)\n"
   ]
  },
  {
   "cell_type": "code",
   "execution_count": 80,
   "metadata": {},
   "outputs": [
    {
     "data": {
      "text/html": [
       "<style  type=\"text/css\" >\n",
       "#T_d9a4db14_5d32_11ec_8396_acde48001122row0_col2,#T_d9a4db14_5d32_11ec_8396_acde48001122row0_col3,#T_d9a4db14_5d32_11ec_8396_acde48001122row0_col5,#T_d9a4db14_5d32_11ec_8396_acde48001122row10_col0,#T_d9a4db14_5d32_11ec_8396_acde48001122row11_col1,#T_d9a4db14_5d32_11ec_8396_acde48001122row11_col4{\n",
       "            background-color:  lightgreen;\n",
       "        }#T_d9a4db14_5d32_11ec_8396_acde48001122row9_col1,#T_d9a4db14_5d32_11ec_8396_acde48001122row11_col0,#T_d9a4db14_5d32_11ec_8396_acde48001122row11_col3,#T_d9a4db14_5d32_11ec_8396_acde48001122row12_col2,#T_d9a4db14_5d32_11ec_8396_acde48001122row12_col4,#T_d9a4db14_5d32_11ec_8396_acde48001122row12_col5{\n",
       "            background-color:  coral;\n",
       "        }</style><table id=\"T_d9a4db14_5d32_11ec_8396_acde48001122\" ><thead>    <tr>        <th class=\"blank level0\" ></th>        <th class=\"col_heading level0 col0\" >K</th>        <th class=\"col_heading level0 col1\" >Score</th>        <th class=\"col_heading level0 col2\" >Accuracy</th>        <th class=\"col_heading level0 col3\" >Precision</th>        <th class=\"col_heading level0 col4\" >Recall</th>        <th class=\"col_heading level0 col5\" >F1</th>    </tr></thead><tbody>\n",
       "                <tr>\n",
       "                        <th id=\"T_d9a4db14_5d32_11ec_8396_acde48001122level0_row0\" class=\"row_heading level0 row0\" >7</th>\n",
       "                        <td id=\"T_d9a4db14_5d32_11ec_8396_acde48001122row0_col0\" class=\"data row0 col0\" >10.00</td>\n",
       "                        <td id=\"T_d9a4db14_5d32_11ec_8396_acde48001122row0_col1\" class=\"data row0 col1\" >0.84</td>\n",
       "                        <td id=\"T_d9a4db14_5d32_11ec_8396_acde48001122row0_col2\" class=\"data row0 col2\" >0.82</td>\n",
       "                        <td id=\"T_d9a4db14_5d32_11ec_8396_acde48001122row0_col3\" class=\"data row0 col3\" >0.82</td>\n",
       "                        <td id=\"T_d9a4db14_5d32_11ec_8396_acde48001122row0_col4\" class=\"data row0 col4\" >0.67</td>\n",
       "                        <td id=\"T_d9a4db14_5d32_11ec_8396_acde48001122row0_col5\" class=\"data row0 col5\" >0.74</td>\n",
       "            </tr>\n",
       "            <tr>\n",
       "                        <th id=\"T_d9a4db14_5d32_11ec_8396_acde48001122level0_row1\" class=\"row_heading level0 row1\" >5</th>\n",
       "                        <td id=\"T_d9a4db14_5d32_11ec_8396_acde48001122row1_col0\" class=\"data row1 col0\" >8.00</td>\n",
       "                        <td id=\"T_d9a4db14_5d32_11ec_8396_acde48001122row1_col1\" class=\"data row1 col1\" >0.85</td>\n",
       "                        <td id=\"T_d9a4db14_5d32_11ec_8396_acde48001122row1_col2\" class=\"data row1 col2\" >0.81</td>\n",
       "                        <td id=\"T_d9a4db14_5d32_11ec_8396_acde48001122row1_col3\" class=\"data row1 col3\" >0.81</td>\n",
       "                        <td id=\"T_d9a4db14_5d32_11ec_8396_acde48001122row1_col4\" class=\"data row1 col4\" >0.67</td>\n",
       "                        <td id=\"T_d9a4db14_5d32_11ec_8396_acde48001122row1_col5\" class=\"data row1 col5\" >0.73</td>\n",
       "            </tr>\n",
       "            <tr>\n",
       "                        <th id=\"T_d9a4db14_5d32_11ec_8396_acde48001122level0_row2\" class=\"row_heading level0 row2\" >6</th>\n",
       "                        <td id=\"T_d9a4db14_5d32_11ec_8396_acde48001122row2_col0\" class=\"data row2 col0\" >9.00</td>\n",
       "                        <td id=\"T_d9a4db14_5d32_11ec_8396_acde48001122row2_col1\" class=\"data row2 col1\" >0.84</td>\n",
       "                        <td id=\"T_d9a4db14_5d32_11ec_8396_acde48001122row2_col2\" class=\"data row2 col2\" >0.81</td>\n",
       "                        <td id=\"T_d9a4db14_5d32_11ec_8396_acde48001122row2_col3\" class=\"data row2 col3\" >0.80</td>\n",
       "                        <td id=\"T_d9a4db14_5d32_11ec_8396_acde48001122row2_col4\" class=\"data row2 col4\" >0.68</td>\n",
       "                        <td id=\"T_d9a4db14_5d32_11ec_8396_acde48001122row2_col5\" class=\"data row2 col5\" >0.73</td>\n",
       "            </tr>\n",
       "            <tr>\n",
       "                        <th id=\"T_d9a4db14_5d32_11ec_8396_acde48001122level0_row3\" class=\"row_heading level0 row3\" >8</th>\n",
       "                        <td id=\"T_d9a4db14_5d32_11ec_8396_acde48001122row3_col0\" class=\"data row3 col0\" >11.00</td>\n",
       "                        <td id=\"T_d9a4db14_5d32_11ec_8396_acde48001122row3_col1\" class=\"data row3 col1\" >0.85</td>\n",
       "                        <td id=\"T_d9a4db14_5d32_11ec_8396_acde48001122row3_col2\" class=\"data row3 col2\" >0.80</td>\n",
       "                        <td id=\"T_d9a4db14_5d32_11ec_8396_acde48001122row3_col3\" class=\"data row3 col3\" >0.77</td>\n",
       "                        <td id=\"T_d9a4db14_5d32_11ec_8396_acde48001122row3_col4\" class=\"data row3 col4\" >0.68</td>\n",
       "                        <td id=\"T_d9a4db14_5d32_11ec_8396_acde48001122row3_col5\" class=\"data row3 col5\" >0.72</td>\n",
       "            </tr>\n",
       "            <tr>\n",
       "                        <th id=\"T_d9a4db14_5d32_11ec_8396_acde48001122level0_row4\" class=\"row_heading level0 row4\" >9</th>\n",
       "                        <td id=\"T_d9a4db14_5d32_11ec_8396_acde48001122row4_col0\" class=\"data row4 col0\" >12.00</td>\n",
       "                        <td id=\"T_d9a4db14_5d32_11ec_8396_acde48001122row4_col1\" class=\"data row4 col1\" >0.84</td>\n",
       "                        <td id=\"T_d9a4db14_5d32_11ec_8396_acde48001122row4_col2\" class=\"data row4 col2\" >0.79</td>\n",
       "                        <td id=\"T_d9a4db14_5d32_11ec_8396_acde48001122row4_col3\" class=\"data row4 col3\" >0.80</td>\n",
       "                        <td id=\"T_d9a4db14_5d32_11ec_8396_acde48001122row4_col4\" class=\"data row4 col4\" >0.62</td>\n",
       "                        <td id=\"T_d9a4db14_5d32_11ec_8396_acde48001122row4_col5\" class=\"data row4 col5\" >0.70</td>\n",
       "            </tr>\n",
       "            <tr>\n",
       "                        <th id=\"T_d9a4db14_5d32_11ec_8396_acde48001122level0_row5\" class=\"row_heading level0 row5\" >10</th>\n",
       "                        <td id=\"T_d9a4db14_5d32_11ec_8396_acde48001122row5_col0\" class=\"data row5 col0\" >13.00</td>\n",
       "                        <td id=\"T_d9a4db14_5d32_11ec_8396_acde48001122row5_col1\" class=\"data row5 col1\" >0.84</td>\n",
       "                        <td id=\"T_d9a4db14_5d32_11ec_8396_acde48001122row5_col2\" class=\"data row5 col2\" >0.79</td>\n",
       "                        <td id=\"T_d9a4db14_5d32_11ec_8396_acde48001122row5_col3\" class=\"data row5 col3\" >0.79</td>\n",
       "                        <td id=\"T_d9a4db14_5d32_11ec_8396_acde48001122row5_col4\" class=\"data row5 col4\" >0.64</td>\n",
       "                        <td id=\"T_d9a4db14_5d32_11ec_8396_acde48001122row5_col5\" class=\"data row5 col5\" >0.70</td>\n",
       "            </tr>\n",
       "            <tr>\n",
       "                        <th id=\"T_d9a4db14_5d32_11ec_8396_acde48001122level0_row6\" class=\"row_heading level0 row6\" >2</th>\n",
       "                        <td id=\"T_d9a4db14_5d32_11ec_8396_acde48001122row6_col0\" class=\"data row6 col0\" >5.00</td>\n",
       "                        <td id=\"T_d9a4db14_5d32_11ec_8396_acde48001122row6_col1\" class=\"data row6 col1\" >0.85</td>\n",
       "                        <td id=\"T_d9a4db14_5d32_11ec_8396_acde48001122row6_col2\" class=\"data row6 col2\" >0.79</td>\n",
       "                        <td id=\"T_d9a4db14_5d32_11ec_8396_acde48001122row6_col3\" class=\"data row6 col3\" >0.75</td>\n",
       "                        <td id=\"T_d9a4db14_5d32_11ec_8396_acde48001122row6_col4\" class=\"data row6 col4\" >0.68</td>\n",
       "                        <td id=\"T_d9a4db14_5d32_11ec_8396_acde48001122row6_col5\" class=\"data row6 col5\" >0.71</td>\n",
       "            </tr>\n",
       "            <tr>\n",
       "                        <th id=\"T_d9a4db14_5d32_11ec_8396_acde48001122level0_row7\" class=\"row_heading level0 row7\" >4</th>\n",
       "                        <td id=\"T_d9a4db14_5d32_11ec_8396_acde48001122row7_col0\" class=\"data row7 col0\" >7.00</td>\n",
       "                        <td id=\"T_d9a4db14_5d32_11ec_8396_acde48001122row7_col1\" class=\"data row7 col1\" >0.84</td>\n",
       "                        <td id=\"T_d9a4db14_5d32_11ec_8396_acde48001122row7_col2\" class=\"data row7 col2\" >0.79</td>\n",
       "                        <td id=\"T_d9a4db14_5d32_11ec_8396_acde48001122row7_col3\" class=\"data row7 col3\" >0.75</td>\n",
       "                        <td id=\"T_d9a4db14_5d32_11ec_8396_acde48001122row7_col4\" class=\"data row7 col4\" >0.67</td>\n",
       "                        <td id=\"T_d9a4db14_5d32_11ec_8396_acde48001122row7_col5\" class=\"data row7 col5\" >0.71</td>\n",
       "            </tr>\n",
       "            <tr>\n",
       "                        <th id=\"T_d9a4db14_5d32_11ec_8396_acde48001122level0_row8\" class=\"row_heading level0 row8\" >3</th>\n",
       "                        <td id=\"T_d9a4db14_5d32_11ec_8396_acde48001122row8_col0\" class=\"data row8 col0\" >6.00</td>\n",
       "                        <td id=\"T_d9a4db14_5d32_11ec_8396_acde48001122row8_col1\" class=\"data row8 col1\" >0.84</td>\n",
       "                        <td id=\"T_d9a4db14_5d32_11ec_8396_acde48001122row8_col2\" class=\"data row8 col2\" >0.78</td>\n",
       "                        <td id=\"T_d9a4db14_5d32_11ec_8396_acde48001122row8_col3\" class=\"data row8 col3\" >0.75</td>\n",
       "                        <td id=\"T_d9a4db14_5d32_11ec_8396_acde48001122row8_col4\" class=\"data row8 col4\" >0.65</td>\n",
       "                        <td id=\"T_d9a4db14_5d32_11ec_8396_acde48001122row8_col5\" class=\"data row8 col5\" >0.70</td>\n",
       "            </tr>\n",
       "            <tr>\n",
       "                        <th id=\"T_d9a4db14_5d32_11ec_8396_acde48001122level0_row9\" class=\"row_heading level0 row9\" >11</th>\n",
       "                        <td id=\"T_d9a4db14_5d32_11ec_8396_acde48001122row9_col0\" class=\"data row9 col0\" >14.00</td>\n",
       "                        <td id=\"T_d9a4db14_5d32_11ec_8396_acde48001122row9_col1\" class=\"data row9 col1\" >0.83</td>\n",
       "                        <td id=\"T_d9a4db14_5d32_11ec_8396_acde48001122row9_col2\" class=\"data row9 col2\" >0.78</td>\n",
       "                        <td id=\"T_d9a4db14_5d32_11ec_8396_acde48001122row9_col3\" class=\"data row9 col3\" >0.78</td>\n",
       "                        <td id=\"T_d9a4db14_5d32_11ec_8396_acde48001122row9_col4\" class=\"data row9 col4\" >0.61</td>\n",
       "                        <td id=\"T_d9a4db14_5d32_11ec_8396_acde48001122row9_col5\" class=\"data row9 col5\" >0.68</td>\n",
       "            </tr>\n",
       "            <tr>\n",
       "                        <th id=\"T_d9a4db14_5d32_11ec_8396_acde48001122level0_row10\" class=\"row_heading level0 row10\" >12</th>\n",
       "                        <td id=\"T_d9a4db14_5d32_11ec_8396_acde48001122row10_col0\" class=\"data row10 col0\" >15.00</td>\n",
       "                        <td id=\"T_d9a4db14_5d32_11ec_8396_acde48001122row10_col1\" class=\"data row10 col1\" >0.83</td>\n",
       "                        <td id=\"T_d9a4db14_5d32_11ec_8396_acde48001122row10_col2\" class=\"data row10 col2\" >0.78</td>\n",
       "                        <td id=\"T_d9a4db14_5d32_11ec_8396_acde48001122row10_col3\" class=\"data row10 col3\" >0.73</td>\n",
       "                        <td id=\"T_d9a4db14_5d32_11ec_8396_acde48001122row10_col4\" class=\"data row10 col4\" >0.67</td>\n",
       "                        <td id=\"T_d9a4db14_5d32_11ec_8396_acde48001122row10_col5\" class=\"data row10 col5\" >0.70</td>\n",
       "            </tr>\n",
       "            <tr>\n",
       "                        <th id=\"T_d9a4db14_5d32_11ec_8396_acde48001122level0_row11\" class=\"row_heading level0 row11\" >0</th>\n",
       "                        <td id=\"T_d9a4db14_5d32_11ec_8396_acde48001122row11_col0\" class=\"data row11 col0\" >3.00</td>\n",
       "                        <td id=\"T_d9a4db14_5d32_11ec_8396_acde48001122row11_col1\" class=\"data row11 col1\" >0.87</td>\n",
       "                        <td id=\"T_d9a4db14_5d32_11ec_8396_acde48001122row11_col2\" class=\"data row11 col2\" >0.77</td>\n",
       "                        <td id=\"T_d9a4db14_5d32_11ec_8396_acde48001122row11_col3\" class=\"data row11 col3\" >0.70</td>\n",
       "                        <td id=\"T_d9a4db14_5d32_11ec_8396_acde48001122row11_col4\" class=\"data row11 col4\" >0.71</td>\n",
       "                        <td id=\"T_d9a4db14_5d32_11ec_8396_acde48001122row11_col5\" class=\"data row11 col5\" >0.71</td>\n",
       "            </tr>\n",
       "            <tr>\n",
       "                        <th id=\"T_d9a4db14_5d32_11ec_8396_acde48001122level0_row12\" class=\"row_heading level0 row12\" >1</th>\n",
       "                        <td id=\"T_d9a4db14_5d32_11ec_8396_acde48001122row12_col0\" class=\"data row12 col0\" >4.00</td>\n",
       "                        <td id=\"T_d9a4db14_5d32_11ec_8396_acde48001122row12_col1\" class=\"data row12 col1\" >0.86</td>\n",
       "                        <td id=\"T_d9a4db14_5d32_11ec_8396_acde48001122row12_col2\" class=\"data row12 col2\" >0.77</td>\n",
       "                        <td id=\"T_d9a4db14_5d32_11ec_8396_acde48001122row12_col3\" class=\"data row12 col3\" >0.75</td>\n",
       "                        <td id=\"T_d9a4db14_5d32_11ec_8396_acde48001122row12_col4\" class=\"data row12 col4\" >0.59</td>\n",
       "                        <td id=\"T_d9a4db14_5d32_11ec_8396_acde48001122row12_col5\" class=\"data row12 col5\" >0.66</td>\n",
       "            </tr>\n",
       "    </tbody></table>"
      ],
      "text/plain": [
       "<pandas.io.formats.style.Styler at 0x7fbcca0d6af0>"
      ]
     },
     "execution_count": 80,
     "metadata": {},
     "output_type": "execute_result"
    }
   ],
   "source": [
    "knn_results.style\\\n",
    "      .format('{:.2f}')\\\n",
    "      .highlight_max(color = 'lightgreen')\\\n",
    "      .highlight_min(color = 'coral')\\\n",
    "      .highlight_null(null_color='yellow')\n",
    "\n",
    "#knn_results.to_csv('data/knntable.csv', sep=',')\n"
   ]
  },
  {
   "cell_type": "code",
   "execution_count": 81,
   "metadata": {},
   "outputs": [
    {
     "data": {
      "text/html": [
       "\n",
       "<div id=\"altair-viz-c9410268381042568e61a1f2566637c5\"></div>\n",
       "<script type=\"text/javascript\">\n",
       "  (function(spec, embedOpt){\n",
       "    let outputDiv = document.currentScript.previousElementSibling;\n",
       "    if (outputDiv.id !== \"altair-viz-c9410268381042568e61a1f2566637c5\") {\n",
       "      outputDiv = document.getElementById(\"altair-viz-c9410268381042568e61a1f2566637c5\");\n",
       "    }\n",
       "    const paths = {\n",
       "      \"vega\": \"https://cdn.jsdelivr.net/npm//vega@5?noext\",\n",
       "      \"vega-lib\": \"https://cdn.jsdelivr.net/npm//vega-lib?noext\",\n",
       "      \"vega-lite\": \"https://cdn.jsdelivr.net/npm//vega-lite@4.8.1?noext\",\n",
       "      \"vega-embed\": \"https://cdn.jsdelivr.net/npm//vega-embed@6?noext\",\n",
       "    };\n",
       "\n",
       "    function loadScript(lib) {\n",
       "      return new Promise(function(resolve, reject) {\n",
       "        var s = document.createElement('script');\n",
       "        s.src = paths[lib];\n",
       "        s.async = true;\n",
       "        s.onload = () => resolve(paths[lib]);\n",
       "        s.onerror = () => reject(`Error loading script: ${paths[lib]}`);\n",
       "        document.getElementsByTagName(\"head\")[0].appendChild(s);\n",
       "      });\n",
       "    }\n",
       "\n",
       "    function showError(err) {\n",
       "      outputDiv.innerHTML = `<div class=\"error\" style=\"color:red;\">${err}</div>`;\n",
       "      throw err;\n",
       "    }\n",
       "\n",
       "    function displayChart(vegaEmbed) {\n",
       "      vegaEmbed(outputDiv, spec, embedOpt)\n",
       "        .catch(err => showError(`Javascript Error: ${err.message}<br>This usually means there's a typo in your chart specification. See the javascript console for the full traceback.`));\n",
       "    }\n",
       "\n",
       "    if(typeof define === \"function\" && define.amd) {\n",
       "      requirejs.config({paths});\n",
       "      require([\"vega-embed\"], displayChart, err => showError(`Error loading script: ${err.message}`));\n",
       "    } else if (typeof vegaEmbed === \"function\") {\n",
       "      displayChart(vegaEmbed);\n",
       "    } else {\n",
       "      loadScript(\"vega\")\n",
       "        .then(() => loadScript(\"vega-lite\"))\n",
       "        .then(() => loadScript(\"vega-embed\"))\n",
       "        .catch(showError)\n",
       "        .then(() => displayChart(vegaEmbed));\n",
       "    }\n",
       "  })({\"config\": {\"view\": {\"continuousWidth\": 400, \"continuousHeight\": 300}}, \"layer\": [{\"mark\": {\"type\": \"line\", \"color\": \"red\"}, \"encoding\": {\"x\": {\"type\": \"quantitative\", \"field\": \"K\"}, \"y\": {\"type\": \"quantitative\", \"axis\": {\"titleColor\": \"#5276B7\"}, \"field\": \"Score\", \"title\": \"Score\"}}}, {\"mark\": {\"type\": \"line\", \"color\": \"lightblue\"}, \"encoding\": {\"x\": {\"type\": \"quantitative\", \"field\": \"K\"}, \"y\": {\"type\": \"quantitative\", \"axis\": {\"titleColor\": \"#5276A7\"}, \"field\": \"Accuracy\", \"title\": \"Accuracy\"}}}, {\"mark\": {\"type\": \"line\", \"color\": \"darkblue\"}, \"encoding\": {\"x\": {\"type\": \"quantitative\", \"field\": \"K\"}, \"y\": {\"type\": \"quantitative\", \"axis\": {\"titleColor\": \"#A18727\"}, \"field\": \"Precision\", \"title\": \"Precision\"}}}, {\"mark\": {\"type\": \"line\", \"color\": \"green\"}, \"encoding\": {\"x\": {\"type\": \"quantitative\", \"field\": \"K\"}, \"y\": {\"type\": \"quantitative\", \"axis\": {\"titleColor\": \"#F11111\"}, \"field\": \"Recall\", \"title\": \"Recall\"}}}, {\"mark\": {\"type\": \"line\", \"color\": \"purple\"}, \"encoding\": {\"x\": {\"type\": \"quantitative\", \"field\": \"K\"}, \"y\": {\"type\": \"quantitative\", \"axis\": {\"titleColor\": \"#OOOFFF\"}, \"field\": \"F1\", \"title\": \"F1\"}}}], \"data\": {\"name\": \"data-6b6377df25cfe4ccb9e9dc6530257737\"}, \"$schema\": \"https://vega.github.io/schema/vega-lite/v4.8.1.json\", \"datasets\": {\"data-6b6377df25cfe4ccb9e9dc6530257737\": [{\"K\": 10, \"Score\": 0.8352059925093633, \"Accuracy\": 0.8156424581005587, \"Precision\": 0.8214285714285714, \"Recall\": 0.6666666666666666, \"F1\": 0.7359999999999999}, {\"K\": 8, \"Score\": 0.846441947565543, \"Accuracy\": 0.8100558659217877, \"Precision\": 0.8070175438596491, \"Recall\": 0.6666666666666666, \"F1\": 0.7301587301587301}, {\"K\": 9, \"Score\": 0.8370786516853933, \"Accuracy\": 0.8100558659217877, \"Precision\": 0.7966101694915254, \"Recall\": 0.6811594202898551, \"F1\": 0.7343750000000001}, {\"K\": 11, \"Score\": 0.848314606741573, \"Accuracy\": 0.7988826815642458, \"Precision\": 0.7704918032786885, \"Recall\": 0.6811594202898551, \"F1\": 0.7230769230769231}, {\"K\": 12, \"Score\": 0.8389513108614233, \"Accuracy\": 0.7932960893854749, \"Precision\": 0.7962962962962963, \"Recall\": 0.6231884057971014, \"F1\": 0.6991869918699186}, {\"K\": 13, \"Score\": 0.8426966292134831, \"Accuracy\": 0.7932960893854749, \"Precision\": 0.7857142857142857, \"Recall\": 0.6376811594202898, \"F1\": 0.7039999999999998}, {\"K\": 5, \"Score\": 0.850187265917603, \"Accuracy\": 0.7877094972067039, \"Precision\": 0.746031746031746, \"Recall\": 0.6811594202898551, \"F1\": 0.7121212121212122}, {\"K\": 7, \"Score\": 0.8370786516853933, \"Accuracy\": 0.7877094972067039, \"Precision\": 0.7540983606557377, \"Recall\": 0.6666666666666666, \"F1\": 0.7076923076923076}, {\"K\": 6, \"Score\": 0.8426966292134831, \"Accuracy\": 0.7821229050279329, \"Precision\": 0.75, \"Recall\": 0.6521739130434783, \"F1\": 0.6976744186046512}, {\"K\": 14, \"Score\": 0.8258426966292135, \"Accuracy\": 0.7821229050279329, \"Precision\": 0.7777777777777778, \"Recall\": 0.6086956521739131, \"F1\": 0.6829268292682927}, {\"K\": 15, \"Score\": 0.8314606741573034, \"Accuracy\": 0.776536312849162, \"Precision\": 0.7301587301587301, \"Recall\": 0.6666666666666666, \"F1\": 0.696969696969697}, {\"K\": 3, \"Score\": 0.8651685393258427, \"Accuracy\": 0.770949720670391, \"Precision\": 0.7, \"Recall\": 0.7101449275362319, \"F1\": 0.7050359712230215}, {\"K\": 4, \"Score\": 0.8576779026217228, \"Accuracy\": 0.7653631284916201, \"Precision\": 0.7454545454545455, \"Recall\": 0.5942028985507246, \"F1\": 0.661290322580645}]}}, {\"mode\": \"vega-lite\"});\n",
       "</script>"
      ],
      "text/plain": [
       "alt.LayerChart(...)"
      ]
     },
     "execution_count": 81,
     "metadata": {},
     "output_type": "execute_result"
    }
   ],
   "source": [
    "import altair as alt\n",
    "\n",
    "\n",
    "source = knn_results\n",
    "\n",
    "alt.Chart(source).mark_trail().encode(\n",
    "    y='Score',\n",
    "    x='K',\n",
    "    size='Precision'\n",
    "\n",
    ")\n",
    "\n",
    "base = alt.Chart(source).encode(\n",
    "        alt.X('K')\n",
    ")\n",
    "\n",
    "line_M = base.mark_line(color='red').encode(\n",
    "    alt.Y('Score:Q', axis=alt.Axis(titleColor='#5276B7'),title='Score')\n",
    ")\n",
    "\n",
    "line_A = base.mark_line(color='lightblue').encode(\n",
    "    alt.Y('Accuracy:Q', axis=alt.Axis(titleColor='#5276A7'),title='Accuracy')\n",
    ")\n",
    "\n",
    "line_B = base.mark_line(color='darkblue').encode(\n",
    "    alt.Y('Precision:Q', axis=alt.Axis(titleColor='#A18727'),title='Precision')\n",
    ")\n",
    "\n",
    "line_C = base.mark_line(color='green').encode(\n",
    "    alt.Y('Recall:Q', axis=alt.Axis(titleColor='#F11111'),title='Recall')\n",
    ")\n",
    "\n",
    "line_D = base.mark_line(color='purple').encode(\n",
    "    alt.Y('F1:Q', axis=alt.Axis(titleColor='#OOOFFF'),title='F1')\n",
    ")\n",
    "\n",
    "alt.layer(line_M,line_A, line_B, line_C, line_D)#.resolve_scale(y='independent')\n"
   ]
  },
  {
   "cell_type": "code",
   "execution_count": 77,
   "metadata": {},
   "outputs": [
    {
     "data": {
      "text/html": [
       "\n",
       "<div id=\"altair-viz-c146dd375b43481caa3010feeab6b749\"></div>\n",
       "<script type=\"text/javascript\">\n",
       "  (function(spec, embedOpt){\n",
       "    let outputDiv = document.currentScript.previousElementSibling;\n",
       "    if (outputDiv.id !== \"altair-viz-c146dd375b43481caa3010feeab6b749\") {\n",
       "      outputDiv = document.getElementById(\"altair-viz-c146dd375b43481caa3010feeab6b749\");\n",
       "    }\n",
       "    const paths = {\n",
       "      \"vega\": \"https://cdn.jsdelivr.net/npm//vega@5?noext\",\n",
       "      \"vega-lib\": \"https://cdn.jsdelivr.net/npm//vega-lib?noext\",\n",
       "      \"vega-lite\": \"https://cdn.jsdelivr.net/npm//vega-lite@4.8.1?noext\",\n",
       "      \"vega-embed\": \"https://cdn.jsdelivr.net/npm//vega-embed@6?noext\",\n",
       "    };\n",
       "\n",
       "    function loadScript(lib) {\n",
       "      return new Promise(function(resolve, reject) {\n",
       "        var s = document.createElement('script');\n",
       "        s.src = paths[lib];\n",
       "        s.async = true;\n",
       "        s.onload = () => resolve(paths[lib]);\n",
       "        s.onerror = () => reject(`Error loading script: ${paths[lib]}`);\n",
       "        document.getElementsByTagName(\"head\")[0].appendChild(s);\n",
       "      });\n",
       "    }\n",
       "\n",
       "    function showError(err) {\n",
       "      outputDiv.innerHTML = `<div class=\"error\" style=\"color:red;\">${err}</div>`;\n",
       "      throw err;\n",
       "    }\n",
       "\n",
       "    function displayChart(vegaEmbed) {\n",
       "      vegaEmbed(outputDiv, spec, embedOpt)\n",
       "        .catch(err => showError(`Javascript Error: ${err.message}<br>This usually means there's a typo in your chart specification. See the javascript console for the full traceback.`));\n",
       "    }\n",
       "\n",
       "    if(typeof define === \"function\" && define.amd) {\n",
       "      requirejs.config({paths});\n",
       "      require([\"vega-embed\"], displayChart, err => showError(`Error loading script: ${err.message}`));\n",
       "    } else if (typeof vegaEmbed === \"function\") {\n",
       "      displayChart(vegaEmbed);\n",
       "    } else {\n",
       "      loadScript(\"vega\")\n",
       "        .then(() => loadScript(\"vega-lite\"))\n",
       "        .then(() => loadScript(\"vega-embed\"))\n",
       "        .catch(showError)\n",
       "        .then(() => displayChart(vegaEmbed));\n",
       "    }\n",
       "  })({\"config\": {\"view\": {\"continuousWidth\": 400, \"continuousHeight\": 300}}, \"layer\": [{\"mark\": {\"type\": \"line\", \"color\": \"purple\"}, \"encoding\": {\"color\": {\"type\": \"nominal\", \"field\": \"line\", \"scale\": {\"domain\": [\"Score\", \"Precision\", \"Accuracy\", \"Recall\", \"F1\"], \"range\": [\"red\", \"lightblue\", \"darkblue\", \"green\", \"purple\"]}, \"title\": \"\"}, \"x\": {\"type\": \"quantitative\", \"field\": \"K\", \"title\": \"Day\"}, \"y\": {\"type\": \"quantitative\", \"field\": \"Precision\", \"title\": \"Column 2\"}}}, {\"mark\": {\"type\": \"line\", \"color\": \"red\"}, \"encoding\": {\"color\": {\"type\": \"nominal\", \"field\": \"line\", \"scale\": {\"domain\": [\"Score\", \"Precision\", \"Accuracy\", \"Recall\", \"F1\"], \"range\": [\"red\", \"lightblue\", \"darkblue\", \"green\", \"purple\"]}, \"title\": \"\"}, \"x\": {\"type\": \"quantitative\", \"field\": \"K\", \"title\": \"Day\"}, \"y\": {\"type\": \"quantitative\", \"field\": \"Accuracy\", \"title\": \"Column 3\"}}}], \"data\": {\"name\": \"data-6b6377df25cfe4ccb9e9dc6530257737\"}, \"$schema\": \"https://vega.github.io/schema/vega-lite/v4.8.1.json\", \"datasets\": {\"data-6b6377df25cfe4ccb9e9dc6530257737\": [{\"K\": 10, \"Score\": 0.8352059925093633, \"Accuracy\": 0.8156424581005587, \"Precision\": 0.8214285714285714, \"Recall\": 0.6666666666666666, \"F1\": 0.7359999999999999}, {\"K\": 8, \"Score\": 0.846441947565543, \"Accuracy\": 0.8100558659217877, \"Precision\": 0.8070175438596491, \"Recall\": 0.6666666666666666, \"F1\": 0.7301587301587301}, {\"K\": 9, \"Score\": 0.8370786516853933, \"Accuracy\": 0.8100558659217877, \"Precision\": 0.7966101694915254, \"Recall\": 0.6811594202898551, \"F1\": 0.7343750000000001}, {\"K\": 11, \"Score\": 0.848314606741573, \"Accuracy\": 0.7988826815642458, \"Precision\": 0.7704918032786885, \"Recall\": 0.6811594202898551, \"F1\": 0.7230769230769231}, {\"K\": 12, \"Score\": 0.8389513108614233, \"Accuracy\": 0.7932960893854749, \"Precision\": 0.7962962962962963, \"Recall\": 0.6231884057971014, \"F1\": 0.6991869918699186}, {\"K\": 13, \"Score\": 0.8426966292134831, \"Accuracy\": 0.7932960893854749, \"Precision\": 0.7857142857142857, \"Recall\": 0.6376811594202898, \"F1\": 0.7039999999999998}, {\"K\": 5, \"Score\": 0.850187265917603, \"Accuracy\": 0.7877094972067039, \"Precision\": 0.746031746031746, \"Recall\": 0.6811594202898551, \"F1\": 0.7121212121212122}, {\"K\": 7, \"Score\": 0.8370786516853933, \"Accuracy\": 0.7877094972067039, \"Precision\": 0.7540983606557377, \"Recall\": 0.6666666666666666, \"F1\": 0.7076923076923076}, {\"K\": 6, \"Score\": 0.8426966292134831, \"Accuracy\": 0.7821229050279329, \"Precision\": 0.75, \"Recall\": 0.6521739130434783, \"F1\": 0.6976744186046512}, {\"K\": 14, \"Score\": 0.8258426966292135, \"Accuracy\": 0.7821229050279329, \"Precision\": 0.7777777777777778, \"Recall\": 0.6086956521739131, \"F1\": 0.6829268292682927}, {\"K\": 15, \"Score\": 0.8314606741573034, \"Accuracy\": 0.776536312849162, \"Precision\": 0.7301587301587301, \"Recall\": 0.6666666666666666, \"F1\": 0.696969696969697}, {\"K\": 3, \"Score\": 0.8651685393258427, \"Accuracy\": 0.770949720670391, \"Precision\": 0.7, \"Recall\": 0.7101449275362319, \"F1\": 0.7050359712230215}, {\"K\": 4, \"Score\": 0.8576779026217228, \"Accuracy\": 0.7653631284916201, \"Precision\": 0.7454545454545455, \"Recall\": 0.5942028985507246, \"F1\": 0.661290322580645}]}}, {\"mode\": \"vega-lite\"});\n",
       "</script>"
      ],
      "text/plain": [
       "alt.LayerChart(...)"
      ]
     },
     "execution_count": 77,
     "metadata": {},
     "output_type": "execute_result"
    }
   ],
   "source": [
    "import altair as alt\n",
    "\n",
    "\n",
    "source = knn_results\n",
    "\n",
    "alt.Chart(source).mark_trail().encode(\n",
    "    y='Score',\n",
    "    x='K',\n",
    "    size='Precision'\n",
    "\n",
    ")\n",
    "\n",
    "base = alt.Chart(source).encode(\n",
    "        alt.X('K')\n",
    ")\n",
    "\n",
    "scale = alt.Scale(domain=[\"Score\", \"Precision\", \"Accuracy\", \"Recall\",\"F1\"], range=['red', 'lightblue', 'darkblue', 'green','purple'])\n",
    "line_M = base.mark_line(color='purple').encode(\n",
    "    x=alt.X('K', title='Day'),\n",
    "    y=alt.Y('Precision', title='Column 2'),\n",
    "    color=alt.Color('line:N',scale=scale,  title=''),\n",
    ")\n",
    "line_A = base.mark_line(color='red').encode(\n",
    "    x=alt.X('K', title='Day'),\n",
    "    y=alt.Y('Accuracy', title='Column 3'),\n",
    "    color=alt.Color('line:N',scale=scale,  title=''),\n",
    ")\n",
    "'''\n",
    "line_A = base.mark_line(color='#5276A7').encode(\n",
    "    alt.Y('Accuracy:Q', axis=alt.Axis(titleColor='#5276A7'))\n",
    ")\n",
    "\n",
    "line_B = base.mark_line(color='#A18727').encode(\n",
    "    alt.Y('Precision:Q', axis=alt.Axis(titleColor='#A18727'))\n",
    ")\n",
    "\n",
    "line_C = base.mark_line(color='#F11111').encode(\n",
    "    alt.Y('Recall:Q', axis=alt.Axis(titleColor='#F11111'),title='Recall')\n",
    ")\n",
    "\n",
    "line_D = base.mark_line(color='#OOOFFF').encode(\n",
    "    alt.Y('F1:Q', axis=alt.Axis(titleColor='#OOOFFF'),title='F1')\n",
    ")\n",
    "\n",
    "alt.layer(line_M,line_A, line_B, line_C, line_D)#.resolve_scale(y='independent')\n",
    "'''\n",
    "alt.layer(line_M,line_A)\n",
    "        "
   ]
  },
  {
   "cell_type": "markdown",
   "metadata": {},
   "source": [
    "### best model with kNN: \n",
    "- k = 3\n"
   ]
  },
  {
   "cell_type": "code",
   "execution_count": 182,
   "metadata": {},
   "outputs": [],
   "source": [
    "def model_kNN(X_train,y_train):\n",
    "    #Using KNeighborsClassifier Method of neighbors class to use Nearest Neighbor algorithm\n",
    "    from sklearn.neighbors import KNeighborsClassifier\n",
    "    knn = KNeighborsClassifier(n_neighbors = 3, metric = 'minkowski', p = 2)\n",
    "    knn.fit(X_train, y_train)\n",
    "    \n",
    "    print('FINAL KNeighbors Classifier Metrics: \\n Model score: %.4f \\n Accuracy: %.4f \\n Precision: %.4f \\n Recall: %.4f \\n F1: %.4f' %\n",
    "    (knn.score(X_train, y_train),\n",
    "     accuracy(y_test, knn.predict(X_test)), \n",
    "     precision(y_test, knn.predict(X_test)), \n",
    "     recall(y_test, knn.predict(X_test)),\n",
    "     F1(y_test, knn.predict(X_test))\n",
    "           )\n",
    "       )       \n",
    "    print('---------------------')          "
   ]
  },
  {
   "cell_type": "code",
   "execution_count": 183,
   "metadata": {},
   "outputs": [
    {
     "name": "stdout",
     "output_type": "stream",
     "text": [
      "FINAL KNeighbors Classifier Metrics: \n",
      " Model score: 0.8652 \n",
      " Accuracy: 0.7709 \n",
      " Precision: 0.7000 \n",
      " Recall: 0.7101 \n",
      " F1: 0.7050\n",
      "---------------------\n"
     ]
    }
   ],
   "source": [
    "model_kNN(X_train,y_train)"
   ]
  },
  {
   "cell_type": "markdown",
   "metadata": {},
   "source": [
    "## Tuning AdaBoost"
   ]
  },
  {
   "cell_type": "code",
   "execution_count": 84,
   "metadata": {},
   "outputs": [],
   "source": [
    "def tune_ada_estimators(X_train,y_train):\n",
    "    from sklearn.ensemble import AdaBoostClassifier\n",
    "    \n",
    "    \n",
    "    \n",
    "    scores_dict = {}\n",
    "    scores_df = pd.DataFrame()\n",
    "    n_esti = []\n",
    "    acc_lst = []\n",
    "    score_lst = []\n",
    "    precision_lst = []\n",
    "    recall_lst = []\n",
    "    f1_lst = []\n",
    "    for n in range(50,900,50):\n",
    " \n",
    "        adaBoost = AdaBoostClassifier(DecisionTreeClassifier(max_depth=1), n_estimators=n)\n",
    "        adaBoost.fit(X_train, y_train)\n",
    "        \n",
    "        n_esti.append(n)\n",
    "        score_lst.append(adaBoost.score(X_train, y_train))\n",
    "        acc_lst.append(accuracy(y_test, adaBoost.predict(X_test)) )\n",
    "        precision_lst.append(precision(y_test, adaBoost.predict(X_test)))\n",
    "        recall_lst.append(recall(y_test, adaBoost.predict(X_test)))\n",
    "        f1_lst.append( F1(y_test, adaBoost.predict(X_test))  )\n",
    "  \n",
    "        #scores_df.append(scores_dict,ignore_index=True)\n",
    "    # dictionary of lists \n",
    "    dict = {'n_estimators': n_esti, \n",
    "            'Score': score_lst,\n",
    "            'Accuracy': acc_lst,\n",
    "            'Precision':precision_lst,\n",
    "            'Recall': recall_lst,\n",
    "            'F1': f1_lst}  \n",
    "    df_ada = pd.DataFrame(dict) \n",
    "    df_ada.sort_values(by='Score', ascending = False, inplace=True)\n",
    "    return df_ada\n",
    "\n",
    "def tune_ada_learners(X_train,y_train,estimators):\n",
    "    from sklearn.ensemble import AdaBoostClassifier\n",
    "    \n",
    "    \n",
    "    \n",
    "    scores_dict = {}\n",
    "    scores_df = pd.DataFrame()\n",
    "    leaners = []\n",
    "    acc_lst = []\n",
    "    score_lst = []\n",
    "    precision_lst = []\n",
    "    recall_lst = []\n",
    "    f1_lst = []\n",
    "    for n in range(1,11,1):\n",
    " \n",
    "        adaBoost = AdaBoostClassifier(DecisionTreeClassifier(max_depth=n), n_estimators=estimators)\n",
    "        adaBoost.fit(X_train, y_train)\n",
    "        \n",
    "        leaners.append(n)\n",
    "        score_lst.append(adaBoost.score(X_train, y_train))\n",
    "        acc_lst.append(accuracy(y_test, adaBoost.predict(X_test)) )\n",
    "        precision_lst.append(precision(y_test, adaBoost.predict(X_test)))\n",
    "        recall_lst.append(recall(y_test, adaBoost.predict(X_test)))\n",
    "        f1_lst.append( F1(y_test, adaBoost.predict(X_test))  )\n",
    "  \n",
    "        #scores_df.append(scores_dict,ignore_index=True)\n",
    "    # dictionary of lists \n",
    "    dict = {'Learners': leaners, \n",
    "            'Score': score_lst,\n",
    "            'Accuracy': acc_lst,\n",
    "            'Precision':precision_lst,\n",
    "            'Recall': recall_lst,\n",
    "            'F1': f1_lst}  \n",
    "    df_ada_learn = pd.DataFrame(dict) \n",
    "    df_ada_learn.sort_values(by='Score', ascending = False, inplace=True)\n",
    "    return df_ada_learn\n",
    "\n",
    "def tune_ada_learn_rate(X_train,y_train,estimators,learners):\n",
    "    from sklearn.ensemble import AdaBoostClassifier\n",
    "    \n",
    "    \n",
    "    \n",
    "    scores_dict = {}\n",
    "    scores_df = pd.DataFrame()\n",
    "    learn_rate = []\n",
    "    acc_lst = []\n",
    "    score_lst = []\n",
    "    precision_lst = []\n",
    "    recall_lst = []\n",
    "    f1_lst = []\n",
    "    for n in arange(0.1, 2.1, 0.1):\n",
    " \n",
    "        adaBoost = AdaBoostClassifier(DecisionTreeClassifier(max_depth=learners), \n",
    "                                      n_estimators=estimators,\n",
    "                                     learning_rate=n)\n",
    "        adaBoost.fit(X_train, y_train)\n",
    "        \n",
    "        learn_rate.append(n)\n",
    "        score_lst.append(adaBoost.score(X_train, y_train))\n",
    "        acc_lst.append(accuracy(y_test, adaBoost.predict(X_test)) )\n",
    "        precision_lst.append(precision(y_test, adaBoost.predict(X_test)))\n",
    "        recall_lst.append(recall(y_test, adaBoost.predict(X_test)))\n",
    "        f1_lst.append( F1(y_test, adaBoost.predict(X_test))  )\n",
    "  \n",
    "        #scores_df.append(scores_dict,ignore_index=True)\n",
    "    # dictionary of lists \n",
    "    dict = {'Learn_Rate': learn_rate, \n",
    "            'Score': score_lst,\n",
    "            'Accuracy': acc_lst,\n",
    "            'Precision':precision_lst,\n",
    "            'Recall': recall_lst,\n",
    "            'F1': f1_lst}  \n",
    "    df_ada_learn_rate = pd.DataFrame(dict) \n",
    "    df_ada_learn_rate.sort_values(by='Score', ascending = False, inplace=True)\n",
    "    return df_ada_learn_rate"
   ]
  },
  {
   "cell_type": "code",
   "execution_count": 85,
   "metadata": {},
   "outputs": [
    {
     "data": {
      "text/html": [
       "<style  type=\"text/css\" >\n",
       "#T_fe7d91f6_5d32_11ec_8396_acde48001122row0_col0,#T_fe7d91f6_5d32_11ec_8396_acde48001122row0_col1,#T_fe7d91f6_5d32_11ec_8396_acde48001122row8_col2,#T_fe7d91f6_5d32_11ec_8396_acde48001122row8_col3,#T_fe7d91f6_5d32_11ec_8396_acde48001122row8_col4,#T_fe7d91f6_5d32_11ec_8396_acde48001122row8_col5{\n",
       "            background-color:  lightgreen;\n",
       "        }#T_fe7d91f6_5d32_11ec_8396_acde48001122row1_col4,#T_fe7d91f6_5d32_11ec_8396_acde48001122row16_col0,#T_fe7d91f6_5d32_11ec_8396_acde48001122row16_col1,#T_fe7d91f6_5d32_11ec_8396_acde48001122row16_col2,#T_fe7d91f6_5d32_11ec_8396_acde48001122row16_col3,#T_fe7d91f6_5d32_11ec_8396_acde48001122row16_col5{\n",
       "            background-color:  coral;\n",
       "        }</style><table id=\"T_fe7d91f6_5d32_11ec_8396_acde48001122\" ><thead>    <tr>        <th class=\"blank level0\" ></th>        <th class=\"col_heading level0 col0\" >n_estimators</th>        <th class=\"col_heading level0 col1\" >Score</th>        <th class=\"col_heading level0 col2\" >Accuracy</th>        <th class=\"col_heading level0 col3\" >Precision</th>        <th class=\"col_heading level0 col4\" >Recall</th>        <th class=\"col_heading level0 col5\" >F1</th>    </tr></thead><tbody>\n",
       "                <tr>\n",
       "                        <th id=\"T_fe7d91f6_5d32_11ec_8396_acde48001122level0_row0\" class=\"row_heading level0 row0\" >16</th>\n",
       "                        <td id=\"T_fe7d91f6_5d32_11ec_8396_acde48001122row0_col0\" class=\"data row0 col0\" >850.00</td>\n",
       "                        <td id=\"T_fe7d91f6_5d32_11ec_8396_acde48001122row0_col1\" class=\"data row0 col1\" >0.88</td>\n",
       "                        <td id=\"T_fe7d91f6_5d32_11ec_8396_acde48001122row0_col2\" class=\"data row0 col2\" >0.78</td>\n",
       "                        <td id=\"T_fe7d91f6_5d32_11ec_8396_acde48001122row0_col3\" class=\"data row0 col3\" >0.73</td>\n",
       "                        <td id=\"T_fe7d91f6_5d32_11ec_8396_acde48001122row0_col4\" class=\"data row0 col4\" >0.70</td>\n",
       "                        <td id=\"T_fe7d91f6_5d32_11ec_8396_acde48001122row0_col5\" class=\"data row0 col5\" >0.71</td>\n",
       "            </tr>\n",
       "            <tr>\n",
       "                        <th id=\"T_fe7d91f6_5d32_11ec_8396_acde48001122level0_row1\" class=\"row_heading level0 row1\" >14</th>\n",
       "                        <td id=\"T_fe7d91f6_5d32_11ec_8396_acde48001122row1_col0\" class=\"data row1 col0\" >750.00</td>\n",
       "                        <td id=\"T_fe7d91f6_5d32_11ec_8396_acde48001122row1_col1\" class=\"data row1 col1\" >0.88</td>\n",
       "                        <td id=\"T_fe7d91f6_5d32_11ec_8396_acde48001122row1_col2\" class=\"data row1 col2\" >0.78</td>\n",
       "                        <td id=\"T_fe7d91f6_5d32_11ec_8396_acde48001122row1_col3\" class=\"data row1 col3\" >0.72</td>\n",
       "                        <td id=\"T_fe7d91f6_5d32_11ec_8396_acde48001122row1_col4\" class=\"data row1 col4\" >0.68</td>\n",
       "                        <td id=\"T_fe7d91f6_5d32_11ec_8396_acde48001122row1_col5\" class=\"data row1 col5\" >0.70</td>\n",
       "            </tr>\n",
       "            <tr>\n",
       "                        <th id=\"T_fe7d91f6_5d32_11ec_8396_acde48001122level0_row2\" class=\"row_heading level0 row2\" >15</th>\n",
       "                        <td id=\"T_fe7d91f6_5d32_11ec_8396_acde48001122row2_col0\" class=\"data row2 col0\" >800.00</td>\n",
       "                        <td id=\"T_fe7d91f6_5d32_11ec_8396_acde48001122row2_col1\" class=\"data row2 col1\" >0.87</td>\n",
       "                        <td id=\"T_fe7d91f6_5d32_11ec_8396_acde48001122row2_col2\" class=\"data row2 col2\" >0.78</td>\n",
       "                        <td id=\"T_fe7d91f6_5d32_11ec_8396_acde48001122row2_col3\" class=\"data row2 col3\" >0.73</td>\n",
       "                        <td id=\"T_fe7d91f6_5d32_11ec_8396_acde48001122row2_col4\" class=\"data row2 col4\" >0.70</td>\n",
       "                        <td id=\"T_fe7d91f6_5d32_11ec_8396_acde48001122row2_col5\" class=\"data row2 col5\" >0.71</td>\n",
       "            </tr>\n",
       "            <tr>\n",
       "                        <th id=\"T_fe7d91f6_5d32_11ec_8396_acde48001122level0_row3\" class=\"row_heading level0 row3\" >13</th>\n",
       "                        <td id=\"T_fe7d91f6_5d32_11ec_8396_acde48001122row3_col0\" class=\"data row3 col0\" >700.00</td>\n",
       "                        <td id=\"T_fe7d91f6_5d32_11ec_8396_acde48001122row3_col1\" class=\"data row3 col1\" >0.87</td>\n",
       "                        <td id=\"T_fe7d91f6_5d32_11ec_8396_acde48001122row3_col2\" class=\"data row3 col2\" >0.78</td>\n",
       "                        <td id=\"T_fe7d91f6_5d32_11ec_8396_acde48001122row3_col3\" class=\"data row3 col3\" >0.73</td>\n",
       "                        <td id=\"T_fe7d91f6_5d32_11ec_8396_acde48001122row3_col4\" class=\"data row3 col4\" >0.70</td>\n",
       "                        <td id=\"T_fe7d91f6_5d32_11ec_8396_acde48001122row3_col5\" class=\"data row3 col5\" >0.71</td>\n",
       "            </tr>\n",
       "            <tr>\n",
       "                        <th id=\"T_fe7d91f6_5d32_11ec_8396_acde48001122level0_row4\" class=\"row_heading level0 row4\" >12</th>\n",
       "                        <td id=\"T_fe7d91f6_5d32_11ec_8396_acde48001122row4_col0\" class=\"data row4 col0\" >650.00</td>\n",
       "                        <td id=\"T_fe7d91f6_5d32_11ec_8396_acde48001122row4_col1\" class=\"data row4 col1\" >0.87</td>\n",
       "                        <td id=\"T_fe7d91f6_5d32_11ec_8396_acde48001122row4_col2\" class=\"data row4 col2\" >0.78</td>\n",
       "                        <td id=\"T_fe7d91f6_5d32_11ec_8396_acde48001122row4_col3\" class=\"data row4 col3\" >0.73</td>\n",
       "                        <td id=\"T_fe7d91f6_5d32_11ec_8396_acde48001122row4_col4\" class=\"data row4 col4\" >0.70</td>\n",
       "                        <td id=\"T_fe7d91f6_5d32_11ec_8396_acde48001122row4_col5\" class=\"data row4 col5\" >0.71</td>\n",
       "            </tr>\n",
       "            <tr>\n",
       "                        <th id=\"T_fe7d91f6_5d32_11ec_8396_acde48001122level0_row5\" class=\"row_heading level0 row5\" >9</th>\n",
       "                        <td id=\"T_fe7d91f6_5d32_11ec_8396_acde48001122row5_col0\" class=\"data row5 col0\" >500.00</td>\n",
       "                        <td id=\"T_fe7d91f6_5d32_11ec_8396_acde48001122row5_col1\" class=\"data row5 col1\" >0.87</td>\n",
       "                        <td id=\"T_fe7d91f6_5d32_11ec_8396_acde48001122row5_col2\" class=\"data row5 col2\" >0.78</td>\n",
       "                        <td id=\"T_fe7d91f6_5d32_11ec_8396_acde48001122row5_col3\" class=\"data row5 col3\" >0.73</td>\n",
       "                        <td id=\"T_fe7d91f6_5d32_11ec_8396_acde48001122row5_col4\" class=\"data row5 col4\" >0.70</td>\n",
       "                        <td id=\"T_fe7d91f6_5d32_11ec_8396_acde48001122row5_col5\" class=\"data row5 col5\" >0.71</td>\n",
       "            </tr>\n",
       "            <tr>\n",
       "                        <th id=\"T_fe7d91f6_5d32_11ec_8396_acde48001122level0_row6\" class=\"row_heading level0 row6\" >11</th>\n",
       "                        <td id=\"T_fe7d91f6_5d32_11ec_8396_acde48001122row6_col0\" class=\"data row6 col0\" >600.00</td>\n",
       "                        <td id=\"T_fe7d91f6_5d32_11ec_8396_acde48001122row6_col1\" class=\"data row6 col1\" >0.87</td>\n",
       "                        <td id=\"T_fe7d91f6_5d32_11ec_8396_acde48001122row6_col2\" class=\"data row6 col2\" >0.78</td>\n",
       "                        <td id=\"T_fe7d91f6_5d32_11ec_8396_acde48001122row6_col3\" class=\"data row6 col3\" >0.73</td>\n",
       "                        <td id=\"T_fe7d91f6_5d32_11ec_8396_acde48001122row6_col4\" class=\"data row6 col4\" >0.70</td>\n",
       "                        <td id=\"T_fe7d91f6_5d32_11ec_8396_acde48001122row6_col5\" class=\"data row6 col5\" >0.71</td>\n",
       "            </tr>\n",
       "            <tr>\n",
       "                        <th id=\"T_fe7d91f6_5d32_11ec_8396_acde48001122level0_row7\" class=\"row_heading level0 row7\" >10</th>\n",
       "                        <td id=\"T_fe7d91f6_5d32_11ec_8396_acde48001122row7_col0\" class=\"data row7 col0\" >550.00</td>\n",
       "                        <td id=\"T_fe7d91f6_5d32_11ec_8396_acde48001122row7_col1\" class=\"data row7 col1\" >0.87</td>\n",
       "                        <td id=\"T_fe7d91f6_5d32_11ec_8396_acde48001122row7_col2\" class=\"data row7 col2\" >0.78</td>\n",
       "                        <td id=\"T_fe7d91f6_5d32_11ec_8396_acde48001122row7_col3\" class=\"data row7 col3\" >0.73</td>\n",
       "                        <td id=\"T_fe7d91f6_5d32_11ec_8396_acde48001122row7_col4\" class=\"data row7 col4\" >0.70</td>\n",
       "                        <td id=\"T_fe7d91f6_5d32_11ec_8396_acde48001122row7_col5\" class=\"data row7 col5\" >0.71</td>\n",
       "            </tr>\n",
       "            <tr>\n",
       "                        <th id=\"T_fe7d91f6_5d32_11ec_8396_acde48001122level0_row8\" class=\"row_heading level0 row8\" >8</th>\n",
       "                        <td id=\"T_fe7d91f6_5d32_11ec_8396_acde48001122row8_col0\" class=\"data row8 col0\" >450.00</td>\n",
       "                        <td id=\"T_fe7d91f6_5d32_11ec_8396_acde48001122row8_col1\" class=\"data row8 col1\" >0.86</td>\n",
       "                        <td id=\"T_fe7d91f6_5d32_11ec_8396_acde48001122row8_col2\" class=\"data row8 col2\" >0.79</td>\n",
       "                        <td id=\"T_fe7d91f6_5d32_11ec_8396_acde48001122row8_col3\" class=\"data row8 col3\" >0.73</td>\n",
       "                        <td id=\"T_fe7d91f6_5d32_11ec_8396_acde48001122row8_col4\" class=\"data row8 col4\" >0.74</td>\n",
       "                        <td id=\"T_fe7d91f6_5d32_11ec_8396_acde48001122row8_col5\" class=\"data row8 col5\" >0.73</td>\n",
       "            </tr>\n",
       "            <tr>\n",
       "                        <th id=\"T_fe7d91f6_5d32_11ec_8396_acde48001122level0_row9\" class=\"row_heading level0 row9\" >7</th>\n",
       "                        <td id=\"T_fe7d91f6_5d32_11ec_8396_acde48001122row9_col0\" class=\"data row9 col0\" >400.00</td>\n",
       "                        <td id=\"T_fe7d91f6_5d32_11ec_8396_acde48001122row9_col1\" class=\"data row9 col1\" >0.86</td>\n",
       "                        <td id=\"T_fe7d91f6_5d32_11ec_8396_acde48001122row9_col2\" class=\"data row9 col2\" >0.78</td>\n",
       "                        <td id=\"T_fe7d91f6_5d32_11ec_8396_acde48001122row9_col3\" class=\"data row9 col3\" >0.72</td>\n",
       "                        <td id=\"T_fe7d91f6_5d32_11ec_8396_acde48001122row9_col4\" class=\"data row9 col4\" >0.71</td>\n",
       "                        <td id=\"T_fe7d91f6_5d32_11ec_8396_acde48001122row9_col5\" class=\"data row9 col5\" >0.72</td>\n",
       "            </tr>\n",
       "            <tr>\n",
       "                        <th id=\"T_fe7d91f6_5d32_11ec_8396_acde48001122level0_row10\" class=\"row_heading level0 row10\" >6</th>\n",
       "                        <td id=\"T_fe7d91f6_5d32_11ec_8396_acde48001122row10_col0\" class=\"data row10 col0\" >350.00</td>\n",
       "                        <td id=\"T_fe7d91f6_5d32_11ec_8396_acde48001122row10_col1\" class=\"data row10 col1\" >0.85</td>\n",
       "                        <td id=\"T_fe7d91f6_5d32_11ec_8396_acde48001122row10_col2\" class=\"data row10 col2\" >0.78</td>\n",
       "                        <td id=\"T_fe7d91f6_5d32_11ec_8396_acde48001122row10_col3\" class=\"data row10 col3\" >0.72</td>\n",
       "                        <td id=\"T_fe7d91f6_5d32_11ec_8396_acde48001122row10_col4\" class=\"data row10 col4\" >0.71</td>\n",
       "                        <td id=\"T_fe7d91f6_5d32_11ec_8396_acde48001122row10_col5\" class=\"data row10 col5\" >0.72</td>\n",
       "            </tr>\n",
       "            <tr>\n",
       "                        <th id=\"T_fe7d91f6_5d32_11ec_8396_acde48001122level0_row11\" class=\"row_heading level0 row11\" >5</th>\n",
       "                        <td id=\"T_fe7d91f6_5d32_11ec_8396_acde48001122row11_col0\" class=\"data row11 col0\" >300.00</td>\n",
       "                        <td id=\"T_fe7d91f6_5d32_11ec_8396_acde48001122row11_col1\" class=\"data row11 col1\" >0.84</td>\n",
       "                        <td id=\"T_fe7d91f6_5d32_11ec_8396_acde48001122row11_col2\" class=\"data row11 col2\" >0.77</td>\n",
       "                        <td id=\"T_fe7d91f6_5d32_11ec_8396_acde48001122row11_col3\" class=\"data row11 col3\" >0.70</td>\n",
       "                        <td id=\"T_fe7d91f6_5d32_11ec_8396_acde48001122row11_col4\" class=\"data row11 col4\" >0.71</td>\n",
       "                        <td id=\"T_fe7d91f6_5d32_11ec_8396_acde48001122row11_col5\" class=\"data row11 col5\" >0.71</td>\n",
       "            </tr>\n",
       "            <tr>\n",
       "                        <th id=\"T_fe7d91f6_5d32_11ec_8396_acde48001122level0_row12\" class=\"row_heading level0 row12\" >4</th>\n",
       "                        <td id=\"T_fe7d91f6_5d32_11ec_8396_acde48001122row12_col0\" class=\"data row12 col0\" >250.00</td>\n",
       "                        <td id=\"T_fe7d91f6_5d32_11ec_8396_acde48001122row12_col1\" class=\"data row12 col1\" >0.84</td>\n",
       "                        <td id=\"T_fe7d91f6_5d32_11ec_8396_acde48001122row12_col2\" class=\"data row12 col2\" >0.77</td>\n",
       "                        <td id=\"T_fe7d91f6_5d32_11ec_8396_acde48001122row12_col3\" class=\"data row12 col3\" >0.70</td>\n",
       "                        <td id=\"T_fe7d91f6_5d32_11ec_8396_acde48001122row12_col4\" class=\"data row12 col4\" >0.71</td>\n",
       "                        <td id=\"T_fe7d91f6_5d32_11ec_8396_acde48001122row12_col5\" class=\"data row12 col5\" >0.71</td>\n",
       "            </tr>\n",
       "            <tr>\n",
       "                        <th id=\"T_fe7d91f6_5d32_11ec_8396_acde48001122level0_row13\" class=\"row_heading level0 row13\" >2</th>\n",
       "                        <td id=\"T_fe7d91f6_5d32_11ec_8396_acde48001122row13_col0\" class=\"data row13 col0\" >150.00</td>\n",
       "                        <td id=\"T_fe7d91f6_5d32_11ec_8396_acde48001122row13_col1\" class=\"data row13 col1\" >0.84</td>\n",
       "                        <td id=\"T_fe7d91f6_5d32_11ec_8396_acde48001122row13_col2\" class=\"data row13 col2\" >0.77</td>\n",
       "                        <td id=\"T_fe7d91f6_5d32_11ec_8396_acde48001122row13_col3\" class=\"data row13 col3\" >0.69</td>\n",
       "                        <td id=\"T_fe7d91f6_5d32_11ec_8396_acde48001122row13_col4\" class=\"data row13 col4\" >0.71</td>\n",
       "                        <td id=\"T_fe7d91f6_5d32_11ec_8396_acde48001122row13_col5\" class=\"data row13 col5\" >0.70</td>\n",
       "            </tr>\n",
       "            <tr>\n",
       "                        <th id=\"T_fe7d91f6_5d32_11ec_8396_acde48001122level0_row14\" class=\"row_heading level0 row14\" >3</th>\n",
       "                        <td id=\"T_fe7d91f6_5d32_11ec_8396_acde48001122row14_col0\" class=\"data row14 col0\" >200.00</td>\n",
       "                        <td id=\"T_fe7d91f6_5d32_11ec_8396_acde48001122row14_col1\" class=\"data row14 col1\" >0.83</td>\n",
       "                        <td id=\"T_fe7d91f6_5d32_11ec_8396_acde48001122row14_col2\" class=\"data row14 col2\" >0.77</td>\n",
       "                        <td id=\"T_fe7d91f6_5d32_11ec_8396_acde48001122row14_col3\" class=\"data row14 col3\" >0.69</td>\n",
       "                        <td id=\"T_fe7d91f6_5d32_11ec_8396_acde48001122row14_col4\" class=\"data row14 col4\" >0.71</td>\n",
       "                        <td id=\"T_fe7d91f6_5d32_11ec_8396_acde48001122row14_col5\" class=\"data row14 col5\" >0.70</td>\n",
       "            </tr>\n",
       "            <tr>\n",
       "                        <th id=\"T_fe7d91f6_5d32_11ec_8396_acde48001122level0_row15\" class=\"row_heading level0 row15\" >1</th>\n",
       "                        <td id=\"T_fe7d91f6_5d32_11ec_8396_acde48001122row15_col0\" class=\"data row15 col0\" >100.00</td>\n",
       "                        <td id=\"T_fe7d91f6_5d32_11ec_8396_acde48001122row15_col1\" class=\"data row15 col1\" >0.83</td>\n",
       "                        <td id=\"T_fe7d91f6_5d32_11ec_8396_acde48001122row15_col2\" class=\"data row15 col2\" >0.75</td>\n",
       "                        <td id=\"T_fe7d91f6_5d32_11ec_8396_acde48001122row15_col3\" class=\"data row15 col3\" >0.68</td>\n",
       "                        <td id=\"T_fe7d91f6_5d32_11ec_8396_acde48001122row15_col4\" class=\"data row15 col4\" >0.70</td>\n",
       "                        <td id=\"T_fe7d91f6_5d32_11ec_8396_acde48001122row15_col5\" class=\"data row15 col5\" >0.69</td>\n",
       "            </tr>\n",
       "            <tr>\n",
       "                        <th id=\"T_fe7d91f6_5d32_11ec_8396_acde48001122level0_row16\" class=\"row_heading level0 row16\" >0</th>\n",
       "                        <td id=\"T_fe7d91f6_5d32_11ec_8396_acde48001122row16_col0\" class=\"data row16 col0\" >50.00</td>\n",
       "                        <td id=\"T_fe7d91f6_5d32_11ec_8396_acde48001122row16_col1\" class=\"data row16 col1\" >0.81</td>\n",
       "                        <td id=\"T_fe7d91f6_5d32_11ec_8396_acde48001122row16_col2\" class=\"data row16 col2\" >0.74</td>\n",
       "                        <td id=\"T_fe7d91f6_5d32_11ec_8396_acde48001122row16_col3\" class=\"data row16 col3\" >0.66</td>\n",
       "                        <td id=\"T_fe7d91f6_5d32_11ec_8396_acde48001122row16_col4\" class=\"data row16 col4\" >0.70</td>\n",
       "                        <td id=\"T_fe7d91f6_5d32_11ec_8396_acde48001122row16_col5\" class=\"data row16 col5\" >0.68</td>\n",
       "            </tr>\n",
       "    </tbody></table>"
      ],
      "text/plain": [
       "<pandas.io.formats.style.Styler at 0x7fbcc8458970>"
      ]
     },
     "execution_count": 85,
     "metadata": {},
     "output_type": "execute_result"
    }
   ],
   "source": [
    "ada_results = tune_ada_estimators(X_train,y_train)\n",
    "ada_results\n",
    "ada_results.style\\\n",
    "      .format('{:.2f}')\\\n",
    "      .highlight_max(color = 'lightgreen')\\\n",
    "      .highlight_min(color = 'coral')\\\n",
    "      .highlight_null(null_color='yellow')"
   ]
  },
  {
   "cell_type": "code",
   "execution_count": 105,
   "metadata": {},
   "outputs": [
    {
     "data": {
      "text/html": [
       "\n",
       "<div id=\"altair-viz-a2572c4a62564acbadd0e96eaf5af007\"></div>\n",
       "<script type=\"text/javascript\">\n",
       "  (function(spec, embedOpt){\n",
       "    let outputDiv = document.currentScript.previousElementSibling;\n",
       "    if (outputDiv.id !== \"altair-viz-a2572c4a62564acbadd0e96eaf5af007\") {\n",
       "      outputDiv = document.getElementById(\"altair-viz-a2572c4a62564acbadd0e96eaf5af007\");\n",
       "    }\n",
       "    const paths = {\n",
       "      \"vega\": \"https://cdn.jsdelivr.net/npm//vega@5?noext\",\n",
       "      \"vega-lib\": \"https://cdn.jsdelivr.net/npm//vega-lib?noext\",\n",
       "      \"vega-lite\": \"https://cdn.jsdelivr.net/npm//vega-lite@4.8.1?noext\",\n",
       "      \"vega-embed\": \"https://cdn.jsdelivr.net/npm//vega-embed@6?noext\",\n",
       "    };\n",
       "\n",
       "    function loadScript(lib) {\n",
       "      return new Promise(function(resolve, reject) {\n",
       "        var s = document.createElement('script');\n",
       "        s.src = paths[lib];\n",
       "        s.async = true;\n",
       "        s.onload = () => resolve(paths[lib]);\n",
       "        s.onerror = () => reject(`Error loading script: ${paths[lib]}`);\n",
       "        document.getElementsByTagName(\"head\")[0].appendChild(s);\n",
       "      });\n",
       "    }\n",
       "\n",
       "    function showError(err) {\n",
       "      outputDiv.innerHTML = `<div class=\"error\" style=\"color:red;\">${err}</div>`;\n",
       "      throw err;\n",
       "    }\n",
       "\n",
       "    function displayChart(vegaEmbed) {\n",
       "      vegaEmbed(outputDiv, spec, embedOpt)\n",
       "        .catch(err => showError(`Javascript Error: ${err.message}<br>This usually means there's a typo in your chart specification. See the javascript console for the full traceback.`));\n",
       "    }\n",
       "\n",
       "    if(typeof define === \"function\" && define.amd) {\n",
       "      requirejs.config({paths});\n",
       "      require([\"vega-embed\"], displayChart, err => showError(`Error loading script: ${err.message}`));\n",
       "    } else if (typeof vegaEmbed === \"function\") {\n",
       "      displayChart(vegaEmbed);\n",
       "    } else {\n",
       "      loadScript(\"vega\")\n",
       "        .then(() => loadScript(\"vega-lite\"))\n",
       "        .then(() => loadScript(\"vega-embed\"))\n",
       "        .catch(showError)\n",
       "        .then(() => displayChart(vegaEmbed));\n",
       "    }\n",
       "  })({\"config\": {\"view\": {\"continuousWidth\": 400, \"continuousHeight\": 300}}, \"layer\": [{\"mark\": {\"type\": \"line\", \"color\": \"red\"}, \"encoding\": {\"x\": {\"type\": \"quantitative\", \"field\": \"n_estimators\"}, \"y\": {\"type\": \"quantitative\", \"axis\": {\"titleColor\": \"#5276B7\"}, \"field\": \"Score\", \"title\": \"Score\"}}}, {\"mark\": {\"type\": \"line\", \"color\": \"lightblue\"}, \"encoding\": {\"x\": {\"type\": \"quantitative\", \"field\": \"n_estimators\"}, \"y\": {\"type\": \"quantitative\", \"axis\": {\"titleColor\": \"#5276A7\"}, \"field\": \"Accuracy\", \"title\": \"Accuracy\"}}}, {\"mark\": {\"type\": \"line\", \"color\": \"darkblue\"}, \"encoding\": {\"x\": {\"type\": \"quantitative\", \"field\": \"n_estimators\"}, \"y\": {\"type\": \"quantitative\", \"axis\": {\"titleColor\": \"#A18727\"}, \"field\": \"Precision\", \"title\": \"Precision\"}}}, {\"mark\": {\"type\": \"line\", \"color\": \"green\"}, \"encoding\": {\"x\": {\"type\": \"quantitative\", \"field\": \"n_estimators\"}, \"y\": {\"type\": \"quantitative\", \"axis\": {\"titleColor\": \"#F11111\"}, \"field\": \"Recall\", \"title\": \"Recall\"}}}, {\"mark\": {\"type\": \"line\", \"color\": \"purple\"}, \"encoding\": {\"x\": {\"type\": \"quantitative\", \"field\": \"n_estimators\"}, \"y\": {\"type\": \"quantitative\", \"axis\": {\"titleColor\": \"#OOOFFF\"}, \"field\": \"F1\", \"title\": \"F1\"}}}], \"data\": {\"name\": \"data-49c6f23fb1d2581501aa58027263b394\"}, \"$schema\": \"https://vega.github.io/schema/vega-lite/v4.8.1.json\", \"datasets\": {\"data-49c6f23fb1d2581501aa58027263b394\": [{\"n_estimators\": 850, \"Score\": 0.8801498127340824, \"Accuracy\": 0.7821229050279329, \"Precision\": 0.7272727272727273, \"Recall\": 0.6956521739130435, \"F1\": 0.711111111111111}, {\"n_estimators\": 750, \"Score\": 0.8782771535580525, \"Accuracy\": 0.776536312849162, \"Precision\": 0.7230769230769231, \"Recall\": 0.6811594202898551, \"F1\": 0.7014925373134329}, {\"n_estimators\": 800, \"Score\": 0.8745318352059925, \"Accuracy\": 0.7821229050279329, \"Precision\": 0.7272727272727273, \"Recall\": 0.6956521739130435, \"F1\": 0.711111111111111}, {\"n_estimators\": 700, \"Score\": 0.8707865168539326, \"Accuracy\": 0.7821229050279329, \"Precision\": 0.7272727272727273, \"Recall\": 0.6956521739130435, \"F1\": 0.711111111111111}, {\"n_estimators\": 650, \"Score\": 0.8707865168539326, \"Accuracy\": 0.7821229050279329, \"Precision\": 0.7272727272727273, \"Recall\": 0.6956521739130435, \"F1\": 0.711111111111111}, {\"n_estimators\": 500, \"Score\": 0.8689138576779026, \"Accuracy\": 0.7821229050279329, \"Precision\": 0.7272727272727273, \"Recall\": 0.6956521739130435, \"F1\": 0.711111111111111}, {\"n_estimators\": 600, \"Score\": 0.8670411985018727, \"Accuracy\": 0.7821229050279329, \"Precision\": 0.7272727272727273, \"Recall\": 0.6956521739130435, \"F1\": 0.711111111111111}, {\"n_estimators\": 550, \"Score\": 0.8670411985018727, \"Accuracy\": 0.7821229050279329, \"Precision\": 0.7272727272727273, \"Recall\": 0.6956521739130435, \"F1\": 0.711111111111111}, {\"n_estimators\": 450, \"Score\": 0.8614232209737828, \"Accuracy\": 0.7932960893854749, \"Precision\": 0.7285714285714285, \"Recall\": 0.7391304347826086, \"F1\": 0.7338129496402879}, {\"n_estimators\": 400, \"Score\": 0.8576779026217228, \"Accuracy\": 0.7821229050279329, \"Precision\": 0.7205882352941176, \"Recall\": 0.7101449275362319, \"F1\": 0.7153284671532847}, {\"n_estimators\": 350, \"Score\": 0.8520599250936329, \"Accuracy\": 0.7821229050279329, \"Precision\": 0.7205882352941176, \"Recall\": 0.7101449275362319, \"F1\": 0.7153284671532847}, {\"n_estimators\": 300, \"Score\": 0.8389513108614233, \"Accuracy\": 0.770949720670391, \"Precision\": 0.7, \"Recall\": 0.7101449275362319, \"F1\": 0.7050359712230215}, {\"n_estimators\": 250, \"Score\": 0.8389513108614233, \"Accuracy\": 0.770949720670391, \"Precision\": 0.7, \"Recall\": 0.7101449275362319, \"F1\": 0.7050359712230215}, {\"n_estimators\": 150, \"Score\": 0.8389513108614233, \"Accuracy\": 0.7653631284916201, \"Precision\": 0.6901408450704225, \"Recall\": 0.7101449275362319, \"F1\": 0.7}, {\"n_estimators\": 200, \"Score\": 0.8314606741573034, \"Accuracy\": 0.7653631284916201, \"Precision\": 0.6901408450704225, \"Recall\": 0.7101449275362319, \"F1\": 0.7}, {\"n_estimators\": 100, \"Score\": 0.8277153558052435, \"Accuracy\": 0.7541899441340782, \"Precision\": 0.676056338028169, \"Recall\": 0.6956521739130435, \"F1\": 0.6857142857142857}, {\"n_estimators\": 50, \"Score\": 0.8127340823970037, \"Accuracy\": 0.7430167597765364, \"Precision\": 0.6575342465753424, \"Recall\": 0.6956521739130435, \"F1\": 0.676056338028169}]}}, {\"mode\": \"vega-lite\"});\n",
       "</script>"
      ],
      "text/plain": [
       "alt.LayerChart(...)"
      ]
     },
     "execution_count": 105,
     "metadata": {},
     "output_type": "execute_result"
    }
   ],
   "source": [
    "import altair as alt\n",
    "\n",
    "\n",
    "source = ada_results\n",
    "\n",
    "alt.Chart(source).mark_trail().encode(\n",
    "    y='Score',\n",
    "    x='n_estimators',\n",
    "    size='Precision'\n",
    "\n",
    ")\n",
    "\n",
    "base = alt.Chart(source).encode(\n",
    "        alt.X('n_estimators')\n",
    ")\n",
    "\n",
    "line_M = base.mark_line(color='red').encode(\n",
    "    alt.Y('Score:Q', axis=alt.Axis(titleColor='#5276B7'),title='Score')\n",
    ")\n",
    "\n",
    "line_A = base.mark_line(color='lightblue').encode(\n",
    "    alt.Y('Accuracy:Q', axis=alt.Axis(titleColor='#5276A7'),title='Accuracy')\n",
    ")\n",
    "\n",
    "line_B = base.mark_line(color='darkblue').encode(\n",
    "    alt.Y('Precision:Q', axis=alt.Axis(titleColor='#A18727'),title='Precision')\n",
    ")\n",
    "\n",
    "line_C = base.mark_line(color='green').encode(\n",
    "    alt.Y('Recall:Q', axis=alt.Axis(titleColor='#F11111'),title='Recall')\n",
    ")\n",
    "\n",
    "line_D = base.mark_line(color='purple').encode(\n",
    "    alt.Y('F1:Q', axis=alt.Axis(titleColor='#OOOFFF'),title='F1')\n",
    ")\n",
    "\n",
    "alt.layer(line_M,line_A, line_B, line_C, line_D)#.resolve_scale(y='independent')\n"
   ]
  },
  {
   "cell_type": "code",
   "execution_count": 107,
   "metadata": {},
   "outputs": [
    {
     "data": {
      "text/html": [
       "<style  type=\"text/css\" >\n",
       "#T_cf58c056_5d34_11ec_8396_acde48001122row0_col1,#T_cf58c056_5d34_11ec_8396_acde48001122row0_col2,#T_cf58c056_5d34_11ec_8396_acde48001122row0_col3,#T_cf58c056_5d34_11ec_8396_acde48001122row1_col1,#T_cf58c056_5d34_11ec_8396_acde48001122row2_col1,#T_cf58c056_5d34_11ec_8396_acde48001122row3_col1,#T_cf58c056_5d34_11ec_8396_acde48001122row4_col1,#T_cf58c056_5d34_11ec_8396_acde48001122row5_col1,#T_cf58c056_5d34_11ec_8396_acde48001122row6_col1,#T_cf58c056_5d34_11ec_8396_acde48001122row7_col1,#T_cf58c056_5d34_11ec_8396_acde48001122row8_col0,#T_cf58c056_5d34_11ec_8396_acde48001122row8_col1,#T_cf58c056_5d34_11ec_8396_acde48001122row8_col4,#T_cf58c056_5d34_11ec_8396_acde48001122row8_col5{\n",
       "            background-color:  lightgreen;\n",
       "        }#T_cf58c056_5d34_11ec_8396_acde48001122row1_col2,#T_cf58c056_5d34_11ec_8396_acde48001122row1_col4,#T_cf58c056_5d34_11ec_8396_acde48001122row1_col5,#T_cf58c056_5d34_11ec_8396_acde48001122row9_col0,#T_cf58c056_5d34_11ec_8396_acde48001122row9_col1,#T_cf58c056_5d34_11ec_8396_acde48001122row9_col3{\n",
       "            background-color:  coral;\n",
       "        }</style><table id=\"T_cf58c056_5d34_11ec_8396_acde48001122\" ><thead>    <tr>        <th class=\"blank level0\" ></th>        <th class=\"col_heading level0 col0\" >Learners</th>        <th class=\"col_heading level0 col1\" >Score</th>        <th class=\"col_heading level0 col2\" >Accuracy</th>        <th class=\"col_heading level0 col3\" >Precision</th>        <th class=\"col_heading level0 col4\" >Recall</th>        <th class=\"col_heading level0 col5\" >F1</th>    </tr></thead><tbody>\n",
       "                <tr>\n",
       "                        <th id=\"T_cf58c056_5d34_11ec_8396_acde48001122level0_row0\" class=\"row_heading level0 row0\" >1</th>\n",
       "                        <td id=\"T_cf58c056_5d34_11ec_8396_acde48001122row0_col0\" class=\"data row0 col0\" >2.00</td>\n",
       "                        <td id=\"T_cf58c056_5d34_11ec_8396_acde48001122row0_col1\" class=\"data row0 col1\" >0.93</td>\n",
       "                        <td id=\"T_cf58c056_5d34_11ec_8396_acde48001122row0_col2\" class=\"data row0 col2\" >0.81</td>\n",
       "                        <td id=\"T_cf58c056_5d34_11ec_8396_acde48001122row0_col3\" class=\"data row0 col3\" >0.78</td>\n",
       "                        <td id=\"T_cf58c056_5d34_11ec_8396_acde48001122row0_col4\" class=\"data row0 col4\" >0.71</td>\n",
       "                        <td id=\"T_cf58c056_5d34_11ec_8396_acde48001122row0_col5\" class=\"data row0 col5\" >0.74</td>\n",
       "            </tr>\n",
       "            <tr>\n",
       "                        <th id=\"T_cf58c056_5d34_11ec_8396_acde48001122level0_row1\" class=\"row_heading level0 row1\" >2</th>\n",
       "                        <td id=\"T_cf58c056_5d34_11ec_8396_acde48001122row1_col0\" class=\"data row1 col0\" >3.00</td>\n",
       "                        <td id=\"T_cf58c056_5d34_11ec_8396_acde48001122row1_col1\" class=\"data row1 col1\" >0.93</td>\n",
       "                        <td id=\"T_cf58c056_5d34_11ec_8396_acde48001122row1_col2\" class=\"data row1 col2\" >0.76</td>\n",
       "                        <td id=\"T_cf58c056_5d34_11ec_8396_acde48001122row1_col3\" class=\"data row1 col3\" >0.71</td>\n",
       "                        <td id=\"T_cf58c056_5d34_11ec_8396_acde48001122row1_col4\" class=\"data row1 col4\" >0.64</td>\n",
       "                        <td id=\"T_cf58c056_5d34_11ec_8396_acde48001122row1_col5\" class=\"data row1 col5\" >0.67</td>\n",
       "            </tr>\n",
       "            <tr>\n",
       "                        <th id=\"T_cf58c056_5d34_11ec_8396_acde48001122level0_row2\" class=\"row_heading level0 row2\" >3</th>\n",
       "                        <td id=\"T_cf58c056_5d34_11ec_8396_acde48001122row2_col0\" class=\"data row2 col0\" >4.00</td>\n",
       "                        <td id=\"T_cf58c056_5d34_11ec_8396_acde48001122row2_col1\" class=\"data row2 col1\" >0.93</td>\n",
       "                        <td id=\"T_cf58c056_5d34_11ec_8396_acde48001122row2_col2\" class=\"data row2 col2\" >0.79</td>\n",
       "                        <td id=\"T_cf58c056_5d34_11ec_8396_acde48001122row2_col3\" class=\"data row2 col3\" >0.77</td>\n",
       "                        <td id=\"T_cf58c056_5d34_11ec_8396_acde48001122row2_col4\" class=\"data row2 col4\" >0.67</td>\n",
       "                        <td id=\"T_cf58c056_5d34_11ec_8396_acde48001122row2_col5\" class=\"data row2 col5\" >0.71</td>\n",
       "            </tr>\n",
       "            <tr>\n",
       "                        <th id=\"T_cf58c056_5d34_11ec_8396_acde48001122level0_row3\" class=\"row_heading level0 row3\" >4</th>\n",
       "                        <td id=\"T_cf58c056_5d34_11ec_8396_acde48001122row3_col0\" class=\"data row3 col0\" >5.00</td>\n",
       "                        <td id=\"T_cf58c056_5d34_11ec_8396_acde48001122row3_col1\" class=\"data row3 col1\" >0.93</td>\n",
       "                        <td id=\"T_cf58c056_5d34_11ec_8396_acde48001122row3_col2\" class=\"data row3 col2\" >0.78</td>\n",
       "                        <td id=\"T_cf58c056_5d34_11ec_8396_acde48001122row3_col3\" class=\"data row3 col3\" >0.75</td>\n",
       "                        <td id=\"T_cf58c056_5d34_11ec_8396_acde48001122row3_col4\" class=\"data row3 col4\" >0.65</td>\n",
       "                        <td id=\"T_cf58c056_5d34_11ec_8396_acde48001122row3_col5\" class=\"data row3 col5\" >0.70</td>\n",
       "            </tr>\n",
       "            <tr>\n",
       "                        <th id=\"T_cf58c056_5d34_11ec_8396_acde48001122level0_row4\" class=\"row_heading level0 row4\" >5</th>\n",
       "                        <td id=\"T_cf58c056_5d34_11ec_8396_acde48001122row4_col0\" class=\"data row4 col0\" >6.00</td>\n",
       "                        <td id=\"T_cf58c056_5d34_11ec_8396_acde48001122row4_col1\" class=\"data row4 col1\" >0.93</td>\n",
       "                        <td id=\"T_cf58c056_5d34_11ec_8396_acde48001122row4_col2\" class=\"data row4 col2\" >0.79</td>\n",
       "                        <td id=\"T_cf58c056_5d34_11ec_8396_acde48001122row4_col3\" class=\"data row4 col3\" >0.75</td>\n",
       "                        <td id=\"T_cf58c056_5d34_11ec_8396_acde48001122row4_col4\" class=\"data row4 col4\" >0.70</td>\n",
       "                        <td id=\"T_cf58c056_5d34_11ec_8396_acde48001122row4_col5\" class=\"data row4 col5\" >0.72</td>\n",
       "            </tr>\n",
       "            <tr>\n",
       "                        <th id=\"T_cf58c056_5d34_11ec_8396_acde48001122level0_row5\" class=\"row_heading level0 row5\" >6</th>\n",
       "                        <td id=\"T_cf58c056_5d34_11ec_8396_acde48001122row5_col0\" class=\"data row5 col0\" >7.00</td>\n",
       "                        <td id=\"T_cf58c056_5d34_11ec_8396_acde48001122row5_col1\" class=\"data row5 col1\" >0.93</td>\n",
       "                        <td id=\"T_cf58c056_5d34_11ec_8396_acde48001122row5_col2\" class=\"data row5 col2\" >0.78</td>\n",
       "                        <td id=\"T_cf58c056_5d34_11ec_8396_acde48001122row5_col3\" class=\"data row5 col3\" >0.73</td>\n",
       "                        <td id=\"T_cf58c056_5d34_11ec_8396_acde48001122row5_col4\" class=\"data row5 col4\" >0.70</td>\n",
       "                        <td id=\"T_cf58c056_5d34_11ec_8396_acde48001122row5_col5\" class=\"data row5 col5\" >0.71</td>\n",
       "            </tr>\n",
       "            <tr>\n",
       "                        <th id=\"T_cf58c056_5d34_11ec_8396_acde48001122level0_row6\" class=\"row_heading level0 row6\" >7</th>\n",
       "                        <td id=\"T_cf58c056_5d34_11ec_8396_acde48001122row6_col0\" class=\"data row6 col0\" >8.00</td>\n",
       "                        <td id=\"T_cf58c056_5d34_11ec_8396_acde48001122row6_col1\" class=\"data row6 col1\" >0.93</td>\n",
       "                        <td id=\"T_cf58c056_5d34_11ec_8396_acde48001122row6_col2\" class=\"data row6 col2\" >0.77</td>\n",
       "                        <td id=\"T_cf58c056_5d34_11ec_8396_acde48001122row6_col3\" class=\"data row6 col3\" >0.70</td>\n",
       "                        <td id=\"T_cf58c056_5d34_11ec_8396_acde48001122row6_col4\" class=\"data row6 col4\" >0.70</td>\n",
       "                        <td id=\"T_cf58c056_5d34_11ec_8396_acde48001122row6_col5\" class=\"data row6 col5\" >0.70</td>\n",
       "            </tr>\n",
       "            <tr>\n",
       "                        <th id=\"T_cf58c056_5d34_11ec_8396_acde48001122level0_row7\" class=\"row_heading level0 row7\" >8</th>\n",
       "                        <td id=\"T_cf58c056_5d34_11ec_8396_acde48001122row7_col0\" class=\"data row7 col0\" >9.00</td>\n",
       "                        <td id=\"T_cf58c056_5d34_11ec_8396_acde48001122row7_col1\" class=\"data row7 col1\" >0.93</td>\n",
       "                        <td id=\"T_cf58c056_5d34_11ec_8396_acde48001122row7_col2\" class=\"data row7 col2\" >0.77</td>\n",
       "                        <td id=\"T_cf58c056_5d34_11ec_8396_acde48001122row7_col3\" class=\"data row7 col3\" >0.70</td>\n",
       "                        <td id=\"T_cf58c056_5d34_11ec_8396_acde48001122row7_col4\" class=\"data row7 col4\" >0.71</td>\n",
       "                        <td id=\"T_cf58c056_5d34_11ec_8396_acde48001122row7_col5\" class=\"data row7 col5\" >0.71</td>\n",
       "            </tr>\n",
       "            <tr>\n",
       "                        <th id=\"T_cf58c056_5d34_11ec_8396_acde48001122level0_row8\" class=\"row_heading level0 row8\" >9</th>\n",
       "                        <td id=\"T_cf58c056_5d34_11ec_8396_acde48001122row8_col0\" class=\"data row8 col0\" >10.00</td>\n",
       "                        <td id=\"T_cf58c056_5d34_11ec_8396_acde48001122row8_col1\" class=\"data row8 col1\" >0.93</td>\n",
       "                        <td id=\"T_cf58c056_5d34_11ec_8396_acde48001122row8_col2\" class=\"data row8 col2\" >0.80</td>\n",
       "                        <td id=\"T_cf58c056_5d34_11ec_8396_acde48001122row8_col3\" class=\"data row8 col3\" >0.73</td>\n",
       "                        <td id=\"T_cf58c056_5d34_11ec_8396_acde48001122row8_col4\" class=\"data row8 col4\" >0.75</td>\n",
       "                        <td id=\"T_cf58c056_5d34_11ec_8396_acde48001122row8_col5\" class=\"data row8 col5\" >0.74</td>\n",
       "            </tr>\n",
       "            <tr>\n",
       "                        <th id=\"T_cf58c056_5d34_11ec_8396_acde48001122level0_row9\" class=\"row_heading level0 row9\" >0</th>\n",
       "                        <td id=\"T_cf58c056_5d34_11ec_8396_acde48001122row9_col0\" class=\"data row9 col0\" >1.00</td>\n",
       "                        <td id=\"T_cf58c056_5d34_11ec_8396_acde48001122row9_col1\" class=\"data row9 col1\" >0.84</td>\n",
       "                        <td id=\"T_cf58c056_5d34_11ec_8396_acde48001122row9_col2\" class=\"data row9 col2\" >0.77</td>\n",
       "                        <td id=\"T_cf58c056_5d34_11ec_8396_acde48001122row9_col3\" class=\"data row9 col3\" >0.69</td>\n",
       "                        <td id=\"T_cf58c056_5d34_11ec_8396_acde48001122row9_col4\" class=\"data row9 col4\" >0.71</td>\n",
       "                        <td id=\"T_cf58c056_5d34_11ec_8396_acde48001122row9_col5\" class=\"data row9 col5\" >0.70</td>\n",
       "            </tr>\n",
       "    </tbody></table>"
      ],
      "text/plain": [
       "<pandas.io.formats.style.Styler at 0x7fbcc8e9a7f0>"
      ]
     },
     "execution_count": 107,
     "metadata": {},
     "output_type": "execute_result"
    }
   ],
   "source": [
    "ada_results2 = tune_ada_learners(X_train,y_train,150)\n",
    "\n",
    "ada_results2.style\\\n",
    "      .format('{:.2f}')\\\n",
    "      .highlight_max(color = 'lightgreen')\\\n",
    "      .highlight_min(color = 'coral')\\\n",
    "      .highlight_null(null_color='yellow')"
   ]
  },
  {
   "cell_type": "code",
   "execution_count": 108,
   "metadata": {},
   "outputs": [
    {
     "data": {
      "text/html": [
       "\n",
       "<div id=\"altair-viz-b587fc2523e74095ab3ecdb62df3b1f2\"></div>\n",
       "<script type=\"text/javascript\">\n",
       "  (function(spec, embedOpt){\n",
       "    let outputDiv = document.currentScript.previousElementSibling;\n",
       "    if (outputDiv.id !== \"altair-viz-b587fc2523e74095ab3ecdb62df3b1f2\") {\n",
       "      outputDiv = document.getElementById(\"altair-viz-b587fc2523e74095ab3ecdb62df3b1f2\");\n",
       "    }\n",
       "    const paths = {\n",
       "      \"vega\": \"https://cdn.jsdelivr.net/npm//vega@5?noext\",\n",
       "      \"vega-lib\": \"https://cdn.jsdelivr.net/npm//vega-lib?noext\",\n",
       "      \"vega-lite\": \"https://cdn.jsdelivr.net/npm//vega-lite@4.8.1?noext\",\n",
       "      \"vega-embed\": \"https://cdn.jsdelivr.net/npm//vega-embed@6?noext\",\n",
       "    };\n",
       "\n",
       "    function loadScript(lib) {\n",
       "      return new Promise(function(resolve, reject) {\n",
       "        var s = document.createElement('script');\n",
       "        s.src = paths[lib];\n",
       "        s.async = true;\n",
       "        s.onload = () => resolve(paths[lib]);\n",
       "        s.onerror = () => reject(`Error loading script: ${paths[lib]}`);\n",
       "        document.getElementsByTagName(\"head\")[0].appendChild(s);\n",
       "      });\n",
       "    }\n",
       "\n",
       "    function showError(err) {\n",
       "      outputDiv.innerHTML = `<div class=\"error\" style=\"color:red;\">${err}</div>`;\n",
       "      throw err;\n",
       "    }\n",
       "\n",
       "    function displayChart(vegaEmbed) {\n",
       "      vegaEmbed(outputDiv, spec, embedOpt)\n",
       "        .catch(err => showError(`Javascript Error: ${err.message}<br>This usually means there's a typo in your chart specification. See the javascript console for the full traceback.`));\n",
       "    }\n",
       "\n",
       "    if(typeof define === \"function\" && define.amd) {\n",
       "      requirejs.config({paths});\n",
       "      require([\"vega-embed\"], displayChart, err => showError(`Error loading script: ${err.message}`));\n",
       "    } else if (typeof vegaEmbed === \"function\") {\n",
       "      displayChart(vegaEmbed);\n",
       "    } else {\n",
       "      loadScript(\"vega\")\n",
       "        .then(() => loadScript(\"vega-lite\"))\n",
       "        .then(() => loadScript(\"vega-embed\"))\n",
       "        .catch(showError)\n",
       "        .then(() => displayChart(vegaEmbed));\n",
       "    }\n",
       "  })({\"config\": {\"view\": {\"continuousWidth\": 400, \"continuousHeight\": 300}}, \"layer\": [{\"mark\": {\"type\": \"line\", \"color\": \"red\"}, \"encoding\": {\"x\": {\"type\": \"quantitative\", \"field\": \"Learners\"}, \"y\": {\"type\": \"quantitative\", \"axis\": {\"titleColor\": \"#5276B7\"}, \"field\": \"Score\", \"title\": \"Score\"}}}, {\"mark\": {\"type\": \"line\", \"color\": \"lightblue\"}, \"encoding\": {\"x\": {\"type\": \"quantitative\", \"field\": \"Learners\"}, \"y\": {\"type\": \"quantitative\", \"axis\": {\"titleColor\": \"#5276A7\"}, \"field\": \"Accuracy\", \"title\": \"Accuracy\"}}}, {\"mark\": {\"type\": \"line\", \"color\": \"darkblue\"}, \"encoding\": {\"x\": {\"type\": \"quantitative\", \"field\": \"Learners\"}, \"y\": {\"type\": \"quantitative\", \"axis\": {\"titleColor\": \"#A18727\"}, \"field\": \"Precision\", \"title\": \"Precision\"}}}, {\"mark\": {\"type\": \"line\", \"color\": \"green\"}, \"encoding\": {\"x\": {\"type\": \"quantitative\", \"field\": \"Learners\"}, \"y\": {\"type\": \"quantitative\", \"axis\": {\"titleColor\": \"#F11111\"}, \"field\": \"Recall\", \"title\": \"Recall\"}}}, {\"mark\": {\"type\": \"line\", \"color\": \"purple\"}, \"encoding\": {\"x\": {\"type\": \"quantitative\", \"field\": \"Learners\"}, \"y\": {\"type\": \"quantitative\", \"axis\": {\"titleColor\": \"#OOOFFF\"}, \"field\": \"F1\", \"title\": \"F1\"}}}], \"data\": {\"name\": \"data-fd2e268f126ed50d8a1ea20626e1e110\"}, \"$schema\": \"https://vega.github.io/schema/vega-lite/v4.8.1.json\", \"datasets\": {\"data-fd2e268f126ed50d8a1ea20626e1e110\": [{\"Learners\": 2, \"Score\": 0.9307116104868914, \"Accuracy\": 0.8100558659217877, \"Precision\": 0.7777777777777778, \"Recall\": 0.7101449275362319, \"F1\": 0.7424242424242424}, {\"Learners\": 3, \"Score\": 0.9307116104868914, \"Accuracy\": 0.7597765363128491, \"Precision\": 0.7096774193548387, \"Recall\": 0.6376811594202898, \"F1\": 0.6717557251908397}, {\"Learners\": 4, \"Score\": 0.9307116104868914, \"Accuracy\": 0.7932960893854749, \"Precision\": 0.7666666666666667, \"Recall\": 0.6666666666666666, \"F1\": 0.7131782945736433}, {\"Learners\": 5, \"Score\": 0.9307116104868914, \"Accuracy\": 0.7821229050279329, \"Precision\": 0.75, \"Recall\": 0.6521739130434783, \"F1\": 0.6976744186046512}, {\"Learners\": 6, \"Score\": 0.9307116104868914, \"Accuracy\": 0.7932960893854749, \"Precision\": 0.75, \"Recall\": 0.6956521739130435, \"F1\": 0.7218045112781954}, {\"Learners\": 7, \"Score\": 0.9307116104868914, \"Accuracy\": 0.7821229050279329, \"Precision\": 0.7272727272727273, \"Recall\": 0.6956521739130435, \"F1\": 0.711111111111111}, {\"Learners\": 8, \"Score\": 0.9307116104868914, \"Accuracy\": 0.7653631284916201, \"Precision\": 0.6956521739130435, \"Recall\": 0.6956521739130435, \"F1\": 0.6956521739130435}, {\"Learners\": 9, \"Score\": 0.9307116104868914, \"Accuracy\": 0.770949720670391, \"Precision\": 0.7, \"Recall\": 0.7101449275362319, \"F1\": 0.7050359712230215}, {\"Learners\": 10, \"Score\": 0.9307116104868914, \"Accuracy\": 0.7988826815642458, \"Precision\": 0.7323943661971831, \"Recall\": 0.7536231884057971, \"F1\": 0.7428571428571428}, {\"Learners\": 1, \"Score\": 0.8389513108614233, \"Accuracy\": 0.7653631284916201, \"Precision\": 0.6901408450704225, \"Recall\": 0.7101449275362319, \"F1\": 0.7}]}}, {\"mode\": \"vega-lite\"});\n",
       "</script>"
      ],
      "text/plain": [
       "alt.LayerChart(...)"
      ]
     },
     "execution_count": 108,
     "metadata": {},
     "output_type": "execute_result"
    }
   ],
   "source": [
    "import altair as alt\n",
    "\n",
    "\n",
    "source = ada_results2\n",
    "\n",
    "alt.Chart(source).mark_trail().encode(\n",
    "    y='Score',\n",
    "    x='Learners',\n",
    "    size='Precision'\n",
    "\n",
    ")\n",
    "\n",
    "base = alt.Chart(source).encode(\n",
    "        alt.X('Learners')\n",
    ")\n",
    "\n",
    "line_M = base.mark_line(color='red').encode(\n",
    "    alt.Y('Score:Q', axis=alt.Axis(titleColor='#5276B7'),title='Score')\n",
    ")\n",
    "\n",
    "line_A = base.mark_line(color='lightblue').encode(\n",
    "    alt.Y('Accuracy:Q', axis=alt.Axis(titleColor='#5276A7'),title='Accuracy')\n",
    ")\n",
    "\n",
    "line_B = base.mark_line(color='darkblue').encode(\n",
    "    alt.Y('Precision:Q', axis=alt.Axis(titleColor='#A18727'),title='Precision')\n",
    ")\n",
    "\n",
    "line_C = base.mark_line(color='green').encode(\n",
    "    alt.Y('Recall:Q', axis=alt.Axis(titleColor='#F11111'),title='Recall')\n",
    ")\n",
    "\n",
    "line_D = base.mark_line(color='purple').encode(\n",
    "    alt.Y('F1:Q', axis=alt.Axis(titleColor='#OOOFFF'),title='F1')\n",
    ")\n",
    "\n",
    "alt.layer(line_M,line_A, line_B, line_C, line_D)#.resolve_scale(y='independent')\n"
   ]
  },
  {
   "cell_type": "code",
   "execution_count": 109,
   "metadata": {},
   "outputs": [
    {
     "data": {
      "text/html": [
       "<style  type=\"text/css\" >\n",
       "#T_e61e7542_5d34_11ec_8396_acde48001122row0_col1,#T_e61e7542_5d34_11ec_8396_acde48001122row0_col2,#T_e61e7542_5d34_11ec_8396_acde48001122row0_col3,#T_e61e7542_5d34_11ec_8396_acde48001122row0_col4,#T_e61e7542_5d34_11ec_8396_acde48001122row0_col5,#T_e61e7542_5d34_11ec_8396_acde48001122row19_col0{\n",
       "            background-color:  lightgreen;\n",
       "        }#T_e61e7542_5d34_11ec_8396_acde48001122row5_col4,#T_e61e7542_5d34_11ec_8396_acde48001122row14_col0,#T_e61e7542_5d34_11ec_8396_acde48001122row19_col1,#T_e61e7542_5d34_11ec_8396_acde48001122row19_col2,#T_e61e7542_5d34_11ec_8396_acde48001122row19_col3,#T_e61e7542_5d34_11ec_8396_acde48001122row19_col4,#T_e61e7542_5d34_11ec_8396_acde48001122row19_col5{\n",
       "            background-color:  coral;\n",
       "        }</style><table id=\"T_e61e7542_5d34_11ec_8396_acde48001122\" ><thead>    <tr>        <th class=\"blank level0\" ></th>        <th class=\"col_heading level0 col0\" >Learn_Rate</th>        <th class=\"col_heading level0 col1\" >Score</th>        <th class=\"col_heading level0 col2\" >Accuracy</th>        <th class=\"col_heading level0 col3\" >Precision</th>        <th class=\"col_heading level0 col4\" >Recall</th>        <th class=\"col_heading level0 col5\" >F1</th>    </tr></thead><tbody>\n",
       "                <tr>\n",
       "                        <th id=\"T_e61e7542_5d34_11ec_8396_acde48001122level0_row0\" class=\"row_heading level0 row0\" >17</th>\n",
       "                        <td id=\"T_e61e7542_5d34_11ec_8396_acde48001122row0_col0\" class=\"data row0 col0\" >1.80</td>\n",
       "                        <td id=\"T_e61e7542_5d34_11ec_8396_acde48001122row0_col1\" class=\"data row0 col1\" >0.88</td>\n",
       "                        <td id=\"T_e61e7542_5d34_11ec_8396_acde48001122row0_col2\" class=\"data row0 col2\" >0.80</td>\n",
       "                        <td id=\"T_e61e7542_5d34_11ec_8396_acde48001122row0_col3\" class=\"data row0 col3\" >0.75</td>\n",
       "                        <td id=\"T_e61e7542_5d34_11ec_8396_acde48001122row0_col4\" class=\"data row0 col4\" >0.74</td>\n",
       "                        <td id=\"T_e61e7542_5d34_11ec_8396_acde48001122row0_col5\" class=\"data row0 col5\" >0.74</td>\n",
       "            </tr>\n",
       "            <tr>\n",
       "                        <th id=\"T_e61e7542_5d34_11ec_8396_acde48001122level0_row1\" class=\"row_heading level0 row1\" >18</th>\n",
       "                        <td id=\"T_e61e7542_5d34_11ec_8396_acde48001122row1_col0\" class=\"data row1 col0\" >1.90</td>\n",
       "                        <td id=\"T_e61e7542_5d34_11ec_8396_acde48001122row1_col1\" class=\"data row1 col1\" >0.87</td>\n",
       "                        <td id=\"T_e61e7542_5d34_11ec_8396_acde48001122row1_col2\" class=\"data row1 col2\" >0.78</td>\n",
       "                        <td id=\"T_e61e7542_5d34_11ec_8396_acde48001122row1_col3\" class=\"data row1 col3\" >0.73</td>\n",
       "                        <td id=\"T_e61e7542_5d34_11ec_8396_acde48001122row1_col4\" class=\"data row1 col4\" >0.70</td>\n",
       "                        <td id=\"T_e61e7542_5d34_11ec_8396_acde48001122row1_col5\" class=\"data row1 col5\" >0.71</td>\n",
       "            </tr>\n",
       "            <tr>\n",
       "                        <th id=\"T_e61e7542_5d34_11ec_8396_acde48001122level0_row2\" class=\"row_heading level0 row2\" >15</th>\n",
       "                        <td id=\"T_e61e7542_5d34_11ec_8396_acde48001122row2_col0\" class=\"data row2 col0\" >1.60</td>\n",
       "                        <td id=\"T_e61e7542_5d34_11ec_8396_acde48001122row2_col1\" class=\"data row2 col1\" >0.87</td>\n",
       "                        <td id=\"T_e61e7542_5d34_11ec_8396_acde48001122row2_col2\" class=\"data row2 col2\" >0.77</td>\n",
       "                        <td id=\"T_e61e7542_5d34_11ec_8396_acde48001122row2_col3\" class=\"data row2 col3\" >0.71</td>\n",
       "                        <td id=\"T_e61e7542_5d34_11ec_8396_acde48001122row2_col4\" class=\"data row2 col4\" >0.68</td>\n",
       "                        <td id=\"T_e61e7542_5d34_11ec_8396_acde48001122row2_col5\" class=\"data row2 col5\" >0.70</td>\n",
       "            </tr>\n",
       "            <tr>\n",
       "                        <th id=\"T_e61e7542_5d34_11ec_8396_acde48001122level0_row3\" class=\"row_heading level0 row3\" >16</th>\n",
       "                        <td id=\"T_e61e7542_5d34_11ec_8396_acde48001122row3_col0\" class=\"data row3 col0\" >1.70</td>\n",
       "                        <td id=\"T_e61e7542_5d34_11ec_8396_acde48001122row3_col1\" class=\"data row3 col1\" >0.86</td>\n",
       "                        <td id=\"T_e61e7542_5d34_11ec_8396_acde48001122row3_col2\" class=\"data row3 col2\" >0.78</td>\n",
       "                        <td id=\"T_e61e7542_5d34_11ec_8396_acde48001122row3_col3\" class=\"data row3 col3\" >0.73</td>\n",
       "                        <td id=\"T_e61e7542_5d34_11ec_8396_acde48001122row3_col4\" class=\"data row3 col4\" >0.70</td>\n",
       "                        <td id=\"T_e61e7542_5d34_11ec_8396_acde48001122row3_col5\" class=\"data row3 col5\" >0.71</td>\n",
       "            </tr>\n",
       "            <tr>\n",
       "                        <th id=\"T_e61e7542_5d34_11ec_8396_acde48001122level0_row4\" class=\"row_heading level0 row4\" >14</th>\n",
       "                        <td id=\"T_e61e7542_5d34_11ec_8396_acde48001122row4_col0\" class=\"data row4 col0\" >1.50</td>\n",
       "                        <td id=\"T_e61e7542_5d34_11ec_8396_acde48001122row4_col1\" class=\"data row4 col1\" >0.86</td>\n",
       "                        <td id=\"T_e61e7542_5d34_11ec_8396_acde48001122row4_col2\" class=\"data row4 col2\" >0.76</td>\n",
       "                        <td id=\"T_e61e7542_5d34_11ec_8396_acde48001122row4_col3\" class=\"data row4 col3\" >0.69</td>\n",
       "                        <td id=\"T_e61e7542_5d34_11ec_8396_acde48001122row4_col4\" class=\"data row4 col4\" >0.70</td>\n",
       "                        <td id=\"T_e61e7542_5d34_11ec_8396_acde48001122row4_col5\" class=\"data row4 col5\" >0.69</td>\n",
       "            </tr>\n",
       "            <tr>\n",
       "                        <th id=\"T_e61e7542_5d34_11ec_8396_acde48001122level0_row5\" class=\"row_heading level0 row5\" >12</th>\n",
       "                        <td id=\"T_e61e7542_5d34_11ec_8396_acde48001122row5_col0\" class=\"data row5 col0\" >1.30</td>\n",
       "                        <td id=\"T_e61e7542_5d34_11ec_8396_acde48001122row5_col1\" class=\"data row5 col1\" >0.85</td>\n",
       "                        <td id=\"T_e61e7542_5d34_11ec_8396_acde48001122row5_col2\" class=\"data row5 col2\" >0.76</td>\n",
       "                        <td id=\"T_e61e7542_5d34_11ec_8396_acde48001122row5_col3\" class=\"data row5 col3\" >0.70</td>\n",
       "                        <td id=\"T_e61e7542_5d34_11ec_8396_acde48001122row5_col4\" class=\"data row5 col4\" >0.67</td>\n",
       "                        <td id=\"T_e61e7542_5d34_11ec_8396_acde48001122row5_col5\" class=\"data row5 col5\" >0.68</td>\n",
       "            </tr>\n",
       "            <tr>\n",
       "                        <th id=\"T_e61e7542_5d34_11ec_8396_acde48001122level0_row6\" class=\"row_heading level0 row6\" >13</th>\n",
       "                        <td id=\"T_e61e7542_5d34_11ec_8396_acde48001122row6_col0\" class=\"data row6 col0\" >1.40</td>\n",
       "                        <td id=\"T_e61e7542_5d34_11ec_8396_acde48001122row6_col1\" class=\"data row6 col1\" >0.85</td>\n",
       "                        <td id=\"T_e61e7542_5d34_11ec_8396_acde48001122row6_col2\" class=\"data row6 col2\" >0.77</td>\n",
       "                        <td id=\"T_e61e7542_5d34_11ec_8396_acde48001122row6_col3\" class=\"data row6 col3\" >0.70</td>\n",
       "                        <td id=\"T_e61e7542_5d34_11ec_8396_acde48001122row6_col4\" class=\"data row6 col4\" >0.71</td>\n",
       "                        <td id=\"T_e61e7542_5d34_11ec_8396_acde48001122row6_col5\" class=\"data row6 col5\" >0.71</td>\n",
       "            </tr>\n",
       "            <tr>\n",
       "                        <th id=\"T_e61e7542_5d34_11ec_8396_acde48001122level0_row7\" class=\"row_heading level0 row7\" >11</th>\n",
       "                        <td id=\"T_e61e7542_5d34_11ec_8396_acde48001122row7_col0\" class=\"data row7 col0\" >1.20</td>\n",
       "                        <td id=\"T_e61e7542_5d34_11ec_8396_acde48001122row7_col1\" class=\"data row7 col1\" >0.84</td>\n",
       "                        <td id=\"T_e61e7542_5d34_11ec_8396_acde48001122row7_col2\" class=\"data row7 col2\" >0.77</td>\n",
       "                        <td id=\"T_e61e7542_5d34_11ec_8396_acde48001122row7_col3\" class=\"data row7 col3\" >0.70</td>\n",
       "                        <td id=\"T_e61e7542_5d34_11ec_8396_acde48001122row7_col4\" class=\"data row7 col4\" >0.68</td>\n",
       "                        <td id=\"T_e61e7542_5d34_11ec_8396_acde48001122row7_col5\" class=\"data row7 col5\" >0.69</td>\n",
       "            </tr>\n",
       "            <tr>\n",
       "                        <th id=\"T_e61e7542_5d34_11ec_8396_acde48001122level0_row8\" class=\"row_heading level0 row8\" >9</th>\n",
       "                        <td id=\"T_e61e7542_5d34_11ec_8396_acde48001122row8_col0\" class=\"data row8 col0\" >1.00</td>\n",
       "                        <td id=\"T_e61e7542_5d34_11ec_8396_acde48001122row8_col1\" class=\"data row8 col1\" >0.84</td>\n",
       "                        <td id=\"T_e61e7542_5d34_11ec_8396_acde48001122row8_col2\" class=\"data row8 col2\" >0.77</td>\n",
       "                        <td id=\"T_e61e7542_5d34_11ec_8396_acde48001122row8_col3\" class=\"data row8 col3\" >0.69</td>\n",
       "                        <td id=\"T_e61e7542_5d34_11ec_8396_acde48001122row8_col4\" class=\"data row8 col4\" >0.71</td>\n",
       "                        <td id=\"T_e61e7542_5d34_11ec_8396_acde48001122row8_col5\" class=\"data row8 col5\" >0.70</td>\n",
       "            </tr>\n",
       "            <tr>\n",
       "                        <th id=\"T_e61e7542_5d34_11ec_8396_acde48001122level0_row9\" class=\"row_heading level0 row9\" >10</th>\n",
       "                        <td id=\"T_e61e7542_5d34_11ec_8396_acde48001122row9_col0\" class=\"data row9 col0\" >1.10</td>\n",
       "                        <td id=\"T_e61e7542_5d34_11ec_8396_acde48001122row9_col1\" class=\"data row9 col1\" >0.84</td>\n",
       "                        <td id=\"T_e61e7542_5d34_11ec_8396_acde48001122row9_col2\" class=\"data row9 col2\" >0.77</td>\n",
       "                        <td id=\"T_e61e7542_5d34_11ec_8396_acde48001122row9_col3\" class=\"data row9 col3\" >0.70</td>\n",
       "                        <td id=\"T_e61e7542_5d34_11ec_8396_acde48001122row9_col4\" class=\"data row9 col4\" >0.70</td>\n",
       "                        <td id=\"T_e61e7542_5d34_11ec_8396_acde48001122row9_col5\" class=\"data row9 col5\" >0.70</td>\n",
       "            </tr>\n",
       "            <tr>\n",
       "                        <th id=\"T_e61e7542_5d34_11ec_8396_acde48001122level0_row10\" class=\"row_heading level0 row10\" >6</th>\n",
       "                        <td id=\"T_e61e7542_5d34_11ec_8396_acde48001122row10_col0\" class=\"data row10 col0\" >0.70</td>\n",
       "                        <td id=\"T_e61e7542_5d34_11ec_8396_acde48001122row10_col1\" class=\"data row10 col1\" >0.83</td>\n",
       "                        <td id=\"T_e61e7542_5d34_11ec_8396_acde48001122row10_col2\" class=\"data row10 col2\" >0.78</td>\n",
       "                        <td id=\"T_e61e7542_5d34_11ec_8396_acde48001122row10_col3\" class=\"data row10 col3\" >0.71</td>\n",
       "                        <td id=\"T_e61e7542_5d34_11ec_8396_acde48001122row10_col4\" class=\"data row10 col4\" >0.71</td>\n",
       "                        <td id=\"T_e61e7542_5d34_11ec_8396_acde48001122row10_col5\" class=\"data row10 col5\" >0.71</td>\n",
       "            </tr>\n",
       "            <tr>\n",
       "                        <th id=\"T_e61e7542_5d34_11ec_8396_acde48001122level0_row11\" class=\"row_heading level0 row11\" >7</th>\n",
       "                        <td id=\"T_e61e7542_5d34_11ec_8396_acde48001122row11_col0\" class=\"data row11 col0\" >0.80</td>\n",
       "                        <td id=\"T_e61e7542_5d34_11ec_8396_acde48001122row11_col1\" class=\"data row11 col1\" >0.83</td>\n",
       "                        <td id=\"T_e61e7542_5d34_11ec_8396_acde48001122row11_col2\" class=\"data row11 col2\" >0.78</td>\n",
       "                        <td id=\"T_e61e7542_5d34_11ec_8396_acde48001122row11_col3\" class=\"data row11 col3\" >0.71</td>\n",
       "                        <td id=\"T_e61e7542_5d34_11ec_8396_acde48001122row11_col4\" class=\"data row11 col4\" >0.71</td>\n",
       "                        <td id=\"T_e61e7542_5d34_11ec_8396_acde48001122row11_col5\" class=\"data row11 col5\" >0.71</td>\n",
       "            </tr>\n",
       "            <tr>\n",
       "                        <th id=\"T_e61e7542_5d34_11ec_8396_acde48001122level0_row12\" class=\"row_heading level0 row12\" >8</th>\n",
       "                        <td id=\"T_e61e7542_5d34_11ec_8396_acde48001122row12_col0\" class=\"data row12 col0\" >0.90</td>\n",
       "                        <td id=\"T_e61e7542_5d34_11ec_8396_acde48001122row12_col1\" class=\"data row12 col1\" >0.83</td>\n",
       "                        <td id=\"T_e61e7542_5d34_11ec_8396_acde48001122row12_col2\" class=\"data row12 col2\" >0.77</td>\n",
       "                        <td id=\"T_e61e7542_5d34_11ec_8396_acde48001122row12_col3\" class=\"data row12 col3\" >0.70</td>\n",
       "                        <td id=\"T_e61e7542_5d34_11ec_8396_acde48001122row12_col4\" class=\"data row12 col4\" >0.71</td>\n",
       "                        <td id=\"T_e61e7542_5d34_11ec_8396_acde48001122row12_col5\" class=\"data row12 col5\" >0.71</td>\n",
       "            </tr>\n",
       "            <tr>\n",
       "                        <th id=\"T_e61e7542_5d34_11ec_8396_acde48001122level0_row13\" class=\"row_heading level0 row13\" >5</th>\n",
       "                        <td id=\"T_e61e7542_5d34_11ec_8396_acde48001122row13_col0\" class=\"data row13 col0\" >0.60</td>\n",
       "                        <td id=\"T_e61e7542_5d34_11ec_8396_acde48001122row13_col1\" class=\"data row13 col1\" >0.81</td>\n",
       "                        <td id=\"T_e61e7542_5d34_11ec_8396_acde48001122row13_col2\" class=\"data row13 col2\" >0.78</td>\n",
       "                        <td id=\"T_e61e7542_5d34_11ec_8396_acde48001122row13_col3\" class=\"data row13 col3\" >0.70</td>\n",
       "                        <td id=\"T_e61e7542_5d34_11ec_8396_acde48001122row13_col4\" class=\"data row13 col4\" >0.72</td>\n",
       "                        <td id=\"T_e61e7542_5d34_11ec_8396_acde48001122row13_col5\" class=\"data row13 col5\" >0.71</td>\n",
       "            </tr>\n",
       "            <tr>\n",
       "                        <th id=\"T_e61e7542_5d34_11ec_8396_acde48001122level0_row14\" class=\"row_heading level0 row14\" >0</th>\n",
       "                        <td id=\"T_e61e7542_5d34_11ec_8396_acde48001122row14_col0\" class=\"data row14 col0\" >0.10</td>\n",
       "                        <td id=\"T_e61e7542_5d34_11ec_8396_acde48001122row14_col1\" class=\"data row14 col1\" >0.81</td>\n",
       "                        <td id=\"T_e61e7542_5d34_11ec_8396_acde48001122row14_col2\" class=\"data row14 col2\" >0.75</td>\n",
       "                        <td id=\"T_e61e7542_5d34_11ec_8396_acde48001122row14_col3\" class=\"data row14 col3\" >0.67</td>\n",
       "                        <td id=\"T_e61e7542_5d34_11ec_8396_acde48001122row14_col4\" class=\"data row14 col4\" >0.70</td>\n",
       "                        <td id=\"T_e61e7542_5d34_11ec_8396_acde48001122row14_col5\" class=\"data row14 col5\" >0.68</td>\n",
       "            </tr>\n",
       "            <tr>\n",
       "                        <th id=\"T_e61e7542_5d34_11ec_8396_acde48001122level0_row15\" class=\"row_heading level0 row15\" >4</th>\n",
       "                        <td id=\"T_e61e7542_5d34_11ec_8396_acde48001122row15_col0\" class=\"data row15 col0\" >0.50</td>\n",
       "                        <td id=\"T_e61e7542_5d34_11ec_8396_acde48001122row15_col1\" class=\"data row15 col1\" >0.81</td>\n",
       "                        <td id=\"T_e61e7542_5d34_11ec_8396_acde48001122row15_col2\" class=\"data row15 col2\" >0.77</td>\n",
       "                        <td id=\"T_e61e7542_5d34_11ec_8396_acde48001122row15_col3\" class=\"data row15 col3\" >0.70</td>\n",
       "                        <td id=\"T_e61e7542_5d34_11ec_8396_acde48001122row15_col4\" class=\"data row15 col4\" >0.71</td>\n",
       "                        <td id=\"T_e61e7542_5d34_11ec_8396_acde48001122row15_col5\" class=\"data row15 col5\" >0.71</td>\n",
       "            </tr>\n",
       "            <tr>\n",
       "                        <th id=\"T_e61e7542_5d34_11ec_8396_acde48001122level0_row16\" class=\"row_heading level0 row16\" >1</th>\n",
       "                        <td id=\"T_e61e7542_5d34_11ec_8396_acde48001122row16_col0\" class=\"data row16 col0\" >0.20</td>\n",
       "                        <td id=\"T_e61e7542_5d34_11ec_8396_acde48001122row16_col1\" class=\"data row16 col1\" >0.81</td>\n",
       "                        <td id=\"T_e61e7542_5d34_11ec_8396_acde48001122row16_col2\" class=\"data row16 col2\" >0.74</td>\n",
       "                        <td id=\"T_e61e7542_5d34_11ec_8396_acde48001122row16_col3\" class=\"data row16 col3\" >0.66</td>\n",
       "                        <td id=\"T_e61e7542_5d34_11ec_8396_acde48001122row16_col4\" class=\"data row16 col4\" >0.70</td>\n",
       "                        <td id=\"T_e61e7542_5d34_11ec_8396_acde48001122row16_col5\" class=\"data row16 col5\" >0.68</td>\n",
       "            </tr>\n",
       "            <tr>\n",
       "                        <th id=\"T_e61e7542_5d34_11ec_8396_acde48001122level0_row17\" class=\"row_heading level0 row17\" >3</th>\n",
       "                        <td id=\"T_e61e7542_5d34_11ec_8396_acde48001122row17_col0\" class=\"data row17 col0\" >0.40</td>\n",
       "                        <td id=\"T_e61e7542_5d34_11ec_8396_acde48001122row17_col1\" class=\"data row17 col1\" >0.81</td>\n",
       "                        <td id=\"T_e61e7542_5d34_11ec_8396_acde48001122row17_col2\" class=\"data row17 col2\" >0.76</td>\n",
       "                        <td id=\"T_e61e7542_5d34_11ec_8396_acde48001122row17_col3\" class=\"data row17 col3\" >0.68</td>\n",
       "                        <td id=\"T_e61e7542_5d34_11ec_8396_acde48001122row17_col4\" class=\"data row17 col4\" >0.71</td>\n",
       "                        <td id=\"T_e61e7542_5d34_11ec_8396_acde48001122row17_col5\" class=\"data row17 col5\" >0.70</td>\n",
       "            </tr>\n",
       "            <tr>\n",
       "                        <th id=\"T_e61e7542_5d34_11ec_8396_acde48001122level0_row18\" class=\"row_heading level0 row18\" >2</th>\n",
       "                        <td id=\"T_e61e7542_5d34_11ec_8396_acde48001122row18_col0\" class=\"data row18 col0\" >0.30</td>\n",
       "                        <td id=\"T_e61e7542_5d34_11ec_8396_acde48001122row18_col1\" class=\"data row18 col1\" >0.81</td>\n",
       "                        <td id=\"T_e61e7542_5d34_11ec_8396_acde48001122row18_col2\" class=\"data row18 col2\" >0.75</td>\n",
       "                        <td id=\"T_e61e7542_5d34_11ec_8396_acde48001122row18_col3\" class=\"data row18 col3\" >0.68</td>\n",
       "                        <td id=\"T_e61e7542_5d34_11ec_8396_acde48001122row18_col4\" class=\"data row18 col4\" >0.70</td>\n",
       "                        <td id=\"T_e61e7542_5d34_11ec_8396_acde48001122row18_col5\" class=\"data row18 col5\" >0.69</td>\n",
       "            </tr>\n",
       "            <tr>\n",
       "                        <th id=\"T_e61e7542_5d34_11ec_8396_acde48001122level0_row19\" class=\"row_heading level0 row19\" >19</th>\n",
       "                        <td id=\"T_e61e7542_5d34_11ec_8396_acde48001122row19_col0\" class=\"data row19 col0\" >2.00</td>\n",
       "                        <td id=\"T_e61e7542_5d34_11ec_8396_acde48001122row19_col1\" class=\"data row19 col1\" >0.80</td>\n",
       "                        <td id=\"T_e61e7542_5d34_11ec_8396_acde48001122row19_col2\" class=\"data row19 col2\" >0.73</td>\n",
       "                        <td id=\"T_e61e7542_5d34_11ec_8396_acde48001122row19_col3\" class=\"data row19 col3\" >0.65</td>\n",
       "                        <td id=\"T_e61e7542_5d34_11ec_8396_acde48001122row19_col4\" class=\"data row19 col4\" >0.67</td>\n",
       "                        <td id=\"T_e61e7542_5d34_11ec_8396_acde48001122row19_col5\" class=\"data row19 col5\" >0.66</td>\n",
       "            </tr>\n",
       "    </tbody></table>"
      ],
      "text/plain": [
       "<pandas.io.formats.style.Styler at 0x7fbccb5cd490>"
      ]
     },
     "execution_count": 109,
     "metadata": {},
     "output_type": "execute_result"
    }
   ],
   "source": [
    "ada_results3 = tune_ada_learn_rate(X_train,y_train,150,1)\n",
    "\n",
    "ada_results3.style\\\n",
    "      .format('{:.2f}')\\\n",
    "      .highlight_max(color = 'lightgreen')\\\n",
    "      .highlight_min(color = 'coral')\\\n",
    "      .highlight_null(null_color='yellow')"
   ]
  },
  {
   "cell_type": "code",
   "execution_count": 110,
   "metadata": {},
   "outputs": [
    {
     "data": {
      "text/html": [
       "\n",
       "<div id=\"altair-viz-dfc72059ce8b4b9e86dd8e37df51f570\"></div>\n",
       "<script type=\"text/javascript\">\n",
       "  (function(spec, embedOpt){\n",
       "    let outputDiv = document.currentScript.previousElementSibling;\n",
       "    if (outputDiv.id !== \"altair-viz-dfc72059ce8b4b9e86dd8e37df51f570\") {\n",
       "      outputDiv = document.getElementById(\"altair-viz-dfc72059ce8b4b9e86dd8e37df51f570\");\n",
       "    }\n",
       "    const paths = {\n",
       "      \"vega\": \"https://cdn.jsdelivr.net/npm//vega@5?noext\",\n",
       "      \"vega-lib\": \"https://cdn.jsdelivr.net/npm//vega-lib?noext\",\n",
       "      \"vega-lite\": \"https://cdn.jsdelivr.net/npm//vega-lite@4.8.1?noext\",\n",
       "      \"vega-embed\": \"https://cdn.jsdelivr.net/npm//vega-embed@6?noext\",\n",
       "    };\n",
       "\n",
       "    function loadScript(lib) {\n",
       "      return new Promise(function(resolve, reject) {\n",
       "        var s = document.createElement('script');\n",
       "        s.src = paths[lib];\n",
       "        s.async = true;\n",
       "        s.onload = () => resolve(paths[lib]);\n",
       "        s.onerror = () => reject(`Error loading script: ${paths[lib]}`);\n",
       "        document.getElementsByTagName(\"head\")[0].appendChild(s);\n",
       "      });\n",
       "    }\n",
       "\n",
       "    function showError(err) {\n",
       "      outputDiv.innerHTML = `<div class=\"error\" style=\"color:red;\">${err}</div>`;\n",
       "      throw err;\n",
       "    }\n",
       "\n",
       "    function displayChart(vegaEmbed) {\n",
       "      vegaEmbed(outputDiv, spec, embedOpt)\n",
       "        .catch(err => showError(`Javascript Error: ${err.message}<br>This usually means there's a typo in your chart specification. See the javascript console for the full traceback.`));\n",
       "    }\n",
       "\n",
       "    if(typeof define === \"function\" && define.amd) {\n",
       "      requirejs.config({paths});\n",
       "      require([\"vega-embed\"], displayChart, err => showError(`Error loading script: ${err.message}`));\n",
       "    } else if (typeof vegaEmbed === \"function\") {\n",
       "      displayChart(vegaEmbed);\n",
       "    } else {\n",
       "      loadScript(\"vega\")\n",
       "        .then(() => loadScript(\"vega-lite\"))\n",
       "        .then(() => loadScript(\"vega-embed\"))\n",
       "        .catch(showError)\n",
       "        .then(() => displayChart(vegaEmbed));\n",
       "    }\n",
       "  })({\"config\": {\"view\": {\"continuousWidth\": 400, \"continuousHeight\": 300}}, \"layer\": [{\"mark\": {\"type\": \"line\", \"color\": \"red\"}, \"encoding\": {\"x\": {\"type\": \"quantitative\", \"field\": \"Learn_Rate\"}, \"y\": {\"type\": \"quantitative\", \"axis\": {\"titleColor\": \"#5276B7\"}, \"field\": \"Score\", \"title\": \"Score\"}}}, {\"mark\": {\"type\": \"line\", \"color\": \"lightblue\"}, \"encoding\": {\"x\": {\"type\": \"quantitative\", \"field\": \"Learn_Rate\"}, \"y\": {\"type\": \"quantitative\", \"axis\": {\"titleColor\": \"#5276A7\"}, \"field\": \"Accuracy\", \"title\": \"Accuracy\"}}}, {\"mark\": {\"type\": \"line\", \"color\": \"darkblue\"}, \"encoding\": {\"x\": {\"type\": \"quantitative\", \"field\": \"Learn_Rate\"}, \"y\": {\"type\": \"quantitative\", \"axis\": {\"titleColor\": \"#A18727\"}, \"field\": \"Precision\", \"title\": \"Precision\"}}}, {\"mark\": {\"type\": \"line\", \"color\": \"green\"}, \"encoding\": {\"x\": {\"type\": \"quantitative\", \"field\": \"Learn_Rate\"}, \"y\": {\"type\": \"quantitative\", \"axis\": {\"titleColor\": \"#F11111\"}, \"field\": \"Recall\", \"title\": \"Recall\"}}}, {\"mark\": {\"type\": \"line\", \"color\": \"purple\"}, \"encoding\": {\"x\": {\"type\": \"quantitative\", \"field\": \"Learn_Rate\"}, \"y\": {\"type\": \"quantitative\", \"axis\": {\"titleColor\": \"#OOOFFF\"}, \"field\": \"F1\", \"title\": \"F1\"}}}], \"data\": {\"name\": \"data-b386d1622f9d92946b78fcab9832b626\"}, \"$schema\": \"https://vega.github.io/schema/vega-lite/v4.8.1.json\", \"datasets\": {\"data-b386d1622f9d92946b78fcab9832b626\": [{\"Learn_Rate\": 1.8000000000000003, \"Score\": 0.8764044943820225, \"Accuracy\": 0.8044692737430168, \"Precision\": 0.75, \"Recall\": 0.7391304347826086, \"F1\": 0.7445255474452556}, {\"Learn_Rate\": 1.9000000000000001, \"Score\": 0.8689138576779026, \"Accuracy\": 0.7821229050279329, \"Precision\": 0.7272727272727273, \"Recall\": 0.6956521739130435, \"F1\": 0.711111111111111}, {\"Learn_Rate\": 1.6, \"Score\": 0.8651685393258427, \"Accuracy\": 0.770949720670391, \"Precision\": 0.7121212121212122, \"Recall\": 0.6811594202898551, \"F1\": 0.6962962962962962}, {\"Learn_Rate\": 1.7000000000000002, \"Score\": 0.8632958801498127, \"Accuracy\": 0.7821229050279329, \"Precision\": 0.7272727272727273, \"Recall\": 0.6956521739130435, \"F1\": 0.711111111111111}, {\"Learn_Rate\": 1.5000000000000002, \"Score\": 0.8595505617977528, \"Accuracy\": 0.7597765363128491, \"Precision\": 0.6857142857142857, \"Recall\": 0.6956521739130435, \"F1\": 0.6906474820143885}, {\"Learn_Rate\": 1.3000000000000003, \"Score\": 0.8539325842696629, \"Accuracy\": 0.7597765363128491, \"Precision\": 0.696969696969697, \"Recall\": 0.6666666666666666, \"F1\": 0.6814814814814815}, {\"Learn_Rate\": 1.4000000000000001, \"Score\": 0.850187265917603, \"Accuracy\": 0.770949720670391, \"Precision\": 0.7, \"Recall\": 0.7101449275362319, \"F1\": 0.7050359712230215}, {\"Learn_Rate\": 1.2000000000000002, \"Score\": 0.8426966292134831, \"Accuracy\": 0.7653631284916201, \"Precision\": 0.7014925373134329, \"Recall\": 0.6811594202898551, \"F1\": 0.6911764705882354}, {\"Learn_Rate\": 1.0, \"Score\": 0.8389513108614233, \"Accuracy\": 0.7653631284916201, \"Precision\": 0.6901408450704225, \"Recall\": 0.7101449275362319, \"F1\": 0.7}, {\"Learn_Rate\": 1.1, \"Score\": 0.8352059925093633, \"Accuracy\": 0.7653631284916201, \"Precision\": 0.6956521739130435, \"Recall\": 0.6956521739130435, \"F1\": 0.6956521739130435}, {\"Learn_Rate\": 0.7000000000000001, \"Score\": 0.8333333333333334, \"Accuracy\": 0.776536312849162, \"Precision\": 0.7101449275362319, \"Recall\": 0.7101449275362319, \"F1\": 0.7101449275362319}, {\"Learn_Rate\": 0.8, \"Score\": 0.8333333333333334, \"Accuracy\": 0.776536312849162, \"Precision\": 0.7101449275362319, \"Recall\": 0.7101449275362319, \"F1\": 0.7101449275362319}, {\"Learn_Rate\": 0.9, \"Score\": 0.8295880149812734, \"Accuracy\": 0.770949720670391, \"Precision\": 0.7, \"Recall\": 0.7101449275362319, \"F1\": 0.7050359712230215}, {\"Learn_Rate\": 0.6, \"Score\": 0.8127340823970037, \"Accuracy\": 0.776536312849162, \"Precision\": 0.704225352112676, \"Recall\": 0.7246376811594203, \"F1\": 0.7142857142857142}, {\"Learn_Rate\": 0.1, \"Score\": 0.8089887640449438, \"Accuracy\": 0.7486033519553073, \"Precision\": 0.6666666666666666, \"Recall\": 0.6956521739130435, \"F1\": 0.6808510638297872}, {\"Learn_Rate\": 0.5, \"Score\": 0.8089887640449438, \"Accuracy\": 0.770949720670391, \"Precision\": 0.7, \"Recall\": 0.7101449275362319, \"F1\": 0.7050359712230215}, {\"Learn_Rate\": 0.2, \"Score\": 0.8052434456928839, \"Accuracy\": 0.7430167597765364, \"Precision\": 0.6575342465753424, \"Recall\": 0.6956521739130435, \"F1\": 0.676056338028169}, {\"Learn_Rate\": 0.4, \"Score\": 0.8052434456928839, \"Accuracy\": 0.7597765363128491, \"Precision\": 0.6805555555555556, \"Recall\": 0.7101449275362319, \"F1\": 0.6950354609929078}, {\"Learn_Rate\": 0.30000000000000004, \"Score\": 0.8052434456928839, \"Accuracy\": 0.7541899441340782, \"Precision\": 0.676056338028169, \"Recall\": 0.6956521739130435, \"F1\": 0.6857142857142857}, {\"Learn_Rate\": 2.0, \"Score\": 0.799625468164794, \"Accuracy\": 0.7318435754189944, \"Precision\": 0.647887323943662, \"Recall\": 0.6666666666666666, \"F1\": 0.6571428571428573}]}}, {\"mode\": \"vega-lite\"});\n",
       "</script>"
      ],
      "text/plain": [
       "alt.LayerChart(...)"
      ]
     },
     "execution_count": 110,
     "metadata": {},
     "output_type": "execute_result"
    }
   ],
   "source": [
    "import altair as alt\n",
    "\n",
    "\n",
    "source = ada_results3\n",
    "\n",
    "alt.Chart(source).mark_trail().encode(\n",
    "    y='Score',\n",
    "    x='Learn_Rate',\n",
    "    size='Precision'\n",
    "\n",
    ")\n",
    "\n",
    "base = alt.Chart(source).encode(\n",
    "        alt.X('Learn_Rate')\n",
    ")\n",
    "\n",
    "line_M = base.mark_line(color='red').encode(\n",
    "    alt.Y('Score:Q', axis=alt.Axis(titleColor='#5276B7'),title='Score')\n",
    ")\n",
    "\n",
    "line_A = base.mark_line(color='lightblue').encode(\n",
    "    alt.Y('Accuracy:Q', axis=alt.Axis(titleColor='#5276A7'),title='Accuracy')\n",
    ")\n",
    "\n",
    "line_B = base.mark_line(color='darkblue').encode(\n",
    "    alt.Y('Precision:Q', axis=alt.Axis(titleColor='#A18727'),title='Precision')\n",
    ")\n",
    "\n",
    "line_C = base.mark_line(color='green').encode(\n",
    "    alt.Y('Recall:Q', axis=alt.Axis(titleColor='#F11111'),title='Recall')\n",
    ")\n",
    "\n",
    "line_D = base.mark_line(color='purple').encode(\n",
    "    alt.Y('F1:Q', axis=alt.Axis(titleColor='#OOOFFF'),title='F1')\n",
    ")\n",
    "\n",
    "alt.layer(line_M,line_A, line_B, line_C, line_D)#.resolve_scale(y='independent')\n"
   ]
  },
  {
   "cell_type": "markdown",
   "metadata": {},
   "source": [
    "### best model with ADA on training data: \n",
    "- n_estimators = 450\n",
    "- Learners = 1\n",
    "- learn rate = 1.0"
   ]
  },
  {
   "cell_type": "code",
   "execution_count": 165,
   "metadata": {},
   "outputs": [],
   "source": [
    "def model_Ada(X_train,y_train,m,ne,lr):\n",
    "    #Using KNeighborsClassifier Method of neighbors class to use Nearest Neighbor algorithm\n",
    "    from sklearn.neighbors import KNeighborsClassifier\n",
    "    adaboost = AdaBoostClassifier(DecisionTreeClassifier(max_depth=m),n_estimators = ne,learning_rate=lr) \n",
    "    adaboost.fit(X_train, y_train)\n",
    "    \n",
    "    print('FINAL KNeighbors Classifier Metrics: \\n Model score: %.4f \\n Accuracy: %.4f \\n Precision: %.4f \\n Recall: %.4f \\n F1: %.4f' %\n",
    "    (adaboost.score(X_train, y_train),\n",
    "     accuracy(y_test, adaboost.predict(X_test)), \n",
    "     precision(y_test, adaboost.predict(X_test)), \n",
    "     recall(y_test, adaboost.predict(X_test)),\n",
    "     F1(y_test, adaboost.predict(X_test))\n",
    "           )\n",
    "       )       \n",
    "    print('---------------------')   "
   ]
  },
  {
   "cell_type": "code",
   "execution_count": 166,
   "metadata": {},
   "outputs": [
    {
     "name": "stdout",
     "output_type": "stream",
     "text": [
      "FINAL KNeighbors Classifier Metrics: \n",
      " Model score: 0.9663 \n",
      " Accuracy: 0.6145 \n",
      " Precision: nan \n",
      " Recall: 0.0000 \n",
      " F1: nan\n",
      "---------------------\n"
     ]
    }
   ],
   "source": [
    "model_Ada(X_valid,y_valid,1,450,1.8)"
   ]
  },
  {
   "cell_type": "code",
   "execution_count": null,
   "metadata": {},
   "outputs": [],
   "source": []
  },
  {
   "cell_type": "code",
   "execution_count": null,
   "metadata": {},
   "outputs": [],
   "source": []
  },
  {
   "cell_type": "code",
   "execution_count": null,
   "metadata": {},
   "outputs": [],
   "source": []
  },
  {
   "cell_type": "code",
   "execution_count": null,
   "metadata": {},
   "outputs": [],
   "source": []
  },
  {
   "cell_type": "code",
   "execution_count": 156,
   "metadata": {},
   "outputs": [],
   "source": [
    "def runAda(X_train, y_train,m,ne,lr):\n",
    "    clf = AdaBoostClassifier(DecisionTreeClassifier(max_depth=m),n_estimators = ne,learning_rate=lr)  \n",
    "    clf.fit(X_train, y_train)\n",
    "    y_pred_random_forest_training_set = clf.predict(X_train)\n",
    "    acc_random_forest = round(clf.score(X_train, y_train) * 100, 2)\n",
    "    print (\"Accuracy: %i %% \\n\"%acc_random_forest)\n",
    "    \n",
    "    class_names = ['Survived', 'Not Survived']\n",
    "    \n",
    "    # Compute confusion matrix\n",
    "    cnf_matrix = confusion_matrix(y_train, y_pred_random_forest_training_set)\n",
    "    np.set_printoptions(precision=2)\n",
    "    \n",
    "    print ('Confusion Matrix in Numbers')\n",
    "    print (cnf_matrix)\n",
    "    print ('')\n",
    "    \n",
    "    cnf_matrix_percent = cnf_matrix.astype('float') / cnf_matrix.sum(axis=1)[:, np.newaxis]\n",
    "    \n",
    "    print ('Confusion Matrix in Percentage')\n",
    "    print (cnf_matrix_percent)\n",
    "    print ('')\n",
    "    \n",
    "    \n",
    "    print('AdaBoost Classifier Training Metrics: \\n Model score: %.4f \\n Accuracy: %.4f \\n Precision: %.4f \\n Recall: %.4f \\n F1: %.4f' %\n",
    "    (clf.score(X_train, y_train),\n",
    "     accuracy(y_test, clf.predict(X_test)), \n",
    "     precision(y_test, clf.predict(X_test)), \n",
    "     recall(y_test, clf.predict(X_test)),\n",
    "     F1(y_test, clf.predict(X_test))\n",
    "           )\n",
    "       )       \n",
    "    print('---------------------')     \n",
    "    print ('')    \n",
    "        \n",
    "    \n",
    "    true_class_names = ['True Survived', 'True Not Survived']\n",
    "    predicted_class_names = ['Predicted Survived', 'Predicted Not Survived']\n",
    "    \n",
    "    df_cnf_matrix = pd.DataFrame(cnf_matrix, \n",
    "                                 index = true_class_names,\n",
    "                                 columns = predicted_class_names)\n",
    "    \n",
    "    df_cnf_matrix_percent = pd.DataFrame(cnf_matrix_percent, \n",
    "                                         index = true_class_names,\n",
    "                                         columns = predicted_class_names)\n",
    "    \n",
    "    plt.figure(figsize = (15,5))\n",
    "    \n",
    "    plt.subplot(121)\n",
    "    sns.heatmap(df_cnf_matrix, annot=True, fmt='d')\n",
    "    \n",
    "    plt.subplot(122)\n",
    "    sns.heatmap(df_cnf_matrix_percent, annot=True)"
   ]
  },
  {
   "cell_type": "code",
   "execution_count": 163,
   "metadata": {},
   "outputs": [
    {
     "name": "stdout",
     "output_type": "stream",
     "text": [
      "AdaBoost Classifier Training Metrics: \n",
      " Model score: 0.6404 \n",
      " Accuracy: 0.6404 \n",
      " Precision: nan \n",
      " Recall: 0.0000 \n",
      " F1: nan\n",
      "---------------------\n",
      "\n"
     ]
    }
   ],
   "source": []
  },
  {
   "cell_type": "code",
   "execution_count": 157,
   "metadata": {},
   "outputs": [
    {
     "name": "stdout",
     "output_type": "stream",
     "text": [
      "Accuracy: 90 % \n",
      "\n",
      "Confusion Matrix in Numbers\n",
      "[[307  18]\n",
      " [ 35 174]]\n",
      "\n",
      "Confusion Matrix in Percentage\n",
      "[[0.94 0.06]\n",
      " [0.17 0.83]]\n",
      "\n",
      "AdaBoost Classifier Training Metrics: \n",
      " Model score: 0.9007 \n",
      " Accuracy: 0.7989 \n",
      " Precision: 0.7463 \n",
      " Recall: 0.7246 \n",
      " F1: 0.7353\n",
      "---------------------\n",
      "\n"
     ]
    },
    {
     "data": {
      "image/png": "[encoded data removed]",
      "text/plain": [
       "<Figure size 1080x360 with 4 Axes>"
      ]
     },
     "metadata": {},
     "output_type": "display_data"
    }
   ],
   "source": [
    "runAda(X_train,y_train,1,450,1.8)"
   ]
  },
  {
   "cell_type": "markdown",
   "metadata": {},
   "source": [
    "## Run AdaBoost model on Validation data "
   ]
  },
  {
   "cell_type": "code",
   "execution_count": 161,
   "metadata": {},
   "outputs": [],
   "source": [
    "runAda(X_valid, y_valid, 1,450,1.8)"
   ]
  },
  {
   "cell_type": "markdown",
   "metadata": {},
   "source": [
    "## Run AdaBoost model on Test data "
   ]
  },
  {
   "cell_type": "code",
   "execution_count": 159,
   "metadata": {},
   "outputs": [
    {
     "name": "stdout",
     "output_type": "stream",
     "text": [
      "Accuracy: 93 % \n",
      "\n",
      "Confusion Matrix in Numbers\n",
      "[[105   5]\n",
      " [  6  63]]\n",
      "\n",
      "Confusion Matrix in Percentage\n",
      "[[0.95 0.05]\n",
      " [0.09 0.91]]\n",
      "\n",
      "AdaBoost Classifier Training Metrics: \n",
      " Model score: 0.9385 \n",
      " Accuracy: 0.9385 \n",
      " Precision: 0.9265 \n",
      " Recall: 0.9130 \n",
      " F1: 0.9197\n",
      "---------------------\n",
      "\n"
     ]
    },
    {
     "data": {
      "image/png": "[encoded data removed]",
      "text/plain": [
       "<Figure size 1080x360 with 4 Axes>"
      ]
     },
     "metadata": {},
     "output_type": "display_data"
    }
   ],
   "source": [
    "runAda(X_test, y_test, 1,450,1.8)"
   ]
  },
  {
   "cell_type": "code",
   "execution_count": null,
   "metadata": {},
   "outputs": [],
   "source": []
  },
  {
   "cell_type": "code",
   "execution_count": null,
   "metadata": {},
   "outputs": [],
   "source": []
  },
  {
   "cell_type": "markdown",
   "metadata": {},
   "source": [
    "## Now to test the 2 models on Validation data"
   ]
  },
  {
   "cell_type": "code",
   "execution_count": 158,
   "metadata": {},
   "outputs": [
    {
     "name": "stdout",
     "output_type": "stream",
     "text": [
      "[0]Logistic Regression Training Metrics: \n",
      " Model score: 0.7865 \n",
      " Accuracy: 0.7486 \n",
      " Precision: 0.6986 \n",
      " Recall: 0.6892 \n",
      " F1: 0.6939\n",
      " \n",
      "---------------------\n",
      "[1]K Nearest Neighbor Training Metrics: \n",
      " Model score: 0.8034 \n",
      " Accuracy: 0.6369 \n",
      " Precision: 0.5692 \n",
      " Recall: 0.5000 \n",
      " F1: 0.5324\n",
      "---------------------\n",
      "[2]Support Vector Machine (Linear Classifier) Training Accuracy: 0.8033707865168539\n",
      "[3]Support Vector Machine (RBF Classifier) Training Accuracy: 0.7078651685393258\n",
      "[4]Gaussian Naive Bayes Training Accuracy: 0.7808988764044944\n",
      "[5]Decision Tree Classifier Training Accuracy: 0.9606741573033708\n",
      "[6]Random Forest Classifier Training Accuracy: 0.9213483146067416\n",
      " \n",
      "---------------------\n",
      "[7]AdaBoost Classifier Training Metrics: \n",
      " Model score: 0.9270 \n",
      " Accuracy: 0.6927 \n",
      " Precision: 0.6267 \n",
      " Recall: 0.6351 \n",
      " F1: 0.6309\n",
      "---------------------\n",
      "[8]XGBoost Classifier Training Accuracy: 0.9438202247191011\n"
     ]
    }
   ],
   "source": [
    "#Get and train all of the models on Validation data\n",
    "model = models(X_valid,y_valid)"
   ]
  },
  {
   "cell_type": "code",
   "execution_count": null,
   "metadata": {},
   "outputs": [],
   "source": []
  },
  {
   "cell_type": "markdown",
   "metadata": {},
   "source": [
    "## Run kNN on validation data"
   ]
  },
  {
   "cell_type": "code",
   "execution_count": 161,
   "metadata": {},
   "outputs": [
    {
     "name": "stdout",
     "output_type": "stream",
     "text": [
      "FINAL KNeighbors Classifier Metrics: \n",
      " Model score: 0.8034 \n",
      " Accuracy: 0.6369 \n",
      " Precision: 0.5692 \n",
      " Recall: 0.5000 \n",
      " F1: 0.5324\n",
      "---------------------\n"
     ]
    }
   ],
   "source": [
    "model_kNN(X_valid,y_valid)"
   ]
  },
  {
   "cell_type": "markdown",
   "metadata": {},
   "source": [
    "## Run AdaBoost on Validation data"
   ]
  },
  {
   "cell_type": "code",
   "execution_count": 160,
   "metadata": {},
   "outputs": [
    {
     "name": "stdout",
     "output_type": "stream",
     "text": [
      "FINAL AdaBoost Classifier Training Metrics: \n",
      " Model score: 0.9101 \n",
      " Accuracy: 0.7207 \n",
      " Precision: 0.6667 \n",
      " Recall: 0.6486 \n",
      " F1: 0.6575\n",
      "---------------------\n"
     ]
    }
   ],
   "source": [
    "model_ada_boost(X_valid,y_valid)"
   ]
  },
  {
   "cell_type": "markdown",
   "metadata": {},
   "source": [
    "## Run kNN on Test data"
   ]
  },
  {
   "cell_type": "code",
   "execution_count": 162,
   "metadata": {},
   "outputs": [
    {
     "name": "stdout",
     "output_type": "stream",
     "text": [
      "FINAL KNeighbors Classifier Metrics: \n",
      " Model score: 0.7933 \n",
      " Accuracy: 0.7933 \n",
      " Precision: 0.7534 \n",
      " Recall: 0.7432 \n",
      " F1: 0.7483\n",
      "---------------------\n"
     ]
    }
   ],
   "source": [
    "model_kNN(X_test,y_test)"
   ]
  },
  {
   "cell_type": "markdown",
   "metadata": {},
   "source": [
    "## Run AdaBoost on Test data "
   ]
  },
  {
   "cell_type": "code",
   "execution_count": 82,
   "metadata": {},
   "outputs": [
    {
     "name": "stdout",
     "output_type": "stream",
     "text": [
      "FINAL AdaBoost Classifier Training Metrics: \n",
      " Model score: 0.9111 \n",
      " Accuracy: 0.9111 \n",
      " Precision: 0.8500 \n",
      " Recall: 0.9444 \n",
      " F1: 0.8947\n",
      "---------------------\n"
     ]
    }
   ],
   "source": [
    "model_ada_boost(X_test,y_test)"
   ]
  },
  {
   "cell_type": "markdown",
   "metadata": {},
   "source": [
    "## Run Base kNN"
   ]
  },
  {
   "cell_type": "code",
   "execution_count": 144,
   "metadata": {},
   "outputs": [],
   "source": [
    "def runkNN(X_train,y_train,k):\n",
    "    clf = KNeighborsClassifier(n_neighbors = k, metric = 'minkowski', p = 2)\n",
    "    clf.fit(X_train, y_train)\n",
    "    y_pred_random_forest_training_set = clf.predict(X_train)\n",
    "    acc_random_forest = round(clf.score(X_train, y_train) * 100, 2)\n",
    "    print (\"Accuracy: %i %% \\n\"%acc_random_forest)\n",
    "    \n",
    "    class_names = ['Survived', 'Not Survived']\n",
    "    \n",
    "    # Compute confusion matrix\n",
    "    cnf_matrix = confusion_matrix(y_train, y_pred_random_forest_training_set)\n",
    "    np.set_printoptions(precision=2)\n",
    "    \n",
    "    print ('Confusion Matrix in Numbers')\n",
    "    print (cnf_matrix)\n",
    "    print ('')\n",
    "    \n",
    "    cnf_matrix_percent = cnf_matrix.astype('float') / cnf_matrix.sum(axis=1)[:, np.newaxis]\n",
    "    \n",
    "    print ('Confusion Matrix in Percentage')\n",
    "    print (cnf_matrix_percent)\n",
    "    print ('')\n",
    "    \n",
    "    print('kNN Classifier Training Metrics: \\n Model score: %.4f \\n Accuracy: %.4f \\n Precision: %.4f \\n Recall: %.4f \\n F1: %.4f' %\n",
    "    (clf.score(X_train, y_train),\n",
    "     accuracy(y_test, clf.predict(X_test)), \n",
    "     precision(y_test, clf.predict(X_test)), \n",
    "     recall(y_test, clf.predict(X_test)),\n",
    "     F1(y_test, clf.predict(X_test))\n",
    "           )\n",
    "       )       \n",
    "    print('---------------------')      \n",
    "    \n",
    "    true_class_names = ['True Survived', 'True Not Survived']\n",
    "    predicted_class_names = ['Predicted Survived', 'Predicted Not Survived']\n",
    "    \n",
    "    df_cnf_matrix = pd.DataFrame(cnf_matrix, \n",
    "                                 index = true_class_names,\n",
    "                                 columns = predicted_class_names)\n",
    "    \n",
    "    df_cnf_matrix_percent = pd.DataFrame(cnf_matrix_percent, \n",
    "                                         index = true_class_names,\n",
    "                                         columns = predicted_class_names)\n",
    "    \n",
    "    plt.figure(figsize = (15,5))\n",
    "    \n",
    "    plt.subplot(121)\n",
    "    sns.heatmap(df_cnf_matrix, annot=True, fmt='d')\n",
    "    \n",
    "    plt.subplot(122)\n",
    "    sns.heatmap(df_cnf_matrix_percent, annot=True)"
   ]
  },
  {
   "cell_type": "code",
   "execution_count": 145,
   "metadata": {},
   "outputs": [
    {
     "name": "stdout",
     "output_type": "stream",
     "text": [
      "Accuracy: 85 % \n",
      "\n",
      "Confusion Matrix in Numbers\n",
      "[[295  30]\n",
      " [ 50 159]]\n",
      "\n",
      "Confusion Matrix in Percentage\n",
      "[[0.91 0.09]\n",
      " [0.24 0.76]]\n",
      "\n",
      "kNN Classifier Training Metrics: \n",
      " Model score: 0.8502 \n",
      " Accuracy: 0.7877 \n",
      " Precision: 0.7460 \n",
      " Recall: 0.6812 \n",
      " F1: 0.7121\n",
      "---------------------\n"
     ]
    },
    {
     "data": {
      "image/png": "[encoded data removed]",
      "text/plain": [
       "<Figure size 1080x360 with 4 Axes>"
      ]
     },
     "metadata": {},
     "output_type": "display_data"
    }
   ],
   "source": [
    "runkNN(X_train,y_train,5)"
   ]
  },
  {
   "cell_type": "markdown",
   "metadata": {},
   "source": [
    "## Running optimised kNN"
   ]
  },
  {
   "cell_type": "code",
   "execution_count": 147,
   "metadata": {},
   "outputs": [
    {
     "name": "stdout",
     "output_type": "stream",
     "text": [
      "Accuracy: 86 % \n",
      "\n",
      "Confusion Matrix in Numbers\n",
      "[[287  38]\n",
      " [ 34 175]]\n",
      "\n",
      "Confusion Matrix in Percentage\n",
      "[[0.88 0.12]\n",
      " [0.16 0.84]]\n",
      "\n",
      "kNN Classifier Training Metrics: \n",
      " Model score: 0.8652 \n",
      " Accuracy: 0.7709 \n",
      " Precision: 0.7000 \n",
      " Recall: 0.7101 \n",
      " F1: 0.7050\n",
      "---------------------\n"
     ]
    },
    {
     "data": {
      "image/png": "[encoded data removed]",
      "text/plain": [
       "<Figure size 1080x360 with 4 Axes>"
      ]
     },
     "metadata": {},
     "output_type": "display_data"
    }
   ],
   "source": [
    "runkNN(X_train,y_train,3)"
   ]
  },
  {
   "cell_type": "markdown",
   "metadata": {},
   "source": [
    "## TESTING XVALIDATION"
   ]
  },
  {
   "cell_type": "code",
   "execution_count": 189,
   "metadata": {},
   "outputs": [
    {
     "name": "stdout",
     "output_type": "stream",
     "text": [
      "[0.83 0.83 0.76 0.75 0.78]\n",
      "0.7902486333979899\n"
     ]
    }
   ],
   "source": [
    "# import k-folder\n",
    "from sklearn.model_selection import cross_val_score\n",
    "# use the same model as before\n",
    "knn = KNeighborsClassifier(n_neighbors = 3)\n",
    "# X,y will automatically devided by 5 folder, the scoring I will still use the accuracy\n",
    "scores = cross_val_score(knn, X_train, y_train, cv=5, scoring='accuracy')\n",
    "# print all 5 times scores \n",
    "print(scores)\n",
    "# [ 0.96666667  1.          0.93333333  0.96666667  1.        ]\n",
    "# then I will do the average about these five scores to get more accuracy score.\n",
    "print(scores.mean())\n",
    "# 0.973333333333"
   ]
  },
  {
   "cell_type": "code",
   "execution_count": null,
   "metadata": {},
   "outputs": [],
   "source": []
  },
  {
   "cell_type": "code",
   "execution_count": null,
   "metadata": {},
   "outputs": [],
   "source": []
  },
  {
   "cell_type": "code",
   "execution_count": null,
   "metadata": {},
   "outputs": [],
   "source": []
  },
  {
   "cell_type": "code",
   "execution_count": null,
   "metadata": {},
   "outputs": [],
   "source": []
  },
  {
   "cell_type": "code",
   "execution_count": null,
   "metadata": {},
   "outputs": [],
   "source": []
  },
  {
   "cell_type": "code",
   "execution_count": null,
   "metadata": {},
   "outputs": [],
   "source": []
  },
  {
   "cell_type": "markdown",
   "metadata": {},
   "source": [
    "## cutoff xvalid"
   ]
  },
  {
   "cell_type": "markdown",
   "metadata": {},
   "source": [
    "## Running model on Validation data"
   ]
  },
  {
   "cell_type": "code",
   "execution_count": 148,
   "metadata": {},
   "outputs": [
    {
     "name": "stdout",
     "output_type": "stream",
     "text": [
      "Accuracy: 86 % \n",
      "\n",
      "Confusion Matrix in Numbers\n",
      "[[105   9]\n",
      " [ 15  49]]\n",
      "\n",
      "Confusion Matrix in Percentage\n",
      "[[0.92 0.08]\n",
      " [0.23 0.77]]\n",
      "\n",
      "kNN Classifier Training Metrics: \n",
      " Model score: 0.8652 \n",
      " Accuracy: 0.6145 \n",
      " Precision: nan \n",
      " Recall: 0.0000 \n",
      " F1: nan\n",
      "---------------------\n"
     ]
    },
    {
     "data": {
      "image/png": "[encoded data removed]",
      "text/plain": [
       "<Figure size 1080x360 with 4 Axes>"
      ]
     },
     "metadata": {},
     "output_type": "display_data"
    }
   ],
   "source": [
    "runkNN(X_valid,y_valid,3)"
   ]
  },
  {
   "cell_type": "markdown",
   "metadata": {},
   "source": [
    "## Running model on Test data"
   ]
  },
  {
   "cell_type": "code",
   "execution_count": 149,
   "metadata": {},
   "outputs": [
    {
     "name": "stdout",
     "output_type": "stream",
     "text": [
      "Accuracy: 87 % \n",
      "\n",
      "Confusion Matrix in Numbers\n",
      "[[101   9]\n",
      " [ 13  56]]\n",
      "\n",
      "Confusion Matrix in Percentage\n",
      "[[0.92 0.08]\n",
      " [0.19 0.81]]\n",
      "\n",
      "kNN Classifier Training Metrics: \n",
      " Model score: 0.8771 \n",
      " Accuracy: 0.8771 \n",
      " Precision: 0.8615 \n",
      " Recall: 0.8116 \n",
      " F1: 0.8358\n",
      "---------------------\n"
     ]
    },
    {
     "data": {
      "image/png": "[encoded data removed]",
      "text/plain": [
       "<Figure size 1080x360 with 4 Axes>"
      ]
     },
     "metadata": {},
     "output_type": "display_data"
    }
   ],
   "source": [
    "runkNN(X_test,y_test,3)"
   ]
  },
  {
   "cell_type": "markdown",
   "metadata": {},
   "source": [
    "## Running base AdaBoost"
   ]
  },
  {
   "cell_type": "code",
   "execution_count": 150,
   "metadata": {},
   "outputs": [],
   "source": [
    "def runAda(X_train, y_train,m,ne,lr):\n",
    "    clf = AdaBoostClassifier(DecisionTreeClassifier(max_depth=m),n_estimators = ne,learning_rate=lr)  \n",
    "    clf.fit(X_train, y_train)\n",
    "    y_pred_random_forest_training_set = clf.predict(X_train)\n",
    "    acc_random_forest = round(clf.score(X_train, y_train) * 100, 2)\n",
    "    print (\"Accuracy: %i %% \\n\"%acc_random_forest)\n",
    "    \n",
    "    class_names = ['Survived', 'Not Survived']\n",
    "    \n",
    "    # Compute confusion matrix\n",
    "    cnf_matrix = confusion_matrix(y_train, y_pred_random_forest_training_set)\n",
    "    np.set_printoptions(precision=2)\n",
    "    \n",
    "    print ('Confusion Matrix in Numbers')\n",
    "    print (cnf_matrix)\n",
    "    print ('')\n",
    "    \n",
    "    cnf_matrix_percent = cnf_matrix.astype('float') / cnf_matrix.sum(axis=1)[:, np.newaxis]\n",
    "    \n",
    "    print ('Confusion Matrix in Percentage')\n",
    "    print (cnf_matrix_percent)\n",
    "    print ('')\n",
    "    \n",
    "    \n",
    "    print('AdaBoost Classifier Training Metrics: \\n Model score: %.4f \\n Accuracy: %.4f \\n Precision: %.4f \\n Recall: %.4f \\n F1: %.4f' %\n",
    "    (clf.score(X_train, y_train),\n",
    "     accuracy(y_test, clf.predict(X_test)), \n",
    "     precision(y_test, clf.predict(X_test)), \n",
    "     recall(y_test, clf.predict(X_test)),\n",
    "     F1(y_test, clf.predict(X_test))\n",
    "           )\n",
    "       )       \n",
    "    print('---------------------')      \n",
    "        \n",
    "    \n",
    "    true_class_names = ['True Survived', 'True Not Survived']\n",
    "    predicted_class_names = ['Predicted Survived', 'Predicted Not Survived']\n",
    "    \n",
    "    df_cnf_matrix = pd.DataFrame(cnf_matrix, \n",
    "                                 index = true_class_names,\n",
    "                                 columns = predicted_class_names)\n",
    "    \n",
    "    df_cnf_matrix_percent = pd.DataFrame(cnf_matrix_percent, \n",
    "                                         index = true_class_names,\n",
    "                                         columns = predicted_class_names)\n",
    "    \n",
    "    plt.figure(figsize = (15,5))\n",
    "    \n",
    "    plt.subplot(121)\n",
    "    sns.heatmap(df_cnf_matrix, annot=True, fmt='d')\n",
    "    \n",
    "    plt.subplot(122)\n",
    "    sns.heatmap(df_cnf_matrix_percent, annot=True)"
   ]
  },
  {
   "cell_type": "code",
   "execution_count": 151,
   "metadata": {},
   "outputs": [
    {
     "name": "stdout",
     "output_type": "stream",
     "text": [
      "Accuracy: 83 % \n",
      "\n",
      "Confusion Matrix in Numbers\n",
      "[[284  41]\n",
      " [ 45 164]]\n",
      "\n",
      "Confusion Matrix in Percentage\n",
      "[[0.87 0.13]\n",
      " [0.22 0.78]]\n",
      "\n",
      "AdaBoost Classifier Training Metrics: \n",
      " Model score: 0.8390 \n",
      " Accuracy: 0.7654 \n",
      " Precision: 0.6901 \n",
      " Recall: 0.7101 \n",
      " F1: 0.7000\n",
      "---------------------\n"
     ]
    },
    {
     "data": {
      "image/png": "[encoded data removed]",
      "text/plain": [
       "<Figure size 1080x360 with 4 Axes>"
      ]
     },
     "metadata": {},
     "output_type": "display_data"
    }
   ],
   "source": [
    "runAda(X_train,y_train,m=1,ne = 150,lr=1.0)"
   ]
  },
  {
   "cell_type": "markdown",
   "metadata": {},
   "source": [
    "## Running Optimised AdaBoost"
   ]
  },
  {
   "cell_type": "code",
   "execution_count": 154,
   "metadata": {},
   "outputs": [
    {
     "name": "stdout",
     "output_type": "stream",
     "text": [
      "Accuracy: 86 % \n",
      "\n",
      "Confusion Matrix in Numbers\n",
      "[[292  33]\n",
      " [ 41 168]]\n",
      "\n",
      "Confusion Matrix in Percentage\n",
      "[[0.9 0.1]\n",
      " [0.2 0.8]]\n",
      "\n",
      "AdaBoost Classifier Training Metrics: \n",
      " Model score: 0.8614 \n",
      " Accuracy: 0.7933 \n",
      " Precision: 0.7286 \n",
      " Recall: 0.7391 \n",
      " F1: 0.7338\n",
      "---------------------\n"
     ]
    },
    {
     "data": {
      "image/png": "[encoded data removed]",
      "text/plain": [
       "<Figure size 1080x360 with 4 Axes>"
      ]
     },
     "metadata": {},
     "output_type": "display_data"
    }
   ],
   "source": [
    "runAda(X_train,y_train,m=1,ne = 450,lr=1.0)"
   ]
  },
  {
   "cell_type": "markdown",
   "metadata": {},
   "source": [
    "## Running RandomForest"
   ]
  },
  {
   "cell_type": "code",
   "execution_count": 131,
   "metadata": {},
   "outputs": [
    {
     "name": "stdout",
     "output_type": "stream",
     "text": [
      "Accuracy: 93 % \n",
      "\n",
      "Confusion Matrix in Numbers\n",
      "[[314  11]\n",
      " [ 26 183]]\n",
      "\n",
      "Confusion Matrix in Percentage\n",
      "[[0.97 0.03]\n",
      " [0.12 0.88]]\n",
      "\n",
      "Rendom Forest Classifier Training Metrics: \n",
      " Model score: 0.9307 \n",
      " Accuracy: 0.7765 \n",
      " Precision: 0.6986 \n",
      " Recall: 0.7391 \n",
      " F1: 0.7183\n",
      "---------------------\n"
     ]
    },
    {
     "data": {
      "text/plain": [
       "<AxesSubplot:>"
      ]
     },
     "execution_count": 131,
     "metadata": {},
     "output_type": "execute_result"
    },
    {
     "data": {
      "image/png": "[encoded data removed]",
      "text/plain": [
       "<Figure size 1080x360 with 4 Axes>"
      ]
     },
     "metadata": {},
     "output_type": "display_data"
    }
   ],
   "source": [
    "\n",
    "clf = RandomForestClassifier(n_estimators=100)\n",
    "clf.fit(X_train, y_train)\n",
    "y_pred_random_forest_training_set = clf.predict(X_train)\n",
    "acc_random_forest = round(clf.score(X_train, y_train) * 100, 2)\n",
    "print (\"Accuracy: %i %% \\n\"%acc_random_forest)\n",
    "\n",
    "class_names = ['Survived', 'Not Survived']\n",
    "\n",
    "# Compute confusion matrix\n",
    "cnf_matrix = confusion_matrix(y_train, y_pred_random_forest_training_set)\n",
    "np.set_printoptions(precision=2)\n",
    "\n",
    "print ('Confusion Matrix in Numbers')\n",
    "print (cnf_matrix)\n",
    "print ('')\n",
    "\n",
    "cnf_matrix_percent = cnf_matrix.astype('float') / cnf_matrix.sum(axis=1)[:, np.newaxis]\n",
    "\n",
    "print ('Confusion Matrix in Percentage')\n",
    "print (cnf_matrix_percent)\n",
    "print ('')\n",
    "\n",
    "\n",
    "print('Rendom Forest Classifier Training Metrics: \\n Model score: %.4f \\n Accuracy: %.4f \\n Precision: %.4f \\n Recall: %.4f \\n F1: %.4f' %\n",
    "(clf.score(X_train, y_train),\n",
    " accuracy(y_test, clf.predict(X_test)), \n",
    " precision(y_test, clf.predict(X_test)), \n",
    " recall(y_test, clf.predict(X_test)),\n",
    " F1(y_test, clf.predict(X_test))\n",
    "       )\n",
    "   )       \n",
    "print('---------------------')      \n",
    "    \n",
    "\n",
    "true_class_names = ['True Survived', 'True Not Survived']\n",
    "predicted_class_names = ['Predicted Survived', 'Predicted Not Survived']\n",
    "\n",
    "df_cnf_matrix = pd.DataFrame(cnf_matrix, \n",
    "                             index = true_class_names,\n",
    "                             columns = predicted_class_names)\n",
    "\n",
    "df_cnf_matrix_percent = pd.DataFrame(cnf_matrix_percent, \n",
    "                                     index = true_class_names,\n",
    "                                     columns = predicted_class_names)\n",
    "\n",
    "plt.figure(figsize = (15,5))\n",
    "\n",
    "plt.subplot(121)\n",
    "sns.heatmap(df_cnf_matrix, annot=True, fmt='d')\n",
    "\n",
    "plt.subplot(122)\n",
    "sns.heatmap(df_cnf_matrix_percent, annot=True)"
   ]
  },
  {
   "cell_type": "code",
   "execution_count": null,
   "metadata": {},
   "outputs": [],
   "source": []
  },
  {
   "cell_type": "code",
   "execution_count": null,
   "metadata": {},
   "outputs": [],
   "source": [
    "#testing"
   ]
  },
  {
   "cell_type": "code",
   "execution_count": 176,
   "metadata": {},
   "outputs": [
    {
     "data": {
      "text/plain": [
       "array([0, 0, 0, 0, 0, 1, 0, 1, 0, 1, 0, 0, 0, 1, 1, 0, 0, 1, 0, 0, 0, 1,\n",
       "       1, 1, 0, 0, 1, 0, 1, 0, 0, 1, 1, 0, 1, 0, 0, 1, 0, 0, 0, 1, 1, 1,\n",
       "       1, 0, 1, 1, 0, 0, 0, 1, 0, 0, 0, 1, 0, 0, 1, 0, 0, 0, 1, 0, 0, 0,\n",
       "       1, 1, 0, 1, 0, 0, 1, 0, 0, 0, 0, 0, 1, 0, 1, 0, 1, 1, 0, 1, 1, 0,\n",
       "       1, 1, 1, 1, 0, 0, 1, 1, 0, 0, 1, 1, 1, 0, 0, 0, 0, 0, 1, 1, 0, 1,\n",
       "       1, 0, 0, 0, 0, 0, 0, 0, 0, 1, 0, 0, 1, 0, 1, 0, 1, 0, 0, 0, 1, 0,\n",
       "       0, 1, 1, 0, 1, 1, 0, 0, 1, 1, 0, 1, 0, 1, 1, 0, 0, 1, 0, 1, 0, 0,\n",
       "       1, 0, 1, 0, 1, 0, 0, 1, 1, 0, 0, 1, 1, 1, 1, 0, 0, 0, 0, 0, 1, 1,\n",
       "       0, 0, 1])"
      ]
     },
     "execution_count": 176,
     "metadata": {},
     "output_type": "execute_result"
    }
   ],
   "source": [
    "from sklearn.ensemble import AdaBoostClassifier\n",
    "from sklearn.model_selection import GridSearchCV\n",
    "\n",
    "param_grid = { \n",
    "    'n_estimators':  [50, 100, 200, 300, 500, 800],\n",
    "    'learning_rate': [0.1, 0.2, 0.3, 0.4, 0.5, 0.6, 0.7, 0.8, 0.9, 1. , 1.1, 1.2, 1.3,\n",
    "       1.4, 1.5, 1.6, 1.7, 1.8, 1.9, 2. ]\n",
    "    }\n",
    "gs_ab = GridSearchCV(AdaBoostClassifier(),param_grid=param_grid)\n",
    "gs_ab.fit(X_train,y_train)\n",
    "adboost_model = gs_ab.fit(X_train,y_train)\n",
    "y_pred = gs_ab.predict(X_test)\n",
    "y_pred"
   ]
  },
  {
   "cell_type": "code",
   "execution_count": 177,
   "metadata": {},
   "outputs": [
    {
     "name": "stdout",
     "output_type": "stream",
     "text": [
      " Results from Grid Search \n",
      "\n",
      " The best estimator across ALL searched params:\n",
      " AdaBoostClassifier(learning_rate=0.2)\n",
      "\n",
      " The best score across ALL searched params:\n",
      " 0.8014988538176688\n",
      "\n",
      " The best parameters across ALL searched params:\n",
      " {'learning_rate': 0.2, 'n_estimators': 50}\n"
     ]
    }
   ],
   "source": [
    "print(\" Results from Grid Search \" )\n",
    "print(\"\\n The best estimator across ALL searched params:\\n\",adboost_model.best_estimator_)\n",
    "print(\"\\n The best score across ALL searched params:\\n\",adboost_model.best_score_)\n",
    "print(\"\\n The best parameters across ALL searched params:\\n\",adboost_model.best_params_)"
   ]
  },
  {
   "cell_type": "code",
   "execution_count": 178,
   "metadata": {},
   "outputs": [
    {
     "name": "stdout",
     "output_type": "stream",
     "text": [
      "Accuracy: 80 % \n",
      "\n",
      "Confusion Matrix in Numbers\n",
      "[[280  45]\n",
      " [ 57 152]]\n",
      "\n",
      "Confusion Matrix in Percentage\n",
      "[[0.86 0.14]\n",
      " [0.27 0.73]]\n",
      "\n",
      "AdaBoost Classifier Training Metrics: \n",
      " Model score: 0.8090 \n",
      " Accuracy: 0.7374 \n",
      " Precision: 0.6447 \n",
      " Recall: 0.7101 \n",
      " F1: 0.6759\n",
      "---------------------\n",
      "\n"
     ]
    },
    {
     "data": {
      "image/png": "[encoded data removed]",
      "text/plain": [
       "<Figure size 1080x360 with 4 Axes>"
      ]
     },
     "metadata": {},
     "output_type": "display_data"
    }
   ],
   "source": [
    "runAda(X_train,y_train,1,50,.2)"
   ]
  },
  {
   "cell_type": "code",
   "execution_count": null,
   "metadata": {},
   "outputs": [],
   "source": []
  },
  {
   "cell_type": "code",
   "execution_count": 181,
   "metadata": {},
   "outputs": [
    {
     "name": "stdout",
     "output_type": "stream",
     "text": [
      "Accuracy: 82 % \n",
      "\n",
      "Confusion Matrix in Numbers\n",
      "[[105   9]\n",
      " [ 22  42]]\n",
      "\n",
      "Confusion Matrix in Percentage\n",
      "[[0.92 0.08]\n",
      " [0.34 0.66]]\n",
      "\n",
      "AdaBoost Classifier Training Metrics: \n",
      " Model score: 0.8258 \n",
      " Accuracy: 0.6145 \n",
      " Precision: nan \n",
      " Recall: 0.0000 \n",
      " F1: nan\n",
      "---------------------\n",
      "\n"
     ]
    },
    {
     "data": {
      "image/png": "[encoded data removed]",
      "text/plain": [
       "<Figure size 1080x360 with 4 Axes>"
      ]
     },
     "metadata": {},
     "output_type": "display_data"
    }
   ],
   "source": [
    "XV = X_valid\n",
    "YV = y_valid\n",
    "runAda(XV,YV,1,50,.2)"
   ]
  },
  {
   "cell_type": "code",
   "execution_count": 180,
   "metadata": {},
   "outputs": [
    {
     "name": "stdout",
     "output_type": "stream",
     "text": [
      "Accuracy: 82 % \n",
      "\n",
      "Confusion Matrix in Numbers\n",
      "[[97 13]\n",
      " [18 51]]\n",
      "\n",
      "Confusion Matrix in Percentage\n",
      "[[0.88 0.12]\n",
      " [0.26 0.74]]\n",
      "\n",
      "AdaBoost Classifier Training Metrics: \n",
      " Model score: 0.8268 \n",
      " Accuracy: 0.8268 \n",
      " Precision: 0.7969 \n",
      " Recall: 0.7391 \n",
      " F1: 0.7669\n",
      "---------------------\n",
      "\n"
     ]
    },
    {
     "data": {
      "image/png": "[encoded data removed]",
      "text/plain": [
       "<Figure size 1080x360 with 4 Axes>"
      ]
     },
     "metadata": {},
     "output_type": "display_data"
    }
   ],
   "source": [
    "runAda(X_test,y_test,1,50,.2)"
   ]
  },
  {
   "cell_type": "code",
   "execution_count": null,
   "metadata": {},
   "outputs": [],
   "source": []
  },
  {
   "cell_type": "code",
   "execution_count": null,
   "metadata": {},
   "outputs": [],
   "source": [
    "##end test"
   ]
  },
  {
   "cell_type": "markdown",
   "metadata": {},
   "source": [
    "\n",
    "## Using GridSearchCV to optimize randomforest"
   ]
  },
  {
   "cell_type": "code",
   "execution_count": null,
   "metadata": {},
   "outputs": [
    {
     "name": "stdout",
     "output_type": "stream",
     "text": [
      "Fitting 3 folds for each of 9240 candidates, totalling 27720 fits\n"
     ]
    }
   ],
   "source": [
    "\n",
    "from sklearn.model_selection import GridSearchCV\n",
    "n_estimators = [50, 100, 200, 300, 500, 800]\n",
    "max_depth = [1,2,3,4,5,6,7,8,9,10, 20, 40, 80, 100]\n",
    "min_samples_split = [2, 3, 4, 5, 6, 7, 8, 9, 10, 15, 100]\n",
    "min_samples_leaf = [1, 2, 3, 4, 5, 6, 7, 8, 9, 10] \n",
    "\n",
    "hyperF = dict(n_estimators = n_estimators, max_depth = max_depth,  \n",
    "              min_samples_split = min_samples_split, \n",
    "             min_samples_leaf = min_samples_leaf)\n",
    "\n",
    "gridF = GridSearchCV(clf, hyperF, cv = 3, verbose = 1, \n",
    "                      n_jobs = -1)\n",
    "bestF = gridF.fit(X_train, y_train)"
   ]
  },
  {
   "cell_type": "code",
   "execution_count": 315,
   "metadata": {},
   "outputs": [
    {
     "name": "stdout",
     "output_type": "stream",
     "text": [
      " Results from Grid Search \n",
      "\n",
      " The best estimator across ALL searched params:\n",
      " RandomForestClassifier(max_depth=6, min_samples_leaf=2, n_estimators=50,\n",
      "                       random_state=1)\n",
      "\n",
      " The best score across ALL searched params:\n",
      " 0.8333333333333334\n",
      "\n",
      " The best parameters across ALL searched params:\n",
      " {'max_depth': 6, 'min_samples_leaf': 2, 'min_samples_split': 2, 'n_estimators': 50}\n"
     ]
    }
   ],
   "source": [
    "print(\" Results from Grid Search \" )\n",
    "print(\"\\n The best estimator across ALL searched params:\\n\",bestF.best_estimator_)\n",
    "print(\"\\n The best score across ALL searched params:\\n\",bestF.best_score_)\n",
    "print(\"\\n The best parameters across ALL searched params:\\n\",bestF.best_params_)"
   ]
  },
  {
   "cell_type": "code",
   "execution_count": 311,
   "metadata": {},
   "outputs": [
    {
     "name": "stdout",
     "output_type": "stream",
     "text": [
      "Accuracy: 87 % \n",
      "\n",
      "Confusion Matrix in Numbers\n",
      "[[312  20]\n",
      " [ 47 155]]\n",
      "\n",
      "Confusion Matrix in Percentage\n",
      "[[0.94 0.06]\n",
      " [0.23 0.77]]\n",
      "\n",
      "Rendom Forest Classifier Training Metrics: \n",
      " Model score: 0.8745 \n",
      " Accuracy: 0.7765 \n",
      " Precision: 0.7429 \n",
      " Recall: 0.7027 \n",
      " F1: 0.7222\n",
      "---------------------\n"
     ]
    },
    {
     "data": {
      "text/plain": [
       "<AxesSubplot:>"
      ]
     },
     "execution_count": 311,
     "metadata": {},
     "output_type": "execute_result"
    },
    {
     "data": {
      "image/png": "[encoded data removed]",
      "text/plain": [
       "<Figure size 1080x360 with 4 Axes>"
      ]
     },
     "metadata": {},
     "output_type": "display_data"
    }
   ],
   "source": [
    "from sklearn.metrics import confusion_matrix\n",
    "import itertools\n",
    "\n",
    "clf = RandomForestClassifier(max_depth= 6,\n",
    "                             min_samples_leaf=1,\n",
    "                             min_samples_split=15,\n",
    "                             n_estimators=100)\n",
    "clf.fit(X_train, y_train)\n",
    "y_pred_random_forest_training_set = clf.predict(X_train)\n",
    "acc_random_forest = round(clf.score(X_train, y_train) * 100, 2)\n",
    "print (\"Accuracy: %i %% \\n\"%acc_random_forest)\n",
    "\n",
    "class_names = ['Survived', 'Not Survived']\n",
    "\n",
    "# Compute confusion matrix\n",
    "cnf_matrix = confusion_matrix(y_train, y_pred_random_forest_training_set)\n",
    "np.set_printoptions(precision=2)\n",
    "\n",
    "print ('Confusion Matrix in Numbers')\n",
    "print (cnf_matrix)\n",
    "print ('')\n",
    "\n",
    "cnf_matrix_percent = cnf_matrix.astype('float') / cnf_matrix.sum(axis=1)[:, np.newaxis]\n",
    "\n",
    "print ('Confusion Matrix in Percentage')\n",
    "print (cnf_matrix_percent)\n",
    "print ('')\n",
    "\n",
    "\n",
    "print('Rendom Forest Classifier Training Metrics: \\n Model score: %.4f \\n Accuracy: %.4f \\n Precision: %.4f \\n Recall: %.4f \\n F1: %.4f' %\n",
    "(clf.score(X_train, y_train),\n",
    " accuracy(y_test, clf.predict(X_test)), \n",
    " precision(y_test, clf.predict(X_test)), \n",
    " recall(y_test, clf.predict(X_test)),\n",
    " F1(y_test, clf.predict(X_test))\n",
    "       )\n",
    "   )       \n",
    "print('---------------------')      \n",
    "    \n",
    "\n",
    "true_class_names = ['True Survived', 'True Not Survived']\n",
    "predicted_class_names = ['Predicted Survived', 'Predicted Not Survived']\n",
    "\n",
    "df_cnf_matrix = pd.DataFrame(cnf_matrix, \n",
    "                             index = true_class_names,\n",
    "                             columns = predicted_class_names)\n",
    "\n",
    "df_cnf_matrix_percent = pd.DataFrame(cnf_matrix_percent, \n",
    "                                     index = true_class_names,\n",
    "                                     columns = predicted_class_names)\n",
    "\n",
    "plt.figure(figsize = (15,5))\n",
    "\n",
    "plt.subplot(121)\n",
    "sns.heatmap(df_cnf_matrix, annot=True, fmt='d')\n",
    "\n",
    "plt.subplot(122)\n",
    "sns.heatmap(df_cnf_matrix_percent, annot=True)\n"
   ]
  },
  {
   "cell_type": "code",
   "execution_count": 316,
   "metadata": {},
   "outputs": [
    {
     "name": "stdout",
     "output_type": "stream",
     "text": [
      "Accuracy: 87 % \n",
      "\n",
      "Confusion Matrix in Numbers\n",
      "[[311  21]\n",
      " [ 47 155]]\n",
      "\n",
      "Confusion Matrix in Percentage\n",
      "[[0.94 0.06]\n",
      " [0.23 0.77]]\n",
      "\n",
      "Rendom Forest Classifier Training Metrics: \n",
      " Model score: 0.8727 \n",
      " Accuracy: 0.7542 \n",
      " Precision: 0.7206 \n",
      " Recall: 0.6622 \n",
      " F1: 0.6901\n",
      "---------------------\n"
     ]
    },
    {
     "data": {
      "text/plain": [
       "<AxesSubplot:>"
      ]
     },
     "execution_count": 316,
     "metadata": {},
     "output_type": "execute_result"
    },
    {
     "data": {
      "image/png": "[encoded data removed]",
      "text/plain": [
       "<Figure size 1080x360 with 4 Axes>"
      ]
     },
     "metadata": {},
     "output_type": "display_data"
    }
   ],
   "source": [
    "from sklearn.metrics import confusion_matrix\n",
    "import itertools\n",
    "\n",
    "clf = RandomForestClassifier(random_state=1,\n",
    "                             max_depth= 6,\n",
    "                             min_samples_leaf=2,\n",
    "                             min_samples_split=2,\n",
    "                             n_estimators=50)\n",
    "clf.fit(X_train, y_train)\n",
    "y_pred_random_forest_training_set = clf.predict(X_train)\n",
    "acc_random_forest = round(clf.score(X_train, y_train) * 100, 2)\n",
    "print (\"Accuracy: %i %% \\n\"%acc_random_forest)\n",
    "\n",
    "class_names = ['Survived', 'Not Survived']\n",
    "\n",
    "# Compute confusion matrix\n",
    "cnf_matrix = confusion_matrix(y_train, y_pred_random_forest_training_set)\n",
    "np.set_printoptions(precision=2)\n",
    "\n",
    "print ('Confusion Matrix in Numbers')\n",
    "print (cnf_matrix)\n",
    "print ('')\n",
    "\n",
    "cnf_matrix_percent = cnf_matrix.astype('float') / cnf_matrix.sum(axis=1)[:, np.newaxis]\n",
    "\n",
    "print ('Confusion Matrix in Percentage')\n",
    "print (cnf_matrix_percent)\n",
    "print ('')\n",
    "\n",
    "\n",
    "print('Rendom Forest Classifier Training Metrics: \\n Model score: %.4f \\n Accuracy: %.4f \\n Precision: %.4f \\n Recall: %.4f \\n F1: %.4f' %\n",
    "(clf.score(X_train, y_train),\n",
    " accuracy(y_test, clf.predict(X_test)), \n",
    " precision(y_test, clf.predict(X_test)), \n",
    " recall(y_test, clf.predict(X_test)),\n",
    " F1(y_test, clf.predict(X_test))\n",
    "       )\n",
    "   )       \n",
    "print('---------------------')      \n",
    "    \n",
    "\n",
    "true_class_names = ['True Survived', 'True Not Survived']\n",
    "predicted_class_names = ['Predicted Survived', 'Predicted Not Survived']\n",
    "\n",
    "df_cnf_matrix = pd.DataFrame(cnf_matrix, \n",
    "                             index = true_class_names,\n",
    "                             columns = predicted_class_names)\n",
    "\n",
    "df_cnf_matrix_percent = pd.DataFrame(cnf_matrix_percent, \n",
    "                                     index = true_class_names,\n",
    "                                     columns = predicted_class_names)\n",
    "\n",
    "plt.figure(figsize = (15,5))\n",
    "\n",
    "plt.subplot(121)\n",
    "sns.heatmap(df_cnf_matrix, annot=True, fmt='d')\n",
    "\n",
    "plt.subplot(122)\n",
    "sns.heatmap(df_cnf_matrix_percent, annot=True)"
   ]
  },
  {
   "cell_type": "markdown",
   "metadata": {},
   "source": [
    "-------------------------"
   ]
  },
  {
   "cell_type": "markdown",
   "metadata": {},
   "source": [
    "## Running Models on Validation data"
   ]
  },
  {
   "cell_type": "markdown",
   "metadata": {},
   "source": [
    "------------------"
   ]
  },
  {
   "cell_type": "code",
   "execution_count": 125,
   "metadata": {},
   "outputs": [],
   "source": [
    "def runAda(X_train, y_train,m,ne,lr):\n",
    "    clf = AdaBoostClassifier(DecisionTreeClassifier(max_depth=m),n_estimators = ne,learning_rate=lr)  \n",
    "    clf.fit(X_train, y_train)\n",
    "    y_pred_random_forest_training_set = clf.predict(X_train)\n",
    "    acc_random_forest = round(clf.score(X_train, y_train) * 100, 2)\n",
    "    print (\"Accuracy: %i %% \\n\"%acc_random_forest)\n",
    "    \n",
    "    class_names = ['Survived', 'Not Survived']\n",
    "    \n",
    "    # Compute confusion matrix\n",
    "    cnf_matrix = confusion_matrix(y_train, y_pred_random_forest_training_set)\n",
    "    np.set_printoptions(precision=2)\n",
    "    \n",
    "    print ('Confusion Matrix in Numbers')\n",
    "    print (cnf_matrix)\n",
    "    print ('')\n",
    "    \n",
    "    cnf_matrix_percent = cnf_matrix.astype('float') / cnf_matrix.sum(axis=1)[:, np.newaxis]\n",
    "    \n",
    "    print ('Confusion Matrix in Percentage')\n",
    "    print (cnf_matrix_percent)\n",
    "    print ('')\n",
    "    \n",
    "    \n",
    "    print('Rendom Forest Classifier Training Metrics: \\n Model score: %.4f \\n Accuracy: %.4f \\n Precision: %.4f \\n Recall: %.4f \\n F1: %.4f' %\n",
    "    (clf.score(X_train, y_train),\n",
    "     accuracy(y_test, clf.predict(X_test)), \n",
    "     precision(y_test, clf.predict(X_test)), \n",
    "     recall(y_test, clf.predict(X_test)),\n",
    "     F1(y_test, clf.predict(X_test))\n",
    "           )\n",
    "       )       \n",
    "    print('---------------------')      \n",
    "        \n",
    "    \n",
    "    true_class_names = ['True Survived', 'True Not Survived']\n",
    "    predicted_class_names = ['Predicted Survived', 'Predicted Not Survived']\n",
    "    \n",
    "    df_cnf_matrix = pd.DataFrame(cnf_matrix, \n",
    "                                 index = true_class_names,\n",
    "                                 columns = predicted_class_names)\n",
    "    \n",
    "    df_cnf_matrix_percent = pd.DataFrame(cnf_matrix_percent, \n",
    "                                         index = true_class_names,\n",
    "                                         columns = predicted_class_names)\n",
    "    \n",
    "    plt.figure(figsize = (15,5))\n",
    "    \n",
    "    plt.subplot(121)\n",
    "    sns.heatmap(df_cnf_matrix, annot=True, fmt='d')\n",
    "    \n",
    "    plt.subplot(122)\n",
    "    sns.heatmap(df_cnf_matrix_percent, annot=True)"
   ]
  },
  {
   "cell_type": "code",
   "execution_count": 126,
   "metadata": {},
   "outputs": [
    {
     "name": "stdout",
     "output_type": "stream",
     "text": [
      "Accuracy: 92 % \n",
      "\n",
      "Confusion Matrix in Numbers\n",
      "[[104   6]\n",
      " [  8  61]]\n",
      "\n",
      "Confusion Matrix in Percentage\n",
      "[[0.95 0.05]\n",
      " [0.12 0.88]]\n",
      "\n",
      "Rendom Forest Classifier Training Metrics: \n",
      " Model score: 0.9218 \n",
      " Accuracy: 0.9218 \n",
      " Precision: 0.9104 \n",
      " Recall: 0.8841 \n",
      " F1: 0.8971\n",
      "---------------------\n"
     ]
    },
    {
     "data": {
      "image/png": "[encoded data removed]",
      "text/plain": [
       "<Figure size 1080x360 with 4 Axes>"
      ]
     },
     "metadata": {},
     "output_type": "display_data"
    }
   ],
   "source": [
    "runAda(X_test,y_test,m=1,ne = 450,lr=1.0)"
   ]
  },
  {
   "cell_type": "code",
   "execution_count": null,
   "metadata": {},
   "outputs": [],
   "source": []
  },
  {
   "cell_type": "code",
   "execution_count": null,
   "metadata": {},
   "outputs": [],
   "source": []
  },
  {
   "cell_type": "markdown",
   "metadata": {},
   "source": [
    "## Making a prediction"
   ]
  },
  {
   "cell_type": "code",
   "execution_count": 235,
   "metadata": {},
   "outputs": [
    {
     "name": "stdout",
     "output_type": "stream",
     "text": [
      "[0]\n",
      "[1]\n"
     ]
    }
   ],
   "source": [
    "adaBoost = AdaBoostClassifier(DecisionTreeClassifier(max_depth=1), \n",
    "                               n_estimators=150,\n",
    "                               learning_rate=1.0)                                  \n",
    "adaBoost.fit(X_train, y_train)\n",
    "\n",
    "# get prediction for new input\n",
    "new_input1 =[[1,1,0,0,30,1,2]]\n",
    "\n",
    "# 'Pclass'   = 1\n",
    "# 'Sex'      = 1\n",
    "# 'SibSp'    = 0\n",
    "# 'Parch'    = 0 \n",
    "# 'Fare'     = 30 \n",
    "# 'Embarked' = 1\n",
    "# 'AgeGroup' = 2\n",
    "\n",
    "\n",
    "new_input2 =[[1,0,0,3,80,2,3]]\n",
    "\n",
    "# 'Pclass'   = 1\n",
    "# 'Sex'      = 0\n",
    "# 'SibSp'    = 0\n",
    "# 'Parch'    = 3 \n",
    "# 'Fare'     = 80 \n",
    "# 'Embarked' = 2\n",
    "# 'AgeGroup' = 3\n",
    "\n",
    "\n",
    "sample1 = adaBoost.predict(new_input1)\n",
    "sample2 = adaBoost.predict(new_input2)\n",
    "print(sample1)\n",
    "print(sample2)\n"
   ]
  },
  {
   "cell_type": "code",
   "execution_count": 219,
   "metadata": {},
   "outputs": [
    {
     "data": {
      "text/plain": [
       "Index(['Pclass', 'Sex', 'SibSp', 'Parch', 'Fare', 'Embarked', 'AgeGroup'], dtype='object')"
      ]
     },
     "execution_count": 219,
     "metadata": {},
     "output_type": "execute_result"
    }
   ],
   "source": [
    "X_train.columns"
   ]
  },
  {
   "cell_type": "code",
   "execution_count": null,
   "metadata": {},
   "outputs": [],
   "source": []
  },
  {
   "cell_type": "code",
   "execution_count": 166,
   "metadata": {},
   "outputs": [
    {
     "name": "stdout",
     "output_type": "stream",
     "text": [
      "Score of Model 0 : 71.9\n",
      "Score of Model 1 : 79.57\n",
      "Score of Model 2 : 81.07\n",
      "Score of Model 3 : 78.8\n",
      "Score of Model 4 : 67.42\n",
      "Score of Model 5 : 81.44\n",
      "Score of Model 6 : 80.69\n",
      "Score of Model 7 : 79.76\n",
      "Score of Model 8 : 80.88\n"
     ]
    }
   ],
   "source": [
    "# Importing Classifier Modules\n",
    "from sklearn.neighbors import KNeighborsClassifier\n",
    "from sklearn.tree import DecisionTreeClassifier,ExtraTreeClassifier\n",
    "from sklearn.ensemble import RandomForestClassifier,ExtraTreesClassifier,BaggingClassifier,AdaBoostClassifier,GradientBoostingClassifier\n",
    "from sklearn.naive_bayes import GaussianNB\n",
    "from sklearn.svm import SVC\n",
    "\n",
    "import numpy as np\n",
    "\n",
    "from sklearn.model_selection import KFold\n",
    "from sklearn.model_selection import cross_val_score\n",
    "k_fold = KFold(n_splits=10, shuffle=True, random_state=0)\n",
    "\n",
    "\n",
    "#learning_rates = [0.05, 0.1, 0.25, 0.5, 0.75, 1]\n",
    "clf = [KNeighborsClassifier(n_neighbors = 13),\n",
    "       DecisionTreeClassifier(),\n",
    "       RandomForestClassifier(n_estimators=13),\n",
    "       GaussianNB(),\n",
    "       SVC(),\n",
    "       ExtraTreeClassifier(),\n",
    "       GradientBoostingClassifier(n_estimators=10,\n",
    "                                 learning_rate=1,\n",
    "                                 max_features=3, \n",
    "                                 max_depth =3, \n",
    "                                 random_state = 10),\n",
    "       AdaBoostClassifier(),ExtraTreesClassifier()]\n",
    "def model_fit():\n",
    "    scoring = 'accuracy'\n",
    "    for i in range(len(clf)):\n",
    "        score = cross_val_score(clf[i], X_train, y_train, cv=k_fold, n_jobs=1, scoring=scoring)\n",
    "        print(\"Score of Model\",i,\":\",round(np.mean(score)*100,2))\n",
    "#     round(np.mean(score)*100,2)\n",
    "#     print(\"Score of :\\n\",score)\n",
    "model_fit()"
   ]
  },
  {
   "cell_type": "code",
   "execution_count": null,
   "metadata": {},
   "outputs": [],
   "source": []
  },
  {
   "cell_type": "markdown",
   "metadata": {},
   "source": [
    "## CART Feature Importance"
   ]
  },
  {
   "cell_type": "code",
   "execution_count": 207,
   "metadata": {},
   "outputs": [
    {
     "name": "stdout",
     "output_type": "stream",
     "text": [
      "Feature: 0, Score: 0.01000\n",
      "Feature: 1, Score: 0.02500\n",
      "Feature: 2, Score: 0.05000\n",
      "Feature: 3, Score: 0.01000\n",
      "Feature: 4, Score: 0.79500\n",
      "Feature: 5, Score: 0.02500\n",
      "Feature: 6, Score: 0.08500\n"
     ]
    },
    {
     "data": {
      "image/png": "[encoded data removed]",
      "text/plain": [
       "<Figure size 432x288 with 1 Axes>"
      ]
     },
     "metadata": {},
     "output_type": "display_data"
    }
   ],
   "source": [
    "forest = model[7]\n",
    "importance = forest.feature_importances_\n",
    "#summarize feature importance\n",
    "\n",
    "for i,v in enumerate(importance):\n",
    "    print('Feature: %0d, Score: %.5f' % (i,v))\n",
    "# plot feature importance\n",
    "plt.bar([x for x in range(len(importance))], importance)\n",
    "\n",
    "plt.show() "
   ]
  },
  {
   "cell_type": "code",
   "execution_count": 48,
   "metadata": {},
   "outputs": [
    {
     "data": {
      "text/plain": [
       "Index(['Pclass', 'Sex', 'SibSp', 'Parch', 'Fare', 'Embarked', 'AgeGroup',\n",
       "       'Survived'],\n",
       "      dtype='object')"
      ]
     },
     "execution_count": 48,
     "metadata": {},
     "output_type": "execute_result"
    }
   ],
   "source": [
    "df_training.columns"
   ]
  },
  {
   "cell_type": "code",
   "execution_count": null,
   "metadata": {},
   "outputs": [],
   "source": []
  },
  {
   "cell_type": "code",
   "execution_count": 49,
   "metadata": {},
   "outputs": [
    {
     "data": {
      "text/html": [
       "<div>\n",
       "<style scoped>\n",
       "    .dataframe tbody tr th:only-of-type {\n",
       "        vertical-align: middle;\n",
       "    }\n",
       "\n",
       "    .dataframe tbody tr th {\n",
       "        vertical-align: top;\n",
       "    }\n",
       "\n",
       "    .dataframe thead th {\n",
       "        text-align: right;\n",
       "    }\n",
       "</style>\n",
       "<table border=\"1\" class=\"dataframe\">\n",
       "  <thead>\n",
       "    <tr style=\"text-align: right;\">\n",
       "      <th></th>\n",
       "      <th>importance</th>\n",
       "    </tr>\n",
       "    <tr>\n",
       "      <th>feature</th>\n",
       "      <th></th>\n",
       "    </tr>\n",
       "  </thead>\n",
       "  <tbody>\n",
       "    <tr>\n",
       "      <th>Sex</th>\n",
       "      <td>0.566</td>\n",
       "    </tr>\n",
       "    <tr>\n",
       "      <th>Pclass</th>\n",
       "      <td>0.212</td>\n",
       "    </tr>\n",
       "    <tr>\n",
       "      <th>SibSp</th>\n",
       "      <td>0.074</td>\n",
       "    </tr>\n",
       "    <tr>\n",
       "      <th>AgeGroup</th>\n",
       "      <td>0.054</td>\n",
       "    </tr>\n",
       "    <tr>\n",
       "      <th>Parch</th>\n",
       "      <td>0.042</td>\n",
       "    </tr>\n",
       "    <tr>\n",
       "      <th>Fare</th>\n",
       "      <td>0.027</td>\n",
       "    </tr>\n",
       "    <tr>\n",
       "      <th>Embarked</th>\n",
       "      <td>0.025</td>\n",
       "    </tr>\n",
       "  </tbody>\n",
       "</table>\n",
       "</div>"
      ],
      "text/plain": [
       "          importance\n",
       "feature             \n",
       "Sex            0.566\n",
       "Pclass         0.212\n",
       "SibSp          0.074\n",
       "AgeGroup       0.054\n",
       "Parch          0.042\n",
       "Fare           0.027\n",
       "Embarked       0.025"
      ]
     },
     "execution_count": 49,
     "metadata": {},
     "output_type": "execute_result"
    }
   ],
   "source": [
    "#Get the importance of the features\n",
    "forest = model[8]\n",
    "importances = pd.DataFrame({'feature':df_training.iloc[:,0:7].columns,'importance':np.round(forest.feature_importances_,3)})\n",
    "importances = importances.sort_values('importance',ascending=False).set_index('feature')\n",
    "importances"
   ]
  },
  {
   "cell_type": "code",
   "execution_count": null,
   "metadata": {},
   "outputs": [],
   "source": []
  },
  {
   "cell_type": "code",
   "execution_count": null,
   "metadata": {},
   "outputs": [],
   "source": []
  }
 ],
 "metadata": {
  "kernelspec": {
   "display_name": "Python 3",
   "language": "python",
   "name": "python3"
  },
  "language_info": {
   "codemirror_mode": {
    "name": "ipython",
    "version": 3
   },
   "file_extension": ".py",
   "mimetype": "text/x-python",
   "name": "python",
   "nbconvert_exporter": "python",
   "pygments_lexer": "ipython3",
   "version": "3.8.5"
  }
 },
 "nbformat": 4,
 "nbformat_minor": 4
}

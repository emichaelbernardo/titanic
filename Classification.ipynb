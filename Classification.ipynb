{
 "cells": [
  {
   "cell_type": "code",
   "execution_count": 38,
   "metadata": {},
   "outputs": [],
   "source": [
    "# Data wrangling\n",
    "import pandas as pd\n",
    "import numpy as np\n",
    "import missingno\n",
    "from collections import Counter\n",
    "import random as rnd\n",
    "from numpy import arange\n",
    "import itertools\n",
    "\n",
    "# visualization\n",
    "import seaborn as sns\n",
    "import matplotlib.pyplot as plt\n",
    "%matplotlib inline\n",
    "\n",
    "# machine learning\n",
    "from sklearn.linear_model import LogisticRegression\n",
    "from sklearn.svm import SVC, LinearSVC\n",
    "from sklearn.ensemble import RandomForestClassifier\n",
    "from sklearn.neighbors import KNeighborsClassifier\n",
    "from sklearn.naive_bayes import GaussianNB\n",
    "from sklearn.linear_model import Perceptron\n",
    "from sklearn.linear_model import SGDClassifier\n",
    "from sklearn.tree import DecisionTreeClassifier\n",
    "from sklearn.ensemble import AdaBoostClassifier\n",
    "from sklearn.metrics import confusion_matrix\n",
    "\n",
    "# cross validation\n",
    "from sklearn.model_selection import cross_val_score\n",
    "\n",
    "import pandas as pd\n",
    "import xgboost as xgb\n",
    "from sklearn.datasets import load_boston\n",
    "from sklearn.model_selection import train_test_split\n",
    "from sklearn.metrics import mean_squared_error\n",
    "\n",
    "\n",
    "from scipy import stats\n",
    "from scipy.stats import norm\n",
    "import seaborn as sns\n",
    "\n",
    "\n",
    "\n",
    "\n",
    "sns.color_palette(\"Paired\")\n",
    "plt.style.use('ggplot')\n",
    "\n",
    "import warnings\n",
    "warnings.filterwarnings(\"ignore\")"
   ]
  },
  {
   "cell_type": "markdown",
   "metadata": {},
   "source": [
    "## Reading in all the data"
   ]
  },
  {
   "cell_type": "code",
   "execution_count": 2,
   "metadata": {},
   "outputs": [],
   "source": [
    "df_passengers = pd.read_csv('data/train.csv')\n",
    "\n"
   ]
  },
  {
   "cell_type": "code",
   "execution_count": 3,
   "metadata": {},
   "outputs": [],
   "source": [
    "df_predict = pd.read_csv('data/test.csv')\n"
   ]
  },
  {
   "cell_type": "markdown",
   "metadata": {},
   "source": [
    "### Quick look at the data"
   ]
  },
  {
   "cell_type": "code",
   "execution_count": 4,
   "metadata": {},
   "outputs": [
    {
     "name": "stdout",
     "output_type": "stream",
     "text": [
      "<class 'pandas.core.frame.DataFrame'>\n",
      "RangeIndex: 891 entries, 0 to 890\n",
      "Data columns (total 12 columns):\n",
      " #   Column       Non-Null Count  Dtype  \n",
      "---  ------       --------------  -----  \n",
      " 0   PassengerId  891 non-null    int64  \n",
      " 1   Survived     891 non-null    int64  \n",
      " 2   Pclass       891 non-null    int64  \n",
      " 3   Name         891 non-null    object \n",
      " 4   Sex          891 non-null    object \n",
      " 5   Age          714 non-null    float64\n",
      " 6   SibSp        891 non-null    int64  \n",
      " 7   Parch        891 non-null    int64  \n",
      " 8   Ticket       891 non-null    object \n",
      " 9   Fare         891 non-null    float64\n",
      " 10  Cabin        204 non-null    object \n",
      " 11  Embarked     889 non-null    object \n",
      "dtypes: float64(2), int64(5), object(5)\n",
      "memory usage: 83.7+ KB\n"
     ]
    }
   ],
   "source": [
    "df_passengers.info()"
   ]
  },
  {
   "cell_type": "code",
   "execution_count": null,
   "metadata": {},
   "outputs": [],
   "source": []
  },
  {
   "cell_type": "code",
   "execution_count": 5,
   "metadata": {},
   "outputs": [
    {
     "data": {
      "text/html": [
       "<div>\n",
       "<style scoped>\n",
       "    .dataframe tbody tr th:only-of-type {\n",
       "        vertical-align: middle;\n",
       "    }\n",
       "\n",
       "    .dataframe tbody tr th {\n",
       "        vertical-align: top;\n",
       "    }\n",
       "\n",
       "    .dataframe thead th {\n",
       "        text-align: right;\n",
       "    }\n",
       "</style>\n",
       "<table border=\"1\" class=\"dataframe\">\n",
       "  <thead>\n",
       "    <tr style=\"text-align: right;\">\n",
       "      <th></th>\n",
       "      <th>PassengerId</th>\n",
       "      <th>Survived</th>\n",
       "      <th>Pclass</th>\n",
       "      <th>Age</th>\n",
       "      <th>SibSp</th>\n",
       "      <th>Parch</th>\n",
       "      <th>Fare</th>\n",
       "    </tr>\n",
       "  </thead>\n",
       "  <tbody>\n",
       "    <tr>\n",
       "      <th>count</th>\n",
       "      <td>891.000000</td>\n",
       "      <td>891.000000</td>\n",
       "      <td>891.000000</td>\n",
       "      <td>714.000000</td>\n",
       "      <td>891.000000</td>\n",
       "      <td>891.000000</td>\n",
       "      <td>891.000000</td>\n",
       "    </tr>\n",
       "    <tr>\n",
       "      <th>mean</th>\n",
       "      <td>446.000000</td>\n",
       "      <td>0.383838</td>\n",
       "      <td>2.308642</td>\n",
       "      <td>29.699118</td>\n",
       "      <td>0.523008</td>\n",
       "      <td>0.381594</td>\n",
       "      <td>32.204208</td>\n",
       "    </tr>\n",
       "    <tr>\n",
       "      <th>std</th>\n",
       "      <td>257.353842</td>\n",
       "      <td>0.486592</td>\n",
       "      <td>0.836071</td>\n",
       "      <td>14.526497</td>\n",
       "      <td>1.102743</td>\n",
       "      <td>0.806057</td>\n",
       "      <td>49.693429</td>\n",
       "    </tr>\n",
       "    <tr>\n",
       "      <th>min</th>\n",
       "      <td>1.000000</td>\n",
       "      <td>0.000000</td>\n",
       "      <td>1.000000</td>\n",
       "      <td>0.420000</td>\n",
       "      <td>0.000000</td>\n",
       "      <td>0.000000</td>\n",
       "      <td>0.000000</td>\n",
       "    </tr>\n",
       "    <tr>\n",
       "      <th>25%</th>\n",
       "      <td>223.500000</td>\n",
       "      <td>0.000000</td>\n",
       "      <td>2.000000</td>\n",
       "      <td>20.125000</td>\n",
       "      <td>0.000000</td>\n",
       "      <td>0.000000</td>\n",
       "      <td>7.910400</td>\n",
       "    </tr>\n",
       "    <tr>\n",
       "      <th>50%</th>\n",
       "      <td>446.000000</td>\n",
       "      <td>0.000000</td>\n",
       "      <td>3.000000</td>\n",
       "      <td>28.000000</td>\n",
       "      <td>0.000000</td>\n",
       "      <td>0.000000</td>\n",
       "      <td>14.454200</td>\n",
       "    </tr>\n",
       "    <tr>\n",
       "      <th>75%</th>\n",
       "      <td>668.500000</td>\n",
       "      <td>1.000000</td>\n",
       "      <td>3.000000</td>\n",
       "      <td>38.000000</td>\n",
       "      <td>1.000000</td>\n",
       "      <td>0.000000</td>\n",
       "      <td>31.000000</td>\n",
       "    </tr>\n",
       "    <tr>\n",
       "      <th>max</th>\n",
       "      <td>891.000000</td>\n",
       "      <td>1.000000</td>\n",
       "      <td>3.000000</td>\n",
       "      <td>80.000000</td>\n",
       "      <td>8.000000</td>\n",
       "      <td>6.000000</td>\n",
       "      <td>512.329200</td>\n",
       "    </tr>\n",
       "  </tbody>\n",
       "</table>\n",
       "</div>"
      ],
      "text/plain": [
       "       PassengerId    Survived      Pclass         Age       SibSp  \\\n",
       "count   891.000000  891.000000  891.000000  714.000000  891.000000   \n",
       "mean    446.000000    0.383838    2.308642   29.699118    0.523008   \n",
       "std     257.353842    0.486592    0.836071   14.526497    1.102743   \n",
       "min       1.000000    0.000000    1.000000    0.420000    0.000000   \n",
       "25%     223.500000    0.000000    2.000000   20.125000    0.000000   \n",
       "50%     446.000000    0.000000    3.000000   28.000000    0.000000   \n",
       "75%     668.500000    1.000000    3.000000   38.000000    1.000000   \n",
       "max     891.000000    1.000000    3.000000   80.000000    8.000000   \n",
       "\n",
       "            Parch        Fare  \n",
       "count  891.000000  891.000000  \n",
       "mean     0.381594   32.204208  \n",
       "std      0.806057   49.693429  \n",
       "min      0.000000    0.000000  \n",
       "25%      0.000000    7.910400  \n",
       "50%      0.000000   14.454200  \n",
       "75%      0.000000   31.000000  \n",
       "max      6.000000  512.329200  "
      ]
     },
     "execution_count": 5,
     "metadata": {},
     "output_type": "execute_result"
    }
   ],
   "source": [
    "df_passengers.describe()"
   ]
  },
  {
   "cell_type": "markdown",
   "metadata": {},
   "source": [
    "## Some notes on data\n",
    "\n",
    "- PassengerId: A unique index for passenger rows. It starts from 1 for first row and increments by 1 for every new row.\n",
    "- Survived: refers to whether passenger survived. 1 = survived 0 = not survived.\n",
    "- Pclass: Ticket class. 1 = First class ticket. 2 = Second class ticket. 3 = Third class \n",
    "- Name: Passenger's name. Name also contain title. \"Mr\" for man. \"Mrs\" for woman. \"Miss\" for girl. \"Master\" for boy.\n",
    "- Sex: Passenger's gender. Male or Female.\n",
    "- Age: Passenger's age. \n",
    "- SibSp: Number of siblings or spouses travelling with each passenger.\n",
    "- Parch: Number of parents of children travelling with each passenger.\n",
    "- Ticket: Ticket number\n",
    "- Fare: price paid by passenger\n",
    "- Cabin: Cabin number of the passenger. \n",
    "- Embarked: refers to where the passenger boarded: Cherbourg (C) --> Southhanpton (S) --> Queenstown (Q)\n",
    "![image](img/route.jpeg)"
   ]
  },
  {
   "cell_type": "code",
   "execution_count": 6,
   "metadata": {},
   "outputs": [
    {
     "data": {
      "text/plain": [
       "(891, 12)"
      ]
     },
     "execution_count": 6,
     "metadata": {},
     "output_type": "execute_result"
    }
   ],
   "source": [
    "df_passengers.shape"
   ]
  },
  {
   "cell_type": "markdown",
   "metadata": {},
   "source": [
    "# EDA of Data"
   ]
  },
  {
   "cell_type": "markdown",
   "metadata": {},
   "source": [
    "### Check for null / na values in data"
   ]
  },
  {
   "cell_type": "code",
   "execution_count": 7,
   "metadata": {},
   "outputs": [
    {
     "data": {
      "text/plain": [
       "PassengerId      0\n",
       "Survived         0\n",
       "Pclass           0\n",
       "Name             0\n",
       "Sex              0\n",
       "Age            177\n",
       "SibSp            0\n",
       "Parch            0\n",
       "Ticket           0\n",
       "Fare             0\n",
       "Cabin          687\n",
       "Embarked         2\n",
       "dtype: int64"
      ]
     },
     "execution_count": 7,
     "metadata": {},
     "output_type": "execute_result"
    }
   ],
   "source": [
    "df_passengers.isna().sum()"
   ]
  },
  {
   "cell_type": "markdown",
   "metadata": {},
   "source": [
    "## Visualize where the missing / null values are\n"
   ]
  },
  {
   "cell_type": "code",
   "execution_count": 8,
   "metadata": {},
   "outputs": [
    {
     "data": {
      "text/plain": [
       "<AxesSubplot:>"
      ]
     },
     "execution_count": 8,
     "metadata": {},
     "output_type": "execute_result"
    },
    {
     "data": {
      "image/png": "[encoded data removed]",
      "text/plain": [
       "<Figure size 1800x720 with 2 Axes>"
      ]
     },
     "metadata": {},
     "output_type": "display_data"
    }
   ],
   "source": [
    "missingno.matrix(df_passengers)"
   ]
  },
  {
   "cell_type": "markdown",
   "metadata": {},
   "source": [
    "## fill in missing age with dataset average age."
   ]
  },
  {
   "cell_type": "code",
   "execution_count": 9,
   "metadata": {},
   "outputs": [
    {
     "name": "stdout",
     "output_type": "stream",
     "text": [
      "Updated Dataframe:\n"
     ]
    },
    {
     "data": {
      "text/plain": [
       "<AxesSubplot:>"
      ]
     },
     "execution_count": 9,
     "metadata": {},
     "output_type": "execute_result"
    },
    {
     "data": {
      "image/png": "[encoded data removed]",
      "text/plain": [
       "<Figure size 1800x720 with 2 Axes>"
      ]
     },
     "metadata": {},
     "output_type": "display_data"
    }
   ],
   "source": [
    "\n",
    "mean_value=df_passengers['Age'].mean()\n",
    "  \n",
    "# Replace NaNs in Age column with the\n",
    "# mean of values in the same column\n",
    "df_passengers['Age'].fillna(value=mean_value, inplace=True)\n",
    "print('Updated Dataframe:')\n",
    "missingno.matrix(df_passengers)"
   ]
  },
  {
   "cell_type": "markdown",
   "metadata": {},
   "source": [
    "## Drop Cabin from data for now"
   ]
  },
  {
   "cell_type": "code",
   "execution_count": 10,
   "metadata": {},
   "outputs": [],
   "source": [
    "df_passengers = df_passengers.drop('Cabin', 1)"
   ]
  },
  {
   "cell_type": "code",
   "execution_count": 11,
   "metadata": {},
   "outputs": [
    {
     "data": {
      "text/plain": [
       "<AxesSubplot:>"
      ]
     },
     "execution_count": 11,
     "metadata": {},
     "output_type": "execute_result"
    },
    {
     "data": {
      "image/png": "[encoded data removed]",
      "text/plain": [
       "<Figure size 1800x720 with 2 Axes>"
      ]
     },
     "metadata": {},
     "output_type": "display_data"
    }
   ],
   "source": [
    "missingno.matrix(df_passengers)"
   ]
  },
  {
   "cell_type": "markdown",
   "metadata": {},
   "source": [
    "## Identify missing values for embarked"
   ]
  },
  {
   "cell_type": "code",
   "execution_count": 12,
   "metadata": {},
   "outputs": [
    {
     "data": {
      "text/html": [
       "<div>\n",
       "<style scoped>\n",
       "    .dataframe tbody tr th:only-of-type {\n",
       "        vertical-align: middle;\n",
       "    }\n",
       "\n",
       "    .dataframe tbody tr th {\n",
       "        vertical-align: top;\n",
       "    }\n",
       "\n",
       "    .dataframe thead th {\n",
       "        text-align: right;\n",
       "    }\n",
       "</style>\n",
       "<table border=\"1\" class=\"dataframe\">\n",
       "  <thead>\n",
       "    <tr style=\"text-align: right;\">\n",
       "      <th></th>\n",
       "      <th>PassengerId</th>\n",
       "      <th>Survived</th>\n",
       "      <th>Pclass</th>\n",
       "      <th>Name</th>\n",
       "      <th>Sex</th>\n",
       "      <th>Age</th>\n",
       "      <th>SibSp</th>\n",
       "      <th>Parch</th>\n",
       "      <th>Ticket</th>\n",
       "      <th>Fare</th>\n",
       "      <th>Embarked</th>\n",
       "    </tr>\n",
       "  </thead>\n",
       "  <tbody>\n",
       "    <tr>\n",
       "      <th>61</th>\n",
       "      <td>62</td>\n",
       "      <td>1</td>\n",
       "      <td>1</td>\n",
       "      <td>Icard, Miss. Amelie</td>\n",
       "      <td>female</td>\n",
       "      <td>38.0</td>\n",
       "      <td>0</td>\n",
       "      <td>0</td>\n",
       "      <td>113572</td>\n",
       "      <td>80.0</td>\n",
       "      <td>NaN</td>\n",
       "    </tr>\n",
       "    <tr>\n",
       "      <th>829</th>\n",
       "      <td>830</td>\n",
       "      <td>1</td>\n",
       "      <td>1</td>\n",
       "      <td>Stone, Mrs. George Nelson (Martha Evelyn)</td>\n",
       "      <td>female</td>\n",
       "      <td>62.0</td>\n",
       "      <td>0</td>\n",
       "      <td>0</td>\n",
       "      <td>113572</td>\n",
       "      <td>80.0</td>\n",
       "      <td>NaN</td>\n",
       "    </tr>\n",
       "  </tbody>\n",
       "</table>\n",
       "</div>"
      ],
      "text/plain": [
       "     PassengerId  Survived  Pclass                                       Name  \\\n",
       "61            62         1       1                        Icard, Miss. Amelie   \n",
       "829          830         1       1  Stone, Mrs. George Nelson (Martha Evelyn)   \n",
       "\n",
       "        Sex   Age  SibSp  Parch  Ticket  Fare Embarked  \n",
       "61   female  38.0      0      0  113572  80.0      NaN  \n",
       "829  female  62.0      0      0  113572  80.0      NaN  "
      ]
     },
     "execution_count": 12,
     "metadata": {},
     "output_type": "execute_result"
    }
   ],
   "source": [
    "df_passengers[df_passengers.Embarked.isna()]"
   ]
  },
  {
   "cell_type": "code",
   "execution_count": null,
   "metadata": {},
   "outputs": [],
   "source": []
  },
  {
   "cell_type": "markdown",
   "metadata": {},
   "source": [
    "### Identify the mode of Embarked in data"
   ]
  },
  {
   "cell_type": "code",
   "execution_count": 13,
   "metadata": {},
   "outputs": [
    {
     "data": {
      "text/plain": [
       "'S'"
      ]
     },
     "execution_count": 13,
     "metadata": {},
     "output_type": "execute_result"
    }
   ],
   "source": [
    "embarked_mode = df_passengers['Embarked'].dropna().mode()[0]\n",
    "embarked_mode"
   ]
  },
  {
   "cell_type": "markdown",
   "metadata": {},
   "source": [
    "### Fill missing value in Embarked with embarked_mode"
   ]
  },
  {
   "cell_type": "code",
   "execution_count": 14,
   "metadata": {},
   "outputs": [],
   "source": [
    "df_passengers['Embarked'].fillna(embarked_mode, inplace = True)"
   ]
  },
  {
   "cell_type": "markdown",
   "metadata": {},
   "source": [
    "### Check for any remaining Null values"
   ]
  },
  {
   "cell_type": "code",
   "execution_count": 15,
   "metadata": {},
   "outputs": [
    {
     "data": {
      "text/plain": [
       "PassengerId    0\n",
       "Survived       0\n",
       "Pclass         0\n",
       "Name           0\n",
       "Sex            0\n",
       "Age            0\n",
       "SibSp          0\n",
       "Parch          0\n",
       "Ticket         0\n",
       "Fare           0\n",
       "Embarked       0\n",
       "dtype: int64"
      ]
     },
     "execution_count": 15,
     "metadata": {},
     "output_type": "execute_result"
    }
   ],
   "source": [
    "df_passengers.isna().sum()"
   ]
  },
  {
   "cell_type": "markdown",
   "metadata": {},
   "source": [
    "## simplify Age to 4 groups: Child (0-12), Teen (13-18), Adult (19-65), Senior (66+)"
   ]
  },
  {
   "cell_type": "code",
   "execution_count": 16,
   "metadata": {},
   "outputs": [],
   "source": [
    "\n",
    "def encodeAge(age):\n",
    "    conditions = [age < 13,\n",
    "                  age < 18,\n",
    "                  age < 65,\n",
    "                  age < 100 ]\n",
    "\n",
    "    values = ['Child','Teen','Adult','Senior']\n",
    "    return np.select(conditions, values, default='Adult') \n",
    "\n",
    "df_passengers['AgeGroup'] = df_passengers.Age.apply(encodeAge)\n",
    "\n"
   ]
  },
  {
   "cell_type": "code",
   "execution_count": 17,
   "metadata": {},
   "outputs": [
    {
     "data": {
      "text/html": [
       "<div>\n",
       "<style scoped>\n",
       "    .dataframe tbody tr th:only-of-type {\n",
       "        vertical-align: middle;\n",
       "    }\n",
       "\n",
       "    .dataframe tbody tr th {\n",
       "        vertical-align: top;\n",
       "    }\n",
       "\n",
       "    .dataframe thead th {\n",
       "        text-align: right;\n",
       "    }\n",
       "</style>\n",
       "<table border=\"1\" class=\"dataframe\">\n",
       "  <thead>\n",
       "    <tr style=\"text-align: right;\">\n",
       "      <th></th>\n",
       "      <th>PassengerId</th>\n",
       "      <th>Survived</th>\n",
       "      <th>Pclass</th>\n",
       "      <th>Name</th>\n",
       "      <th>Sex</th>\n",
       "      <th>Age</th>\n",
       "      <th>SibSp</th>\n",
       "      <th>Parch</th>\n",
       "      <th>Ticket</th>\n",
       "      <th>Fare</th>\n",
       "      <th>Embarked</th>\n",
       "      <th>AgeGroup</th>\n",
       "    </tr>\n",
       "  </thead>\n",
       "  <tbody>\n",
       "    <tr>\n",
       "      <th>0</th>\n",
       "      <td>1</td>\n",
       "      <td>0</td>\n",
       "      <td>3</td>\n",
       "      <td>Braund, Mr. Owen Harris</td>\n",
       "      <td>male</td>\n",
       "      <td>22.000000</td>\n",
       "      <td>1</td>\n",
       "      <td>0</td>\n",
       "      <td>A/5 21171</td>\n",
       "      <td>7.2500</td>\n",
       "      <td>S</td>\n",
       "      <td>Adult</td>\n",
       "    </tr>\n",
       "    <tr>\n",
       "      <th>1</th>\n",
       "      <td>2</td>\n",
       "      <td>1</td>\n",
       "      <td>1</td>\n",
       "      <td>Cumings, Mrs. John Bradley (Florence Briggs Th...</td>\n",
       "      <td>female</td>\n",
       "      <td>38.000000</td>\n",
       "      <td>1</td>\n",
       "      <td>0</td>\n",
       "      <td>PC 17599</td>\n",
       "      <td>71.2833</td>\n",
       "      <td>C</td>\n",
       "      <td>Adult</td>\n",
       "    </tr>\n",
       "    <tr>\n",
       "      <th>2</th>\n",
       "      <td>3</td>\n",
       "      <td>1</td>\n",
       "      <td>3</td>\n",
       "      <td>Heikkinen, Miss. Laina</td>\n",
       "      <td>female</td>\n",
       "      <td>26.000000</td>\n",
       "      <td>0</td>\n",
       "      <td>0</td>\n",
       "      <td>STON/O2. 3101282</td>\n",
       "      <td>7.9250</td>\n",
       "      <td>S</td>\n",
       "      <td>Adult</td>\n",
       "    </tr>\n",
       "    <tr>\n",
       "      <th>3</th>\n",
       "      <td>4</td>\n",
       "      <td>1</td>\n",
       "      <td>1</td>\n",
       "      <td>Futrelle, Mrs. Jacques Heath (Lily May Peel)</td>\n",
       "      <td>female</td>\n",
       "      <td>35.000000</td>\n",
       "      <td>1</td>\n",
       "      <td>0</td>\n",
       "      <td>113803</td>\n",
       "      <td>53.1000</td>\n",
       "      <td>S</td>\n",
       "      <td>Adult</td>\n",
       "    </tr>\n",
       "    <tr>\n",
       "      <th>4</th>\n",
       "      <td>5</td>\n",
       "      <td>0</td>\n",
       "      <td>3</td>\n",
       "      <td>Allen, Mr. William Henry</td>\n",
       "      <td>male</td>\n",
       "      <td>35.000000</td>\n",
       "      <td>0</td>\n",
       "      <td>0</td>\n",
       "      <td>373450</td>\n",
       "      <td>8.0500</td>\n",
       "      <td>S</td>\n",
       "      <td>Adult</td>\n",
       "    </tr>\n",
       "    <tr>\n",
       "      <th>...</th>\n",
       "      <td>...</td>\n",
       "      <td>...</td>\n",
       "      <td>...</td>\n",
       "      <td>...</td>\n",
       "      <td>...</td>\n",
       "      <td>...</td>\n",
       "      <td>...</td>\n",
       "      <td>...</td>\n",
       "      <td>...</td>\n",
       "      <td>...</td>\n",
       "      <td>...</td>\n",
       "      <td>...</td>\n",
       "    </tr>\n",
       "    <tr>\n",
       "      <th>886</th>\n",
       "      <td>887</td>\n",
       "      <td>0</td>\n",
       "      <td>2</td>\n",
       "      <td>Montvila, Rev. Juozas</td>\n",
       "      <td>male</td>\n",
       "      <td>27.000000</td>\n",
       "      <td>0</td>\n",
       "      <td>0</td>\n",
       "      <td>211536</td>\n",
       "      <td>13.0000</td>\n",
       "      <td>S</td>\n",
       "      <td>Adult</td>\n",
       "    </tr>\n",
       "    <tr>\n",
       "      <th>887</th>\n",
       "      <td>888</td>\n",
       "      <td>1</td>\n",
       "      <td>1</td>\n",
       "      <td>Graham, Miss. Margaret Edith</td>\n",
       "      <td>female</td>\n",
       "      <td>19.000000</td>\n",
       "      <td>0</td>\n",
       "      <td>0</td>\n",
       "      <td>112053</td>\n",
       "      <td>30.0000</td>\n",
       "      <td>S</td>\n",
       "      <td>Adult</td>\n",
       "    </tr>\n",
       "    <tr>\n",
       "      <th>888</th>\n",
       "      <td>889</td>\n",
       "      <td>0</td>\n",
       "      <td>3</td>\n",
       "      <td>Johnston, Miss. Catherine Helen \"Carrie\"</td>\n",
       "      <td>female</td>\n",
       "      <td>29.699118</td>\n",
       "      <td>1</td>\n",
       "      <td>2</td>\n",
       "      <td>W./C. 6607</td>\n",
       "      <td>23.4500</td>\n",
       "      <td>S</td>\n",
       "      <td>Adult</td>\n",
       "    </tr>\n",
       "    <tr>\n",
       "      <th>889</th>\n",
       "      <td>890</td>\n",
       "      <td>1</td>\n",
       "      <td>1</td>\n",
       "      <td>Behr, Mr. Karl Howell</td>\n",
       "      <td>male</td>\n",
       "      <td>26.000000</td>\n",
       "      <td>0</td>\n",
       "      <td>0</td>\n",
       "      <td>111369</td>\n",
       "      <td>30.0000</td>\n",
       "      <td>C</td>\n",
       "      <td>Adult</td>\n",
       "    </tr>\n",
       "    <tr>\n",
       "      <th>890</th>\n",
       "      <td>891</td>\n",
       "      <td>0</td>\n",
       "      <td>3</td>\n",
       "      <td>Dooley, Mr. Patrick</td>\n",
       "      <td>male</td>\n",
       "      <td>32.000000</td>\n",
       "      <td>0</td>\n",
       "      <td>0</td>\n",
       "      <td>370376</td>\n",
       "      <td>7.7500</td>\n",
       "      <td>Q</td>\n",
       "      <td>Adult</td>\n",
       "    </tr>\n",
       "  </tbody>\n",
       "</table>\n",
       "<p>891 rows × 12 columns</p>\n",
       "</div>"
      ],
      "text/plain": [
       "     PassengerId  Survived  Pclass  \\\n",
       "0              1         0       3   \n",
       "1              2         1       1   \n",
       "2              3         1       3   \n",
       "3              4         1       1   \n",
       "4              5         0       3   \n",
       "..           ...       ...     ...   \n",
       "886          887         0       2   \n",
       "887          888         1       1   \n",
       "888          889         0       3   \n",
       "889          890         1       1   \n",
       "890          891         0       3   \n",
       "\n",
       "                                                  Name     Sex        Age  \\\n",
       "0                              Braund, Mr. Owen Harris    male  22.000000   \n",
       "1    Cumings, Mrs. John Bradley (Florence Briggs Th...  female  38.000000   \n",
       "2                               Heikkinen, Miss. Laina  female  26.000000   \n",
       "3         Futrelle, Mrs. Jacques Heath (Lily May Peel)  female  35.000000   \n",
       "4                             Allen, Mr. William Henry    male  35.000000   \n",
       "..                                                 ...     ...        ...   \n",
       "886                              Montvila, Rev. Juozas    male  27.000000   \n",
       "887                       Graham, Miss. Margaret Edith  female  19.000000   \n",
       "888           Johnston, Miss. Catherine Helen \"Carrie\"  female  29.699118   \n",
       "889                              Behr, Mr. Karl Howell    male  26.000000   \n",
       "890                                Dooley, Mr. Patrick    male  32.000000   \n",
       "\n",
       "     SibSp  Parch            Ticket     Fare Embarked AgeGroup  \n",
       "0        1      0         A/5 21171   7.2500        S    Adult  \n",
       "1        1      0          PC 17599  71.2833        C    Adult  \n",
       "2        0      0  STON/O2. 3101282   7.9250        S    Adult  \n",
       "3        1      0            113803  53.1000        S    Adult  \n",
       "4        0      0            373450   8.0500        S    Adult  \n",
       "..     ...    ...               ...      ...      ...      ...  \n",
       "886      0      0            211536  13.0000        S    Adult  \n",
       "887      0      0            112053  30.0000        S    Adult  \n",
       "888      1      2        W./C. 6607  23.4500        S    Adult  \n",
       "889      0      0            111369  30.0000        C    Adult  \n",
       "890      0      0            370376   7.7500        Q    Adult  \n",
       "\n",
       "[891 rows x 12 columns]"
      ]
     },
     "execution_count": 17,
     "metadata": {},
     "output_type": "execute_result"
    }
   ],
   "source": [
    "df_passengers"
   ]
  },
  {
   "cell_type": "markdown",
   "metadata": {},
   "source": [
    "### Look at survival rate by Sex, Age and Pclass"
   ]
  },
  {
   "cell_type": "code",
   "execution_count": 18,
   "metadata": {},
   "outputs": [
    {
     "data": {
      "text/html": [
       "<div>\n",
       "<style scoped>\n",
       "    .dataframe tbody tr th:only-of-type {\n",
       "        vertical-align: middle;\n",
       "    }\n",
       "\n",
       "    .dataframe tbody tr th {\n",
       "        vertical-align: top;\n",
       "    }\n",
       "\n",
       "    .dataframe thead th {\n",
       "        text-align: right;\n",
       "    }\n",
       "</style>\n",
       "<table border=\"1\" class=\"dataframe\">\n",
       "  <thead>\n",
       "    <tr style=\"text-align: right;\">\n",
       "      <th></th>\n",
       "      <th>Pclass</th>\n",
       "      <th>1</th>\n",
       "      <th>2</th>\n",
       "      <th>3</th>\n",
       "    </tr>\n",
       "    <tr>\n",
       "      <th>Sex</th>\n",
       "      <th>Age</th>\n",
       "      <th></th>\n",
       "      <th></th>\n",
       "      <th></th>\n",
       "    </tr>\n",
       "  </thead>\n",
       "  <tbody>\n",
       "    <tr>\n",
       "      <th rowspan=\"3\" valign=\"top\">female</th>\n",
       "      <th>(0, 12]</th>\n",
       "      <td>0.000000</td>\n",
       "      <td>1.000000</td>\n",
       "      <td>0.478261</td>\n",
       "    </tr>\n",
       "    <tr>\n",
       "      <th>(12, 17]</th>\n",
       "      <td>1.000000</td>\n",
       "      <td>1.000000</td>\n",
       "      <td>0.666667</td>\n",
       "    </tr>\n",
       "    <tr>\n",
       "      <th>(17, 64]</th>\n",
       "      <td>0.976744</td>\n",
       "      <td>0.906250</td>\n",
       "      <td>0.486239</td>\n",
       "    </tr>\n",
       "    <tr>\n",
       "      <th rowspan=\"4\" valign=\"top\">male</th>\n",
       "      <th>(0, 12]</th>\n",
       "      <td>1.000000</td>\n",
       "      <td>1.000000</td>\n",
       "      <td>0.360000</td>\n",
       "    </tr>\n",
       "    <tr>\n",
       "      <th>(12, 17]</th>\n",
       "      <td>1.000000</td>\n",
       "      <td>0.000000</td>\n",
       "      <td>0.055556</td>\n",
       "    </tr>\n",
       "    <tr>\n",
       "      <th>(17, 64]</th>\n",
       "      <td>0.357143</td>\n",
       "      <td>0.084211</td>\n",
       "      <td>0.122924</td>\n",
       "    </tr>\n",
       "    <tr>\n",
       "      <th>(64, 80]</th>\n",
       "      <td>0.166667</td>\n",
       "      <td>0.000000</td>\n",
       "      <td>0.000000</td>\n",
       "    </tr>\n",
       "  </tbody>\n",
       "</table>\n",
       "</div>"
      ],
      "text/plain": [
       "Pclass                  1         2         3\n",
       "Sex    Age                                   \n",
       "female (0, 12]   0.000000  1.000000  0.478261\n",
       "       (12, 17]  1.000000  1.000000  0.666667\n",
       "       (17, 64]  0.976744  0.906250  0.486239\n",
       "male   (0, 12]   1.000000  1.000000  0.360000\n",
       "       (12, 17]  1.000000  0.000000  0.055556\n",
       "       (17, 64]  0.357143  0.084211  0.122924\n",
       "       (64, 80]  0.166667  0.000000  0.000000"
      ]
     },
     "execution_count": 18,
     "metadata": {},
     "output_type": "execute_result"
    }
   ],
   "source": [
    "\n",
    "age = pd.cut(df_passengers['Age'], [0, 12, 17, 64, 80])\n",
    "df_passengers.pivot_table('Survived', ['Sex', age], 'Pclass')"
   ]
  },
  {
   "cell_type": "markdown",
   "metadata": {},
   "source": [
    "### Look at survival rate by Sex, Age and Embarked"
   ]
  },
  {
   "cell_type": "code",
   "execution_count": 19,
   "metadata": {},
   "outputs": [
    {
     "data": {
      "text/html": [
       "<div>\n",
       "<style scoped>\n",
       "    .dataframe tbody tr th:only-of-type {\n",
       "        vertical-align: middle;\n",
       "    }\n",
       "\n",
       "    .dataframe tbody tr th {\n",
       "        vertical-align: top;\n",
       "    }\n",
       "\n",
       "    .dataframe thead th {\n",
       "        text-align: right;\n",
       "    }\n",
       "</style>\n",
       "<table border=\"1\" class=\"dataframe\">\n",
       "  <thead>\n",
       "    <tr style=\"text-align: right;\">\n",
       "      <th></th>\n",
       "      <th>Embarked</th>\n",
       "      <th>C</th>\n",
       "      <th>Q</th>\n",
       "      <th>S</th>\n",
       "    </tr>\n",
       "    <tr>\n",
       "      <th>Sex</th>\n",
       "      <th>Age</th>\n",
       "      <th></th>\n",
       "      <th></th>\n",
       "      <th></th>\n",
       "    </tr>\n",
       "  </thead>\n",
       "  <tbody>\n",
       "    <tr>\n",
       "      <th rowspan=\"3\" valign=\"top\">female</th>\n",
       "      <th>(0, 12]</th>\n",
       "      <td>0.857143</td>\n",
       "      <td>NaN</td>\n",
       "      <td>0.520000</td>\n",
       "    </tr>\n",
       "    <tr>\n",
       "      <th>(12, 17]</th>\n",
       "      <td>0.800000</td>\n",
       "      <td>1.000000</td>\n",
       "      <td>0.800000</td>\n",
       "    </tr>\n",
       "    <tr>\n",
       "      <th>(17, 64]</th>\n",
       "      <td>0.892857</td>\n",
       "      <td>0.727273</td>\n",
       "      <td>0.711765</td>\n",
       "    </tr>\n",
       "    <tr>\n",
       "      <th rowspan=\"4\" valign=\"top\">male</th>\n",
       "      <th>(0, 12]</th>\n",
       "      <td>0.750000</td>\n",
       "      <td>0.000000</td>\n",
       "      <td>0.620690</td>\n",
       "    </tr>\n",
       "    <tr>\n",
       "      <th>(12, 17]</th>\n",
       "      <td>0.333333</td>\n",
       "      <td>NaN</td>\n",
       "      <td>0.055556</td>\n",
       "    </tr>\n",
       "    <tr>\n",
       "      <th>(17, 64]</th>\n",
       "      <td>0.294118</td>\n",
       "      <td>0.085714</td>\n",
       "      <td>0.146907</td>\n",
       "    </tr>\n",
       "    <tr>\n",
       "      <th>(64, 80]</th>\n",
       "      <td>0.000000</td>\n",
       "      <td>0.000000</td>\n",
       "      <td>0.166667</td>\n",
       "    </tr>\n",
       "  </tbody>\n",
       "</table>\n",
       "</div>"
      ],
      "text/plain": [
       "Embarked                C         Q         S\n",
       "Sex    Age                                   \n",
       "female (0, 12]   0.857143       NaN  0.520000\n",
       "       (12, 17]  0.800000  1.000000  0.800000\n",
       "       (17, 64]  0.892857  0.727273  0.711765\n",
       "male   (0, 12]   0.750000  0.000000  0.620690\n",
       "       (12, 17]  0.333333       NaN  0.055556\n",
       "       (17, 64]  0.294118  0.085714  0.146907\n",
       "       (64, 80]  0.000000  0.000000  0.166667"
      ]
     },
     "execution_count": 19,
     "metadata": {},
     "output_type": "execute_result"
    }
   ],
   "source": [
    "df_passengers.pivot_table('Survived', ['Sex', age], 'Embarked')"
   ]
  },
  {
   "cell_type": "markdown",
   "metadata": {},
   "source": [
    "## Start Visualizing the Data"
   ]
  },
  {
   "cell_type": "code",
   "execution_count": 20,
   "metadata": {},
   "outputs": [
    {
     "data": {
      "image/png": "[encoded data removed]",
      "text/plain": [
       "<Figure size 691.2x460.8 with 6 Axes>"
      ]
     },
     "metadata": {},
     "output_type": "display_data"
    }
   ],
   "source": [
    "\n",
    "cols = ['AgeGroup', 'Sex', 'Pclass', 'SibSp', 'Parch', 'Embarked']\n",
    "\n",
    "n_rows = 2\n",
    "n_cols = 3\n",
    "\n",
    "# The subplot grid and the figure size of each graph\n",
    "# This returns a Figure (fig) and an Axes Object (axs)\n",
    "fig, axs = plt.subplots(n_rows, n_cols, figsize=(n_cols*3.2,n_rows*3.2))\n",
    "\n",
    "for r in range(0,n_rows):\n",
    "    for c in range(0,n_cols):  \n",
    "        \n",
    "        i = r*n_cols+ c # index to go through the number of columns       \n",
    "        ax = axs[r][c]  # Show where to position each subplot\n",
    "        sns.countplot(df_passengers[cols[i]], hue=df_passengers[\"Survived\"], ax=ax)\n",
    "        ax.set_title(f'Survival by {cols[i]}' )\n",
    "        ax.legend(title=\"Survived\", loc='upper right') \n",
    "        \n",
    "plt.tight_layout()   "
   ]
  },
  {
   "cell_type": "markdown",
   "metadata": {},
   "source": [
    "### Plot the survival rate of each class."
   ]
  },
  {
   "cell_type": "code",
   "execution_count": 21,
   "metadata": {},
   "outputs": [
    {
     "data": {
      "text/plain": [
       "<AxesSubplot:xlabel='Pclass', ylabel='Survived'>"
      ]
     },
     "execution_count": 21,
     "metadata": {},
     "output_type": "execute_result"
    },
    {
     "data": {
      "image/png": "[encoded data removed]",
      "text/plain": [
       "<Figure size 432x288 with 1 Axes>"
      ]
     },
     "metadata": {},
     "output_type": "display_data"
    }
   ],
   "source": [
    "\n",
    "sns.barplot(x='Pclass', y='Survived', data=df_passengers)"
   ]
  },
  {
   "cell_type": "code",
   "execution_count": 22,
   "metadata": {},
   "outputs": [
    {
     "data": {
      "text/plain": [
       "<AxesSubplot:xlabel='Sex', ylabel='Survived'>"
      ]
     },
     "execution_count": 22,
     "metadata": {},
     "output_type": "execute_result"
    },
    {
     "data": {
      "image/png": "[encoded data removed]",
      "text/plain": [
       "<Figure size 432x288 with 1 Axes>"
      ]
     },
     "metadata": {},
     "output_type": "display_data"
    }
   ],
   "source": [
    "#Plot the survival rate of each Sex.\n",
    "sns.barplot(x='Sex', y='Survived', data=df_passengers)"
   ]
  },
  {
   "cell_type": "markdown",
   "metadata": {},
   "source": [
    "### Look at suvival probablity by AgeGroup and Sex"
   ]
  },
  {
   "cell_type": "code",
   "execution_count": 23,
   "metadata": {},
   "outputs": [
    {
     "data": {
      "text/plain": [
       "Text(0.5, 1.0, 'Survival Probability by AgeGroup')"
      ]
     },
     "execution_count": 23,
     "metadata": {},
     "output_type": "execute_result"
    },
    {
     "data": {
      "image/png": "[encoded data removed]",
      "text/plain": [
       "<Figure size 432x288 with 1 Axes>"
      ]
     },
     "metadata": {},
     "output_type": "display_data"
    }
   ],
   "source": [
    "sns.barplot(x = 'AgeGroup', y ='Survived', hue='Sex', data = df_passengers)\n",
    "plt.ylabel('Survival Probability')\n",
    "plt.title('Survival Probability by AgeGroup')"
   ]
  },
  {
   "cell_type": "markdown",
   "metadata": {},
   "source": [
    "### Look at suvival probablity by AgeGroup and Embarked"
   ]
  },
  {
   "cell_type": "code",
   "execution_count": 24,
   "metadata": {},
   "outputs": [
    {
     "data": {
      "text/plain": [
       "Text(0.5, 1.0, 'Survival Probability by Embarked')"
      ]
     },
     "execution_count": 24,
     "metadata": {},
     "output_type": "execute_result"
    },
    {
     "data": {
      "image/png": "[encoded data removed]",
      "text/plain": [
       "<Figure size 432x288 with 1 Axes>"
      ]
     },
     "metadata": {},
     "output_type": "display_data"
    }
   ],
   "source": [
    "sns.barplot(x = 'Embarked', y ='Survived', hue='Sex', data = df_passengers)\n",
    "plt.ylabel('Survival Probability')\n",
    "plt.title('Survival Probability by Embarked')"
   ]
  },
  {
   "cell_type": "markdown",
   "metadata": {},
   "source": [
    "### View distribution of Passengers"
   ]
  },
  {
   "cell_type": "code",
   "execution_count": 25,
   "metadata": {},
   "outputs": [
    {
     "data": {
      "text/plain": [
       "<seaborn.axisgrid.FacetGrid at 0x7ff20957bc40>"
      ]
     },
     "execution_count": 25,
     "metadata": {},
     "output_type": "execute_result"
    },
    {
     "data": {
      "image/png": "[encoded data removed]",
      "text/plain": [
       "<Figure size 402.375x360 with 1 Axes>"
      ]
     },
     "metadata": {},
     "output_type": "display_data"
    },
    {
     "data": {
      "image/png": "[encoded data removed]",
      "text/plain": [
       "<Figure size 430.5x360 with 1 Axes>"
      ]
     },
     "metadata": {},
     "output_type": "display_data"
    },
    {
     "data": {
      "image/png": "[encoded data removed]",
      "text/plain": [
       "<Figure size 360x360 with 1 Axes>"
      ]
     },
     "metadata": {},
     "output_type": "display_data"
    },
    {
     "data": {
      "image/png": "[encoded data removed]",
      "text/plain": [
       "<Figure size 360x360 with 1 Axes>"
      ]
     },
     "metadata": {},
     "output_type": "display_data"
    }
   ],
   "source": [
    "\n",
    "sns.factorplot(y = 'Age', x = 'Sex', hue = 'Pclass', kind = 'box', data = df_passengers).set(title='Distribution by Age, Sex and Pclass')\n",
    "sns.factorplot(y = 'Age', x = 'Parch', hue='Sex', kind = 'box', data = df_passengers).set(title='Distribution by Age and Parch')\n",
    "sns.factorplot(y = 'Age', x = 'SibSp', kind = 'box', data = df_passengers).set(title='Distribution by Age and SibSp')\n",
    "sns.factorplot(y = 'Age', x = 'Embarked', kind = 'box', data = df_passengers).set(title='Distribution by Age and Embarked')\n"
   ]
  },
  {
   "cell_type": "code",
   "execution_count": 26,
   "metadata": {},
   "outputs": [],
   "source": [
    "##\n"
   ]
  },
  {
   "cell_type": "markdown",
   "metadata": {},
   "source": [
    "## Begin Modeling"
   ]
  },
  {
   "cell_type": "code",
   "execution_count": 27,
   "metadata": {},
   "outputs": [],
   "source": [
    "# create a copy of the data for modelling\n",
    "df_modeling = df_passengers.copy()\n",
    "\n",
    "# create subset of the data that retains only features that will be used in model\n",
    "df_modeling = df_modeling[['Pclass', 'Sex', 'SibSp','Parch', 'Fare', 'Embarked', 'AgeGroup','Survived']]"
   ]
  },
  {
   "cell_type": "code",
   "execution_count": 28,
   "metadata": {},
   "outputs": [],
   "source": [
    "## Numerically encode categorical features\n",
    "\n",
    "def encode_categorical_features(df):\n",
    "    from sklearn.preprocessing import LabelEncoder\n",
    "    labelencoder = LabelEncoder()\n",
    "    \n",
    "    # Numerically encode Sex\n",
    "    df.Sex= labelencoder.fit_transform(df.Sex.values)\n",
    "    \n",
    "    \n",
    "    # Numerically encode Embarked\n",
    "    df.Embarked= labelencoder.fit_transform(df.Embarked.values)\n",
    "    \n",
    "    \n",
    "    # Numerically encode AgeGroup\n",
    "    df.AgeGroup= labelencoder.fit_transform(df.AgeGroup.values)\n"
   ]
  },
  {
   "cell_type": "markdown",
   "metadata": {},
   "source": [
    "### Encode catergorical features"
   ]
  },
  {
   "cell_type": "code",
   "execution_count": 29,
   "metadata": {},
   "outputs": [
    {
     "data": {
      "text/html": [
       "<div>\n",
       "<style scoped>\n",
       "    .dataframe tbody tr th:only-of-type {\n",
       "        vertical-align: middle;\n",
       "    }\n",
       "\n",
       "    .dataframe tbody tr th {\n",
       "        vertical-align: top;\n",
       "    }\n",
       "\n",
       "    .dataframe thead th {\n",
       "        text-align: right;\n",
       "    }\n",
       "</style>\n",
       "<table border=\"1\" class=\"dataframe\">\n",
       "  <thead>\n",
       "    <tr style=\"text-align: right;\">\n",
       "      <th></th>\n",
       "      <th>Pclass</th>\n",
       "      <th>Sex</th>\n",
       "      <th>SibSp</th>\n",
       "      <th>Parch</th>\n",
       "      <th>Fare</th>\n",
       "      <th>Embarked</th>\n",
       "      <th>AgeGroup</th>\n",
       "      <th>Survived</th>\n",
       "    </tr>\n",
       "  </thead>\n",
       "  <tbody>\n",
       "    <tr>\n",
       "      <th>0</th>\n",
       "      <td>3</td>\n",
       "      <td>1</td>\n",
       "      <td>1</td>\n",
       "      <td>0</td>\n",
       "      <td>7.2500</td>\n",
       "      <td>2</td>\n",
       "      <td>0</td>\n",
       "      <td>0</td>\n",
       "    </tr>\n",
       "    <tr>\n",
       "      <th>1</th>\n",
       "      <td>1</td>\n",
       "      <td>0</td>\n",
       "      <td>1</td>\n",
       "      <td>0</td>\n",
       "      <td>71.2833</td>\n",
       "      <td>0</td>\n",
       "      <td>0</td>\n",
       "      <td>1</td>\n",
       "    </tr>\n",
       "    <tr>\n",
       "      <th>2</th>\n",
       "      <td>3</td>\n",
       "      <td>0</td>\n",
       "      <td>0</td>\n",
       "      <td>0</td>\n",
       "      <td>7.9250</td>\n",
       "      <td>2</td>\n",
       "      <td>0</td>\n",
       "      <td>1</td>\n",
       "    </tr>\n",
       "    <tr>\n",
       "      <th>3</th>\n",
       "      <td>1</td>\n",
       "      <td>0</td>\n",
       "      <td>1</td>\n",
       "      <td>0</td>\n",
       "      <td>53.1000</td>\n",
       "      <td>2</td>\n",
       "      <td>0</td>\n",
       "      <td>1</td>\n",
       "    </tr>\n",
       "    <tr>\n",
       "      <th>4</th>\n",
       "      <td>3</td>\n",
       "      <td>1</td>\n",
       "      <td>0</td>\n",
       "      <td>0</td>\n",
       "      <td>8.0500</td>\n",
       "      <td>2</td>\n",
       "      <td>0</td>\n",
       "      <td>0</td>\n",
       "    </tr>\n",
       "    <tr>\n",
       "      <th>...</th>\n",
       "      <td>...</td>\n",
       "      <td>...</td>\n",
       "      <td>...</td>\n",
       "      <td>...</td>\n",
       "      <td>...</td>\n",
       "      <td>...</td>\n",
       "      <td>...</td>\n",
       "      <td>...</td>\n",
       "    </tr>\n",
       "    <tr>\n",
       "      <th>886</th>\n",
       "      <td>2</td>\n",
       "      <td>1</td>\n",
       "      <td>0</td>\n",
       "      <td>0</td>\n",
       "      <td>13.0000</td>\n",
       "      <td>2</td>\n",
       "      <td>0</td>\n",
       "      <td>0</td>\n",
       "    </tr>\n",
       "    <tr>\n",
       "      <th>887</th>\n",
       "      <td>1</td>\n",
       "      <td>0</td>\n",
       "      <td>0</td>\n",
       "      <td>0</td>\n",
       "      <td>30.0000</td>\n",
       "      <td>2</td>\n",
       "      <td>0</td>\n",
       "      <td>1</td>\n",
       "    </tr>\n",
       "    <tr>\n",
       "      <th>888</th>\n",
       "      <td>3</td>\n",
       "      <td>0</td>\n",
       "      <td>1</td>\n",
       "      <td>2</td>\n",
       "      <td>23.4500</td>\n",
       "      <td>2</td>\n",
       "      <td>0</td>\n",
       "      <td>0</td>\n",
       "    </tr>\n",
       "    <tr>\n",
       "      <th>889</th>\n",
       "      <td>1</td>\n",
       "      <td>1</td>\n",
       "      <td>0</td>\n",
       "      <td>0</td>\n",
       "      <td>30.0000</td>\n",
       "      <td>0</td>\n",
       "      <td>0</td>\n",
       "      <td>1</td>\n",
       "    </tr>\n",
       "    <tr>\n",
       "      <th>890</th>\n",
       "      <td>3</td>\n",
       "      <td>1</td>\n",
       "      <td>0</td>\n",
       "      <td>0</td>\n",
       "      <td>7.7500</td>\n",
       "      <td>1</td>\n",
       "      <td>0</td>\n",
       "      <td>0</td>\n",
       "    </tr>\n",
       "  </tbody>\n",
       "</table>\n",
       "<p>891 rows × 8 columns</p>\n",
       "</div>"
      ],
      "text/plain": [
       "     Pclass  Sex  SibSp  Parch     Fare  Embarked  AgeGroup  Survived\n",
       "0         3    1      1      0   7.2500         2         0         0\n",
       "1         1    0      1      0  71.2833         0         0         1\n",
       "2         3    0      0      0   7.9250         2         0         1\n",
       "3         1    0      1      0  53.1000         2         0         1\n",
       "4         3    1      0      0   8.0500         2         0         0\n",
       "..      ...  ...    ...    ...      ...       ...       ...       ...\n",
       "886       2    1      0      0  13.0000         2         0         0\n",
       "887       1    0      0      0  30.0000         2         0         1\n",
       "888       3    0      1      2  23.4500         2         0         0\n",
       "889       1    1      0      0  30.0000         0         0         1\n",
       "890       3    1      0      0   7.7500         1         0         0\n",
       "\n",
       "[891 rows x 8 columns]"
      ]
     },
     "execution_count": 29,
     "metadata": {},
     "output_type": "execute_result"
    }
   ],
   "source": [
    "encode_categorical_features(df_modeling)\n",
    "df_modeling"
   ]
  },
  {
   "cell_type": "markdown",
   "metadata": {},
   "source": [
    "### Split the data into train, validation and test sets"
   ]
  },
  {
   "cell_type": "code",
   "execution_count": 30,
   "metadata": {},
   "outputs": [],
   "source": [
    "from fast_ml.model_development import train_valid_test_split\n",
    "\n",
    "X_train, y_train, X_valid, y_valid, X_test, y_test = train_valid_test_split(df_modeling, \n",
    "                                                                            target = 'Survived',                                                                            \n",
    "                                                                            train_size=0.6,\n",
    "                                                                            valid_size=0.2,\n",
    "                                                                            test_size=0.2)"
   ]
  },
  {
   "cell_type": "code",
   "execution_count": 31,
   "metadata": {},
   "outputs": [
    {
     "data": {
      "text/plain": [
       "Index(['Pclass', 'Sex', 'SibSp', 'Parch', 'Fare', 'Embarked', 'AgeGroup',\n",
       "       'Survived'],\n",
       "      dtype='object')"
      ]
     },
     "execution_count": 31,
     "metadata": {},
     "output_type": "execute_result"
    }
   ],
   "source": [
    "df_modeling.columns"
   ]
  },
  {
   "cell_type": "code",
   "execution_count": 43,
   "metadata": {},
   "outputs": [],
   "source": []
  },
  {
   "cell_type": "markdown",
   "metadata": {},
   "source": [
    "## Scale Features"
   ]
  },
  {
   "cell_type": "code",
   "execution_count": 32,
   "metadata": {},
   "outputs": [],
   "source": [
    "# Feature Scaling\n",
    "from sklearn.preprocessing import StandardScaler\n",
    "sc = StandardScaler()\n",
    "X_train = sc.fit_transform(X_train)\n",
    "X_test = sc.transform(X_test)"
   ]
  },
  {
   "cell_type": "code",
   "execution_count": 46,
   "metadata": {},
   "outputs": [],
   "source": [
    "## functionalize model prep\n",
    "\n",
    "    \n",
    "def prep_data(df):\n",
    "    #Split the data into independent 'X' and dependent 'Y' variables\n",
    "    X = df[['Pclass', 'Sex', 'SibSp','Parch', 'Fare', 'Embarked', 'AgeGroup']].values\n",
    "    Y = df.Survived.values\n",
    "    \n",
    "    # Split the dataset into 80% Training set and 10% Validation and 10% Testing set\n",
    "    from fast_ml.model_development import train_valid_test_split\n",
    "    X_train, y_train, X_valid, y_valid, X_test, y_test = train_valid_test_split(df, \n",
    "                                                                            target = 'Survived',                                                                            \n",
    "                                                                            train_size=0.6,\n",
    "                                                                            valid_size=0.2,\n",
    "                                                                            test_size=0.2)\n",
    "    \n",
    "    # Feature Scaling\n",
    "    from sklearn.preprocessing import StandardScaler\n",
    "    sc = StandardScaler()\n",
    "    X_train = sc.fit_transform(X_train)\n",
    "    X_test = sc.transform(X_test)\n",
    "    \n",
    "    return  X_train, X_test, X_valid, y_train, y_valid, y_test\n",
    "        \n",
    "    \n",
    "    \n"
   ]
  },
  {
   "cell_type": "code",
   "execution_count": 33,
   "metadata": {},
   "outputs": [],
   "source": [
    "## Perform data prep\n",
    "prep_data(df_modeling)"
   ]
  },
  {
   "cell_type": "markdown",
   "metadata": {},
   "source": [
    "## Create functions to score models"
   ]
  },
  {
   "cell_type": "code",
   "execution_count": 34,
   "metadata": {},
   "outputs": [],
   "source": [
    "# Functions for scoring models\n",
    "def accuracy(actuals, preds):\n",
    "    return np.mean(actuals == preds)\n",
    "\n",
    "def precision(actuals, preds):\n",
    "    tp = np.sum((actuals == 1) & (preds == 1))\n",
    "    fp = np.sum((actuals == 0) & (preds == 1))\n",
    "    return tp / (tp + fp)\n",
    "\n",
    "def recall(actuals, preds):\n",
    "    tp = np.sum((actuals == 1) & (preds == 1))\n",
    "    fn = np.sum((actuals == 1) & (preds == 0))\n",
    "    return tp / (tp + fn)\n",
    "\n",
    "def F1(actuals, preds):\n",
    "    p, r = precision(actuals, preds), recall(actuals, preds)\n",
    "    return 2*p*r / (p + r)"
   ]
  },
  {
   "cell_type": "code",
   "execution_count": null,
   "metadata": {},
   "outputs": [],
   "source": []
  },
  {
   "cell_type": "markdown",
   "metadata": {},
   "source": [
    "## First Model: kNN "
   ]
  },
  {
   "cell_type": "code",
   "execution_count": 39,
   "metadata": {},
   "outputs": [],
   "source": [
    "def model_kNN1(X_train,y_train,k):\n",
    "    clf = KNeighborsClassifier(n_neighbors = k, metric = 'minkowski', p = 2)\n",
    "    clf.fit(X_train, y_train)\n",
    "    y_pred_random_forest_training_set = clf.predict(X_train)\n",
    "    acc_random_forest = round(clf.score(X_train, y_train) * 100, 2)\n",
    "    print (\"Accuracy: %i %% \\n\"%acc_random_forest)\n",
    "    \n",
    "    class_names = ['Survived', 'Not Survived']\n",
    "    \n",
    "    # Compute confusion matrix\n",
    "    cnf_matrix = confusion_matrix(y_train, y_pred_random_forest_training_set)\n",
    "    np.set_printoptions(precision=2)\n",
    "    \n",
    "    print ('Confusion Matrix in Numbers')\n",
    "    print (cnf_matrix)\n",
    "    print ('')\n",
    "    \n",
    "    cnf_matrix_percent = cnf_matrix.astype('float') / cnf_matrix.sum(axis=1)[:, np.newaxis]\n",
    "    \n",
    "    print ('Confusion Matrix in Percentage')\n",
    "    print (cnf_matrix_percent)\n",
    "    print ('')\n",
    "    \n",
    "    ### -- scoring\n",
    "    knnacc_scores = cross_val_score(clf, X_train, y_train, cv=5, scoring='accuracy')\n",
    "    knnpre_scores = cross_val_score(clf, X_train, y_train, cv=5, scoring='precision')\n",
    "    knnrecall_scores = cross_val_score(clf, X_train, y_train, cv=5, scoring='recall')\n",
    "    knnf1_scores = cross_val_score(clf, X_train, y_train, cv=5, scoring='f1')\n",
    "    # print all 5 times scores \n",
    "    print(f'accuracy scores:  {knnacc_scores}')\n",
    "    print(f'Precision scores: {knnpre_scores}')\n",
    "    print(f'Recall scores:    {knnrecall_scores}')\n",
    "    print(f'F1 scores:        {knnf1_scores}')\n",
    "    print('--------------------------------------')\n",
    "    # average the scores to get a more accurate score\n",
    "    print(f'Accuracy after 5 Folds:  {knnacc_scores.mean()}')\n",
    "    print(f'Precision after 5 Folds: {knnpre_scores.mean()}')\n",
    "    print(f'Recall after 5 Folds:    {knnrecall_scores.mean()}')\n",
    "    print(f'F1 after 5 Folds:        {knnf1_scores.mean()}')    \n",
    "    print(' ')\n",
    "    ### -- end scoring\n",
    "    print('---------------------')      \n",
    "    \n",
    "    true_class_names = ['True Survived', 'True Not Survived']\n",
    "    predicted_class_names = ['Predicted Survived', 'Predicted Not Survived']\n",
    "    \n",
    "    df_cnf_matrix = pd.DataFrame(cnf_matrix, \n",
    "                                 index = true_class_names,\n",
    "                                 columns = predicted_class_names)\n",
    "    \n",
    "    df_cnf_matrix_percent = pd.DataFrame(cnf_matrix_percent, \n",
    "                                         index = true_class_names,\n",
    "                                         columns = predicted_class_names)\n",
    "    \n",
    "    plt.figure(figsize = (15,5))\n",
    "    \n",
    "    plt.subplot(121)\n",
    "    sns.heatmap(df_cnf_matrix, annot=True, fmt='d')\n",
    "    \n",
    "    plt.subplot(122)\n",
    "    sns.heatmap(df_cnf_matrix_percent, annot=True)"
   ]
  },
  {
   "cell_type": "markdown",
   "metadata": {},
   "source": [
    "## Run kNN on Training data, then cross-validate with K-fold"
   ]
  },
  {
   "cell_type": "code",
   "execution_count": 40,
   "metadata": {},
   "outputs": [
    {
     "name": "stdout",
     "output_type": "stream",
     "text": [
      "Accuracy: 86 % \n",
      "\n",
      "Confusion Matrix in Numbers\n",
      "[[312  31]\n",
      " [ 43 148]]\n",
      "\n",
      "Confusion Matrix in Percentage\n",
      "[[0.91 0.09]\n",
      " [0.23 0.77]]\n",
      "\n",
      "accuracy scores:  [0.79 0.8  0.78 0.81 0.83]\n",
      "Precision scores: [0.68 0.71 0.75 0.77 0.78]\n",
      "Recall scores:    [0.74 0.76 0.55 0.69 0.74]\n",
      "F1 scores:        [0.71 0.73 0.64 0.73 0.76]\n",
      "--------------------------------------\n",
      "Accuracy after 5 Folds:  0.8015517545406453\n",
      "Precision after 5 Folds: 0.7378900503290746\n",
      "Recall after 5 Folds:    0.6963562753036437\n",
      "F1 after 5 Folds:        0.7131776195067334\n",
      " \n",
      "---------------------\n"
     ]
    },
    {
     "data": {
      "image/png": "[encoded data removed]",
      "text/plain": [
       "<Figure size 1080x360 with 4 Axes>"
      ]
     },
     "metadata": {},
     "output_type": "display_data"
    }
   ],
   "source": [
    "model_kNN1(X_train,y_train,5) #k=5 is the default value."
   ]
  },
  {
   "cell_type": "markdown",
   "metadata": {},
   "source": [
    "## Tune kNN by using k values from 3-15"
   ]
  },
  {
   "cell_type": "code",
   "execution_count": 43,
   "metadata": {},
   "outputs": [],
   "source": [
    "def tune_knn(X_train,y_train):\n",
    "    #Using KNeighborsClassifier Method of neighbors class to use Nearest Neighbor algorithm\n",
    "    from sklearn.neighbors import KNeighborsClassifier    \n",
    "    scores_dict = {}\n",
    "    scores_df = pd.DataFrame()\n",
    "    k_lst = []\n",
    "    acc_lst = []\n",
    "    score_lst = []\n",
    "    precision_lst = []\n",
    "    recall_lst = []\n",
    "    f1_lst = []\n",
    "    for n in range(3,16,1):\n",
    " \n",
    "        knn = KNeighborsClassifier(n_neighbors = n, metric = 'minkowski', p = 2)\n",
    "        knn.fit(X_train, y_train)\n",
    "        \n",
    "        k_lst.append(n)\n",
    "        score_lst.append(knn.score(X_train, y_train))\n",
    "        acc_lst.append(accuracy(y_test, knn.predict(X_test)) )\n",
    "        precision_lst.append(precision(y_test, knn.predict(X_test)))\n",
    "        recall_lst.append(recall(y_test, knn.predict(X_test)))\n",
    "        f1_lst.append( F1(y_test, knn.predict(X_test))  )\n",
    "  \n",
    "        #scores_df.append(scores_dict,ignore_index=True)\n",
    "    # dictionary of lists \n",
    "    dict = {'K': k_lst, \n",
    "            'Score': score_lst,\n",
    "            'Accuracy': acc_lst,\n",
    "            'Precision':precision_lst,\n",
    "            'Recall': recall_lst,\n",
    "            'F1': f1_lst}  \n",
    "    df_knn = pd.DataFrame(dict) \n",
    "    df_knn.sort_values(by='Accuracy', ascending = False, inplace=True)\n",
    "    return df_knn"
   ]
  },
  {
   "cell_type": "code",
   "execution_count": 56,
   "metadata": {},
   "outputs": [
    {
     "data": {
      "text/html": [
       "<style  type=\"text/css\" >\n",
       "#T_44ec678e_5d6a_11ec_9a53_acde48001122row0_col0,#T_44ec678e_5d6a_11ec_9a53_acde48001122row3_col1,#T_44ec678e_5d6a_11ec_9a53_acde48001122row7_col4,#T_44ec678e_5d6a_11ec_9a53_acde48001122row9_col4,#T_44ec678e_5d6a_11ec_9a53_acde48001122row10_col3,#T_44ec678e_5d6a_11ec_9a53_acde48001122row11_col2,#T_44ec678e_5d6a_11ec_9a53_acde48001122row11_col5,#T_44ec678e_5d6a_11ec_9a53_acde48001122row12_col2{\n",
       "            background-color:  coral;\n",
       "        }#T_44ec678e_5d6a_11ec_9a53_acde48001122row0_col1,#T_44ec678e_5d6a_11ec_9a53_acde48001122row0_col2,#T_44ec678e_5d6a_11ec_9a53_acde48001122row0_col4,#T_44ec678e_5d6a_11ec_9a53_acde48001122row0_col5,#T_44ec678e_5d6a_11ec_9a53_acde48001122row2_col3,#T_44ec678e_5d6a_11ec_9a53_acde48001122row3_col0{\n",
       "            background-color:  lightgreen;\n",
       "        }</style><table id=\"T_44ec678e_5d6a_11ec_9a53_acde48001122\" ><thead>    <tr>        <th class=\"blank level0\" ></th>        <th class=\"col_heading level0 col0\" >K</th>        <th class=\"col_heading level0 col1\" >Score</th>        <th class=\"col_heading level0 col2\" >Accuracy</th>        <th class=\"col_heading level0 col3\" >Precision</th>        <th class=\"col_heading level0 col4\" >Recall</th>        <th class=\"col_heading level0 col5\" >F1</th>    </tr></thead><tbody>\n",
       "                <tr>\n",
       "                        <th id=\"T_44ec678e_5d6a_11ec_9a53_acde48001122level0_row0\" class=\"row_heading level0 row0\" >0</th>\n",
       "                        <td id=\"T_44ec678e_5d6a_11ec_9a53_acde48001122row0_col0\" class=\"data row0 col0\" >3.00</td>\n",
       "                        <td id=\"T_44ec678e_5d6a_11ec_9a53_acde48001122row0_col1\" class=\"data row0 col1\" >0.87</td>\n",
       "                        <td id=\"T_44ec678e_5d6a_11ec_9a53_acde48001122row0_col2\" class=\"data row0 col2\" >0.84</td>\n",
       "                        <td id=\"T_44ec678e_5d6a_11ec_9a53_acde48001122row0_col3\" class=\"data row0 col3\" >0.90</td>\n",
       "                        <td id=\"T_44ec678e_5d6a_11ec_9a53_acde48001122row0_col4\" class=\"data row0 col4\" >0.70</td>\n",
       "                        <td id=\"T_44ec678e_5d6a_11ec_9a53_acde48001122row0_col5\" class=\"data row0 col5\" >0.79</td>\n",
       "            </tr>\n",
       "            <tr>\n",
       "                        <th id=\"T_44ec678e_5d6a_11ec_9a53_acde48001122level0_row1\" class=\"row_heading level0 row1\" >2</th>\n",
       "                        <td id=\"T_44ec678e_5d6a_11ec_9a53_acde48001122row1_col0\" class=\"data row1 col0\" >5.00</td>\n",
       "                        <td id=\"T_44ec678e_5d6a_11ec_9a53_acde48001122row1_col1\" class=\"data row1 col1\" >0.86</td>\n",
       "                        <td id=\"T_44ec678e_5d6a_11ec_9a53_acde48001122row1_col2\" class=\"data row1 col2\" >0.82</td>\n",
       "                        <td id=\"T_44ec678e_5d6a_11ec_9a53_acde48001122row1_col3\" class=\"data row1 col3\" >0.85</td>\n",
       "                        <td id=\"T_44ec678e_5d6a_11ec_9a53_acde48001122row1_col4\" class=\"data row1 col4\" >0.68</td>\n",
       "                        <td id=\"T_44ec678e_5d6a_11ec_9a53_acde48001122row1_col5\" class=\"data row1 col5\" >0.76</td>\n",
       "            </tr>\n",
       "            <tr>\n",
       "                        <th id=\"T_44ec678e_5d6a_11ec_9a53_acde48001122level0_row2\" class=\"row_heading level0 row2\" >11</th>\n",
       "                        <td id=\"T_44ec678e_5d6a_11ec_9a53_acde48001122row2_col0\" class=\"data row2 col0\" >14.00</td>\n",
       "                        <td id=\"T_44ec678e_5d6a_11ec_9a53_acde48001122row2_col1\" class=\"data row2 col1\" >0.83</td>\n",
       "                        <td id=\"T_44ec678e_5d6a_11ec_9a53_acde48001122row2_col2\" class=\"data row2 col2\" >0.81</td>\n",
       "                        <td id=\"T_44ec678e_5d6a_11ec_9a53_acde48001122row2_col3\" class=\"data row2 col3\" >0.92</td>\n",
       "                        <td id=\"T_44ec678e_5d6a_11ec_9a53_acde48001122row2_col4\" class=\"data row2 col4\" >0.61</td>\n",
       "                        <td id=\"T_44ec678e_5d6a_11ec_9a53_acde48001122row2_col5\" class=\"data row2 col5\" >0.73</td>\n",
       "            </tr>\n",
       "            <tr>\n",
       "                        <th id=\"T_44ec678e_5d6a_11ec_9a53_acde48001122level0_row3\" class=\"row_heading level0 row3\" >12</th>\n",
       "                        <td id=\"T_44ec678e_5d6a_11ec_9a53_acde48001122row3_col0\" class=\"data row3 col0\" >15.00</td>\n",
       "                        <td id=\"T_44ec678e_5d6a_11ec_9a53_acde48001122row3_col1\" class=\"data row3 col1\" >0.82</td>\n",
       "                        <td id=\"T_44ec678e_5d6a_11ec_9a53_acde48001122row3_col2\" class=\"data row3 col2\" >0.81</td>\n",
       "                        <td id=\"T_44ec678e_5d6a_11ec_9a53_acde48001122row3_col3\" class=\"data row3 col3\" >0.88</td>\n",
       "                        <td id=\"T_44ec678e_5d6a_11ec_9a53_acde48001122row3_col4\" class=\"data row3 col4\" >0.64</td>\n",
       "                        <td id=\"T_44ec678e_5d6a_11ec_9a53_acde48001122row3_col5\" class=\"data row3 col5\" >0.74</td>\n",
       "            </tr>\n",
       "            <tr>\n",
       "                        <th id=\"T_44ec678e_5d6a_11ec_9a53_acde48001122level0_row4\" class=\"row_heading level0 row4\" >1</th>\n",
       "                        <td id=\"T_44ec678e_5d6a_11ec_9a53_acde48001122row4_col0\" class=\"data row4 col0\" >4.00</td>\n",
       "                        <td id=\"T_44ec678e_5d6a_11ec_9a53_acde48001122row4_col1\" class=\"data row4 col1\" >0.87</td>\n",
       "                        <td id=\"T_44ec678e_5d6a_11ec_9a53_acde48001122row4_col2\" class=\"data row4 col2\" >0.80</td>\n",
       "                        <td id=\"T_44ec678e_5d6a_11ec_9a53_acde48001122row4_col3\" class=\"data row4 col3\" >0.92</td>\n",
       "                        <td id=\"T_44ec678e_5d6a_11ec_9a53_acde48001122row4_col4\" class=\"data row4 col4\" >0.59</td>\n",
       "                        <td id=\"T_44ec678e_5d6a_11ec_9a53_acde48001122row4_col5\" class=\"data row4 col5\" >0.72</td>\n",
       "            </tr>\n",
       "            <tr>\n",
       "                        <th id=\"T_44ec678e_5d6a_11ec_9a53_acde48001122level0_row5\" class=\"row_heading level0 row5\" >9</th>\n",
       "                        <td id=\"T_44ec678e_5d6a_11ec_9a53_acde48001122row5_col0\" class=\"data row5 col0\" >12.00</td>\n",
       "                        <td id=\"T_44ec678e_5d6a_11ec_9a53_acde48001122row5_col1\" class=\"data row5 col1\" >0.84</td>\n",
       "                        <td id=\"T_44ec678e_5d6a_11ec_9a53_acde48001122row5_col2\" class=\"data row5 col2\" >0.80</td>\n",
       "                        <td id=\"T_44ec678e_5d6a_11ec_9a53_acde48001122row5_col3\" class=\"data row5 col3\" >0.90</td>\n",
       "                        <td id=\"T_44ec678e_5d6a_11ec_9a53_acde48001122row5_col4\" class=\"data row5 col4\" >0.61</td>\n",
       "                        <td id=\"T_44ec678e_5d6a_11ec_9a53_acde48001122row5_col5\" class=\"data row5 col5\" >0.72</td>\n",
       "            </tr>\n",
       "            <tr>\n",
       "                        <th id=\"T_44ec678e_5d6a_11ec_9a53_acde48001122level0_row6\" class=\"row_heading level0 row6\" >4</th>\n",
       "                        <td id=\"T_44ec678e_5d6a_11ec_9a53_acde48001122row6_col0\" class=\"data row6 col0\" >7.00</td>\n",
       "                        <td id=\"T_44ec678e_5d6a_11ec_9a53_acde48001122row6_col1\" class=\"data row6 col1\" >0.84</td>\n",
       "                        <td id=\"T_44ec678e_5d6a_11ec_9a53_acde48001122row6_col2\" class=\"data row6 col2\" >0.80</td>\n",
       "                        <td id=\"T_44ec678e_5d6a_11ec_9a53_acde48001122row6_col3\" class=\"data row6 col3\" >0.86</td>\n",
       "                        <td id=\"T_44ec678e_5d6a_11ec_9a53_acde48001122row6_col4\" class=\"data row6 col4\" >0.63</td>\n",
       "                        <td id=\"T_44ec678e_5d6a_11ec_9a53_acde48001122row6_col5\" class=\"data row6 col5\" >0.73</td>\n",
       "            </tr>\n",
       "            <tr>\n",
       "                        <th id=\"T_44ec678e_5d6a_11ec_9a53_acde48001122level0_row7\" class=\"row_heading level0 row7\" >5</th>\n",
       "                        <td id=\"T_44ec678e_5d6a_11ec_9a53_acde48001122row7_col0\" class=\"data row7 col0\" >8.00</td>\n",
       "                        <td id=\"T_44ec678e_5d6a_11ec_9a53_acde48001122row7_col1\" class=\"data row7 col1\" >0.84</td>\n",
       "                        <td id=\"T_44ec678e_5d6a_11ec_9a53_acde48001122row7_col2\" class=\"data row7 col2\" >0.80</td>\n",
       "                        <td id=\"T_44ec678e_5d6a_11ec_9a53_acde48001122row7_col3\" class=\"data row7 col3\" >0.92</td>\n",
       "                        <td id=\"T_44ec678e_5d6a_11ec_9a53_acde48001122row7_col4\" class=\"data row7 col4\" >0.58</td>\n",
       "                        <td id=\"T_44ec678e_5d6a_11ec_9a53_acde48001122row7_col5\" class=\"data row7 col5\" >0.71</td>\n",
       "            </tr>\n",
       "            <tr>\n",
       "                        <th id=\"T_44ec678e_5d6a_11ec_9a53_acde48001122level0_row8\" class=\"row_heading level0 row8\" >10</th>\n",
       "                        <td id=\"T_44ec678e_5d6a_11ec_9a53_acde48001122row8_col0\" class=\"data row8 col0\" >13.00</td>\n",
       "                        <td id=\"T_44ec678e_5d6a_11ec_9a53_acde48001122row8_col1\" class=\"data row8 col1\" >0.83</td>\n",
       "                        <td id=\"T_44ec678e_5d6a_11ec_9a53_acde48001122row8_col2\" class=\"data row8 col2\" >0.80</td>\n",
       "                        <td id=\"T_44ec678e_5d6a_11ec_9a53_acde48001122row8_col3\" class=\"data row8 col3\" >0.86</td>\n",
       "                        <td id=\"T_44ec678e_5d6a_11ec_9a53_acde48001122row8_col4\" class=\"data row8 col4\" >0.63</td>\n",
       "                        <td id=\"T_44ec678e_5d6a_11ec_9a53_acde48001122row8_col5\" class=\"data row8 col5\" >0.73</td>\n",
       "            </tr>\n",
       "            <tr>\n",
       "                        <th id=\"T_44ec678e_5d6a_11ec_9a53_acde48001122level0_row9\" class=\"row_heading level0 row9\" >7</th>\n",
       "                        <td id=\"T_44ec678e_5d6a_11ec_9a53_acde48001122row9_col0\" class=\"data row9 col0\" >10.00</td>\n",
       "                        <td id=\"T_44ec678e_5d6a_11ec_9a53_acde48001122row9_col1\" class=\"data row9 col1\" >0.84</td>\n",
       "                        <td id=\"T_44ec678e_5d6a_11ec_9a53_acde48001122row9_col2\" class=\"data row9 col2\" >0.79</td>\n",
       "                        <td id=\"T_44ec678e_5d6a_11ec_9a53_acde48001122row9_col3\" class=\"data row9 col3\" >0.90</td>\n",
       "                        <td id=\"T_44ec678e_5d6a_11ec_9a53_acde48001122row9_col4\" class=\"data row9 col4\" >0.58</td>\n",
       "                        <td id=\"T_44ec678e_5d6a_11ec_9a53_acde48001122row9_col5\" class=\"data row9 col5\" >0.70</td>\n",
       "            </tr>\n",
       "            <tr>\n",
       "                        <th id=\"T_44ec678e_5d6a_11ec_9a53_acde48001122level0_row10\" class=\"row_heading level0 row10\" >8</th>\n",
       "                        <td id=\"T_44ec678e_5d6a_11ec_9a53_acde48001122row10_col0\" class=\"data row10 col0\" >11.00</td>\n",
       "                        <td id=\"T_44ec678e_5d6a_11ec_9a53_acde48001122row10_col1\" class=\"data row10 col1\" >0.83</td>\n",
       "                        <td id=\"T_44ec678e_5d6a_11ec_9a53_acde48001122row10_col2\" class=\"data row10 col2\" >0.79</td>\n",
       "                        <td id=\"T_44ec678e_5d6a_11ec_9a53_acde48001122row10_col3\" class=\"data row10 col3\" >0.83</td>\n",
       "                        <td id=\"T_44ec678e_5d6a_11ec_9a53_acde48001122row10_col4\" class=\"data row10 col4\" >0.64</td>\n",
       "                        <td id=\"T_44ec678e_5d6a_11ec_9a53_acde48001122row10_col5\" class=\"data row10 col5\" >0.73</td>\n",
       "            </tr>\n",
       "            <tr>\n",
       "                        <th id=\"T_44ec678e_5d6a_11ec_9a53_acde48001122level0_row11\" class=\"row_heading level0 row11\" >3</th>\n",
       "                        <td id=\"T_44ec678e_5d6a_11ec_9a53_acde48001122row11_col0\" class=\"data row11 col0\" >6.00</td>\n",
       "                        <td id=\"T_44ec678e_5d6a_11ec_9a53_acde48001122row11_col1\" class=\"data row11 col1\" >0.85</td>\n",
       "                        <td id=\"T_44ec678e_5d6a_11ec_9a53_acde48001122row11_col2\" class=\"data row11 col2\" >0.79</td>\n",
       "                        <td id=\"T_44ec678e_5d6a_11ec_9a53_acde48001122row11_col3\" class=\"data row11 col3\" >0.87</td>\n",
       "                        <td id=\"T_44ec678e_5d6a_11ec_9a53_acde48001122row11_col4\" class=\"data row11 col4\" >0.59</td>\n",
       "                        <td id=\"T_44ec678e_5d6a_11ec_9a53_acde48001122row11_col5\" class=\"data row11 col5\" >0.70</td>\n",
       "            </tr>\n",
       "            <tr>\n",
       "                        <th id=\"T_44ec678e_5d6a_11ec_9a53_acde48001122level0_row12\" class=\"row_heading level0 row12\" >6</th>\n",
       "                        <td id=\"T_44ec678e_5d6a_11ec_9a53_acde48001122row12_col0\" class=\"data row12 col0\" >9.00</td>\n",
       "                        <td id=\"T_44ec678e_5d6a_11ec_9a53_acde48001122row12_col1\" class=\"data row12 col1\" >0.84</td>\n",
       "                        <td id=\"T_44ec678e_5d6a_11ec_9a53_acde48001122row12_col2\" class=\"data row12 col2\" >0.79</td>\n",
       "                        <td id=\"T_44ec678e_5d6a_11ec_9a53_acde48001122row12_col3\" class=\"data row12 col3\" >0.85</td>\n",
       "                        <td id=\"T_44ec678e_5d6a_11ec_9a53_acde48001122row12_col4\" class=\"data row12 col4\" >0.61</td>\n",
       "                        <td id=\"T_44ec678e_5d6a_11ec_9a53_acde48001122row12_col5\" class=\"data row12 col5\" >0.71</td>\n",
       "            </tr>\n",
       "    </tbody></table>"
      ],
      "text/plain": [
       "<pandas.io.formats.style.Styler at 0x7ff2068562b0>"
      ]
     },
     "execution_count": 56,
     "metadata": {},
     "output_type": "execute_result"
    }
   ],
   "source": [
    "knn_results = tune_knn(X_train,y_train)\n",
    "knn_results.style.format('{:.2f}')\\\n",
    "            .highlight_max(color = 'lightgreen', axis = 0)\\\n",
    "            .highlight_min(color = 'coral', axis = 0)\n",
    "            "
   ]
  },
  {
   "cell_type": "markdown",
   "metadata": {},
   "source": [
    "## Let's visualize the results"
   ]
  },
  {
   "cell_type": "code",
   "execution_count": 60,
   "metadata": {},
   "outputs": [
    {
     "data": {
      "text/html": [
       "\n",
       "<div id=\"altair-viz-98320aef8ebe4ee294a8b7f14f7a629d\"></div>\n",
       "<script type=\"text/javascript\">\n",
       "  (function(spec, embedOpt){\n",
       "    let outputDiv = document.currentScript.previousElementSibling;\n",
       "    if (outputDiv.id !== \"altair-viz-98320aef8ebe4ee294a8b7f14f7a629d\") {\n",
       "      outputDiv = document.getElementById(\"altair-viz-98320aef8ebe4ee294a8b7f14f7a629d\");\n",
       "    }\n",
       "    const paths = {\n",
       "      \"vega\": \"https://cdn.jsdelivr.net/npm//vega@5?noext\",\n",
       "      \"vega-lib\": \"https://cdn.jsdelivr.net/npm//vega-lib?noext\",\n",
       "      \"vega-lite\": \"https://cdn.jsdelivr.net/npm//vega-lite@4.8.1?noext\",\n",
       "      \"vega-embed\": \"https://cdn.jsdelivr.net/npm//vega-embed@6?noext\",\n",
       "    };\n",
       "\n",
       "    function loadScript(lib) {\n",
       "      return new Promise(function(resolve, reject) {\n",
       "        var s = document.createElement('script');\n",
       "        s.src = paths[lib];\n",
       "        s.async = true;\n",
       "        s.onload = () => resolve(paths[lib]);\n",
       "        s.onerror = () => reject(`Error loading script: ${paths[lib]}`);\n",
       "        document.getElementsByTagName(\"head\")[0].appendChild(s);\n",
       "      });\n",
       "    }\n",
       "\n",
       "    function showError(err) {\n",
       "      outputDiv.innerHTML = `<div class=\"error\" style=\"color:red;\">${err}</div>`;\n",
       "      throw err;\n",
       "    }\n",
       "\n",
       "    function displayChart(vegaEmbed) {\n",
       "      vegaEmbed(outputDiv, spec, embedOpt)\n",
       "        .catch(err => showError(`Javascript Error: ${err.message}<br>This usually means there's a typo in your chart specification. See the javascript console for the full traceback.`));\n",
       "    }\n",
       "\n",
       "    if(typeof define === \"function\" && define.amd) {\n",
       "      requirejs.config({paths});\n",
       "      require([\"vega-embed\"], displayChart, err => showError(`Error loading script: ${err.message}`));\n",
       "    } else if (typeof vegaEmbed === \"function\") {\n",
       "      displayChart(vegaEmbed);\n",
       "    } else {\n",
       "      loadScript(\"vega\")\n",
       "        .then(() => loadScript(\"vega-lite\"))\n",
       "        .then(() => loadScript(\"vega-embed\"))\n",
       "        .catch(showError)\n",
       "        .then(() => displayChart(vegaEmbed));\n",
       "    }\n",
       "  })({\"config\": {\"view\": {\"continuousWidth\": 400, \"continuousHeight\": 300}}, \"layer\": [{\"mark\": {\"type\": \"line\", \"color\": \"red\"}, \"encoding\": {\"x\": {\"type\": \"quantitative\", \"field\": \"K\"}, \"y\": {\"type\": \"quantitative\", \"axis\": {\"titleColor\": \"#5276B7\"}, \"field\": \"Score\", \"title\": \"Score\"}}}, {\"mark\": {\"type\": \"line\", \"color\": \"lightblue\"}, \"encoding\": {\"x\": {\"type\": \"quantitative\", \"field\": \"K\"}, \"y\": {\"type\": \"quantitative\", \"axis\": {\"titleColor\": \"#5276A7\"}, \"field\": \"Accuracy\", \"title\": \"Accuracy\"}}}, {\"mark\": {\"type\": \"line\", \"color\": \"darkblue\"}, \"encoding\": {\"x\": {\"type\": \"quantitative\", \"field\": \"K\"}, \"y\": {\"type\": \"quantitative\", \"axis\": {\"titleColor\": \"#A18727\"}, \"field\": \"Precision\", \"title\": \"Precision\"}}}, {\"mark\": {\"type\": \"line\", \"color\": \"green\"}, \"encoding\": {\"x\": {\"type\": \"quantitative\", \"field\": \"K\"}, \"y\": {\"type\": \"quantitative\", \"axis\": {\"titleColor\": \"#F11111\"}, \"field\": \"Recall\", \"title\": \"Recall\"}}}, {\"mark\": {\"type\": \"line\", \"color\": \"purple\"}, \"encoding\": {\"x\": {\"type\": \"quantitative\", \"field\": \"K\"}, \"y\": {\"type\": \"quantitative\", \"axis\": {\"titleColor\": \"#OOOFFF\"}, \"field\": \"F1\", \"title\": \"F1\"}}}], \"data\": {\"name\": \"data-9dff243574d4958773393f13887e3e13\"}, \"$schema\": \"https://vega.github.io/schema/vega-lite/v4.8.1.json\", \"datasets\": {\"data-9dff243574d4958773393f13887e3e13\": [{\"K\": 3, \"Score\": 0.8707865168539326, \"Accuracy\": 0.8379888268156425, \"Precision\": 0.8983050847457628, \"Recall\": 0.6973684210526315, \"F1\": 0.7851851851851851}, {\"K\": 5, \"Score\": 0.8614232209737828, \"Accuracy\": 0.8156424581005587, \"Precision\": 0.8524590163934426, \"Recall\": 0.6842105263157895, \"F1\": 0.7591240875912408}, {\"K\": 14, \"Score\": 0.8333333333333334, \"Accuracy\": 0.8100558659217877, \"Precision\": 0.92, \"Recall\": 0.6052631578947368, \"F1\": 0.7301587301587301}, {\"K\": 15, \"Score\": 0.8239700374531835, \"Accuracy\": 0.8100558659217877, \"Precision\": 0.875, \"Recall\": 0.6447368421052632, \"F1\": 0.7424242424242424}, {\"K\": 4, \"Score\": 0.8651685393258427, \"Accuracy\": 0.8044692737430168, \"Precision\": 0.9183673469387755, \"Recall\": 0.5921052631578947, \"F1\": 0.72}, {\"K\": 12, \"Score\": 0.8370786516853933, \"Accuracy\": 0.8044692737430168, \"Precision\": 0.9019607843137255, \"Recall\": 0.6052631578947368, \"F1\": 0.7244094488188977}, {\"K\": 7, \"Score\": 0.8426966292134831, \"Accuracy\": 0.7988826815642458, \"Precision\": 0.8571428571428571, \"Recall\": 0.631578947368421, \"F1\": 0.7272727272727273}, {\"K\": 8, \"Score\": 0.8389513108614233, \"Accuracy\": 0.7988826815642458, \"Precision\": 0.9166666666666666, \"Recall\": 0.5789473684210527, \"F1\": 0.7096774193548387}, {\"K\": 13, \"Score\": 0.8277153558052435, \"Accuracy\": 0.7988826815642458, \"Precision\": 0.8571428571428571, \"Recall\": 0.631578947368421, \"F1\": 0.7272727272727273}, {\"K\": 10, \"Score\": 0.8408239700374532, \"Accuracy\": 0.7932960893854749, \"Precision\": 0.8979591836734694, \"Recall\": 0.5789473684210527, \"F1\": 0.704}, {\"K\": 11, \"Score\": 0.8333333333333334, \"Accuracy\": 0.7932960893854749, \"Precision\": 0.8305084745762712, \"Recall\": 0.6447368421052632, \"F1\": 0.7259259259259259}, {\"K\": 6, \"Score\": 0.8539325842696629, \"Accuracy\": 0.7877094972067039, \"Precision\": 0.8653846153846154, \"Recall\": 0.5921052631578947, \"F1\": 0.703125}, {\"K\": 9, \"Score\": 0.8370786516853933, \"Accuracy\": 0.7877094972067039, \"Precision\": 0.8518518518518519, \"Recall\": 0.6052631578947368, \"F1\": 0.7076923076923076}]}}, {\"mode\": \"vega-lite\"});\n",
       "</script>"
      ],
      "text/plain": [
       "alt.LayerChart(...)"
      ]
     },
     "execution_count": 60,
     "metadata": {},
     "output_type": "execute_result"
    }
   ],
   "source": [
    "import altair as alt\n",
    "\n",
    "\n",
    "source = knn_results\n",
    "alt.Chart(source).mark_trail().encode(\n",
    "    y='Score',\n",
    "    x='K',\n",
    "    size='Precision'\n",
    ")\n",
    "base = alt.Chart(source).encode(\n",
    "        alt.X('K')\n",
    ")\n",
    "\n",
    "line_M = base.mark_line(color='red').encode(\n",
    "    alt.Y('Score:Q', axis=alt.Axis(titleColor='#5276B7'),title='Score')\n",
    ")\n",
    "\n",
    "line_A = base.mark_line(color='lightblue').encode(\n",
    "    alt.Y('Accuracy:Q', axis=alt.Axis(titleColor='#5276A7'),title='Accuracy')\n",
    ")\n",
    "\n",
    "line_B = base.mark_line(color='darkblue').encode(\n",
    "    alt.Y('Precision:Q', axis=alt.Axis(titleColor='#A18727'),title='Precision')\n",
    ")\n",
    "\n",
    "line_C = base.mark_line(color='green').encode(\n",
    "    alt.Y('Recall:Q', axis=alt.Axis(titleColor='#F11111'),title='Recall')\n",
    ")\n",
    "\n",
    "line_D = base.mark_line(color='purple').encode(\n",
    "    alt.Y('F1:Q', axis=alt.Axis(titleColor='#OOOFFF'),title='F1')\n",
    ")\n",
    "\n",
    "alt.layer(line_M,line_A, line_B, line_C, line_D)#.resolve_scale(y='independent')"
   ]
  },
  {
   "cell_type": "markdown",
   "metadata": {},
   "source": [
    "## Ideal k value is 3"
   ]
  },
  {
   "cell_type": "code",
   "execution_count": 57,
   "metadata": {},
   "outputs": [
    {
     "name": "stdout",
     "output_type": "stream",
     "text": [
      "Accuracy: 87 % \n",
      "\n",
      "Confusion Matrix in Numbers\n",
      "[[316  27]\n",
      " [ 42 149]]\n",
      "\n",
      "Confusion Matrix in Percentage\n",
      "[[0.92 0.08]\n",
      " [0.22 0.78]]\n",
      "\n",
      "accuracy scores:  [0.81 0.81 0.85 0.83 0.79]\n",
      "Precision scores: [0.74 0.72 0.84 0.78 0.69]\n",
      "Recall scores:    [0.74 0.76 0.71 0.74 0.76]\n",
      "F1 scores:        [0.74 0.74 0.77 0.76 0.72]\n",
      "--------------------------------------\n",
      "Accuracy after 5 Folds:  0.8201728090283901\n",
      "Precision after 5 Folds: 0.7559704159046264\n",
      "Recall after 5 Folds:    0.7434547908232119\n",
      "F1 after 5 Folds:        0.748003663003663\n",
      " \n",
      "---------------------\n"
     ]
    },
    {
     "data": {
      "image/png": "[encoded data removed]",
      "text/plain": [
       "<Figure size 1080x360 with 4 Axes>"
      ]
     },
     "metadata": {},
     "output_type": "display_data"
    }
   ],
   "source": [
    "model_kNN1(X_train,y_train,3) #k=3 is the optimised value."
   ]
  },
  {
   "cell_type": "markdown",
   "metadata": {},
   "source": [
    "## Lets run model against validation data"
   ]
  },
  {
   "cell_type": "code",
   "execution_count": 58,
   "metadata": {},
   "outputs": [
    {
     "name": "stdout",
     "output_type": "stream",
     "text": [
      "Accuracy: 84 % \n",
      "\n",
      "Confusion Matrix in Numbers\n",
      "[[93 10]\n",
      " [17 58]]\n",
      "\n",
      "Confusion Matrix in Percentage\n",
      "[[0.9  0.1 ]\n",
      " [0.23 0.77]]\n",
      "\n",
      "accuracy scores:  [0.78 0.78 0.64 0.54 0.74]\n",
      "Precision scores: [0.73 0.89 0.56 0.47 0.67]\n",
      "Recall scores:    [0.73 0.53 0.6  0.53 0.8 ]\n",
      "F1 scores:        [0.73 0.67 0.58 0.5  0.73]\n",
      "--------------------------------------\n",
      "Accuracy after 5 Folds:  0.696031746031746\n",
      "Precision after 5 Folds: 0.6643954248366013\n",
      "Recall after 5 Folds:    0.64\n",
      "F1 after 5 Folds:        0.6415835777126099\n",
      " \n",
      "---------------------\n"
     ]
    },
    {
     "data": {
      "image/png": "[encoded data removed]",
      "text/plain": [
       "<Figure size 1080x360 with 4 Axes>"
      ]
     },
     "metadata": {},
     "output_type": "display_data"
    }
   ],
   "source": [
    "\n",
    "model_kNN1(X_valid,y_valid,3) #k=3 is the optimised value."
   ]
  },
  {
   "cell_type": "markdown",
   "metadata": {},
   "source": [
    "## Lets run model against test data using k=3"
   ]
  },
  {
   "cell_type": "code",
   "execution_count": 59,
   "metadata": {},
   "outputs": [
    {
     "name": "stdout",
     "output_type": "stream",
     "text": [
      "Accuracy: 87 % \n",
      "\n",
      "Confusion Matrix in Numbers\n",
      "[[93 10]\n",
      " [12 64]]\n",
      "\n",
      "Confusion Matrix in Percentage\n",
      "[[0.9  0.1 ]\n",
      " [0.16 0.84]]\n",
      "\n",
      "accuracy scores:  [0.83 0.69 0.67 0.81 0.83]\n",
      "Precision scores: [0.75 0.61 0.58 0.79 0.85]\n",
      "Recall scores:    [0.94 0.73 0.73 0.73 0.73]\n",
      "F1 scores:        [0.83 0.67 0.65 0.76 0.79]\n",
      "--------------------------------------\n",
      "Accuracy after 5 Folds:  0.7657142857142858\n",
      "Precision after 5 Folds: 0.7143853222800591\n",
      "Recall after 5 Folds:    0.7741666666666667\n",
      "F1 after 5 Folds:        0.7382787597797739\n",
      " \n",
      "---------------------\n"
     ]
    },
    {
     "data": {
      "image/png": "[encoded data removed]",
      "text/plain": [
       "<Figure size 1080x360 with 4 Axes>"
      ]
     },
     "metadata": {},
     "output_type": "display_data"
    }
   ],
   "source": [
    "\n",
    "model_kNN1(X_test,y_test,3) #k=3 is the optimised value."
   ]
  },
  {
   "cell_type": "code",
   "execution_count": null,
   "metadata": {},
   "outputs": [],
   "source": []
  },
  {
   "cell_type": "markdown",
   "metadata": {},
   "source": [
    "## Second Model: AdaBoost "
   ]
  },
  {
   "cell_type": "code",
   "execution_count": 62,
   "metadata": {},
   "outputs": [],
   "source": [
    "def model_AdaBoost(X_train, y_train,m,ne,lr):\n",
    "    clf = AdaBoostClassifier(DecisionTreeClassifier(max_depth=m),n_estimators = ne,learning_rate=lr)  \n",
    "    clf.fit(X_train, y_train)\n",
    "    y_pred_random_forest_training_set = clf.predict(X_train)\n",
    "    acc_random_forest = round(clf.score(X_train, y_train) * 100, 2)\n",
    "    print (\"Accuracy: %i %% \\n\"%acc_random_forest)\n",
    "    \n",
    "    class_names = ['Survived', 'Not Survived']\n",
    "    \n",
    "    # Compute confusion matrix\n",
    "    cnf_matrix = confusion_matrix(y_train, y_pred_random_forest_training_set)\n",
    "    np.set_printoptions(precision=2)\n",
    "    \n",
    "    print ('Confusion Matrix in Numbers')\n",
    "    print (cnf_matrix)\n",
    "    print ('')\n",
    "    \n",
    "    cnf_matrix_percent = cnf_matrix.astype('float') / cnf_matrix.sum(axis=1)[:, np.newaxis]\n",
    "    \n",
    "    print ('Confusion Matrix in Percentage')\n",
    "    print (cnf_matrix_percent)\n",
    "    print ('')\n",
    "    \n",
    "    ### -- scoring\n",
    "    adaacc_scores = cross_val_score(clf, X_train, y_train, cv=5, scoring='accuracy')\n",
    "    adapre_scores = cross_val_score(clf, X_train, y_train, cv=5, scoring='precision')\n",
    "    adarecall_scores = cross_val_score(clf, X_train, y_train, cv=5, scoring='recall')\n",
    "    adaf1_scores = cross_val_score(clf, X_train, y_train, cv=5, scoring='f1')\n",
    "    # print all 5 times scores \n",
    "    print(f'accuracy scores:  {adaacc_scores}')\n",
    "    print(f'Precision scores: {adapre_scores}')\n",
    "    print(f'Recall scores:    {adarecall_scores}')\n",
    "    print(f'F1 scores:        {adaf1_scores}')\n",
    "    print('--------------------------------------')\n",
    "    # average the scores to get a more accurate score\n",
    "    print(f'Accuracy after 5 Folds:  {adaacc_scores.mean()}')\n",
    "    print(f'Precision after 5 Folds: {adapre_scores.mean()}')\n",
    "    print(f'Recall after 5 Folds:    {adarecall_scores.mean()}')\n",
    "    print(f'F1 after 5 Folds:        {adaf1_scores.mean()}')    \n",
    "    print(' ')\n",
    "    ### -- end scoring\n",
    "    print('---------------------')      \n",
    "    \n",
    "    true_class_names = ['True Survived', 'True Not Survived']\n",
    "    predicted_class_names = ['Predicted Survived', 'Predicted Not Survived']\n",
    "    \n",
    "    df_cnf_matrix = pd.DataFrame(cnf_matrix, \n",
    "                                 index = true_class_names,\n",
    "                                 columns = predicted_class_names)\n",
    "    \n",
    "    df_cnf_matrix_percent = pd.DataFrame(cnf_matrix_percent, \n",
    "                                         index = true_class_names,\n",
    "                                         columns = predicted_class_names)\n",
    "    \n",
    "    plt.figure(figsize = (15,5))\n",
    "    \n",
    "    plt.subplot(121)\n",
    "    sns.heatmap(df_cnf_matrix, annot=True, fmt='d')\n",
    "    \n",
    "    plt.subplot(122)\n",
    "    sns.heatmap(df_cnf_matrix_percent, annot=True)"
   ]
  },
  {
   "cell_type": "markdown",
   "metadata": {},
   "source": [
    "## Run the model on Training data using default values for hyperparameters"
   ]
  },
  {
   "cell_type": "code",
   "execution_count": 63,
   "metadata": {},
   "outputs": [
    {
     "name": "stdout",
     "output_type": "stream",
     "text": [
      "Accuracy: 83 % \n",
      "\n",
      "Confusion Matrix in Numbers\n",
      "[[304  39]\n",
      " [ 47 144]]\n",
      "\n",
      "Confusion Matrix in Percentage\n",
      "[[0.89 0.11]\n",
      " [0.25 0.75]]\n",
      "\n",
      "accuracy scores:  [0.79 0.83 0.78 0.82 0.75]\n",
      "Precision scores: [0.71 0.76 0.73 0.76 0.65]\n",
      "Recall scores:    [0.66 0.76 0.58 0.74 0.68]\n",
      "F1 scores:        [0.68 0.76 0.65 0.75 0.67]\n",
      "--------------------------------------\n",
      "Accuracy after 5 Folds:  0.7939340504320226\n",
      "Precision after 5 Folds: 0.7247869674185463\n",
      "Recall after 5 Folds:    0.6855600539811066\n",
      "F1 after 5 Folds:        0.7030123290057977\n",
      " \n",
      "---------------------\n"
     ]
    },
    {
     "data": {
      "image/png": "[encoded data removed]",
      "text/plain": [
       "<Figure size 1080x360 with 4 Axes>"
      ]
     },
     "metadata": {},
     "output_type": "display_data"
    }
   ],
   "source": [
    "model_AdaBoost(X_train, y_train,1,50,1)"
   ]
  },
  {
   "cell_type": "markdown",
   "metadata": {},
   "source": [
    "## Fine Tuning Model with Hyperparameters n_esitmators, learning_rate and max_depth"
   ]
  },
  {
   "cell_type": "code",
   "execution_count": null,
   "metadata": {},
   "outputs": [],
   "source": [
    "def tune_ada_estimators(X_train,y_train):\n",
    "    from sklearn.ensemble import AdaBoostClassifier\n",
    "    \n",
    "    \n",
    "    \n",
    "    scores_dict = {}\n",
    "    scores_df = pd.DataFrame()\n",
    "    n_esti = []\n",
    "    acc_lst = []\n",
    "    score_lst = []\n",
    "    precision_lst = []\n",
    "    recall_lst = []\n",
    "    f1_lst = []\n",
    "    for n in range(50,900,50):\n",
    " \n",
    "        adaBoost = AdaBoostClassifier(DecisionTreeClassifier(max_depth=1), n_estimators=n)\n",
    "        adaBoost.fit(X_train, y_train)\n",
    "        ### -- scoring\n",
    "        adaacc_scores = cross_val_score(adaBoost, X_train, y_train, cv=5, scoring='accuracy')\n",
    "        adapre_scores = cross_val_score(adaBoost, X_train, y_train, cv=5, scoring='precision')\n",
    "        adarecall_scores = cross_val_score(adaBoost, X_train, y_train, cv=5, scoring='recall')\n",
    "        adaf1_scores = cross_val_score(adaBoost, X_train, y_train, cv=5, scoring='f1')\n",
    "    \n",
    "        n_esti.append(n)\n",
    "        score_lst.append(adaBoost.score(X_train, y_train))\n",
    "        acc_lst.append(adaacc_scores.mean())\n",
    "        precision_lst.append(adapre_scores.mean())\n",
    "        recall_lst.append(adarecall_scores.mean())\n",
    "        f1_lst.append( adaf1_scores.mean() )\n",
    "  \n",
    "        #scores_df.append(scores_dict,ignore_index=True)\n",
    "    # dictionary of lists \n",
    "    dict = {'n_estimators': n_esti, \n",
    "            'Score': score_lst,\n",
    "            'Accuracy': acc_lst,\n",
    "            'Precision':precision_lst,\n",
    "            'Recall': recall_lst,\n",
    "            'F1': f1_lst}  \n",
    "    df_ada = pd.DataFrame(dict) \n",
    "    df_ada.sort_values(by='Score', ascending = False, inplace=True)\n",
    "    return df_ada\n",
    "\n",
    "def tune_ada_learners(X_train,y_train,estimators):\n",
    "    from sklearn.ensemble import AdaBoostClassifier\n",
    "    \n",
    "    \n",
    "    \n",
    "    scores_dict = {}\n",
    "    scores_df = pd.DataFrame()\n",
    "    leaners = []\n",
    "    acc_lst = []\n",
    "    score_lst = []\n",
    "    precision_lst = []\n",
    "    recall_lst = []\n",
    "    f1_lst = []\n",
    "    for n in range(1,11,1):\n",
    " \n",
    "        adaBoost = AdaBoostClassifier(DecisionTreeClassifier(max_depth=n), n_estimators=estimators)\n",
    "        adaBoost.fit(X_train, y_train)\n",
    "        \n",
    "        leaners.append(n)\n",
    "        ### -- scoring\n",
    "        adaacc_scores = cross_val_score(adaBoost, X_train, y_train, cv=5, scoring='accuracy')\n",
    "        adapre_scores = cross_val_score(adaBoost, X_train, y_train, cv=5, scoring='precision')\n",
    "        adarecall_scores = cross_val_score(adaBoost, X_train, y_train, cv=5, scoring='recall')\n",
    "        adaf1_scores = cross_val_score(adaBoost, X_train, y_train, cv=5, scoring='f1')\n",
    "    \n",
    "\n",
    "        score_lst.append(adaBoost.score(X_train, y_train))\n",
    "        acc_lst.append(adaacc_scores.mean())\n",
    "        precision_lst.append(adapre_scores.mean())\n",
    "        recall_lst.append(adarecall_scores.mean())\n",
    "        f1_lst.append( adaf1_scores.mean() )\n",
    "  \n",
    "        #scores_df.append(scores_dict,ignore_index=True)\n",
    "    # dictionary of lists \n",
    "    dict = {'Learners':leaners,\n",
    "            'Score': score_lst,\n",
    "            'Accuracy': acc_lst,\n",
    "            'Precision':precision_lst,\n",
    "            'Recall': recall_lst,\n",
    "            'F1': f1_lst}   \n",
    "    df_ada_learn = pd.DataFrame(dict) \n",
    "    df_ada_learn.sort_values(by='Score', ascending = False, inplace=True)\n",
    "    return df_ada_learn\n",
    "\n",
    "def tune_ada_learn_rate(X_train,y_train,estimators,learners):\n",
    "    from sklearn.ensemble import AdaBoostClassifier\n",
    "    \n",
    "    \n",
    "    \n",
    "    scores_dict = {}\n",
    "    scores_df = pd.DataFrame()\n",
    "    learn_rate = []\n",
    "    acc_lst = []\n",
    "    score_lst = []\n",
    "    precision_lst = []\n",
    "    recall_lst = []\n",
    "    f1_lst = []\n",
    "    for n in arange(0.1, 2.1, 0.1):\n",
    " \n",
    "        adaBoost = AdaBoostClassifier(DecisionTreeClassifier(max_depth=learners), \n",
    "                                      n_estimators=estimators,\n",
    "                                     learning_rate=n)\n",
    "        adaBoost.fit(X_train, y_train)\n",
    "        \n",
    "        learn_rate.append(n)\n",
    "        ### -- scoring\n",
    "        adaacc_scores = cross_val_score(adaBoost, X_train, y_train, cv=5, scoring='accuracy')\n",
    "        adapre_scores = cross_val_score(adaBoost, X_train, y_train, cv=5, scoring='precision')\n",
    "        adarecall_scores = cross_val_score(adaBoost, X_train, y_train, cv=5, scoring='recall')\n",
    "        adaf1_scores = cross_val_score(adaBoost, X_train, y_train, cv=5, scoring='f1')\n",
    "    \n",
    "   \n",
    "        score_lst.append(adaBoost.score(X_train, y_train))\n",
    "        acc_lst.append(adaacc_scores.mean())\n",
    "        precision_lst.append(adapre_scores.mean())\n",
    "        recall_lst.append(adarecall_scores.mean())\n",
    "        f1_lst.append( adaf1_scores.mean() )\n",
    "  \n",
    "  \n",
    "        #scores_df.append(scores_dict,ignore_index=True)\n",
    "    # dictionary of lists \n",
    "    dict = {'Learn_Rate': learn_rate, \n",
    "            'Score': score_lst,\n",
    "            'Accuracy': acc_lst,\n",
    "            'Precision':precision_lst,\n",
    "            'Recall': recall_lst,\n",
    "            'F1': f1_lst}  \n",
    "    df_ada_learn_rate = pd.DataFrame(dict) \n",
    "    df_ada_learn_rate.sort_values(by='Score', ascending = False, inplace=True)\n",
    "    return df_ada_learn_rate"
   ]
  },
  {
   "cell_type": "code",
   "execution_count": 143,
   "metadata": {},
   "outputs": [
    {
     "data": {
      "text/html": [
       "<style  type=\"text/css\" >\n",
       "#T_ebae21f0_5d76_11ec_9a53_acde48001122row0_col0,#T_ebae21f0_5d76_11ec_9a53_acde48001122row0_col1,#T_ebae21f0_5d76_11ec_9a53_acde48001122row5_col4,#T_ebae21f0_5d76_11ec_9a53_acde48001122row6_col2,#T_ebae21f0_5d76_11ec_9a53_acde48001122row6_col3,#T_ebae21f0_5d76_11ec_9a53_acde48001122row6_col5,#T_ebae21f0_5d76_11ec_9a53_acde48001122row7_col4{\n",
       "            background-color:  lightgreen;\n",
       "        }#T_ebae21f0_5d76_11ec_9a53_acde48001122row11_col4,#T_ebae21f0_5d76_11ec_9a53_acde48001122row12_col4,#T_ebae21f0_5d76_11ec_9a53_acde48001122row16_col0,#T_ebae21f0_5d76_11ec_9a53_acde48001122row16_col1,#T_ebae21f0_5d76_11ec_9a53_acde48001122row16_col2,#T_ebae21f0_5d76_11ec_9a53_acde48001122row16_col3,#T_ebae21f0_5d76_11ec_9a53_acde48001122row16_col5{\n",
       "            background-color:  coral;\n",
       "        }</style><table id=\"T_ebae21f0_5d76_11ec_9a53_acde48001122\" ><thead>    <tr>        <th class=\"blank level0\" ></th>        <th class=\"col_heading level0 col0\" >n_estimators</th>        <th class=\"col_heading level0 col1\" >Score</th>        <th class=\"col_heading level0 col2\" >Accuracy</th>        <th class=\"col_heading level0 col3\" >Precision</th>        <th class=\"col_heading level0 col4\" >Recall</th>        <th class=\"col_heading level0 col5\" >F1</th>    </tr></thead><tbody>\n",
       "                <tr>\n",
       "                        <th id=\"T_ebae21f0_5d76_11ec_9a53_acde48001122level0_row0\" class=\"row_heading level0 row0\" >16</th>\n",
       "                        <td id=\"T_ebae21f0_5d76_11ec_9a53_acde48001122row0_col0\" class=\"data row0 col0\" >850.00</td>\n",
       "                        <td id=\"T_ebae21f0_5d76_11ec_9a53_acde48001122row0_col1\" class=\"data row0 col1\" >0.90</td>\n",
       "                        <td id=\"T_ebae21f0_5d76_11ec_9a53_acde48001122row0_col2\" class=\"data row0 col2\" >0.80</td>\n",
       "                        <td id=\"T_ebae21f0_5d76_11ec_9a53_acde48001122row0_col3\" class=\"data row0 col3\" >0.73</td>\n",
       "                        <td id=\"T_ebae21f0_5d76_11ec_9a53_acde48001122row0_col4\" class=\"data row0 col4\" >0.72</td>\n",
       "                        <td id=\"T_ebae21f0_5d76_11ec_9a53_acde48001122row0_col5\" class=\"data row0 col5\" >0.72</td>\n",
       "            </tr>\n",
       "            <tr>\n",
       "                        <th id=\"T_ebae21f0_5d76_11ec_9a53_acde48001122level0_row1\" class=\"row_heading level0 row1\" >9</th>\n",
       "                        <td id=\"T_ebae21f0_5d76_11ec_9a53_acde48001122row1_col0\" class=\"data row1 col0\" >500.00</td>\n",
       "                        <td id=\"T_ebae21f0_5d76_11ec_9a53_acde48001122row1_col1\" class=\"data row1 col1\" >0.89</td>\n",
       "                        <td id=\"T_ebae21f0_5d76_11ec_9a53_acde48001122row1_col2\" class=\"data row1 col2\" >0.81</td>\n",
       "                        <td id=\"T_ebae21f0_5d76_11ec_9a53_acde48001122row1_col3\" class=\"data row1 col3\" >0.74</td>\n",
       "                        <td id=\"T_ebae21f0_5d76_11ec_9a53_acde48001122row1_col4\" class=\"data row1 col4\" >0.71</td>\n",
       "                        <td id=\"T_ebae21f0_5d76_11ec_9a53_acde48001122row1_col5\" class=\"data row1 col5\" >0.72</td>\n",
       "            </tr>\n",
       "            <tr>\n",
       "                        <th id=\"T_ebae21f0_5d76_11ec_9a53_acde48001122level0_row2\" class=\"row_heading level0 row2\" >15</th>\n",
       "                        <td id=\"T_ebae21f0_5d76_11ec_9a53_acde48001122row2_col0\" class=\"data row2 col0\" >800.00</td>\n",
       "                        <td id=\"T_ebae21f0_5d76_11ec_9a53_acde48001122row2_col1\" class=\"data row2 col1\" >0.89</td>\n",
       "                        <td id=\"T_ebae21f0_5d76_11ec_9a53_acde48001122row2_col2\" class=\"data row2 col2\" >0.80</td>\n",
       "                        <td id=\"T_ebae21f0_5d76_11ec_9a53_acde48001122row2_col3\" class=\"data row2 col3\" >0.73</td>\n",
       "                        <td id=\"T_ebae21f0_5d76_11ec_9a53_acde48001122row2_col4\" class=\"data row2 col4\" >0.71</td>\n",
       "                        <td id=\"T_ebae21f0_5d76_11ec_9a53_acde48001122row2_col5\" class=\"data row2 col5\" >0.72</td>\n",
       "            </tr>\n",
       "            <tr>\n",
       "                        <th id=\"T_ebae21f0_5d76_11ec_9a53_acde48001122level0_row3\" class=\"row_heading level0 row3\" >13</th>\n",
       "                        <td id=\"T_ebae21f0_5d76_11ec_9a53_acde48001122row3_col0\" class=\"data row3 col0\" >700.00</td>\n",
       "                        <td id=\"T_ebae21f0_5d76_11ec_9a53_acde48001122row3_col1\" class=\"data row3 col1\" >0.89</td>\n",
       "                        <td id=\"T_ebae21f0_5d76_11ec_9a53_acde48001122row3_col2\" class=\"data row3 col2\" >0.80</td>\n",
       "                        <td id=\"T_ebae21f0_5d76_11ec_9a53_acde48001122row3_col3\" class=\"data row3 col3\" >0.73</td>\n",
       "                        <td id=\"T_ebae21f0_5d76_11ec_9a53_acde48001122row3_col4\" class=\"data row3 col4\" >0.71</td>\n",
       "                        <td id=\"T_ebae21f0_5d76_11ec_9a53_acde48001122row3_col5\" class=\"data row3 col5\" >0.72</td>\n",
       "            </tr>\n",
       "            <tr>\n",
       "                        <th id=\"T_ebae21f0_5d76_11ec_9a53_acde48001122level0_row4\" class=\"row_heading level0 row4\" >14</th>\n",
       "                        <td id=\"T_ebae21f0_5d76_11ec_9a53_acde48001122row4_col0\" class=\"data row4 col0\" >750.00</td>\n",
       "                        <td id=\"T_ebae21f0_5d76_11ec_9a53_acde48001122row4_col1\" class=\"data row4 col1\" >0.89</td>\n",
       "                        <td id=\"T_ebae21f0_5d76_11ec_9a53_acde48001122row4_col2\" class=\"data row4 col2\" >0.80</td>\n",
       "                        <td id=\"T_ebae21f0_5d76_11ec_9a53_acde48001122row4_col3\" class=\"data row4 col3\" >0.73</td>\n",
       "                        <td id=\"T_ebae21f0_5d76_11ec_9a53_acde48001122row4_col4\" class=\"data row4 col4\" >0.72</td>\n",
       "                        <td id=\"T_ebae21f0_5d76_11ec_9a53_acde48001122row4_col5\" class=\"data row4 col5\" >0.72</td>\n",
       "            </tr>\n",
       "            <tr>\n",
       "                        <th id=\"T_ebae21f0_5d76_11ec_9a53_acde48001122level0_row5\" class=\"row_heading level0 row5\" >12</th>\n",
       "                        <td id=\"T_ebae21f0_5d76_11ec_9a53_acde48001122row5_col0\" class=\"data row5 col0\" >650.00</td>\n",
       "                        <td id=\"T_ebae21f0_5d76_11ec_9a53_acde48001122row5_col1\" class=\"data row5 col1\" >0.89</td>\n",
       "                        <td id=\"T_ebae21f0_5d76_11ec_9a53_acde48001122row5_col2\" class=\"data row5 col2\" >0.81</td>\n",
       "                        <td id=\"T_ebae21f0_5d76_11ec_9a53_acde48001122row5_col3\" class=\"data row5 col3\" >0.74</td>\n",
       "                        <td id=\"T_ebae21f0_5d76_11ec_9a53_acde48001122row5_col4\" class=\"data row5 col4\" >0.73</td>\n",
       "                        <td id=\"T_ebae21f0_5d76_11ec_9a53_acde48001122row5_col5\" class=\"data row5 col5\" >0.73</td>\n",
       "            </tr>\n",
       "            <tr>\n",
       "                        <th id=\"T_ebae21f0_5d76_11ec_9a53_acde48001122level0_row6\" class=\"row_heading level0 row6\" >11</th>\n",
       "                        <td id=\"T_ebae21f0_5d76_11ec_9a53_acde48001122row6_col0\" class=\"data row6 col0\" >600.00</td>\n",
       "                        <td id=\"T_ebae21f0_5d76_11ec_9a53_acde48001122row6_col1\" class=\"data row6 col1\" >0.89</td>\n",
       "                        <td id=\"T_ebae21f0_5d76_11ec_9a53_acde48001122row6_col2\" class=\"data row6 col2\" >0.81</td>\n",
       "                        <td id=\"T_ebae21f0_5d76_11ec_9a53_acde48001122row6_col3\" class=\"data row6 col3\" >0.75</td>\n",
       "                        <td id=\"T_ebae21f0_5d76_11ec_9a53_acde48001122row6_col4\" class=\"data row6 col4\" >0.73</td>\n",
       "                        <td id=\"T_ebae21f0_5d76_11ec_9a53_acde48001122row6_col5\" class=\"data row6 col5\" >0.73</td>\n",
       "            </tr>\n",
       "            <tr>\n",
       "                        <th id=\"T_ebae21f0_5d76_11ec_9a53_acde48001122level0_row7\" class=\"row_heading level0 row7\" >10</th>\n",
       "                        <td id=\"T_ebae21f0_5d76_11ec_9a53_acde48001122row7_col0\" class=\"data row7 col0\" >550.00</td>\n",
       "                        <td id=\"T_ebae21f0_5d76_11ec_9a53_acde48001122row7_col1\" class=\"data row7 col1\" >0.89</td>\n",
       "                        <td id=\"T_ebae21f0_5d76_11ec_9a53_acde48001122row7_col2\" class=\"data row7 col2\" >0.81</td>\n",
       "                        <td id=\"T_ebae21f0_5d76_11ec_9a53_acde48001122row7_col3\" class=\"data row7 col3\" >0.74</td>\n",
       "                        <td id=\"T_ebae21f0_5d76_11ec_9a53_acde48001122row7_col4\" class=\"data row7 col4\" >0.73</td>\n",
       "                        <td id=\"T_ebae21f0_5d76_11ec_9a53_acde48001122row7_col5\" class=\"data row7 col5\" >0.73</td>\n",
       "            </tr>\n",
       "            <tr>\n",
       "                        <th id=\"T_ebae21f0_5d76_11ec_9a53_acde48001122level0_row8\" class=\"row_heading level0 row8\" >8</th>\n",
       "                        <td id=\"T_ebae21f0_5d76_11ec_9a53_acde48001122row8_col0\" class=\"data row8 col0\" >450.00</td>\n",
       "                        <td id=\"T_ebae21f0_5d76_11ec_9a53_acde48001122row8_col1\" class=\"data row8 col1\" >0.88</td>\n",
       "                        <td id=\"T_ebae21f0_5d76_11ec_9a53_acde48001122row8_col2\" class=\"data row8 col2\" >0.81</td>\n",
       "                        <td id=\"T_ebae21f0_5d76_11ec_9a53_acde48001122row8_col3\" class=\"data row8 col3\" >0.74</td>\n",
       "                        <td id=\"T_ebae21f0_5d76_11ec_9a53_acde48001122row8_col4\" class=\"data row8 col4\" >0.72</td>\n",
       "                        <td id=\"T_ebae21f0_5d76_11ec_9a53_acde48001122row8_col5\" class=\"data row8 col5\" >0.73</td>\n",
       "            </tr>\n",
       "            <tr>\n",
       "                        <th id=\"T_ebae21f0_5d76_11ec_9a53_acde48001122level0_row9\" class=\"row_heading level0 row9\" >7</th>\n",
       "                        <td id=\"T_ebae21f0_5d76_11ec_9a53_acde48001122row9_col0\" class=\"data row9 col0\" >400.00</td>\n",
       "                        <td id=\"T_ebae21f0_5d76_11ec_9a53_acde48001122row9_col1\" class=\"data row9 col1\" >0.88</td>\n",
       "                        <td id=\"T_ebae21f0_5d76_11ec_9a53_acde48001122row9_col2\" class=\"data row9 col2\" >0.80</td>\n",
       "                        <td id=\"T_ebae21f0_5d76_11ec_9a53_acde48001122row9_col3\" class=\"data row9 col3\" >0.74</td>\n",
       "                        <td id=\"T_ebae21f0_5d76_11ec_9a53_acde48001122row9_col4\" class=\"data row9 col4\" >0.70</td>\n",
       "                        <td id=\"T_ebae21f0_5d76_11ec_9a53_acde48001122row9_col5\" class=\"data row9 col5\" >0.71</td>\n",
       "            </tr>\n",
       "            <tr>\n",
       "                        <th id=\"T_ebae21f0_5d76_11ec_9a53_acde48001122level0_row10\" class=\"row_heading level0 row10\" >6</th>\n",
       "                        <td id=\"T_ebae21f0_5d76_11ec_9a53_acde48001122row10_col0\" class=\"data row10 col0\" >350.00</td>\n",
       "                        <td id=\"T_ebae21f0_5d76_11ec_9a53_acde48001122row10_col1\" class=\"data row10 col1\" >0.88</td>\n",
       "                        <td id=\"T_ebae21f0_5d76_11ec_9a53_acde48001122row10_col2\" class=\"data row10 col2\" >0.80</td>\n",
       "                        <td id=\"T_ebae21f0_5d76_11ec_9a53_acde48001122row10_col3\" class=\"data row10 col3\" >0.74</td>\n",
       "                        <td id=\"T_ebae21f0_5d76_11ec_9a53_acde48001122row10_col4\" class=\"data row10 col4\" >0.70</td>\n",
       "                        <td id=\"T_ebae21f0_5d76_11ec_9a53_acde48001122row10_col5\" class=\"data row10 col5\" >0.71</td>\n",
       "            </tr>\n",
       "            <tr>\n",
       "                        <th id=\"T_ebae21f0_5d76_11ec_9a53_acde48001122level0_row11\" class=\"row_heading level0 row11\" >5</th>\n",
       "                        <td id=\"T_ebae21f0_5d76_11ec_9a53_acde48001122row11_col0\" class=\"data row11 col0\" >300.00</td>\n",
       "                        <td id=\"T_ebae21f0_5d76_11ec_9a53_acde48001122row11_col1\" class=\"data row11 col1\" >0.88</td>\n",
       "                        <td id=\"T_ebae21f0_5d76_11ec_9a53_acde48001122row11_col2\" class=\"data row11 col2\" >0.80</td>\n",
       "                        <td id=\"T_ebae21f0_5d76_11ec_9a53_acde48001122row11_col3\" class=\"data row11 col3\" >0.73</td>\n",
       "                        <td id=\"T_ebae21f0_5d76_11ec_9a53_acde48001122row11_col4\" class=\"data row11 col4\" >0.68</td>\n",
       "                        <td id=\"T_ebae21f0_5d76_11ec_9a53_acde48001122row11_col5\" class=\"data row11 col5\" >0.70</td>\n",
       "            </tr>\n",
       "            <tr>\n",
       "                        <th id=\"T_ebae21f0_5d76_11ec_9a53_acde48001122level0_row12\" class=\"row_heading level0 row12\" >1</th>\n",
       "                        <td id=\"T_ebae21f0_5d76_11ec_9a53_acde48001122row12_col0\" class=\"data row12 col0\" >100.00</td>\n",
       "                        <td id=\"T_ebae21f0_5d76_11ec_9a53_acde48001122row12_col1\" class=\"data row12 col1\" >0.87</td>\n",
       "                        <td id=\"T_ebae21f0_5d76_11ec_9a53_acde48001122row12_col2\" class=\"data row12 col2\" >0.80</td>\n",
       "                        <td id=\"T_ebae21f0_5d76_11ec_9a53_acde48001122row12_col3\" class=\"data row12 col3\" >0.74</td>\n",
       "                        <td id=\"T_ebae21f0_5d76_11ec_9a53_acde48001122row12_col4\" class=\"data row12 col4\" >0.68</td>\n",
       "                        <td id=\"T_ebae21f0_5d76_11ec_9a53_acde48001122row12_col5\" class=\"data row12 col5\" >0.71</td>\n",
       "            </tr>\n",
       "            <tr>\n",
       "                        <th id=\"T_ebae21f0_5d76_11ec_9a53_acde48001122level0_row13\" class=\"row_heading level0 row13\" >4</th>\n",
       "                        <td id=\"T_ebae21f0_5d76_11ec_9a53_acde48001122row13_col0\" class=\"data row13 col0\" >250.00</td>\n",
       "                        <td id=\"T_ebae21f0_5d76_11ec_9a53_acde48001122row13_col1\" class=\"data row13 col1\" >0.87</td>\n",
       "                        <td id=\"T_ebae21f0_5d76_11ec_9a53_acde48001122row13_col2\" class=\"data row13 col2\" >0.80</td>\n",
       "                        <td id=\"T_ebae21f0_5d76_11ec_9a53_acde48001122row13_col3\" class=\"data row13 col3\" >0.73</td>\n",
       "                        <td id=\"T_ebae21f0_5d76_11ec_9a53_acde48001122row13_col4\" class=\"data row13 col4\" >0.69</td>\n",
       "                        <td id=\"T_ebae21f0_5d76_11ec_9a53_acde48001122row13_col5\" class=\"data row13 col5\" >0.71</td>\n",
       "            </tr>\n",
       "            <tr>\n",
       "                        <th id=\"T_ebae21f0_5d76_11ec_9a53_acde48001122level0_row14\" class=\"row_heading level0 row14\" >3</th>\n",
       "                        <td id=\"T_ebae21f0_5d76_11ec_9a53_acde48001122row14_col0\" class=\"data row14 col0\" >200.00</td>\n",
       "                        <td id=\"T_ebae21f0_5d76_11ec_9a53_acde48001122row14_col1\" class=\"data row14 col1\" >0.86</td>\n",
       "                        <td id=\"T_ebae21f0_5d76_11ec_9a53_acde48001122row14_col2\" class=\"data row14 col2\" >0.80</td>\n",
       "                        <td id=\"T_ebae21f0_5d76_11ec_9a53_acde48001122row14_col3\" class=\"data row14 col3\" >0.74</td>\n",
       "                        <td id=\"T_ebae21f0_5d76_11ec_9a53_acde48001122row14_col4\" class=\"data row14 col4\" >0.69</td>\n",
       "                        <td id=\"T_ebae21f0_5d76_11ec_9a53_acde48001122row14_col5\" class=\"data row14 col5\" >0.71</td>\n",
       "            </tr>\n",
       "            <tr>\n",
       "                        <th id=\"T_ebae21f0_5d76_11ec_9a53_acde48001122level0_row15\" class=\"row_heading level0 row15\" >2</th>\n",
       "                        <td id=\"T_ebae21f0_5d76_11ec_9a53_acde48001122row15_col0\" class=\"data row15 col0\" >150.00</td>\n",
       "                        <td id=\"T_ebae21f0_5d76_11ec_9a53_acde48001122row15_col1\" class=\"data row15 col1\" >0.86</td>\n",
       "                        <td id=\"T_ebae21f0_5d76_11ec_9a53_acde48001122row15_col2\" class=\"data row15 col2\" >0.80</td>\n",
       "                        <td id=\"T_ebae21f0_5d76_11ec_9a53_acde48001122row15_col3\" class=\"data row15 col3\" >0.74</td>\n",
       "                        <td id=\"T_ebae21f0_5d76_11ec_9a53_acde48001122row15_col4\" class=\"data row15 col4\" >0.69</td>\n",
       "                        <td id=\"T_ebae21f0_5d76_11ec_9a53_acde48001122row15_col5\" class=\"data row15 col5\" >0.71</td>\n",
       "            </tr>\n",
       "            <tr>\n",
       "                        <th id=\"T_ebae21f0_5d76_11ec_9a53_acde48001122level0_row16\" class=\"row_heading level0 row16\" >0</th>\n",
       "                        <td id=\"T_ebae21f0_5d76_11ec_9a53_acde48001122row16_col0\" class=\"data row16 col0\" >50.00</td>\n",
       "                        <td id=\"T_ebae21f0_5d76_11ec_9a53_acde48001122row16_col1\" class=\"data row16 col1\" >0.84</td>\n",
       "                        <td id=\"T_ebae21f0_5d76_11ec_9a53_acde48001122row16_col2\" class=\"data row16 col2\" >0.79</td>\n",
       "                        <td id=\"T_ebae21f0_5d76_11ec_9a53_acde48001122row16_col3\" class=\"data row16 col3\" >0.72</td>\n",
       "                        <td id=\"T_ebae21f0_5d76_11ec_9a53_acde48001122row16_col4\" class=\"data row16 col4\" >0.69</td>\n",
       "                        <td id=\"T_ebae21f0_5d76_11ec_9a53_acde48001122row16_col5\" class=\"data row16 col5\" >0.70</td>\n",
       "            </tr>\n",
       "    </tbody></table>"
      ],
      "text/plain": [
       "<pandas.io.formats.style.Styler at 0x7ff20901d280>"
      ]
     },
     "execution_count": 143,
     "metadata": {},
     "output_type": "execute_result"
    }
   ],
   "source": [
    "ada_results = tune_ada_estimators(X_train,y_train)\n",
    "\n",
    "ada_results.style\\\n",
    "      .format('{:.2f}')\\\n",
    "      .highlight_max(color = 'lightgreen')\\\n",
    "      .highlight_min(color = 'coral')\\\n",
    "      .highlight_null(null_color='yellow')"
   ]
  },
  {
   "cell_type": "code",
   "execution_count": 126,
   "metadata": {},
   "outputs": [
    {
     "data": {
      "text/html": [
       "<style  type=\"text/css\" >\n",
       "#T_ff682636_5d72_11ec_9a53_acde48001122row0_col1,#T_ff682636_5d72_11ec_9a53_acde48001122row1_col1,#T_ff682636_5d72_11ec_9a53_acde48001122row2_col1,#T_ff682636_5d72_11ec_9a53_acde48001122row3_col1,#T_ff682636_5d72_11ec_9a53_acde48001122row4_col1,#T_ff682636_5d72_11ec_9a53_acde48001122row5_col1,#T_ff682636_5d72_11ec_9a53_acde48001122row6_col1,#T_ff682636_5d72_11ec_9a53_acde48001122row6_col3,#T_ff682636_5d72_11ec_9a53_acde48001122row7_col1,#T_ff682636_5d72_11ec_9a53_acde48001122row8_col0,#T_ff682636_5d72_11ec_9a53_acde48001122row8_col1,#T_ff682636_5d72_11ec_9a53_acde48001122row9_col2,#T_ff682636_5d72_11ec_9a53_acde48001122row9_col4,#T_ff682636_5d72_11ec_9a53_acde48001122row9_col5{\n",
       "            background-color:  lightgreen;\n",
       "        }#T_ff682636_5d72_11ec_9a53_acde48001122row1_col2,#T_ff682636_5d72_11ec_9a53_acde48001122row2_col5,#T_ff682636_5d72_11ec_9a53_acde48001122row4_col3,#T_ff682636_5d72_11ec_9a53_acde48001122row5_col4,#T_ff682636_5d72_11ec_9a53_acde48001122row9_col0,#T_ff682636_5d72_11ec_9a53_acde48001122row9_col1{\n",
       "            background-color:  coral;\n",
       "        }</style><table id=\"T_ff682636_5d72_11ec_9a53_acde48001122\" ><thead>    <tr>        <th class=\"blank level0\" ></th>        <th class=\"col_heading level0 col0\" >Learners</th>        <th class=\"col_heading level0 col1\" >Score</th>        <th class=\"col_heading level0 col2\" >Accuracy</th>        <th class=\"col_heading level0 col3\" >Precision</th>        <th class=\"col_heading level0 col4\" >Recall</th>        <th class=\"col_heading level0 col5\" >F1</th>    </tr></thead><tbody>\n",
       "                <tr>\n",
       "                        <th id=\"T_ff682636_5d72_11ec_9a53_acde48001122level0_row0\" class=\"row_heading level0 row0\" >1</th>\n",
       "                        <td id=\"T_ff682636_5d72_11ec_9a53_acde48001122row0_col0\" class=\"data row0 col0\" >2.00</td>\n",
       "                        <td id=\"T_ff682636_5d72_11ec_9a53_acde48001122row0_col1\" class=\"data row0 col1\" >0.95</td>\n",
       "                        <td id=\"T_ff682636_5d72_11ec_9a53_acde48001122row0_col2\" class=\"data row0 col2\" >0.77</td>\n",
       "                        <td id=\"T_ff682636_5d72_11ec_9a53_acde48001122row0_col3\" class=\"data row0 col3\" >0.70</td>\n",
       "                        <td id=\"T_ff682636_5d72_11ec_9a53_acde48001122row0_col4\" class=\"data row0 col4\" >0.69</td>\n",
       "                        <td id=\"T_ff682636_5d72_11ec_9a53_acde48001122row0_col5\" class=\"data row0 col5\" >0.69</td>\n",
       "            </tr>\n",
       "            <tr>\n",
       "                        <th id=\"T_ff682636_5d72_11ec_9a53_acde48001122level0_row1\" class=\"row_heading level0 row1\" >2</th>\n",
       "                        <td id=\"T_ff682636_5d72_11ec_9a53_acde48001122row1_col0\" class=\"data row1 col0\" >3.00</td>\n",
       "                        <td id=\"T_ff682636_5d72_11ec_9a53_acde48001122row1_col1\" class=\"data row1 col1\" >0.95</td>\n",
       "                        <td id=\"T_ff682636_5d72_11ec_9a53_acde48001122row1_col2\" class=\"data row1 col2\" >0.77</td>\n",
       "                        <td id=\"T_ff682636_5d72_11ec_9a53_acde48001122row1_col3\" class=\"data row1 col3\" >0.74</td>\n",
       "                        <td id=\"T_ff682636_5d72_11ec_9a53_acde48001122row1_col4\" class=\"data row1 col4\" >0.67</td>\n",
       "                        <td id=\"T_ff682636_5d72_11ec_9a53_acde48001122row1_col5\" class=\"data row1 col5\" >0.67</td>\n",
       "            </tr>\n",
       "            <tr>\n",
       "                        <th id=\"T_ff682636_5d72_11ec_9a53_acde48001122level0_row2\" class=\"row_heading level0 row2\" >3</th>\n",
       "                        <td id=\"T_ff682636_5d72_11ec_9a53_acde48001122row2_col0\" class=\"data row2 col0\" >4.00</td>\n",
       "                        <td id=\"T_ff682636_5d72_11ec_9a53_acde48001122row2_col1\" class=\"data row2 col1\" >0.95</td>\n",
       "                        <td id=\"T_ff682636_5d72_11ec_9a53_acde48001122row2_col2\" class=\"data row2 col2\" >0.79</td>\n",
       "                        <td id=\"T_ff682636_5d72_11ec_9a53_acde48001122row2_col3\" class=\"data row2 col3\" >0.72</td>\n",
       "                        <td id=\"T_ff682636_5d72_11ec_9a53_acde48001122row2_col4\" class=\"data row2 col4\" >0.66</td>\n",
       "                        <td id=\"T_ff682636_5d72_11ec_9a53_acde48001122row2_col5\" class=\"data row2 col5\" >0.67</td>\n",
       "            </tr>\n",
       "            <tr>\n",
       "                        <th id=\"T_ff682636_5d72_11ec_9a53_acde48001122level0_row3\" class=\"row_heading level0 row3\" >4</th>\n",
       "                        <td id=\"T_ff682636_5d72_11ec_9a53_acde48001122row3_col0\" class=\"data row3 col0\" >5.00</td>\n",
       "                        <td id=\"T_ff682636_5d72_11ec_9a53_acde48001122row3_col1\" class=\"data row3 col1\" >0.95</td>\n",
       "                        <td id=\"T_ff682636_5d72_11ec_9a53_acde48001122row3_col2\" class=\"data row3 col2\" >0.78</td>\n",
       "                        <td id=\"T_ff682636_5d72_11ec_9a53_acde48001122row3_col3\" class=\"data row3 col3\" >0.73</td>\n",
       "                        <td id=\"T_ff682636_5d72_11ec_9a53_acde48001122row3_col4\" class=\"data row3 col4\" >0.66</td>\n",
       "                        <td id=\"T_ff682636_5d72_11ec_9a53_acde48001122row3_col5\" class=\"data row3 col5\" >0.69</td>\n",
       "            </tr>\n",
       "            <tr>\n",
       "                        <th id=\"T_ff682636_5d72_11ec_9a53_acde48001122level0_row4\" class=\"row_heading level0 row4\" >5</th>\n",
       "                        <td id=\"T_ff682636_5d72_11ec_9a53_acde48001122row4_col0\" class=\"data row4 col0\" >6.00</td>\n",
       "                        <td id=\"T_ff682636_5d72_11ec_9a53_acde48001122row4_col1\" class=\"data row4 col1\" >0.95</td>\n",
       "                        <td id=\"T_ff682636_5d72_11ec_9a53_acde48001122row4_col2\" class=\"data row4 col2\" >0.78</td>\n",
       "                        <td id=\"T_ff682636_5d72_11ec_9a53_acde48001122row4_col3\" class=\"data row4 col3\" >0.69</td>\n",
       "                        <td id=\"T_ff682636_5d72_11ec_9a53_acde48001122row4_col4\" class=\"data row4 col4\" >0.68</td>\n",
       "                        <td id=\"T_ff682636_5d72_11ec_9a53_acde48001122row4_col5\" class=\"data row4 col5\" >0.70</td>\n",
       "            </tr>\n",
       "            <tr>\n",
       "                        <th id=\"T_ff682636_5d72_11ec_9a53_acde48001122level0_row5\" class=\"row_heading level0 row5\" >6</th>\n",
       "                        <td id=\"T_ff682636_5d72_11ec_9a53_acde48001122row5_col0\" class=\"data row5 col0\" >7.00</td>\n",
       "                        <td id=\"T_ff682636_5d72_11ec_9a53_acde48001122row5_col1\" class=\"data row5 col1\" >0.95</td>\n",
       "                        <td id=\"T_ff682636_5d72_11ec_9a53_acde48001122row5_col2\" class=\"data row5 col2\" >0.79</td>\n",
       "                        <td id=\"T_ff682636_5d72_11ec_9a53_acde48001122row5_col3\" class=\"data row5 col3\" >0.73</td>\n",
       "                        <td id=\"T_ff682636_5d72_11ec_9a53_acde48001122row5_col4\" class=\"data row5 col4\" >0.65</td>\n",
       "                        <td id=\"T_ff682636_5d72_11ec_9a53_acde48001122row5_col5\" class=\"data row5 col5\" >0.70</td>\n",
       "            </tr>\n",
       "            <tr>\n",
       "                        <th id=\"T_ff682636_5d72_11ec_9a53_acde48001122level0_row6\" class=\"row_heading level0 row6\" >7</th>\n",
       "                        <td id=\"T_ff682636_5d72_11ec_9a53_acde48001122row6_col0\" class=\"data row6 col0\" >8.00</td>\n",
       "                        <td id=\"T_ff682636_5d72_11ec_9a53_acde48001122row6_col1\" class=\"data row6 col1\" >0.95</td>\n",
       "                        <td id=\"T_ff682636_5d72_11ec_9a53_acde48001122row6_col2\" class=\"data row6 col2\" >0.78</td>\n",
       "                        <td id=\"T_ff682636_5d72_11ec_9a53_acde48001122row6_col3\" class=\"data row6 col3\" >0.75</td>\n",
       "                        <td id=\"T_ff682636_5d72_11ec_9a53_acde48001122row6_col4\" class=\"data row6 col4\" >0.68</td>\n",
       "                        <td id=\"T_ff682636_5d72_11ec_9a53_acde48001122row6_col5\" class=\"data row6 col5\" >0.69</td>\n",
       "            </tr>\n",
       "            <tr>\n",
       "                        <th id=\"T_ff682636_5d72_11ec_9a53_acde48001122level0_row7\" class=\"row_heading level0 row7\" >8</th>\n",
       "                        <td id=\"T_ff682636_5d72_11ec_9a53_acde48001122row7_col0\" class=\"data row7 col0\" >9.00</td>\n",
       "                        <td id=\"T_ff682636_5d72_11ec_9a53_acde48001122row7_col1\" class=\"data row7 col1\" >0.95</td>\n",
       "                        <td id=\"T_ff682636_5d72_11ec_9a53_acde48001122row7_col2\" class=\"data row7 col2\" >0.78</td>\n",
       "                        <td id=\"T_ff682636_5d72_11ec_9a53_acde48001122row7_col3\" class=\"data row7 col3\" >0.73</td>\n",
       "                        <td id=\"T_ff682636_5d72_11ec_9a53_acde48001122row7_col4\" class=\"data row7 col4\" >0.66</td>\n",
       "                        <td id=\"T_ff682636_5d72_11ec_9a53_acde48001122row7_col5\" class=\"data row7 col5\" >0.69</td>\n",
       "            </tr>\n",
       "            <tr>\n",
       "                        <th id=\"T_ff682636_5d72_11ec_9a53_acde48001122level0_row8\" class=\"row_heading level0 row8\" >9</th>\n",
       "                        <td id=\"T_ff682636_5d72_11ec_9a53_acde48001122row8_col0\" class=\"data row8 col0\" >10.00</td>\n",
       "                        <td id=\"T_ff682636_5d72_11ec_9a53_acde48001122row8_col1\" class=\"data row8 col1\" >0.95</td>\n",
       "                        <td id=\"T_ff682636_5d72_11ec_9a53_acde48001122row8_col2\" class=\"data row8 col2\" >0.78</td>\n",
       "                        <td id=\"T_ff682636_5d72_11ec_9a53_acde48001122row8_col3\" class=\"data row8 col3\" >0.71</td>\n",
       "                        <td id=\"T_ff682636_5d72_11ec_9a53_acde48001122row8_col4\" class=\"data row8 col4\" >0.66</td>\n",
       "                        <td id=\"T_ff682636_5d72_11ec_9a53_acde48001122row8_col5\" class=\"data row8 col5\" >0.68</td>\n",
       "            </tr>\n",
       "            <tr>\n",
       "                        <th id=\"T_ff682636_5d72_11ec_9a53_acde48001122level0_row9\" class=\"row_heading level0 row9\" >0</th>\n",
       "                        <td id=\"T_ff682636_5d72_11ec_9a53_acde48001122row9_col0\" class=\"data row9 col0\" >1.00</td>\n",
       "                        <td id=\"T_ff682636_5d72_11ec_9a53_acde48001122row9_col1\" class=\"data row9 col1\" >0.89</td>\n",
       "                        <td id=\"T_ff682636_5d72_11ec_9a53_acde48001122row9_col2\" class=\"data row9 col2\" >0.81</td>\n",
       "                        <td id=\"T_ff682636_5d72_11ec_9a53_acde48001122row9_col3\" class=\"data row9 col3\" >0.75</td>\n",
       "                        <td id=\"T_ff682636_5d72_11ec_9a53_acde48001122row9_col4\" class=\"data row9 col4\" >0.73</td>\n",
       "                        <td id=\"T_ff682636_5d72_11ec_9a53_acde48001122row9_col5\" class=\"data row9 col5\" >0.73</td>\n",
       "            </tr>\n",
       "    </tbody></table>"
      ],
      "text/plain": [
       "<pandas.io.formats.style.Styler at 0x7ff20957bfd0>"
      ]
     },
     "execution_count": 126,
     "metadata": {},
     "output_type": "execute_result"
    }
   ],
   "source": [
    "ada_results2 = tune_ada_learners(X_train,y_train,150)\n",
    "\n",
    "ada_results2.style\\\n",
    "      .format('{:.2f}')\\\n",
    "      .highlight_max(color = 'lightgreen')\\\n",
    "      .highlight_min(color = 'coral')\\\n",
    "      .highlight_null(null_color='yellow')"
   ]
  },
  {
   "cell_type": "code",
   "execution_count": 132,
   "metadata": {},
   "outputs": [
    {
     "data": {
      "text/html": [
       "\n",
       "<div id=\"altair-viz-f6db42608ac542798b6d730fbdd2eca7\"></div>\n",
       "<script type=\"text/javascript\">\n",
       "  (function(spec, embedOpt){\n",
       "    let outputDiv = document.currentScript.previousElementSibling;\n",
       "    if (outputDiv.id !== \"altair-viz-f6db42608ac542798b6d730fbdd2eca7\") {\n",
       "      outputDiv = document.getElementById(\"altair-viz-f6db42608ac542798b6d730fbdd2eca7\");\n",
       "    }\n",
       "    const paths = {\n",
       "      \"vega\": \"https://cdn.jsdelivr.net/npm//vega@5?noext\",\n",
       "      \"vega-lib\": \"https://cdn.jsdelivr.net/npm//vega-lib?noext\",\n",
       "      \"vega-lite\": \"https://cdn.jsdelivr.net/npm//vega-lite@4.8.1?noext\",\n",
       "      \"vega-embed\": \"https://cdn.jsdelivr.net/npm//vega-embed@6?noext\",\n",
       "    };\n",
       "\n",
       "    function loadScript(lib) {\n",
       "      return new Promise(function(resolve, reject) {\n",
       "        var s = document.createElement('script');\n",
       "        s.src = paths[lib];\n",
       "        s.async = true;\n",
       "        s.onload = () => resolve(paths[lib]);\n",
       "        s.onerror = () => reject(`Error loading script: ${paths[lib]}`);\n",
       "        document.getElementsByTagName(\"head\")[0].appendChild(s);\n",
       "      });\n",
       "    }\n",
       "\n",
       "    function showError(err) {\n",
       "      outputDiv.innerHTML = `<div class=\"error\" style=\"color:red;\">${err}</div>`;\n",
       "      throw err;\n",
       "    }\n",
       "\n",
       "    function displayChart(vegaEmbed) {\n",
       "      vegaEmbed(outputDiv, spec, embedOpt)\n",
       "        .catch(err => showError(`Javascript Error: ${err.message}<br>This usually means there's a typo in your chart specification. See the javascript console for the full traceback.`));\n",
       "    }\n",
       "\n",
       "    if(typeof define === \"function\" && define.amd) {\n",
       "      requirejs.config({paths});\n",
       "      require([\"vega-embed\"], displayChart, err => showError(`Error loading script: ${err.message}`));\n",
       "    } else if (typeof vegaEmbed === \"function\") {\n",
       "      displayChart(vegaEmbed);\n",
       "    } else {\n",
       "      loadScript(\"vega\")\n",
       "        .then(() => loadScript(\"vega-lite\"))\n",
       "        .then(() => loadScript(\"vega-embed\"))\n",
       "        .catch(showError)\n",
       "        .then(() => displayChart(vegaEmbed));\n",
       "    }\n",
       "  })({\"config\": {\"view\": {\"continuousWidth\": 400, \"continuousHeight\": 300}}, \"layer\": [{\"mark\": {\"type\": \"line\", \"color\": \"red\"}, \"encoding\": {\"x\": {\"type\": \"quantitative\", \"field\": \"Learners\"}, \"y\": {\"type\": \"quantitative\", \"axis\": {\"titleColor\": \"#5276B7\"}, \"field\": \"Score\", \"title\": \"Score\"}}}, {\"mark\": {\"type\": \"line\", \"color\": \"lightblue\"}, \"encoding\": {\"x\": {\"type\": \"quantitative\", \"field\": \"Learners\"}, \"y\": {\"type\": \"quantitative\", \"axis\": {\"titleColor\": \"#5276A7\"}, \"field\": \"Accuracy\", \"title\": \"Accuracy\"}}}, {\"mark\": {\"type\": \"line\", \"color\": \"darkblue\"}, \"encoding\": {\"x\": {\"type\": \"quantitative\", \"field\": \"Learners\"}, \"y\": {\"type\": \"quantitative\", \"axis\": {\"titleColor\": \"#A18727\"}, \"field\": \"Precision\", \"title\": \"Precision\"}}}, {\"mark\": {\"type\": \"line\", \"color\": \"green\"}, \"encoding\": {\"x\": {\"type\": \"quantitative\", \"field\": \"Learners\"}, \"y\": {\"type\": \"quantitative\", \"axis\": {\"titleColor\": \"#F11111\"}, \"field\": \"Recall\", \"title\": \"Recall\"}}}, {\"mark\": {\"type\": \"line\", \"color\": \"purple\"}, \"encoding\": {\"x\": {\"type\": \"quantitative\", \"field\": \"Learners\"}, \"y\": {\"type\": \"quantitative\", \"axis\": {\"titleColor\": \"#OOOFFF\"}, \"field\": \"F1\", \"title\": \"F1\"}}}], \"data\": {\"name\": \"data-d4b5dc0380d540308d229cfb8b058dd8\"}, \"$schema\": \"https://vega.github.io/schema/vega-lite/v4.8.1.json\", \"datasets\": {\"data-d4b5dc0380d540308d229cfb8b058dd8\": [{\"Learners\": 2, \"Score\": 0.951310861423221, \"Accuracy\": 0.7732675013225181, \"Precision\": 0.7022075442938306, \"Recall\": 0.6910931174089068, \"F1\": 0.690375749021934}, {\"Learners\": 3, \"Score\": 0.951310861423221, \"Accuracy\": 0.7695997178628108, \"Precision\": 0.7379729465194582, \"Recall\": 0.6701754385964913, \"F1\": 0.6718724959249052}, {\"Learners\": 4, \"Score\": 0.951310861423221, \"Accuracy\": 0.7883089402221829, \"Precision\": 0.7195474461500752, \"Recall\": 0.6649122807017545, \"F1\": 0.6713913685254601}, {\"Learners\": 5, \"Score\": 0.951310861423221, \"Accuracy\": 0.7770410862281785, \"Precision\": 0.7296753654893189, \"Recall\": 0.6597840755735492, \"F1\": 0.6877885342668295}, {\"Learners\": 6, \"Score\": 0.951310861423221, \"Accuracy\": 0.7827190971609944, \"Precision\": 0.6941705878662401, \"Recall\": 0.6802968960863698, \"F1\": 0.6971223953629921}, {\"Learners\": 7, \"Score\": 0.951310861423221, \"Accuracy\": 0.7901780991006877, \"Precision\": 0.7255806620026705, \"Recall\": 0.6545209176788125, \"F1\": 0.7009562406002728}, {\"Learners\": 8, \"Score\": 0.951310861423221, \"Accuracy\": 0.7789455122553341, \"Precision\": 0.753493031358885, \"Recall\": 0.6802968960863698, \"F1\": 0.6945553656408521}, {\"Learners\": 9, \"Score\": 0.951310861423221, \"Accuracy\": 0.7827190971609946, \"Precision\": 0.730843989769821, \"Recall\": 0.6646423751686911, \"F1\": 0.6899829785200884}, {\"Learners\": 10, \"Score\": 0.951310861423221, \"Accuracy\": 0.7751895609239993, \"Precision\": 0.708952970929424, \"Recall\": 0.6595141700404857, \"F1\": 0.683299152375995}, {\"Learners\": 1, \"Score\": 0.8895131086142322, \"Accuracy\": 0.8126961735143714, \"Precision\": 0.7468887492143306, \"Recall\": 0.7276653171390014, \"F1\": 0.7344842128784338}]}}, {\"mode\": \"vega-lite\"});\n",
       "</script>"
      ],
      "text/plain": [
       "alt.LayerChart(...)"
      ]
     },
     "execution_count": 132,
     "metadata": {},
     "output_type": "execute_result"
    }
   ],
   "source": [
    "import altair as alt\n",
    "\n",
    "\n",
    "source = ada_results2\n",
    "\n",
    "alt.Chart(source).mark_trail().encode(\n",
    "    y='Score',\n",
    "    x='Learners',\n",
    "    size='Precision'\n",
    "\n",
    ")\n",
    "\n",
    "base = alt.Chart(source).encode(\n",
    "        alt.X('Learners')\n",
    ")\n",
    "\n",
    "line_M = base.mark_line(color='red').encode(\n",
    "    alt.Y('Score:Q', axis=alt.Axis(titleColor='#5276B7'),title='Score')\n",
    ")\n",
    "\n",
    "line_A = base.mark_line(color='lightblue').encode(\n",
    "    alt.Y('Accuracy:Q', axis=alt.Axis(titleColor='#5276A7'),title='Accuracy')\n",
    ")\n",
    "\n",
    "line_B = base.mark_line(color='darkblue').encode(\n",
    "    alt.Y('Precision:Q', axis=alt.Axis(titleColor='#A18727'),title='Precision')\n",
    ")\n",
    "\n",
    "line_C = base.mark_line(color='green').encode(\n",
    "    alt.Y('Recall:Q', axis=alt.Axis(titleColor='#F11111'),title='Recall')\n",
    ")\n",
    "\n",
    "line_D = base.mark_line(color='purple').encode(\n",
    "    alt.Y('F1:Q', axis=alt.Axis(titleColor='#OOOFFF'),title='F1')\n",
    ")\n",
    "\n",
    "alt.layer(line_M,line_A, line_B, line_C, line_D)#.resolve_scale(y='independent')\n"
   ]
  },
  {
   "cell_type": "code",
   "execution_count": 127,
   "metadata": {},
   "outputs": [
    {
     "data": {
      "text/html": [
       "<style  type=\"text/css\" >\n",
       "#T_0c3c5a20_5d74_11ec_9a53_acde48001122row0_col1,#T_0c3c5a20_5d74_11ec_9a53_acde48001122row9_col2,#T_0c3c5a20_5d74_11ec_9a53_acde48001122row9_col3,#T_0c3c5a20_5d74_11ec_9a53_acde48001122row9_col4,#T_0c3c5a20_5d74_11ec_9a53_acde48001122row9_col5,#T_0c3c5a20_5d74_11ec_9a53_acde48001122row19_col0{\n",
       "            background-color:  lightgreen;\n",
       "        }#T_0c3c5a20_5d74_11ec_9a53_acde48001122row18_col0,#T_0c3c5a20_5d74_11ec_9a53_acde48001122row19_col1,#T_0c3c5a20_5d74_11ec_9a53_acde48001122row19_col2,#T_0c3c5a20_5d74_11ec_9a53_acde48001122row19_col3,#T_0c3c5a20_5d74_11ec_9a53_acde48001122row19_col4,#T_0c3c5a20_5d74_11ec_9a53_acde48001122row19_col5{\n",
       "            background-color:  coral;\n",
       "        }</style><table id=\"T_0c3c5a20_5d74_11ec_9a53_acde48001122\" ><thead>    <tr>        <th class=\"blank level0\" ></th>        <th class=\"col_heading level0 col0\" >Learn_Rate</th>        <th class=\"col_heading level0 col1\" >Score</th>        <th class=\"col_heading level0 col2\" >Accuracy</th>        <th class=\"col_heading level0 col3\" >Precision</th>        <th class=\"col_heading level0 col4\" >Recall</th>        <th class=\"col_heading level0 col5\" >F1</th>    </tr></thead><tbody>\n",
       "                <tr>\n",
       "                        <th id=\"T_0c3c5a20_5d74_11ec_9a53_acde48001122level0_row0\" class=\"row_heading level0 row0\" >18</th>\n",
       "                        <td id=\"T_0c3c5a20_5d74_11ec_9a53_acde48001122row0_col0\" class=\"data row0 col0\" >1.90</td>\n",
       "                        <td id=\"T_0c3c5a20_5d74_11ec_9a53_acde48001122row0_col1\" class=\"data row0 col1\" >0.93</td>\n",
       "                        <td id=\"T_0c3c5a20_5d74_11ec_9a53_acde48001122row0_col2\" class=\"data row0 col2\" >0.77</td>\n",
       "                        <td id=\"T_0c3c5a20_5d74_11ec_9a53_acde48001122row0_col3\" class=\"data row0 col3\" >0.70</td>\n",
       "                        <td id=\"T_0c3c5a20_5d74_11ec_9a53_acde48001122row0_col4\" class=\"data row0 col4\" >0.65</td>\n",
       "                        <td id=\"T_0c3c5a20_5d74_11ec_9a53_acde48001122row0_col5\" class=\"data row0 col5\" >0.67</td>\n",
       "            </tr>\n",
       "            <tr>\n",
       "                        <th id=\"T_0c3c5a20_5d74_11ec_9a53_acde48001122level0_row1\" class=\"row_heading level0 row1\" >17</th>\n",
       "                        <td id=\"T_0c3c5a20_5d74_11ec_9a53_acde48001122row1_col0\" class=\"data row1 col0\" >1.80</td>\n",
       "                        <td id=\"T_0c3c5a20_5d74_11ec_9a53_acde48001122row1_col1\" class=\"data row1 col1\" >0.93</td>\n",
       "                        <td id=\"T_0c3c5a20_5d74_11ec_9a53_acde48001122row1_col2\" class=\"data row1 col2\" >0.76</td>\n",
       "                        <td id=\"T_0c3c5a20_5d74_11ec_9a53_acde48001122row1_col3\" class=\"data row1 col3\" >0.68</td>\n",
       "                        <td id=\"T_0c3c5a20_5d74_11ec_9a53_acde48001122row1_col4\" class=\"data row1 col4\" >0.65</td>\n",
       "                        <td id=\"T_0c3c5a20_5d74_11ec_9a53_acde48001122row1_col5\" class=\"data row1 col5\" >0.67</td>\n",
       "            </tr>\n",
       "            <tr>\n",
       "                        <th id=\"T_0c3c5a20_5d74_11ec_9a53_acde48001122level0_row2\" class=\"row_heading level0 row2\" >16</th>\n",
       "                        <td id=\"T_0c3c5a20_5d74_11ec_9a53_acde48001122row2_col0\" class=\"data row2 col0\" >1.70</td>\n",
       "                        <td id=\"T_0c3c5a20_5d74_11ec_9a53_acde48001122row2_col1\" class=\"data row2 col1\" >0.92</td>\n",
       "                        <td id=\"T_0c3c5a20_5d74_11ec_9a53_acde48001122row2_col2\" class=\"data row2 col2\" >0.78</td>\n",
       "                        <td id=\"T_0c3c5a20_5d74_11ec_9a53_acde48001122row2_col3\" class=\"data row2 col3\" >0.70</td>\n",
       "                        <td id=\"T_0c3c5a20_5d74_11ec_9a53_acde48001122row2_col4\" class=\"data row2 col4\" >0.68</td>\n",
       "                        <td id=\"T_0c3c5a20_5d74_11ec_9a53_acde48001122row2_col5\" class=\"data row2 col5\" >0.69</td>\n",
       "            </tr>\n",
       "            <tr>\n",
       "                        <th id=\"T_0c3c5a20_5d74_11ec_9a53_acde48001122level0_row3\" class=\"row_heading level0 row3\" >14</th>\n",
       "                        <td id=\"T_0c3c5a20_5d74_11ec_9a53_acde48001122row3_col0\" class=\"data row3 col0\" >1.50</td>\n",
       "                        <td id=\"T_0c3c5a20_5d74_11ec_9a53_acde48001122row3_col1\" class=\"data row3 col1\" >0.91</td>\n",
       "                        <td id=\"T_0c3c5a20_5d74_11ec_9a53_acde48001122row3_col2\" class=\"data row3 col2\" >0.78</td>\n",
       "                        <td id=\"T_0c3c5a20_5d74_11ec_9a53_acde48001122row3_col3\" class=\"data row3 col3\" >0.71</td>\n",
       "                        <td id=\"T_0c3c5a20_5d74_11ec_9a53_acde48001122row3_col4\" class=\"data row3 col4\" >0.68</td>\n",
       "                        <td id=\"T_0c3c5a20_5d74_11ec_9a53_acde48001122row3_col5\" class=\"data row3 col5\" >0.69</td>\n",
       "            </tr>\n",
       "            <tr>\n",
       "                        <th id=\"T_0c3c5a20_5d74_11ec_9a53_acde48001122level0_row4\" class=\"row_heading level0 row4\" >15</th>\n",
       "                        <td id=\"T_0c3c5a20_5d74_11ec_9a53_acde48001122row4_col0\" class=\"data row4 col0\" >1.60</td>\n",
       "                        <td id=\"T_0c3c5a20_5d74_11ec_9a53_acde48001122row4_col1\" class=\"data row4 col1\" >0.91</td>\n",
       "                        <td id=\"T_0c3c5a20_5d74_11ec_9a53_acde48001122row4_col2\" class=\"data row4 col2\" >0.78</td>\n",
       "                        <td id=\"T_0c3c5a20_5d74_11ec_9a53_acde48001122row4_col3\" class=\"data row4 col3\" >0.71</td>\n",
       "                        <td id=\"T_0c3c5a20_5d74_11ec_9a53_acde48001122row4_col4\" class=\"data row4 col4\" >0.68</td>\n",
       "                        <td id=\"T_0c3c5a20_5d74_11ec_9a53_acde48001122row4_col5\" class=\"data row4 col5\" >0.69</td>\n",
       "            </tr>\n",
       "            <tr>\n",
       "                        <th id=\"T_0c3c5a20_5d74_11ec_9a53_acde48001122level0_row5\" class=\"row_heading level0 row5\" >13</th>\n",
       "                        <td id=\"T_0c3c5a20_5d74_11ec_9a53_acde48001122row5_col0\" class=\"data row5 col0\" >1.40</td>\n",
       "                        <td id=\"T_0c3c5a20_5d74_11ec_9a53_acde48001122row5_col1\" class=\"data row5 col1\" >0.91</td>\n",
       "                        <td id=\"T_0c3c5a20_5d74_11ec_9a53_acde48001122row5_col2\" class=\"data row5 col2\" >0.78</td>\n",
       "                        <td id=\"T_0c3c5a20_5d74_11ec_9a53_acde48001122row5_col3\" class=\"data row5 col3\" >0.70</td>\n",
       "                        <td id=\"T_0c3c5a20_5d74_11ec_9a53_acde48001122row5_col4\" class=\"data row5 col4\" >0.69</td>\n",
       "                        <td id=\"T_0c3c5a20_5d74_11ec_9a53_acde48001122row5_col5\" class=\"data row5 col5\" >0.69</td>\n",
       "            </tr>\n",
       "            <tr>\n",
       "                        <th id=\"T_0c3c5a20_5d74_11ec_9a53_acde48001122level0_row6\" class=\"row_heading level0 row6\" >12</th>\n",
       "                        <td id=\"T_0c3c5a20_5d74_11ec_9a53_acde48001122row6_col0\" class=\"data row6 col0\" >1.30</td>\n",
       "                        <td id=\"T_0c3c5a20_5d74_11ec_9a53_acde48001122row6_col1\" class=\"data row6 col1\" >0.90</td>\n",
       "                        <td id=\"T_0c3c5a20_5d74_11ec_9a53_acde48001122row6_col2\" class=\"data row6 col2\" >0.79</td>\n",
       "                        <td id=\"T_0c3c5a20_5d74_11ec_9a53_acde48001122row6_col3\" class=\"data row6 col3\" >0.72</td>\n",
       "                        <td id=\"T_0c3c5a20_5d74_11ec_9a53_acde48001122row6_col4\" class=\"data row6 col4\" >0.69</td>\n",
       "                        <td id=\"T_0c3c5a20_5d74_11ec_9a53_acde48001122row6_col5\" class=\"data row6 col5\" >0.70</td>\n",
       "            </tr>\n",
       "            <tr>\n",
       "                        <th id=\"T_0c3c5a20_5d74_11ec_9a53_acde48001122level0_row7\" class=\"row_heading level0 row7\" >11</th>\n",
       "                        <td id=\"T_0c3c5a20_5d74_11ec_9a53_acde48001122row7_col0\" class=\"data row7 col0\" >1.20</td>\n",
       "                        <td id=\"T_0c3c5a20_5d74_11ec_9a53_acde48001122row7_col1\" class=\"data row7 col1\" >0.90</td>\n",
       "                        <td id=\"T_0c3c5a20_5d74_11ec_9a53_acde48001122row7_col2\" class=\"data row7 col2\" >0.80</td>\n",
       "                        <td id=\"T_0c3c5a20_5d74_11ec_9a53_acde48001122row7_col3\" class=\"data row7 col3\" >0.73</td>\n",
       "                        <td id=\"T_0c3c5a20_5d74_11ec_9a53_acde48001122row7_col4\" class=\"data row7 col4\" >0.72</td>\n",
       "                        <td id=\"T_0c3c5a20_5d74_11ec_9a53_acde48001122row7_col5\" class=\"data row7 col5\" >0.72</td>\n",
       "            </tr>\n",
       "            <tr>\n",
       "                        <th id=\"T_0c3c5a20_5d74_11ec_9a53_acde48001122level0_row8\" class=\"row_heading level0 row8\" >10</th>\n",
       "                        <td id=\"T_0c3c5a20_5d74_11ec_9a53_acde48001122row8_col0\" class=\"data row8 col0\" >1.10</td>\n",
       "                        <td id=\"T_0c3c5a20_5d74_11ec_9a53_acde48001122row8_col1\" class=\"data row8 col1\" >0.89</td>\n",
       "                        <td id=\"T_0c3c5a20_5d74_11ec_9a53_acde48001122row8_col2\" class=\"data row8 col2\" >0.81</td>\n",
       "                        <td id=\"T_0c3c5a20_5d74_11ec_9a53_acde48001122row8_col3\" class=\"data row8 col3\" >0.74</td>\n",
       "                        <td id=\"T_0c3c5a20_5d74_11ec_9a53_acde48001122row8_col4\" class=\"data row8 col4\" >0.72</td>\n",
       "                        <td id=\"T_0c3c5a20_5d74_11ec_9a53_acde48001122row8_col5\" class=\"data row8 col5\" >0.72</td>\n",
       "            </tr>\n",
       "            <tr>\n",
       "                        <th id=\"T_0c3c5a20_5d74_11ec_9a53_acde48001122level0_row9\" class=\"row_heading level0 row9\" >9</th>\n",
       "                        <td id=\"T_0c3c5a20_5d74_11ec_9a53_acde48001122row9_col0\" class=\"data row9 col0\" >1.00</td>\n",
       "                        <td id=\"T_0c3c5a20_5d74_11ec_9a53_acde48001122row9_col1\" class=\"data row9 col1\" >0.89</td>\n",
       "                        <td id=\"T_0c3c5a20_5d74_11ec_9a53_acde48001122row9_col2\" class=\"data row9 col2\" >0.81</td>\n",
       "                        <td id=\"T_0c3c5a20_5d74_11ec_9a53_acde48001122row9_col3\" class=\"data row9 col3\" >0.75</td>\n",
       "                        <td id=\"T_0c3c5a20_5d74_11ec_9a53_acde48001122row9_col4\" class=\"data row9 col4\" >0.73</td>\n",
       "                        <td id=\"T_0c3c5a20_5d74_11ec_9a53_acde48001122row9_col5\" class=\"data row9 col5\" >0.73</td>\n",
       "            </tr>\n",
       "            <tr>\n",
       "                        <th id=\"T_0c3c5a20_5d74_11ec_9a53_acde48001122level0_row10\" class=\"row_heading level0 row10\" >8</th>\n",
       "                        <td id=\"T_0c3c5a20_5d74_11ec_9a53_acde48001122row10_col0\" class=\"data row10 col0\" >0.90</td>\n",
       "                        <td id=\"T_0c3c5a20_5d74_11ec_9a53_acde48001122row10_col1\" class=\"data row10 col1\" >0.89</td>\n",
       "                        <td id=\"T_0c3c5a20_5d74_11ec_9a53_acde48001122row10_col2\" class=\"data row10 col2\" >0.81</td>\n",
       "                        <td id=\"T_0c3c5a20_5d74_11ec_9a53_acde48001122row10_col3\" class=\"data row10 col3\" >0.74</td>\n",
       "                        <td id=\"T_0c3c5a20_5d74_11ec_9a53_acde48001122row10_col4\" class=\"data row10 col4\" >0.72</td>\n",
       "                        <td id=\"T_0c3c5a20_5d74_11ec_9a53_acde48001122row10_col5\" class=\"data row10 col5\" >0.73</td>\n",
       "            </tr>\n",
       "            <tr>\n",
       "                        <th id=\"T_0c3c5a20_5d74_11ec_9a53_acde48001122level0_row11\" class=\"row_heading level0 row11\" >7</th>\n",
       "                        <td id=\"T_0c3c5a20_5d74_11ec_9a53_acde48001122row11_col0\" class=\"data row11 col0\" >0.80</td>\n",
       "                        <td id=\"T_0c3c5a20_5d74_11ec_9a53_acde48001122row11_col1\" class=\"data row11 col1\" >0.88</td>\n",
       "                        <td id=\"T_0c3c5a20_5d74_11ec_9a53_acde48001122row11_col2\" class=\"data row11 col2\" >0.80</td>\n",
       "                        <td id=\"T_0c3c5a20_5d74_11ec_9a53_acde48001122row11_col3\" class=\"data row11 col3\" >0.73</td>\n",
       "                        <td id=\"T_0c3c5a20_5d74_11ec_9a53_acde48001122row11_col4\" class=\"data row11 col4\" >0.71</td>\n",
       "                        <td id=\"T_0c3c5a20_5d74_11ec_9a53_acde48001122row11_col5\" class=\"data row11 col5\" >0.72</td>\n",
       "            </tr>\n",
       "            <tr>\n",
       "                        <th id=\"T_0c3c5a20_5d74_11ec_9a53_acde48001122level0_row12\" class=\"row_heading level0 row12\" >6</th>\n",
       "                        <td id=\"T_0c3c5a20_5d74_11ec_9a53_acde48001122row12_col0\" class=\"data row12 col0\" >0.70</td>\n",
       "                        <td id=\"T_0c3c5a20_5d74_11ec_9a53_acde48001122row12_col1\" class=\"data row12 col1\" >0.87</td>\n",
       "                        <td id=\"T_0c3c5a20_5d74_11ec_9a53_acde48001122row12_col2\" class=\"data row12 col2\" >0.80</td>\n",
       "                        <td id=\"T_0c3c5a20_5d74_11ec_9a53_acde48001122row12_col3\" class=\"data row12 col3\" >0.73</td>\n",
       "                        <td id=\"T_0c3c5a20_5d74_11ec_9a53_acde48001122row12_col4\" class=\"data row12 col4\" >0.70</td>\n",
       "                        <td id=\"T_0c3c5a20_5d74_11ec_9a53_acde48001122row12_col5\" class=\"data row12 col5\" >0.71</td>\n",
       "            </tr>\n",
       "            <tr>\n",
       "                        <th id=\"T_0c3c5a20_5d74_11ec_9a53_acde48001122level0_row13\" class=\"row_heading level0 row13\" >5</th>\n",
       "                        <td id=\"T_0c3c5a20_5d74_11ec_9a53_acde48001122row13_col0\" class=\"data row13 col0\" >0.60</td>\n",
       "                        <td id=\"T_0c3c5a20_5d74_11ec_9a53_acde48001122row13_col1\" class=\"data row13 col1\" >0.87</td>\n",
       "                        <td id=\"T_0c3c5a20_5d74_11ec_9a53_acde48001122row13_col2\" class=\"data row13 col2\" >0.80</td>\n",
       "                        <td id=\"T_0c3c5a20_5d74_11ec_9a53_acde48001122row13_col3\" class=\"data row13 col3\" >0.74</td>\n",
       "                        <td id=\"T_0c3c5a20_5d74_11ec_9a53_acde48001122row13_col4\" class=\"data row13 col4\" >0.71</td>\n",
       "                        <td id=\"T_0c3c5a20_5d74_11ec_9a53_acde48001122row13_col5\" class=\"data row13 col5\" >0.72</td>\n",
       "            </tr>\n",
       "            <tr>\n",
       "                        <th id=\"T_0c3c5a20_5d74_11ec_9a53_acde48001122level0_row14\" class=\"row_heading level0 row14\" >3</th>\n",
       "                        <td id=\"T_0c3c5a20_5d74_11ec_9a53_acde48001122row14_col0\" class=\"data row14 col0\" >0.40</td>\n",
       "                        <td id=\"T_0c3c5a20_5d74_11ec_9a53_acde48001122row14_col1\" class=\"data row14 col1\" >0.86</td>\n",
       "                        <td id=\"T_0c3c5a20_5d74_11ec_9a53_acde48001122row14_col2\" class=\"data row14 col2\" >0.80</td>\n",
       "                        <td id=\"T_0c3c5a20_5d74_11ec_9a53_acde48001122row14_col3\" class=\"data row14 col3\" >0.73</td>\n",
       "                        <td id=\"T_0c3c5a20_5d74_11ec_9a53_acde48001122row14_col4\" class=\"data row14 col4\" >0.70</td>\n",
       "                        <td id=\"T_0c3c5a20_5d74_11ec_9a53_acde48001122row14_col5\" class=\"data row14 col5\" >0.71</td>\n",
       "            </tr>\n",
       "            <tr>\n",
       "                        <th id=\"T_0c3c5a20_5d74_11ec_9a53_acde48001122level0_row15\" class=\"row_heading level0 row15\" >4</th>\n",
       "                        <td id=\"T_0c3c5a20_5d74_11ec_9a53_acde48001122row15_col0\" class=\"data row15 col0\" >0.50</td>\n",
       "                        <td id=\"T_0c3c5a20_5d74_11ec_9a53_acde48001122row15_col1\" class=\"data row15 col1\" >0.86</td>\n",
       "                        <td id=\"T_0c3c5a20_5d74_11ec_9a53_acde48001122row15_col2\" class=\"data row15 col2\" >0.80</td>\n",
       "                        <td id=\"T_0c3c5a20_5d74_11ec_9a53_acde48001122row15_col3\" class=\"data row15 col3\" >0.74</td>\n",
       "                        <td id=\"T_0c3c5a20_5d74_11ec_9a53_acde48001122row15_col4\" class=\"data row15 col4\" >0.70</td>\n",
       "                        <td id=\"T_0c3c5a20_5d74_11ec_9a53_acde48001122row15_col5\" class=\"data row15 col5\" >0.71</td>\n",
       "            </tr>\n",
       "            <tr>\n",
       "                        <th id=\"T_0c3c5a20_5d74_11ec_9a53_acde48001122level0_row16\" class=\"row_heading level0 row16\" >2</th>\n",
       "                        <td id=\"T_0c3c5a20_5d74_11ec_9a53_acde48001122row16_col0\" class=\"data row16 col0\" >0.30</td>\n",
       "                        <td id=\"T_0c3c5a20_5d74_11ec_9a53_acde48001122row16_col1\" class=\"data row16 col1\" >0.86</td>\n",
       "                        <td id=\"T_0c3c5a20_5d74_11ec_9a53_acde48001122row16_col2\" class=\"data row16 col2\" >0.79</td>\n",
       "                        <td id=\"T_0c3c5a20_5d74_11ec_9a53_acde48001122row16_col3\" class=\"data row16 col3\" >0.73</td>\n",
       "                        <td id=\"T_0c3c5a20_5d74_11ec_9a53_acde48001122row16_col4\" class=\"data row16 col4\" >0.68</td>\n",
       "                        <td id=\"T_0c3c5a20_5d74_11ec_9a53_acde48001122row16_col5\" class=\"data row16 col5\" >0.70</td>\n",
       "            </tr>\n",
       "            <tr>\n",
       "                        <th id=\"T_0c3c5a20_5d74_11ec_9a53_acde48001122level0_row17\" class=\"row_heading level0 row17\" >1</th>\n",
       "                        <td id=\"T_0c3c5a20_5d74_11ec_9a53_acde48001122row17_col0\" class=\"data row17 col0\" >0.20</td>\n",
       "                        <td id=\"T_0c3c5a20_5d74_11ec_9a53_acde48001122row17_col1\" class=\"data row17 col1\" >0.84</td>\n",
       "                        <td id=\"T_0c3c5a20_5d74_11ec_9a53_acde48001122row17_col2\" class=\"data row17 col2\" >0.79</td>\n",
       "                        <td id=\"T_0c3c5a20_5d74_11ec_9a53_acde48001122row17_col3\" class=\"data row17 col3\" >0.72</td>\n",
       "                        <td id=\"T_0c3c5a20_5d74_11ec_9a53_acde48001122row17_col4\" class=\"data row17 col4\" >0.70</td>\n",
       "                        <td id=\"T_0c3c5a20_5d74_11ec_9a53_acde48001122row17_col5\" class=\"data row17 col5\" >0.71</td>\n",
       "            </tr>\n",
       "            <tr>\n",
       "                        <th id=\"T_0c3c5a20_5d74_11ec_9a53_acde48001122level0_row18\" class=\"row_heading level0 row18\" >0</th>\n",
       "                        <td id=\"T_0c3c5a20_5d74_11ec_9a53_acde48001122row18_col0\" class=\"data row18 col0\" >0.10</td>\n",
       "                        <td id=\"T_0c3c5a20_5d74_11ec_9a53_acde48001122row18_col1\" class=\"data row18 col1\" >0.83</td>\n",
       "                        <td id=\"T_0c3c5a20_5d74_11ec_9a53_acde48001122row18_col2\" class=\"data row18 col2\" >0.79</td>\n",
       "                        <td id=\"T_0c3c5a20_5d74_11ec_9a53_acde48001122row18_col3\" class=\"data row18 col3\" >0.71</td>\n",
       "                        <td id=\"T_0c3c5a20_5d74_11ec_9a53_acde48001122row18_col4\" class=\"data row18 col4\" >0.70</td>\n",
       "                        <td id=\"T_0c3c5a20_5d74_11ec_9a53_acde48001122row18_col5\" class=\"data row18 col5\" >0.71</td>\n",
       "            </tr>\n",
       "            <tr>\n",
       "                        <th id=\"T_0c3c5a20_5d74_11ec_9a53_acde48001122level0_row19\" class=\"row_heading level0 row19\" >19</th>\n",
       "                        <td id=\"T_0c3c5a20_5d74_11ec_9a53_acde48001122row19_col0\" class=\"data row19 col0\" >2.00</td>\n",
       "                        <td id=\"T_0c3c5a20_5d74_11ec_9a53_acde48001122row19_col1\" class=\"data row19 col1\" >0.64</td>\n",
       "                        <td id=\"T_0c3c5a20_5d74_11ec_9a53_acde48001122row19_col2\" class=\"data row19 col2\" >0.66</td>\n",
       "                        <td id=\"T_0c3c5a20_5d74_11ec_9a53_acde48001122row19_col3\" class=\"data row19 col3\" >0.48</td>\n",
       "                        <td id=\"T_0c3c5a20_5d74_11ec_9a53_acde48001122row19_col4\" class=\"data row19 col4\" >0.58</td>\n",
       "                        <td id=\"T_0c3c5a20_5d74_11ec_9a53_acde48001122row19_col5\" class=\"data row19 col5\" >0.50</td>\n",
       "            </tr>\n",
       "    </tbody></table>"
      ],
      "text/plain": [
       "<pandas.io.formats.style.Styler at 0x7ff20686a4c0>"
      ]
     },
     "execution_count": 127,
     "metadata": {},
     "output_type": "execute_result"
    }
   ],
   "source": [
    "ada_results3 = tune_ada_learn_rate(X_train,y_train,600,1)\n",
    "\n",
    "ada_results3.style\\\n",
    "      .format('{:.2f}')\\\n",
    "      .highlight_max(color = 'lightgreen')\\\n",
    "      .highlight_min(color = 'coral')\\\n",
    "      .highlight_null(null_color='yellow')"
   ]
  },
  {
   "cell_type": "code",
   "execution_count": 133,
   "metadata": {},
   "outputs": [
    {
     "data": {
      "text/html": [
       "\n",
       "<div id=\"altair-viz-36274d7fee384b0db3e63205a9c66957\"></div>\n",
       "<script type=\"text/javascript\">\n",
       "  (function(spec, embedOpt){\n",
       "    let outputDiv = document.currentScript.previousElementSibling;\n",
       "    if (outputDiv.id !== \"altair-viz-36274d7fee384b0db3e63205a9c66957\") {\n",
       "      outputDiv = document.getElementById(\"altair-viz-36274d7fee384b0db3e63205a9c66957\");\n",
       "    }\n",
       "    const paths = {\n",
       "      \"vega\": \"https://cdn.jsdelivr.net/npm//vega@5?noext\",\n",
       "      \"vega-lib\": \"https://cdn.jsdelivr.net/npm//vega-lib?noext\",\n",
       "      \"vega-lite\": \"https://cdn.jsdelivr.net/npm//vega-lite@4.8.1?noext\",\n",
       "      \"vega-embed\": \"https://cdn.jsdelivr.net/npm//vega-embed@6?noext\",\n",
       "    };\n",
       "\n",
       "    function loadScript(lib) {\n",
       "      return new Promise(function(resolve, reject) {\n",
       "        var s = document.createElement('script');\n",
       "        s.src = paths[lib];\n",
       "        s.async = true;\n",
       "        s.onload = () => resolve(paths[lib]);\n",
       "        s.onerror = () => reject(`Error loading script: ${paths[lib]}`);\n",
       "        document.getElementsByTagName(\"head\")[0].appendChild(s);\n",
       "      });\n",
       "    }\n",
       "\n",
       "    function showError(err) {\n",
       "      outputDiv.innerHTML = `<div class=\"error\" style=\"color:red;\">${err}</div>`;\n",
       "      throw err;\n",
       "    }\n",
       "\n",
       "    function displayChart(vegaEmbed) {\n",
       "      vegaEmbed(outputDiv, spec, embedOpt)\n",
       "        .catch(err => showError(`Javascript Error: ${err.message}<br>This usually means there's a typo in your chart specification. See the javascript console for the full traceback.`));\n",
       "    }\n",
       "\n",
       "    if(typeof define === \"function\" && define.amd) {\n",
       "      requirejs.config({paths});\n",
       "      require([\"vega-embed\"], displayChart, err => showError(`Error loading script: ${err.message}`));\n",
       "    } else if (typeof vegaEmbed === \"function\") {\n",
       "      displayChart(vegaEmbed);\n",
       "    } else {\n",
       "      loadScript(\"vega\")\n",
       "        .then(() => loadScript(\"vega-lite\"))\n",
       "        .then(() => loadScript(\"vega-embed\"))\n",
       "        .catch(showError)\n",
       "        .then(() => displayChart(vegaEmbed));\n",
       "    }\n",
       "  })({\"config\": {\"view\": {\"continuousWidth\": 400, \"continuousHeight\": 300}}, \"layer\": [{\"mark\": {\"type\": \"line\", \"color\": \"red\"}, \"encoding\": {\"x\": {\"type\": \"quantitative\", \"field\": \"Learn_Rate\"}, \"y\": {\"type\": \"quantitative\", \"axis\": {\"titleColor\": \"#5276B7\"}, \"field\": \"Score\", \"title\": \"Score\"}}}, {\"mark\": {\"type\": \"line\", \"color\": \"lightblue\"}, \"encoding\": {\"x\": {\"type\": \"quantitative\", \"field\": \"Learn_Rate\"}, \"y\": {\"type\": \"quantitative\", \"axis\": {\"titleColor\": \"#5276A7\"}, \"field\": \"Accuracy\", \"title\": \"Accuracy\"}}}, {\"mark\": {\"type\": \"line\", \"color\": \"darkblue\"}, \"encoding\": {\"x\": {\"type\": \"quantitative\", \"field\": \"Learn_Rate\"}, \"y\": {\"type\": \"quantitative\", \"axis\": {\"titleColor\": \"#A18727\"}, \"field\": \"Precision\", \"title\": \"Precision\"}}}, {\"mark\": {\"type\": \"line\", \"color\": \"green\"}, \"encoding\": {\"x\": {\"type\": \"quantitative\", \"field\": \"Learn_Rate\"}, \"y\": {\"type\": \"quantitative\", \"axis\": {\"titleColor\": \"#F11111\"}, \"field\": \"Recall\", \"title\": \"Recall\"}}}, {\"mark\": {\"type\": \"line\", \"color\": \"purple\"}, \"encoding\": {\"x\": {\"type\": \"quantitative\", \"field\": \"Learn_Rate\"}, \"y\": {\"type\": \"quantitative\", \"axis\": {\"titleColor\": \"#OOOFFF\"}, \"field\": \"F1\", \"title\": \"F1\"}}}], \"data\": {\"name\": \"data-98efdf81bd422c79a878f898e496ac9f\"}, \"$schema\": \"https://vega.github.io/schema/vega-lite/v4.8.1.json\", \"datasets\": {\"data-98efdf81bd422c79a878f898e496ac9f\": [{\"Learn_Rate\": 1.9000000000000001, \"Score\": 0.9269662921348315, \"Accuracy\": 0.7733380356198201, \"Precision\": 0.703171815681193, \"Recall\": 0.6543859649122807, \"F1\": 0.6748986225042563}, {\"Learn_Rate\": 1.8000000000000003, \"Score\": 0.9250936329588015, \"Accuracy\": 0.7639922412272968, \"Precision\": 0.6831105169340465, \"Recall\": 0.6543859649122807, \"F1\": 0.6661455076089223}, {\"Learn_Rate\": 1.7000000000000002, \"Score\": 0.9232209737827716, \"Accuracy\": 0.7789984129783106, \"Precision\": 0.7035658914728684, \"Recall\": 0.6751686909581647, \"F1\": 0.6859444711969558}, {\"Learn_Rate\": 1.5000000000000002, \"Score\": 0.9138576779026217, \"Accuracy\": 0.7846058896138246, \"Precision\": 0.7148357327427096, \"Recall\": 0.6804318488529015, \"F1\": 0.6930914247580915}, {\"Learn_Rate\": 1.6, \"Score\": 0.9119850187265918, \"Accuracy\": 0.7808499382824898, \"Precision\": 0.7101337415971561, \"Recall\": 0.6751686909581647, \"F1\": 0.6880507552937315}, {\"Learn_Rate\": 1.4000000000000001, \"Score\": 0.9082397003745318, \"Accuracy\": 0.7808852054311409, \"Precision\": 0.7040189540189541, \"Recall\": 0.6856950067476383, \"F1\": 0.6904985023534447}, {\"Learn_Rate\": 1.3000000000000003, \"Score\": 0.9044943820224719, \"Accuracy\": 0.7921530594251455, \"Precision\": 0.7225935521454523, \"Recall\": 0.6909581646423751, \"F1\": 0.7025450646634699}, {\"Learn_Rate\": 1.2000000000000002, \"Score\": 0.898876404494382, \"Accuracy\": 0.8014635866690177, \"Precision\": 0.7306705788862401, \"Recall\": 0.7170040485829959, \"F1\": 0.7203573929540005}, {\"Learn_Rate\": 1.1, \"Score\": 0.8932584269662921, \"Accuracy\": 0.8052371715746782, \"Precision\": 0.7370990152636271, \"Recall\": 0.7170040485829958, \"F1\": 0.7240522473834388}, {\"Learn_Rate\": 1.0, \"Score\": 0.8895131086142322, \"Accuracy\": 0.8126961735143714, \"Precision\": 0.7468887492143306, \"Recall\": 0.7276653171390014, \"F1\": 0.7344842128784338}, {\"Learn_Rate\": 0.9, \"Score\": 0.8876404494382022, \"Accuracy\": 0.8108093810615411, \"Precision\": 0.7443711843711844, \"Recall\": 0.7222672064777328, \"F1\": 0.73082290523467}, {\"Learn_Rate\": 0.8, \"Score\": 0.8820224719101124, \"Accuracy\": 0.803315111973197, \"Precision\": 0.7332523216412818, \"Recall\": 0.7118758434547908, \"F1\": 0.7203037409351631}, {\"Learn_Rate\": 0.7000000000000001, \"Score\": 0.8726591760299626, \"Accuracy\": 0.7995767942161875, \"Precision\": 0.7295137445137445, \"Recall\": 0.701484480431849, \"F1\": 0.7141627078469185}, {\"Learn_Rate\": 0.6, \"Score\": 0.8651685393258427, \"Accuracy\": 0.8033151119731968, \"Precision\": 0.735632681787181, \"Recall\": 0.7066126855600541, \"F1\": 0.7194312150833889}, {\"Learn_Rate\": 0.4, \"Score\": 0.8632958801498127, \"Accuracy\": 0.8014459530946922, \"Precision\": 0.7344309491677913, \"Recall\": 0.6960863697705804, \"F1\": 0.7132879170030872}, {\"Learn_Rate\": 0.5, \"Score\": 0.8595505617977528, \"Accuracy\": 0.8014459530946922, \"Precision\": 0.737051282051282, \"Recall\": 0.6962213225371121, \"F1\": 0.7142788806318219}, {\"Learn_Rate\": 0.30000000000000004, \"Score\": 0.8576779026217228, \"Accuracy\": 0.7939516840063481, \"Precision\": 0.7258668623374505, \"Recall\": 0.6802968960863698, \"F1\": 0.7008678511031453}, {\"Learn_Rate\": 0.2, \"Score\": 0.8426966292134831, \"Accuracy\": 0.7939516840063481, \"Precision\": 0.7191421568627451, \"Recall\": 0.6960863697705804, \"F1\": 0.7060639922665238}, {\"Learn_Rate\": 0.1, \"Score\": 0.8295880149812734, \"Accuracy\": 0.792100158702169, \"Precision\": 0.7113348291819938, \"Recall\": 0.7012145748987855, \"F1\": 0.7054523382569525}, {\"Learn_Rate\": 2.0, \"Score\": 0.6423220973782772, \"Accuracy\": 0.6575207194498325, \"Precision\": 0.4842766762216531, \"Recall\": 0.5789473684210527, \"F1\": 0.49862177316683376}]}}, {\"mode\": \"vega-lite\"});\n",
       "</script>"
      ],
      "text/plain": [
       "alt.LayerChart(...)"
      ]
     },
     "execution_count": 133,
     "metadata": {},
     "output_type": "execute_result"
    }
   ],
   "source": [
    "import altair as alt\n",
    "\n",
    "\n",
    "source = ada_results3\n",
    "\n",
    "alt.Chart(source).mark_trail().encode(\n",
    "    y='Score',\n",
    "    x='Learn_Rate',\n",
    "    size='Precision'\n",
    "\n",
    ")\n",
    "\n",
    "base = alt.Chart(source).encode(\n",
    "        alt.X('Learn_Rate')\n",
    ")\n",
    "\n",
    "line_M = base.mark_line(color='red').encode(\n",
    "    alt.Y('Score:Q', axis=alt.Axis(titleColor='#5276B7'),title='Score')\n",
    ")\n",
    "\n",
    "line_A = base.mark_line(color='lightblue').encode(\n",
    "    alt.Y('Accuracy:Q', axis=alt.Axis(titleColor='#5276A7'),title='Accuracy')\n",
    ")\n",
    "\n",
    "line_B = base.mark_line(color='darkblue').encode(\n",
    "    alt.Y('Precision:Q', axis=alt.Axis(titleColor='#A18727'),title='Precision')\n",
    ")\n",
    "\n",
    "line_C = base.mark_line(color='green').encode(\n",
    "    alt.Y('Recall:Q', axis=alt.Axis(titleColor='#F11111'),title='Recall')\n",
    ")\n",
    "\n",
    "line_D = base.mark_line(color='purple').encode(\n",
    "    alt.Y('F1:Q', axis=alt.Axis(titleColor='#OOOFFF'),title='F1')\n",
    ")\n",
    "\n",
    "alt.layer(line_M,line_A, line_B, line_C, line_D)#.resolve_scale(y='independent')\n"
   ]
  },
  {
   "cell_type": "markdown",
   "metadata": {},
   "source": [
    "### best model with ADA on training data: \n",
    "- n_estimators = 600\n",
    "- Learners = 1\n",
    "- learn rate = 1.9"
   ]
  },
  {
   "cell_type": "markdown",
   "metadata": {},
   "source": [
    "## Run the model on Training data using optimized values for hyperparameters\n"
   ]
  },
  {
   "cell_type": "code",
   "execution_count": 186,
   "metadata": {},
   "outputs": [
    {
     "name": "stdout",
     "output_type": "stream",
     "text": [
      "Accuracy: 88 % \n",
      "\n",
      "Confusion Matrix in Numbers\n",
      "[[322  21]\n",
      " [ 38 153]]\n",
      "\n",
      "Confusion Matrix in Percentage\n",
      "[[0.94 0.06]\n",
      " [0.2  0.8 ]]\n",
      "\n",
      "accuracy scores:  [0.8  0.82 0.81 0.83 0.79]\n",
      "Precision scores: [0.73 0.72 0.8  0.78 0.7 ]\n",
      "Recall scores:    [0.71 0.82 0.63 0.74 0.74]\n",
      "F1 scores:        [0.72 0.77 0.71 0.76 0.72]\n",
      "--------------------------------------\n",
      "Accuracy after 5 Folds:  0.8126961735143714\n",
      "Precision after 5 Folds: 0.7468887492143306\n",
      "Recall after 5 Folds:    0.7276653171390014\n",
      "F1 after 5 Folds:        0.7344842128784338\n",
      " \n",
      "---------------------\n"
     ]
    },
    {
     "data": {
      "image/png": "[encoded data removed]",
      "text/plain": [
       "<Figure size 1080x360 with 4 Axes>"
      ]
     },
     "metadata": {},
     "output_type": "display_data"
    }
   ],
   "source": [
    "model_AdaBoost(X_train, y_train,1,600,1)"
   ]
  },
  {
   "cell_type": "markdown",
   "metadata": {},
   "source": [
    "## Run the model on Validation data using optimized values for hyperparameters\n"
   ]
  },
  {
   "cell_type": "code",
   "execution_count": 188,
   "metadata": {},
   "outputs": [
    {
     "name": "stdout",
     "output_type": "stream",
     "text": [
      "Accuracy: 92 % \n",
      "\n",
      "Confusion Matrix in Numbers\n",
      "[[98  5]\n",
      " [ 9 66]]\n",
      "\n",
      "Confusion Matrix in Percentage\n",
      "[[0.95 0.05]\n",
      " [0.12 0.88]]\n",
      "\n",
      "accuracy scores:  [0.69 0.58 0.61 0.66 0.71]\n",
      "Precision scores: [0.62 0.5  0.53 0.6  0.65]\n",
      "Recall scores:    [0.67 0.4  0.6  0.6  0.73]\n",
      "F1 scores:        [0.65 0.44 0.56 0.6  0.69]\n",
      "--------------------------------------\n",
      "Accuracy after 5 Folds:  0.652063492063492\n",
      "Precision after 5 Folds: 0.5802941176470588\n",
      "Recall after 5 Folds:    0.6\n",
      "F1 after 5 Folds:        0.587921146953405\n",
      " \n",
      "---------------------\n"
     ]
    },
    {
     "data": {
      "image/png": "[encoded data removed]",
      "text/plain": [
       "<Figure size 1080x360 with 4 Axes>"
      ]
     },
     "metadata": {},
     "output_type": "display_data"
    }
   ],
   "source": [
    "model_AdaBoost(X_valid, y_valid,1,600,1)"
   ]
  },
  {
   "cell_type": "markdown",
   "metadata": {},
   "source": [
    "## Run the model on Test data using optimized values for hyperparameters\n"
   ]
  },
  {
   "cell_type": "code",
   "execution_count": 189,
   "metadata": {},
   "outputs": [
    {
     "name": "stdout",
     "output_type": "stream",
     "text": [
      "Accuracy: 94 % \n",
      "\n",
      "Confusion Matrix in Numbers\n",
      "[[99  4]\n",
      " [ 6 70]]\n",
      "\n",
      "Confusion Matrix in Percentage\n",
      "[[0.96 0.04]\n",
      " [0.08 0.92]]\n",
      "\n",
      "accuracy scores:  [0.86 0.75 0.75 0.72 0.77]\n",
      "Precision scores: [0.82 0.69 0.67 0.65 0.77]\n",
      "Recall scores:    [0.88 0.73 0.8  0.73 0.67]\n",
      "F1 scores:        [0.85 0.71 0.73 0.69 0.71]\n",
      "--------------------------------------\n",
      "Accuracy after 5 Folds:  0.770952380952381\n",
      "Precision after 5 Folds: 0.7187971342383107\n",
      "Recall after 5 Folds:    0.7616666666666666\n",
      "F1 after 5 Folds:        0.7374441418796257\n",
      " \n",
      "---------------------\n"
     ]
    },
    {
     "data": {
      "image/png": "[encoded data removed]",
      "text/plain": [
       "<Figure size 1080x360 with 4 Axes>"
      ]
     },
     "metadata": {},
     "output_type": "display_data"
    }
   ],
   "source": [
    "model_AdaBoost(X_test, y_test,1,600,1)"
   ]
  },
  {
   "cell_type": "code",
   "execution_count": 156,
   "metadata": {},
   "outputs": [],
   "source": [
    "def runAda(X_train, y_train,m,ne,lr):\n",
    "    clf = AdaBoostClassifier(DecisionTreeClassifier(max_depth=m),n_estimators = ne,learning_rate=lr)  \n",
    "    clf.fit(X_train, y_train)\n",
    "    y_pred_random_forest_training_set = clf.predict(X_train)\n",
    "    acc_random_forest = round(clf.score(X_train, y_train) * 100, 2)\n",
    "    print (\"Accuracy: %i %% \\n\"%acc_random_forest)\n",
    "    \n",
    "    class_names = ['Survived', 'Not Survived']\n",
    "    \n",
    "    # Compute confusion matrix\n",
    "    cnf_matrix = confusion_matrix(y_train, y_pred_random_forest_training_set)\n",
    "    np.set_printoptions(precision=2)\n",
    "    \n",
    "    print ('Confusion Matrix in Numbers')\n",
    "    print (cnf_matrix)\n",
    "    print ('')\n",
    "    \n",
    "    cnf_matrix_percent = cnf_matrix.astype('float') / cnf_matrix.sum(axis=1)[:, np.newaxis]\n",
    "    \n",
    "    print ('Confusion Matrix in Percentage')\n",
    "    print (cnf_matrix_percent)\n",
    "    print ('')\n",
    "    \n",
    "    \n",
    "    print('AdaBoost Classifier Training Metrics: \\n Model score: %.4f \\n Accuracy: %.4f \\n Precision: %.4f \\n Recall: %.4f \\n F1: %.4f' %\n",
    "    (clf.score(X_train, y_train),\n",
    "     accuracy(y_test, clf.predict(X_test)), \n",
    "     precision(y_test, clf.predict(X_test)), \n",
    "     recall(y_test, clf.predict(X_test)),\n",
    "     F1(y_test, clf.predict(X_test))\n",
    "           )\n",
    "       )       \n",
    "    print('---------------------')     \n",
    "    print ('')    \n",
    "        \n",
    "    \n",
    "    true_class_names = ['True Survived', 'True Not Survived']\n",
    "    predicted_class_names = ['Predicted Survived', 'Predicted Not Survived']\n",
    "    \n",
    "    df_cnf_matrix = pd.DataFrame(cnf_matrix, \n",
    "                                 index = true_class_names,\n",
    "                                 columns = predicted_class_names)\n",
    "    \n",
    "    df_cnf_matrix_percent = pd.DataFrame(cnf_matrix_percent, \n",
    "                                         index = true_class_names,\n",
    "                                         columns = predicted_class_names)\n",
    "    \n",
    "    plt.figure(figsize = (15,5))\n",
    "    \n",
    "    plt.subplot(121)\n",
    "    sns.heatmap(df_cnf_matrix, annot=True, fmt='d')\n",
    "    \n",
    "    plt.subplot(122)\n",
    "    sns.heatmap(df_cnf_matrix_percent, annot=True)"
   ]
  },
  {
   "cell_type": "markdown",
   "metadata": {},
   "source": [
    "# Predicting if a passenger survives"
   ]
  },
  {
   "cell_type": "code",
   "execution_count": 168,
   "metadata": {},
   "outputs": [],
   "source": [
    "adaBoost = AdaBoostClassifier(DecisionTreeClassifier(max_depth=1), \n",
    "                               n_estimators=600,\n",
    "                               learning_rate=1.9)   \n",
    "ada_model = adaBoost.fit(X_train, y_train)\n",
    "\n",
    "def predict_fate(name,passenger_data):\n",
    "    result = adaBoost.predict(passenger_data) \n",
    "    proba = adaBoost.predict_proba(passenger_data)[:, 1]\n",
    "    if proba <= 0.5:\n",
    "        print(f'Unfortunately, {name} will not survive.')\n",
    "    else:\n",
    "        print(f'{name} has a {proba} probability of survival.')\n",
    "    print(f'probability: {adaBoost.predict_proba(passenger_data)}')"
   ]
  },
  {
   "cell_type": "code",
   "execution_count": 169,
   "metadata": {},
   "outputs": [
    {
     "name": "stdout",
     "output_type": "stream",
     "text": [
      "Unfortunately, Mike will not survive.\n",
      "probability: [[0.5 0.5]]\n"
     ]
    }
   ],
   "source": [
    "new_input1 = [[1,1,0,0,30,1,2]]\n",
    "# 'Pclass'   = 1\n",
    "# 'Sex'      = 1\n",
    "# 'SibSp'    = 0\n",
    "# 'Parch'    = 0 \n",
    "# 'Fare'     = 30 \n",
    "# 'Embarked' = 1\n",
    "# 'AgeGroup' = 2\n",
    "\n",
    "\n",
    "\n",
    "predict_fate('Mike',new_input1)   "
   ]
  },
  {
   "cell_type": "code",
   "execution_count": 170,
   "metadata": {},
   "outputs": [
    {
     "name": "stdout",
     "output_type": "stream",
     "text": [
      "Lilith has a [0.5] probability of survival.\n",
      "probability: [[0.5 0.5]]\n"
     ]
    }
   ],
   "source": [
    "new_input2 =[[1,0,0,3,500,1,1]]\n",
    "\n",
    "# 'Pclass'   = 0\n",
    "# 'Sex'      = 0\n",
    "# 'SibSp'    = 0\n",
    "# 'Parch'    = 3 \n",
    "# 'Fare'     = 480 \n",
    "# 'Embarked' = 1\n",
    "# 'AgeGroup' = 2\n",
    "\n",
    "predict_fate('Lilith',new_input2)  "
   ]
  },
  {
   "cell_type": "code",
   "execution_count": 179,
   "metadata": {},
   "outputs": [
    {
     "name": "stdout",
     "output_type": "stream",
     "text": [
      "Lucas has a [0.5] probability of survival.\n",
      "probability: [[0.5 0.5]]\n"
     ]
    }
   ],
   "source": [
    "new_input3 =[[1,0,0,0,500,2,1]]\n",
    "\n",
    "# 'Pclass'   = 2\n",
    "# 'Sex'      = 0\n",
    "# 'SibSp'    = 1\n",
    "# 'Parch'    = 3 \n",
    "# 'Fare'     = 60 \n",
    "# 'Embarked' = 2\n",
    "# 'AgeGroup' = 1\n",
    "\n",
    "predict_fate('Lucas',new_input2)  "
   ]
  },
  {
   "cell_type": "code",
   "execution_count": null,
   "metadata": {},
   "outputs": [],
   "source": []
  },
  {
   "cell_type": "markdown",
   "metadata": {},
   "source": [
    "## Appendix: some further experimentation"
   ]
  },
  {
   "cell_type": "code",
   "execution_count": null,
   "metadata": {},
   "outputs": [],
   "source": []
  },
  {
   "cell_type": "code",
   "execution_count": null,
   "metadata": {},
   "outputs": [],
   "source": [
    "#Create a function within many Machine Learning Models\n",
    "def models(X_train,Y_train):\n",
    "  \n",
    "    #Using Logistic Regression Algorithm to the Training Set\n",
    "    from sklearn.linear_model import LogisticRegression\n",
    "    log = LogisticRegression(random_state = 0)\n",
    "    log.fit(X_train, Y_train)\n",
    "    \n",
    "    #Using KNeighborsClassifier Method of neighbors class to use Nearest Neighbor algorithm\n",
    "    from sklearn.neighbors import KNeighborsClassifier\n",
    "    knn = KNeighborsClassifier(n_neighbors = 5, metric = 'minkowski', p = 2)\n",
    "    knn.fit(X_train, Y_train)\n",
    "\n",
    "    #Using SVC method of svm class to use Support Vector Machine Algorithm\n",
    "    from sklearn.svm import SVC\n",
    "    svc_lin = SVC(kernel = 'linear', random_state = 0)\n",
    "    svc_lin.fit(X_train, Y_train)\n",
    "\n",
    "    #Using SVC method of svm class to use Kernel SVM Algorithm\n",
    "    from sklearn.svm import SVC\n",
    "    svc_rbf = SVC(kernel = 'rbf', random_state = 0)\n",
    "    svc_rbf.fit(X_train, Y_train)\n",
    "\n",
    "    #Using GaussianNB method of naïve_bayes class to use Naïve Bayes Algorithm\n",
    "    from sklearn.naive_bayes import GaussianNB\n",
    "    gauss = GaussianNB()\n",
    "    gauss.fit(X_train, Y_train)\n",
    "\n",
    "    #Using DecisionTreeClassifier of tree class to use Decision Tree Algorithm\n",
    "    from sklearn.tree import DecisionTreeClassifier\n",
    "    tree = DecisionTreeClassifier(criterion = 'entropy', random_state = 0)\n",
    "    tree.fit(X_train, Y_train)\n",
    "\n",
    "    #Using RandomForestClassifier method of ensemble class to use Random Forest Classification algorithm\n",
    "    from sklearn.ensemble import RandomForestClassifier\n",
    "    forest = RandomForestClassifier(n_estimators = 10, criterion = 'entropy', random_state = 0)\n",
    "    forest.fit(X_train, Y_train)\n",
    "\n",
    "    #Using ADABOOST\n",
    "    from sklearn.ensemble import AdaBoostClassifier\n",
    "    adaBoost = AdaBoostClassifier(DecisionTreeClassifier(max_depth=1), n_estimators=200)\n",
    "    adaBoost.fit(X_train, Y_train)\n",
    "    \n",
    "    #Using XGBoost\n",
    "    from sklearn.ensemble import AdaBoostClassifier\n",
    "    xgboost = xgb.XGBClassifier()\n",
    "    '''\n",
    "    xgboost = xgb.XGBClassifier(silent=False, \n",
    "                        scale_pos_weight=1,\n",
    "                        learning_rate=0.01,  \n",
    "                        colsample_bytree = 0.4,\n",
    "                        subsample = 0.8,\n",
    "                        n_estimators=500, \n",
    "                        reg_alpha = 0.3,\n",
    "                        max_depth=4, \n",
    "                        gamma=10)    \n",
    "      \n",
    "    '''  \n",
    "      \n",
    "    xgboost.fit(X_train, Y_train)    \n",
    "\n",
    "\n",
    "    #print model accuracy on the training data.\n",
    "    #print('[0]Logistic Regression Training Accuracy:', log.score(X_train, Y_train))\n",
    "    print('[0]Logistic Regression Training Metrics: \\n Model score: %.4f \\n Accuracy: %.4f \\n Precision: %.4f \\n Recall: %.4f \\n F1: %.4f' %\n",
    "    (log.score(X_train, Y_train),\n",
    "     accuracy(Y_test, log.predict(X_test)), \n",
    "     precision(Y_test, log.predict(X_test)), \n",
    "     recall(Y_test, log.predict(X_test)),\n",
    "     F1(Y_test, log.predict(X_test))\n",
    "           )\n",
    "       )       \n",
    "    print(' ')    \n",
    "    \n",
    "    print('---------------------')\n",
    "    #print('[1]K Nearest Neighbor Training Accuracy:', knn.score(X_train, Y_train))\n",
    "    print('[1]K Nearest Neighbor Training Metrics: \\n Model score: %.4f \\n Accuracy: %.4f \\n Precision: %.4f \\n Recall: %.4f \\n F1: %.4f' %\n",
    "    (knn.score(X_train, Y_train),\n",
    "     accuracy(Y_test, knn.predict(X_test)), \n",
    "     precision(Y_test, knn.predict(X_test)), \n",
    "     recall(Y_test, knn.predict(X_test)),\n",
    "     F1(Y_test, knn.predict(X_test))\n",
    "           )\n",
    "       )       \n",
    "    print('---------------------')\n",
    "    \n",
    "    \n",
    "    print('[2]Support Vector Machine (Linear Classifier) Training Accuracy:', svc_lin.score(X_train, Y_train))\n",
    "    print('[3]Support Vector Machine (RBF Classifier) Training Accuracy:', svc_rbf.score(X_train, Y_train))\n",
    "    print('[4]Gaussian Naive Bayes Training Accuracy:', gauss.score(X_train, Y_train))\n",
    "    print('[5]Decision Tree Classifier Training Accuracy:', tree.score(X_train, Y_train))\n",
    "    print('[6]Random Forest Classifier Training Accuracy:', forest.score(X_train, Y_train))\n",
    "    print(' ')    \n",
    "    \n",
    "    print('---------------------')    \n",
    "    #print('[7]AdaBoost Classifier Training Accuracy:', adaBoost.score(X_train, Y_train))   \n",
    "    print('[7]AdaBoost Classifier Training Metrics: \\n Model score: %.4f \\n Accuracy: %.4f \\n Precision: %.4f \\n Recall: %.4f \\n F1: %.4f' %\n",
    "    (adaBoost.score(X_train, Y_train),\n",
    "     accuracy(Y_test, adaBoost.predict(X_test)), \n",
    "     precision(Y_test, adaBoost.predict(X_test)), \n",
    "     recall(Y_test, adaBoost.predict(X_test)),\n",
    "     F1(Y_test, adaBoost.predict(X_test))\n",
    "           )\n",
    "       )       \n",
    "    print('---------------------')    \n",
    "    \n",
    "    \n",
    "    \n",
    "    print('[8]XGBoost Classifier Training Accuracy:', xgboost.score(X_train, Y_train)) \n",
    "    \n",
    "\n",
    "\n",
    "    return log, knn, svc_lin, svc_rbf, gauss, tree, forest, adaBoost, xgboost"
   ]
  },
  {
   "cell_type": "code",
   "execution_count": null,
   "metadata": {},
   "outputs": [],
   "source": [
    "#Get and train all of the models\n",
    "model = models(X_train,Y_train)"
   ]
  },
  {
   "cell_type": "markdown",
   "metadata": {},
   "source": [
    "## Ensembling tests"
   ]
  },
  {
   "cell_type": "code",
   "execution_count": null,
   "metadata": {},
   "outputs": [],
   "source": [
    "knn = KNeighborsClassifier()\n",
    "ada = AdaBoostClassifier()\n",
    "rnf = RandomForestClassifier()\n",
    "\n",
    "model_lst = [('knn', knn),\n",
    "            ('ada', ada),\n",
    "            ('rnf', rnf)]\n",
    "for model in model_lst:\n",
    "    curr_name, curr_model = model\n",
    "    curr_model.fit(X_train, y_train)\n",
    "    curr_score = curr_model.score(X_test, y_test)\n",
    "    \n",
    "from sklearn.ensemble import VotingClassifier\n",
    "vc = VotingClassifier(estimators=model_lst,\n",
    "                      voting='hard',\n",
    "                      weights=None)\n",
    "vc.fit(X_train,y_train)\n",
    "vc.score(X_test, y_test)   "
   ]
  },
  {
   "cell_type": "markdown",
   "metadata": {},
   "source": [
    "## Predicting with Ensemble"
   ]
  },
  {
   "cell_type": "code",
   "execution_count": 202,
   "metadata": {},
   "outputs": [],
   "source": [
    "\n",
    "vc = VotingClassifier(estimators=model_lst,\n",
    "                      voting='hard',\n",
    "                      weights=None)\n",
    "vc_model = adaBoost.fit(X_train, y_train)\n",
    "\n",
    "def predict_fate_en(name,passenger_data):\n",
    "    result = vc_model.predict(passenger_data) \n",
    "    proba = vc_model.predict_proba(passenger_data)[:, 1]\n",
    "    if proba <= 0.5:\n",
    "        print(f'Unfortunately, {name} will not survive.')\n",
    "    else:\n",
    "        print(f'{name} has a {proba} probability of survival.')\n",
    "    print(f'probability: {vc_model.predict_proba(passenger_data)}')"
   ]
  },
  {
   "cell_type": "code",
   "execution_count": 203,
   "metadata": {},
   "outputs": [
    {
     "name": "stdout",
     "output_type": "stream",
     "text": [
      "Unfortunately, Mike will not survive.\n",
      "probability: [[0.5 0.5]]\n"
     ]
    }
   ],
   "source": [
    "new_input1 = [[1,1,0,0,30,1,2]]\n",
    "# 'Pclass'   = 1\n",
    "# 'Sex'      = 1\n",
    "# 'SibSp'    = 0\n",
    "# 'Parch'    = 0 \n",
    "# 'Fare'     = 30 \n",
    "# 'Embarked' = 1\n",
    "# 'AgeGroup' = 2\n",
    "\n",
    "\n",
    "\n",
    "predict_fate_en('Mike',new_input1)  "
   ]
  },
  {
   "cell_type": "markdown",
   "metadata": {},
   "source": [
    "## Running RandomForest"
   ]
  },
  {
   "cell_type": "code",
   "execution_count": 131,
   "metadata": {},
   "outputs": [
    {
     "name": "stdout",
     "output_type": "stream",
     "text": [
      "Accuracy: 93 % \n",
      "\n",
      "Confusion Matrix in Numbers\n",
      "[[314  11]\n",
      " [ 26 183]]\n",
      "\n",
      "Confusion Matrix in Percentage\n",
      "[[0.97 0.03]\n",
      " [0.12 0.88]]\n",
      "\n",
      "Rendom Forest Classifier Training Metrics: \n",
      " Model score: 0.9307 \n",
      " Accuracy: 0.7765 \n",
      " Precision: 0.6986 \n",
      " Recall: 0.7391 \n",
      " F1: 0.7183\n",
      "---------------------\n"
     ]
    },
    {
     "data": {
      "text/plain": [
       "<AxesSubplot:>"
      ]
     },
     "execution_count": 131,
     "metadata": {},
     "output_type": "execute_result"
    },
    {
     "data": {
      "image/png": "[encoded data removed]",
      "text/plain": [
       "<Figure size 1080x360 with 4 Axes>"
      ]
     },
     "metadata": {},
     "output_type": "display_data"
    }
   ],
   "source": [
    "\n",
    "clf = RandomForestClassifier(n_estimators=100)\n",
    "clf.fit(X_train, y_train)\n",
    "y_pred_random_forest_training_set = clf.predict(X_train)\n",
    "acc_random_forest = round(clf.score(X_train, y_train) * 100, 2)\n",
    "print (\"Accuracy: %i %% \\n\"%acc_random_forest)\n",
    "\n",
    "class_names = ['Survived', 'Not Survived']\n",
    "\n",
    "# Compute confusion matrix\n",
    "cnf_matrix = confusion_matrix(y_train, y_pred_random_forest_training_set)\n",
    "np.set_printoptions(precision=2)\n",
    "\n",
    "print ('Confusion Matrix in Numbers')\n",
    "print (cnf_matrix)\n",
    "print ('')\n",
    "\n",
    "cnf_matrix_percent = cnf_matrix.astype('float') / cnf_matrix.sum(axis=1)[:, np.newaxis]\n",
    "\n",
    "print ('Confusion Matrix in Percentage')\n",
    "print (cnf_matrix_percent)\n",
    "print ('')\n",
    "\n",
    "\n",
    "print('Rendom Forest Classifier Training Metrics: \\n Model score: %.4f \\n Accuracy: %.4f \\n Precision: %.4f \\n Recall: %.4f \\n F1: %.4f' %\n",
    "(clf.score(X_train, y_train),\n",
    " accuracy(y_test, clf.predict(X_test)), \n",
    " precision(y_test, clf.predict(X_test)), \n",
    " recall(y_test, clf.predict(X_test)),\n",
    " F1(y_test, clf.predict(X_test))\n",
    "       )\n",
    "   )       \n",
    "print('---------------------')      \n",
    "    \n",
    "\n",
    "true_class_names = ['True Survived', 'True Not Survived']\n",
    "predicted_class_names = ['Predicted Survived', 'Predicted Not Survived']\n",
    "\n",
    "df_cnf_matrix = pd.DataFrame(cnf_matrix, \n",
    "                             index = true_class_names,\n",
    "                             columns = predicted_class_names)\n",
    "\n",
    "df_cnf_matrix_percent = pd.DataFrame(cnf_matrix_percent, \n",
    "                                     index = true_class_names,\n",
    "                                     columns = predicted_class_names)\n",
    "\n",
    "plt.figure(figsize = (15,5))\n",
    "\n",
    "plt.subplot(121)\n",
    "sns.heatmap(df_cnf_matrix, annot=True, fmt='d')\n",
    "\n",
    "plt.subplot(122)\n",
    "sns.heatmap(df_cnf_matrix_percent, annot=True)"
   ]
  },
  {
   "cell_type": "code",
   "execution_count": null,
   "metadata": {},
   "outputs": [],
   "source": []
  },
  {
   "cell_type": "code",
   "execution_count": null,
   "metadata": {},
   "outputs": [],
   "source": []
  },
  {
   "cell_type": "code",
   "execution_count": 180,
   "metadata": {},
   "outputs": [
    {
     "data": {
      "text/plain": [
       "array([1, 1, 1, 1, 1, 0, 1, 0, 0, 0, 1, 0, 0, 0, 1, 0, 0, 0, 0, 0, 0, 1,\n",
       "       0, 1, 0, 0, 1, 0, 1, 0, 1, 0, 1, 1, 1, 0, 0, 1, 0, 0, 0, 0, 0, 0,\n",
       "       1, 0, 0, 1, 1, 0, 0, 0, 0, 0, 0, 1, 0, 1, 1, 0, 0, 1, 0, 1, 0, 1,\n",
       "       1, 1, 0, 1, 0, 1, 0, 1, 1, 1, 1, 1, 0, 0, 0, 0, 0, 0, 1, 0, 0, 0,\n",
       "       1, 1, 0, 1, 0, 1, 1, 1, 1, 0, 0, 0, 1, 0, 1, 0, 0, 0, 0, 0, 0, 0,\n",
       "       0, 1, 1, 0, 1, 1, 1, 1, 1, 0, 0, 0, 1, 0, 1, 0, 0, 0, 1, 1, 0, 0,\n",
       "       0, 1, 0, 1, 0, 0, 0, 1, 0, 1, 0, 0, 0, 0, 0, 0, 0, 0, 0, 0, 0, 0,\n",
       "       0, 0, 0, 0, 0, 0, 0, 1, 1, 1, 0, 0, 0, 0, 0, 0, 0, 0, 1, 1, 0, 0,\n",
       "       0, 0, 0])"
      ]
     },
     "execution_count": 180,
     "metadata": {},
     "output_type": "execute_result"
    }
   ],
   "source": [
    "from sklearn.ensemble import AdaBoostClassifier\n",
    "from sklearn.model_selection import GridSearchCV\n",
    "\n",
    "param_grid = { \n",
    "    'n_estimators':  [50, 100, 200, 300, 500, 800],\n",
    "    'learning_rate': [0.1, 0.2, 0.3, 0.4, 0.5, 0.6, 0.7, 0.8, 0.9, 1. , 1.1, 1.2, 1.3,\n",
    "       1.4, 1.5, 1.6, 1.7, 1.8, 1.9, 2. ]\n",
    "    }\n",
    "gs_ab = GridSearchCV(AdaBoostClassifier(),param_grid=param_grid)\n",
    "gs_ab.fit(X_train,y_train)\n",
    "adboost_model = gs_ab.fit(X_train,y_train)\n",
    "y_pred = gs_ab.predict(X_test)\n",
    "y_pred"
   ]
  },
  {
   "cell_type": "code",
   "execution_count": 181,
   "metadata": {},
   "outputs": [
    {
     "name": "stdout",
     "output_type": "stream",
     "text": [
      " Results from Grid Search \n",
      "\n",
      " The best estimator across ALL searched params:\n",
      " AdaBoostClassifier(learning_rate=1.3, n_estimators=300)\n",
      "\n",
      " The best score across ALL searched params:\n",
      " 0.8108270146358667\n",
      "\n",
      " The best parameters across ALL searched params:\n",
      " {'learning_rate': 1.3, 'n_estimators': 300}\n"
     ]
    }
   ],
   "source": [
    "print(\" Results from Grid Search \" )\n",
    "print(\"\\n The best estimator across ALL searched params:\\n\",adboost_model.best_estimator_)\n",
    "print(\"\\n The best score across ALL searched params:\\n\",adboost_model.best_score_)\n",
    "print(\"\\n The best parameters across ALL searched params:\\n\",adboost_model.best_params_)"
   ]
  },
  {
   "cell_type": "code",
   "execution_count": null,
   "metadata": {},
   "outputs": [],
   "source": []
  },
  {
   "cell_type": "code",
   "execution_count": null,
   "metadata": {},
   "outputs": [],
   "source": []
  },
  {
   "cell_type": "markdown",
   "metadata": {},
   "source": [
    "\n",
    "## Using GridSearchCV to optimize randomforest"
   ]
  },
  {
   "cell_type": "code",
   "execution_count": null,
   "metadata": {},
   "outputs": [],
   "source": [
    "\n",
    "from sklearn.model_selection import GridSearchCV\n",
    "n_estimators = [50, 100, 200, 300, 500, 800]\n",
    "max_depth = [1,2,3,4,5,6,7,8,9,10, 20, 40, 80, 100]\n",
    "min_samples_split = [2, 3, 4, 5, 6, 7, 8, 9, 10, 15, 100]\n",
    "min_samples_leaf = [1, 2, 3, 4, 5, 6, 7, 8, 9, 10] \n",
    "\n",
    "hyperF = dict(n_estimators = n_estimators, max_depth = max_depth,  \n",
    "              min_samples_split = min_samples_split, \n",
    "             min_samples_leaf = min_samples_leaf)\n",
    "\n",
    "gridF = GridSearchCV(clf, hyperF, cv = 3, verbose = 1, \n",
    "                      n_jobs = -1)\n",
    "bestF = gridF.fit(X_train, y_train)"
   ]
  },
  {
   "cell_type": "code",
   "execution_count": null,
   "metadata": {},
   "outputs": [],
   "source": [
    "print(\" Results from Grid Search \" )\n",
    "print(\"\\n The best estimator across ALL searched params:\\n\",bestF.best_estimator_)\n",
    "print(\"\\n The best score across ALL searched params:\\n\",bestF.best_score_)\n",
    "print(\"\\n The best parameters across ALL searched params:\\n\",bestF.best_params_)"
   ]
  },
  {
   "cell_type": "code",
   "execution_count": null,
   "metadata": {},
   "outputs": [],
   "source": [
    "from sklearn.metrics import confusion_matrix\n",
    "import itertools\n",
    "\n",
    "clf = RandomForestClassifier(max_depth= 6,\n",
    "                             min_samples_leaf=1,\n",
    "                             min_samples_split=15,\n",
    "                             n_estimators=100)\n",
    "clf.fit(X_train, y_train)\n",
    "y_pred_random_forest_training_set = clf.predict(X_train)\n",
    "acc_random_forest = round(clf.score(X_train, y_train) * 100, 2)\n",
    "print (\"Accuracy: %i %% \\n\"%acc_random_forest)\n",
    "\n",
    "class_names = ['Survived', 'Not Survived']\n",
    "\n",
    "# Compute confusion matrix\n",
    "cnf_matrix = confusion_matrix(y_train, y_pred_random_forest_training_set)\n",
    "np.set_printoptions(precision=2)\n",
    "\n",
    "print ('Confusion Matrix in Numbers')\n",
    "print (cnf_matrix)\n",
    "print ('')\n",
    "\n",
    "cnf_matrix_percent = cnf_matrix.astype('float') / cnf_matrix.sum(axis=1)[:, np.newaxis]\n",
    "\n",
    "print ('Confusion Matrix in Percentage')\n",
    "print (cnf_matrix_percent)\n",
    "print ('')\n",
    "\n",
    "\n",
    "print('Rendom Forest Classifier Training Metrics: \\n Model score: %.4f \\n Accuracy: %.4f \\n Precision: %.4f \\n Recall: %.4f \\n F1: %.4f' %\n",
    "(clf.score(X_train, y_train),\n",
    " accuracy(y_test, clf.predict(X_test)), \n",
    " precision(y_test, clf.predict(X_test)), \n",
    " recall(y_test, clf.predict(X_test)),\n",
    " F1(y_test, clf.predict(X_test))\n",
    "       )\n",
    "   )       \n",
    "print('---------------------')      \n",
    "    \n",
    "\n",
    "true_class_names = ['True Survived', 'True Not Survived']\n",
    "predicted_class_names = ['Predicted Survived', 'Predicted Not Survived']\n",
    "\n",
    "df_cnf_matrix = pd.DataFrame(cnf_matrix, \n",
    "                             index = true_class_names,\n",
    "                             columns = predicted_class_names)\n",
    "\n",
    "df_cnf_matrix_percent = pd.DataFrame(cnf_matrix_percent, \n",
    "                                     index = true_class_names,\n",
    "                                     columns = predicted_class_names)\n",
    "\n",
    "plt.figure(figsize = (15,5))\n",
    "\n",
    "plt.subplot(121)\n",
    "sns.heatmap(df_cnf_matrix, annot=True, fmt='d')\n",
    "\n",
    "plt.subplot(122)\n",
    "sns.heatmap(df_cnf_matrix_percent, annot=True)\n"
   ]
  },
  {
   "cell_type": "code",
   "execution_count": null,
   "metadata": {},
   "outputs": [],
   "source": [
    "from sklearn.metrics import confusion_matrix\n",
    "import itertools\n",
    "\n",
    "clf = RandomForestClassifier(random_state=1,\n",
    "                             max_depth= 6,\n",
    "                             min_samples_leaf=2,\n",
    "                             min_samples_split=2,\n",
    "                             n_estimators=50)\n",
    "clf.fit(X_train, y_train)\n",
    "y_pred_random_forest_training_set = clf.predict(X_train)\n",
    "acc_random_forest = round(clf.score(X_train, y_train) * 100, 2)\n",
    "print (\"Accuracy: %i %% \\n\"%acc_random_forest)\n",
    "\n",
    "class_names = ['Survived', 'Not Survived']\n",
    "\n",
    "# Compute confusion matrix\n",
    "cnf_matrix = confusion_matrix(y_train, y_pred_random_forest_training_set)\n",
    "np.set_printoptions(precision=2)\n",
    "\n",
    "print ('Confusion Matrix in Numbers')\n",
    "print (cnf_matrix)\n",
    "print ('')\n",
    "\n",
    "cnf_matrix_percent = cnf_matrix.astype('float') / cnf_matrix.sum(axis=1)[:, np.newaxis]\n",
    "\n",
    "print ('Confusion Matrix in Percentage')\n",
    "print (cnf_matrix_percent)\n",
    "print ('')\n",
    "\n",
    "\n",
    "print('Rendom Forest Classifier Training Metrics: \\n Model score: %.4f \\n Accuracy: %.4f \\n Precision: %.4f \\n Recall: %.4f \\n F1: %.4f' %\n",
    "(clf.score(X_train, y_train),\n",
    " accuracy(y_test, clf.predict(X_test)), \n",
    " precision(y_test, clf.predict(X_test)), \n",
    " recall(y_test, clf.predict(X_test)),\n",
    " F1(y_test, clf.predict(X_test))\n",
    "       )\n",
    "   )       \n",
    "print('---------------------')      \n",
    "    \n",
    "\n",
    "true_class_names = ['True Survived', 'True Not Survived']\n",
    "predicted_class_names = ['Predicted Survived', 'Predicted Not Survived']\n",
    "\n",
    "df_cnf_matrix = pd.DataFrame(cnf_matrix, \n",
    "                             index = true_class_names,\n",
    "                             columns = predicted_class_names)\n",
    "\n",
    "df_cnf_matrix_percent = pd.DataFrame(cnf_matrix_percent, \n",
    "                                     index = true_class_names,\n",
    "                                     columns = predicted_class_names)\n",
    "\n",
    "plt.figure(figsize = (15,5))\n",
    "\n",
    "plt.subplot(121)\n",
    "sns.heatmap(df_cnf_matrix, annot=True, fmt='d')\n",
    "\n",
    "plt.subplot(122)\n",
    "sns.heatmap(df_cnf_matrix_percent, annot=True)"
   ]
  },
  {
   "cell_type": "code",
   "execution_count": null,
   "metadata": {},
   "outputs": [],
   "source": []
  },
  {
   "cell_type": "code",
   "execution_count": null,
   "metadata": {},
   "outputs": [],
   "source": []
  },
  {
   "cell_type": "markdown",
   "metadata": {},
   "source": [
    "-------------------------"
   ]
  },
  {
   "cell_type": "markdown",
   "metadata": {},
   "source": [
    "## CART Feature Importance"
   ]
  },
  {
   "cell_type": "code",
   "execution_count": null,
   "metadata": {},
   "outputs": [],
   "source": [
    "forest = model[7]\n",
    "importance = forest.feature_importances_\n",
    "#summarize feature importance\n",
    "\n",
    "for i,v in enumerate(importance):\n",
    "    print('Feature: %0d, Score: %.5f' % (i,v))\n",
    "# plot feature importance\n",
    "plt.bar([x for x in range(len(importance))], importance)\n",
    "\n",
    "plt.show() "
   ]
  },
  {
   "cell_type": "code",
   "execution_count": null,
   "metadata": {},
   "outputs": [],
   "source": [
    "df_training.columns"
   ]
  },
  {
   "cell_type": "code",
   "execution_count": null,
   "metadata": {},
   "outputs": [],
   "source": []
  },
  {
   "cell_type": "code",
   "execution_count": null,
   "metadata": {},
   "outputs": [],
   "source": [
    "#Get the importance of the features\n",
    "forest = model[8]\n",
    "importances = pd.DataFrame({'feature':df_training.iloc[:,0:7].columns,'importance':np.round(forest.feature_importances_,3)})\n",
    "importances = importances.sort_values('importance',ascending=False).set_index('feature')\n",
    "importances"
   ]
  },
  {
   "cell_type": "code",
   "execution_count": null,
   "metadata": {},
   "outputs": [],
   "source": []
  },
  {
   "cell_type": "code",
   "execution_count": null,
   "metadata": {},
   "outputs": [],
   "source": []
  }
 ],
 "metadata": {
  "kernelspec": {
   "display_name": "Python 3",
   "language": "python",
   "name": "python3"
  },
  "language_info": {
   "codemirror_mode": {
    "name": "ipython",
    "version": 3
   },
   "file_extension": ".py",
   "mimetype": "text/x-python",
   "name": "python",
   "nbconvert_exporter": "python",
   "pygments_lexer": "ipython3",
   "version": "3.8.5"
  }
 },
 "nbformat": 4,
 "nbformat_minor": 4
}
